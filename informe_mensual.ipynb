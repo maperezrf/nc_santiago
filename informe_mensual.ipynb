{
 "cells": [
  {
   "cell_type": "code",
   "execution_count": 1,
   "metadata": {},
   "outputs": [],
   "source": [
    "import pandas as pd\n",
    "from datetime import date, datetime\n",
    "import sys\n",
    "# sys.path.insert(1, 'C:/Users/maperezr/proyectos/conc')\n",
    "# from dics import pos_loc\n",
    "pd.options.display.float_format ='${:,.0f}'.format\n",
    "pd.options.display.max_columns = 500\n",
    "dt = datetime.now().strftime(\"%y%m%d\")"
   ]
  },
  {
   "cell_type": "markdown",
   "metadata": {},
   "source": [
    "Cargar archivos"
   ]
  },
  {
   "cell_type": "code",
   "execution_count": 2,
   "metadata": {},
   "outputs": [],
   "source": [
    "ventas = pd.read_excel('input\\consolidado_ventas_21.xlsx', dtype = str)\n",
    "nc = pd.read_csv('input/consolidado_nc.csv', dtype = str)"
   ]
  },
  {
   "cell_type": "code",
   "execution_count": 3,
   "metadata": {},
   "outputs": [],
   "source": [
    "planta = pd.read_csv('input/221012_planta.csv', sep=';', dtype = str)"
   ]
  },
  {
   "cell_type": "code",
   "execution_count": 4,
   "metadata": {},
   "outputs": [],
   "source": [
    "temporal = pd.read_csv('input/221012_activos.csv', sep=';', dtype = str)"
   ]
  },
  {
   "cell_type": "code",
   "execution_count": 5,
   "metadata": {},
   "outputs": [],
   "source": [
    "empleados = pd.read_csv('input/221005_colaboradores.csv', encoding = 'utf-16', dtype= str)"
   ]
  },
  {
   "cell_type": "code",
   "execution_count": 6,
   "metadata": {},
   "outputs": [],
   "source": [
    "nc.Dcompra_nvo = nc.Dcompra_nvo.str.replace('ene', '01')\n",
    "nc.Dcompra_nvo = nc.Dcompra_nvo.str.replace('feb', '02')\n",
    "nc.Dcompra_nvo = nc.Dcompra_nvo.str.replace('mar', '03')\n",
    "nc.Dcompra_nvo = nc.Dcompra_nvo.str.replace('abr', '04')\n",
    "nc.Dcompra_nvo = nc.Dcompra_nvo.str.replace('may', '05')\n",
    "nc.Dcompra_nvo = nc.Dcompra_nvo.str.replace('jun', '06')\n",
    "nc.Dcompra_nvo = nc.Dcompra_nvo.str.replace('jul', '07')\n",
    "nc.Dcompra_nvo = nc.Dcompra_nvo.str.replace('ago', '08')\n",
    "nc.Dcompra_nvo = nc.Dcompra_nvo.str.replace('sep', '09')\n",
    "nc.Dcompra_nvo = nc.Dcompra_nvo.str.replace('oct', '10')\n",
    "nc.Dcompra_nvo = nc.Dcompra_nvo.str.replace('nov', '11')\n",
    "nc.Dcompra_nvo = nc.Dcompra_nvo.str.replace('dic', '12')\n",
    "nc.Dcompra_nvo = pd.to_datetime(nc.Dcompra_nvo, format='%d-%m-%Y') \n",
    "nc['Mventa_nc'] = pd.to_numeric(nc['Mventa_nc'])\n",
    "nc['Mventa_nc'] = abs(nc['Mventa_nc'])\n",
    "ventas['Venta en $'] = pd.to_numeric(ventas['Venta en $'])\n"
   ]
  },
  {
   "cell_type": "code",
   "execution_count": 7,
   "metadata": {},
   "outputs": [],
   "source": [
    "nc['Cvendedor'].fillna(0, inplace=True)"
   ]
  },
  {
   "cell_type": "code",
   "execution_count": 8,
   "metadata": {},
   "outputs": [],
   "source": [
    "pos_cyc= {'6': ['3'], \n",
    "        '35': ['13'], \n",
    "        '50': ['3'], \n",
    "        '53': ['15'], \n",
    "        '60': ['46'], \n",
    "        '93': ['21'], \n",
    "        '96': ['22'], \n",
    "        '101': ['28'], \n",
    "        '123': ['47'], \n",
    "        '131': ['13'], \n",
    "        '183': ['38']}\n",
    "\n",
    "pos_what = {'13': ['42'],\n",
    "            '19': ['16'],\n",
    "            '25': ['40'],\n",
    "            '35': ['33'],\n",
    "            '43': ['47'],\n",
    "            '60': ['5'],\n",
    "            '72': ['2'],\n",
    "            '85': ['18'],\n",
    "            '96': ['17'],\n",
    "            '98': ['4'],\n",
    "            '101': ['18'],\n",
    "            '108': ['33']}\n",
    "            \n",
    "pos_sac = {'6': ['95'],\n",
    "        '13': ['95'],\n",
    "        '19': ['95'],\n",
    "        '25': ['96'],\n",
    "        '30': ['96'],\n",
    "        '35': ['96'],\n",
    "        '36': ['95'],\n",
    "        '38': ['96'],\n",
    "        '43': ['96'],\n",
    "        '45': ['95'],\n",
    "        '50': ['3'],\n",
    "        '53': ['95'],\n",
    "        '56': ['95'],\n",
    "        '60': ['5','96'],\n",
    "        '72': ['95'],\n",
    "        '82': ['95'],\n",
    "        '85': ['96', '97'],\n",
    "        '93': ['95'],\n",
    "        '96': ['96'],\n",
    "        '98': ['96'],\n",
    "        '101': ['95', '96'],\n",
    "        '108': ['97'],\n",
    "        '123': ['96'],\n",
    "        '131': ['96'],\n",
    "        '138': ['96'],\n",
    "        '183': ['95', '96']}"
   ]
  },
  {
   "cell_type": "code",
   "execution_count": 9,
   "metadata": {},
   "outputs": [],
   "source": [
    "for i in pos_sac:\n",
    "    nc.loc[(nc['Local_creacion'] == i) & (nc['Nterminal_nvo'].isin(pos_sac[i])), 'ind_pos'] = 'Pos SAC'\n",
    "    nc.loc[nc['ind_pos'].isna(), 'ind_pos'] = 'Pos Tienda'\n"
   ]
  },
  {
   "cell_type": "code",
   "execution_count": 10,
   "metadata": {},
   "outputs": [],
   "source": [
    "planta['NOMBRE COMPLETO'] = planta['Nombre Empleado'] + ' ' +  planta['Apellido Paterno'] + ' ' + planta['Apellido Materno'] "
   ]
  },
  {
   "cell_type": "code",
   "execution_count": 11,
   "metadata": {},
   "outputs": [],
   "source": [
    "empleados.rename(columns={'Unnamed: 2' :'Nombre'}, inplace=True)\n",
    "empleados.drop_duplicates(['Nombre','Número Vendedor'], inplace= True)"
   ]
  },
  {
   "cell_type": "code",
   "execution_count": 12,
   "metadata": {},
   "outputs": [],
   "source": [
    "empleados = empleados.loc[empleados['Número Vendedor'] != '0']"
   ]
  },
  {
   "cell_type": "code",
   "execution_count": 13,
   "metadata": {},
   "outputs": [],
   "source": [
    "empleados['Nombre'] = empleados['Nombre'].apply(lambda x : ' '.join(str(x).split()))"
   ]
  },
  {
   "cell_type": "code",
   "execution_count": 14,
   "metadata": {},
   "outputs": [],
   "source": [
    "nc_emp = nc.merge(planta[['Codigo Empleado', 'NOMBRE COMPLETO','Cargo', 'Sucursales' ]], how= 'left', left_on = 'Cvendedor', right_on = 'Codigo Empleado')\n",
    "nc_emp = nc_emp.merge(empleados, how='left', left_on = 'Cvendedor', right_on = 'Número Vendedor')\n",
    "nc_emp.loc[(nc_emp['NOMBRE COMPLETO'].isna()) & (nc_emp['Nombre'].notna()), 'NOMBRE COMPLETO'] = nc_emp.loc[(nc_emp['NOMBRE COMPLETO'].isna()) & (nc_emp['Nombre'].notna()), 'Nombre'].values"
   ]
  },
  {
   "cell_type": "code",
   "execution_count": 15,
   "metadata": {},
   "outputs": [],
   "source": [
    "# nc_mes = nc_emp.loc[(nc_emp['Dcompra_nvo'] >= '2022-09-01') & (nc_emp['Dcompra_nvo'] < '2022-10-01')]\n",
    "nc_mes = nc_emp.copy()\n",
    "nc_mes['key'] = nc_mes['Local_creacion'].astype('str') + nc_mes['Nterminal_nvo'].astype('str') + nc_mes['Nsecuencia_nvo'].astype('str') + nc_mes['Dcompra_nvo'].apply(lambda x :x.strftime('%y%m%d'))\n",
    "nc_mes.loc[nc_mes['Cautoriza'] == 10009, 'cm' ] = \"Nc's código maestro\"\n",
    "nc_mes.loc[nc_mes['Cautoriza'] != 10009, 'cm' ] = \"No código maestro\"\n",
    "nc_mes = nc_mes[['Local_creacion', 'Desc_local', 'Dcompra_nvo', 'Nterminal_nvo',\n",
    "       'Nsecuencia_nvo', 'Hora', 'Tipo_trx', 'Cautoriza', 'Estado', 'Usuario',\n",
    "       'Cvendedor', 'Local_ant', 'Descr_local_ant', 'Dcompra_ant',\n",
    "       'Nterminal_ant', 'Nsecuencia_ant', 'Cvendedor_ant', 'Cajero_apertura',\n",
    "       'Linea', 'LiDescripcion', 'Slinea', 'SLiDescripcion', 'Clase',\n",
    "       'CDescripcion', 'SClase', 'SCDescripcion', 'SKU', 'EAN', 'PDescripcion',\n",
    "       'Cmarca', 'Tipo Producto', 'Origen', 'NIT_proveedor',\n",
    "       'Nombre_proveedor', 'Codigof12', 'Cevento', 'Cevento_desc',\n",
    "       'Nrutcomprador', 'Qcantidad', 'Punitario_venta', 'Punitario_nc',\n",
    "       'Mventa', 'Mventa_nc', 'Mdescto', 'Ctipificacion', 'Xtipificacion',\n",
    "       'NOMBRE COMPLETO', 'Cargo', 'ind_pos', 'Sucursales','key', 'cm']]\n",
    "# nc_mes.to_csv(f'output/{dt}_inf_cm.csv', index=False)"
   ]
  },
  {
   "cell_type": "code",
   "execution_count": 16,
   "metadata": {},
   "outputs": [],
   "source": [
    "nc_mes['Linea'] = nc_mes['Linea'].str.strip()"
   ]
  },
  {
   "cell_type": "code",
   "execution_count": 21,
   "metadata": {},
   "outputs": [],
   "source": [
    "nc_mes.loc[nc_mes['Mventa_nc'] >= 500000, 'ind_j11_mq'] = 'Mayor a $500.000'\n",
    "nc_mes.loc[nc_mes['Mventa_nc'] < 500000, 'ind_j11_mq'] = 'Menor a $500.000'\n",
    "nc_mes.to_csv(f'C:/Users/maperezr/Falabella/Panel Cambios y devoluciones - General/inf_nc.csv', index=False) #guardar inf_nc"
   ]
  },
  {
   "cell_type": "code",
   "execution_count": 18,
   "metadata": {},
   "outputs": [
    {
     "name": "stdout",
     "output_type": "stream",
     "text": [
      "costo: $170,115 M \n",
      "cantidad: $579,261\n"
     ]
    }
   ],
   "source": [
    "print('costo: ${:,.0f} M '.format(nc_mes['Mventa_nc'].sum()/1e6))\n",
    "print('cantidad: ${:,.0f}'.format(nc_mes['key'].nunique()))"
   ]
  },
  {
   "cell_type": "code",
   "execution_count": 19,
   "metadata": {},
   "outputs": [],
   "source": [
    "nc_mes.loc[nc_mes['Dcompra_nvo'] >= '2022-11-01'].to_excel('221122_nc_noviembre.xlsx')"
   ]
  },
  {
   "cell_type": "code",
   "execution_count": 20,
   "metadata": {},
   "outputs": [
    {
     "ename": "NameError",
     "evalue": "name 'asdasdasd' is not defined",
     "output_type": "error",
     "traceback": [
      "\u001b[1;31m---------------------------------------------------------------------------\u001b[0m",
      "\u001b[1;31mNameError\u001b[0m                                 Traceback (most recent call last)",
      "Cell \u001b[1;32mIn [20], line 1\u001b[0m\n\u001b[1;32m----> 1\u001b[0m asdasdasd\n",
      "\u001b[1;31mNameError\u001b[0m: name 'asdasdasd' is not defined"
     ]
    }
   ],
   "source": [
    "asdasdasd"
   ]
  },
  {
   "cell_type": "markdown",
   "metadata": {},
   "source": [
    "Finaliza NC's totales\n"
   ]
  },
  {
   "cell_type": "markdown",
   "metadata": {},
   "source": [
    "Inicia Ventas"
   ]
  },
  {
   "cell_type": "code",
   "execution_count": null,
   "metadata": {},
   "outputs": [
    {
     "ename": "",
     "evalue": "",
     "output_type": "error",
     "traceback": [
      "\u001b[1;31mNo se pudo iniciar el kernel porque no se pudo cargar un archivo DLL.\n",
      "\u001b[1;31mHaga clic <a href='https://aka.ms/kernelFailuresDllLoad'>aquí</a> para obtener más información."
     ]
    }
   ],
   "source": [
    "nc_mes = nc_emp.loc[(nc_emp['Dcompra_nvo'] >= '2022-10-01') & (nc_emp['Dcompra_nvo'] < '2022-11-01')]"
   ]
  },
  {
   "cell_type": "code",
   "execution_count": null,
   "metadata": {},
   "outputs": [
    {
     "ename": "",
     "evalue": "",
     "output_type": "error",
     "traceback": [
      "\u001b[1;31mNo se pudo iniciar el kernel porque no se pudo cargar un archivo DLL.\n",
      "\u001b[1;31mHaga clic <a href='https://aka.ms/kernelFailuresDllLoad'>aquí</a> para obtener más información."
     ]
    }
   ],
   "source": [
    "ventas_mes = ventas.loc[(ventas['Día'] >= '2022-10-01') & (ventas['Día'] < '2022-11-01')]"
   ]
  },
  {
   "cell_type": "code",
   "execution_count": null,
   "metadata": {},
   "outputs": [
    {
     "ename": "",
     "evalue": "",
     "output_type": "error",
     "traceback": [
      "\u001b[1;31mNo se pudo iniciar el kernel porque no se pudo cargar un archivo DLL.\n",
      "\u001b[1;31mHaga clic <a href='https://aka.ms/kernelFailuresDllLoad'>aquí</a> para obtener más información."
     ]
    }
   ],
   "source": [
    "gb_ventas_mes = ventas_mes.groupby(['Número de Vendedor (Cod.)'])['Venta en $'].sum().reset_index()"
   ]
  },
  {
   "cell_type": "code",
   "execution_count": null,
   "metadata": {},
   "outputs": [
    {
     "ename": "",
     "evalue": "",
     "output_type": "error",
     "traceback": [
      "\u001b[1;31mNo se pudo iniciar el kernel porque no se pudo cargar un archivo DLL.\n",
      "\u001b[1;31mHaga clic <a href='https://aka.ms/kernelFailuresDllLoad'>aquí</a> para obtener más información."
     ]
    }
   ],
   "source": [
    "gb_nc_mes = nc_mes.groupby(['Cvendedor','Desc_local'])['Mventa_nc'].sum().reset_index()"
   ]
  },
  {
   "cell_type": "code",
   "execution_count": null,
   "metadata": {},
   "outputs": [
    {
     "ename": "",
     "evalue": "",
     "output_type": "error",
     "traceback": [
      "\u001b[1;31mNo se pudo iniciar el kernel porque no se pudo cargar un archivo DLL.\n",
      "\u001b[1;31mHaga clic <a href='https://aka.ms/kernelFailuresDllLoad'>aquí</a> para obtener más información."
     ]
    }
   ],
   "source": [
    "m_gbs = gb_ventas_mes.merge(gb_nc_mes, how='left', left_on = 'Número de Vendedor (Cod.)',right_on = 'Cvendedor' )"
   ]
  },
  {
   "cell_type": "code",
   "execution_count": null,
   "metadata": {},
   "outputs": [
    {
     "ename": "",
     "evalue": "",
     "output_type": "error",
     "traceback": [
      "\u001b[1;31mNo se pudo iniciar el kernel porque no se pudo cargar un archivo DLL.\n",
      "\u001b[1;31mHaga clic <a href='https://aka.ms/kernelFailuresDllLoad'>aquí</a> para obtener más información."
     ]
    }
   ],
   "source": [
    "m_gbs['dif'] = m_gbs['Venta en $'] - m_gbs['Mventa_nc']"
   ]
  },
  {
   "cell_type": "code",
   "execution_count": null,
   "metadata": {},
   "outputs": [
    {
     "ename": "",
     "evalue": "",
     "output_type": "error",
     "traceback": [
      "\u001b[1;31mNo se pudo iniciar el kernel porque no se pudo cargar un archivo DLL.\n",
      "\u001b[1;31mHaga clic <a href='https://aka.ms/kernelFailuresDllLoad'>aquí</a> para obtener más información."
     ]
    }
   ],
   "source": [
    "com_vta_nc  = m_gbs.loc[m_gbs['dif']< 0]"
   ]
  },
  {
   "cell_type": "code",
   "execution_count": null,
   "metadata": {},
   "outputs": [
    {
     "ename": "",
     "evalue": "",
     "output_type": "error",
     "traceback": [
      "\u001b[1;31mNo se pudo iniciar el kernel porque no se pudo cargar un archivo DLL.\n",
      "\u001b[1;31mHaga clic <a href='https://aka.ms/kernelFailuresDllLoad'>aquí</a> para obtener más información."
     ]
    }
   ],
   "source": [
    "res_empl = com_vta_nc.merge(planta[['Codigo Empleado', 'NOMBRE COMPLETO','Cargo', 'Sucursales' ]], how= 'left', left_on = 'Cvendedor', right_on = 'Codigo Empleado')\n",
    "res_empl = res_empl.merge(empleados, how='left', left_on = 'Cvendedor', right_on = 'Número Vendedor')\n",
    "res_empl.loc[(res_empl['NOMBRE COMPLETO'].isna()) & (res_empl['Nombre'].notna()), 'NOMBRE COMPLETO'] = res_empl.loc[(res_empl['NOMBRE COMPLETO'].isna()) & (res_empl['Nombre'].notna()), 'Nombre'].values"
   ]
  },
  {
   "cell_type": "code",
   "execution_count": null,
   "metadata": {},
   "outputs": [
    {
     "ename": "",
     "evalue": "",
     "output_type": "error",
     "traceback": [
      "\u001b[1;31mNo se pudo iniciar el kernel porque no se pudo cargar un archivo DLL.\n",
      "\u001b[1;31mHaga clic <a href='https://aka.ms/kernelFailuresDllLoad'>aquí</a> para obtener más información."
     ]
    }
   ],
   "source": [
    "res_empl['dif'] = abs(res_empl['dif'].astype(int))\n",
    "res_empl['Mventa_nc'] = res_empl['Mventa_nc'].astype(int)\n"
   ]
  },
  {
   "cell_type": "code",
   "execution_count": null,
   "metadata": {},
   "outputs": [
    {
     "ename": "",
     "evalue": "",
     "output_type": "error",
     "traceback": [
      "\u001b[1;31mNo se pudo iniciar el kernel porque no se pudo cargar un archivo DLL.\n",
      "\u001b[1;31mHaga clic <a href='https://aka.ms/kernelFailuresDllLoad'>aquí</a> para obtener más información."
     ]
    }
   ],
   "source": [
    "res_empl = res_empl[['Número de Vendedor (Cod.)','NOMBRE COMPLETO', 'Cargo', 'Desc_local', 'Venta en $', 'Mventa_nc', 'dif']]"
   ]
  },
  {
   "cell_type": "code",
   "execution_count": null,
   "metadata": {},
   "outputs": [
    {
     "ename": "",
     "evalue": "",
     "output_type": "error",
     "traceback": [
      "\u001b[1;31mNo se pudo iniciar el kernel porque no se pudo cargar un archivo DLL.\n",
      "\u001b[1;31mHaga clic <a href='https://aka.ms/kernelFailuresDllLoad'>aquí</a> para obtener más información."
     ]
    }
   ],
   "source": [
    "res_empl['Venta en $'] = res_empl['Venta en $'].astype(int)"
   ]
  },
  {
   "cell_type": "code",
   "execution_count": null,
   "metadata": {},
   "outputs": [
    {
     "ename": "",
     "evalue": "",
     "output_type": "error",
     "traceback": [
      "\u001b[1;31mNo se pudo iniciar el kernel porque no se pudo cargar un archivo DLL.\n",
      "\u001b[1;31mHaga clic <a href='https://aka.ms/kernelFailuresDllLoad'>aquí</a> para obtener más información."
     ]
    }
   ],
   "source": [
    "res_empl.sort_values(by='dif', ascending= False)"
   ]
  },
  {
   "cell_type": "code",
   "execution_count": null,
   "metadata": {},
   "outputs": [
    {
     "ename": "",
     "evalue": "",
     "output_type": "error",
     "traceback": [
      "\u001b[1;31mNo se pudo iniciar el kernel porque no se pudo cargar un archivo DLL.\n",
      "\u001b[1;31mHaga clic <a href='https://aka.ms/kernelFailuresDllLoad'>aquí</a> para obtener más información."
     ]
    }
   ],
   "source": [
    "res_empl.loc[res_empl['Número de Vendedor (Cod.)'] == '110787']"
   ]
  },
  {
   "cell_type": "code",
   "execution_count": null,
   "metadata": {},
   "outputs": [
    {
     "ename": "",
     "evalue": "",
     "output_type": "error",
     "traceback": [
      "\u001b[1;31mNo se pudo iniciar el kernel porque no se pudo cargar un archivo DLL.\n",
      "\u001b[1;31mHaga clic <a href='https://aka.ms/kernelFailuresDllLoad'>aquí</a> para obtener más información."
     ]
    }
   ],
   "source": [
    "res_empl.to_csv(f'C:/Users/maperezr/OneDrive - Falabella/General/JIRA/GIGS/Descuentos/informes_panel_bi/res_emp.csv', index=False)"
   ]
  }
 ],
 "metadata": {
  "kernelspec": {
   "display_name": "Python 3.10.4 ('dtlk')",
   "language": "python",
   "name": "python3"
  },
  "language_info": {
   "codemirror_mode": {
    "name": "ipython",
    "version": 3
   },
   "file_extension": ".py",
   "mimetype": "text/x-python",
   "name": "python",
   "nbconvert_exporter": "python",
   "pygments_lexer": "ipython3",
   "version": "3.10.4 | packaged by conda-forge | (main, Mar 30 2022, 08:38:02) [MSC v.1916 64 bit (AMD64)]"
  },
  "orig_nbformat": 4,
  "vscode": {
   "interpreter": {
    "hash": "a5ca5464c571e88e61304ac4e61602f73b35feea71a52c2485761e937fee4998"
   }
  }
 },
 "nbformat": 4,
 "nbformat_minor": 2
}
