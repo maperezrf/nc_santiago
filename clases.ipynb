{
 "cells": [
  {
   "cell_type": "code",
   "execution_count": 1,
   "metadata": {},
   "outputs": [],
   "source": [
    "import  dash \n",
    "from santiago_core import SANTIAGO_CORE\n",
    "from dash import html ,dcc\n",
    "import pandas as pd \n",
    "import plotly.express as px\n",
    "import numpy as np\n",
    "from re import split\n",
    "import constants as const\n",
    "import datetime \n",
    "pd.set_option('display.max_columns', 500)"
   ]
  },
  {
   "cell_type": "code",
   "execution_count": 2,
   "metadata": {},
   "outputs": [],
   "source": [
    "sa = SANTIAGO_CORE()"
   ]
  },
  {
   "cell_type": "code",
   "execution_count": 6,
   "metadata": {},
   "outputs": [],
   "source": [
    "ep = pd.read_excel('input/211020_empleados_planta.xlsx', dtype=str) "
   ]
  },
  {
   "cell_type": "code",
   "execution_count": 7,
   "metadata": {},
   "outputs": [],
   "source": [
    "con = pd.read_csv('input/con_fixed.csv', dtype=object) # Consolidado con arreglos "
   ]
  },
  {
   "cell_type": "code",
   "execution_count": 8,
   "metadata": {},
   "outputs": [],
   "source": [
    "ep = pd.read_excel('input/211020_empleados_planta.xlsx', dtype=str) \n",
    "ep['nombre_completo'] = ep['Apell_Paterno'] + ' ' +  ep['Apell_Materno'] + ' ' + ep['Nombre']  \n",
    "ep = ep[const.cols_emp_planta]"
   ]
  },
  {
   "cell_type": "code",
   "execution_count": 10,
   "metadata": {},
   "outputs": [],
   "source": [
    "df_con_ep = con.merge(ep, how='left', left_on=['Cvendedor'], right_on=['Cod_Empleado'])"
   ]
  },
  {
   "cell_type": "markdown",
   "metadata": {},
   "source": [
    "Calcular y graficar cantidad de días entre ventas y NC\n"
   ]
  },
  {
   "cell_type": "code",
   "execution_count": null,
   "metadata": {},
   "outputs": [],
   "source": [
    "\n",
    "df_con_ep.Dcompra_ant = df_con_ep.Dcompra_ant.str.replace('ene', '01')\n",
    "df_con_ep.Dcompra_ant = df_con_ep.Dcompra_ant.str.replace('feb', '02')\n",
    "df_con_ep.Dcompra_ant = df_con_ep.Dcompra_ant.str.replace('mar', '03')\n",
    "df_con_ep.Dcompra_ant = df_con_ep.Dcompra_ant.str.replace('abr', '04')\n",
    "df_con_ep.Dcompra_ant = df_con_ep.Dcompra_ant.str.replace('may', '05')\n",
    "df_con_ep.Dcompra_ant = df_con_ep.Dcompra_ant.str.replace('jun', '06')\n",
    "df_con_ep.Dcompra_ant = df_con_ep.Dcompra_ant.str.replace('jul', '07')\n",
    "df_con_ep.Dcompra_ant = df_con_ep.Dcompra_ant.str.replace('ago', '08')\n",
    "df_con_ep.Dcompra_ant = df_con_ep.Dcompra_ant.str.replace('sep', '09')\n",
    "df_con_ep.Dcompra_ant = df_con_ep.Dcompra_ant.str.replace('oct', '10')\n",
    "df_con_ep.Dcompra_ant = df_con_ep.Dcompra_ant.str.replace('nov', '11')\n",
    "df_con_ep.Dcompra_ant = df_con_ep.Dcompra_ant.str.replace('dic', '12')\n",
    "df_con_ep.Dcompra_ant = pd.to_datetime(df_con_ep.Dcompra_ant, format='%d-%m-%Y') # TODO arreglar para español +\n"
   ]
  },
  {
   "cell_type": "code",
   "execution_count": 16,
   "metadata": {},
   "outputs": [],
   "source": [
    "df_con_ep.Dcompra_nvo = pd.to_datetime(df_con_ep.Dcompra_nvo, format='%Y-%m-%d') # TODO arreglar para español \n"
   ]
  },
  {
   "cell_type": "code",
   "execution_count": 18,
   "metadata": {},
   "outputs": [
    {
     "data": {
      "text/html": [
       "<div>\n",
       "<style scoped>\n",
       "    .dataframe tbody tr th:only-of-type {\n",
       "        vertical-align: middle;\n",
       "    }\n",
       "\n",
       "    .dataframe tbody tr th {\n",
       "        vertical-align: top;\n",
       "    }\n",
       "\n",
       "    .dataframe thead th {\n",
       "        text-align: right;\n",
       "    }\n",
       "</style>\n",
       "<table border=\"1\" class=\"dataframe\">\n",
       "  <thead>\n",
       "    <tr style=\"text-align: right;\">\n",
       "      <th></th>\n",
       "      <th>Dcompra_nvo</th>\n",
       "      <th>Dcompra_ant</th>\n",
       "    </tr>\n",
       "  </thead>\n",
       "  <tbody>\n",
       "    <tr>\n",
       "      <th>0</th>\n",
       "      <td>2021-10-01</td>\n",
       "      <td>2021-09-23</td>\n",
       "    </tr>\n",
       "    <tr>\n",
       "      <th>1</th>\n",
       "      <td>2021-10-01</td>\n",
       "      <td>2021-09-16</td>\n",
       "    </tr>\n",
       "    <tr>\n",
       "      <th>2</th>\n",
       "      <td>2021-10-01</td>\n",
       "      <td>2021-09-27</td>\n",
       "    </tr>\n",
       "    <tr>\n",
       "      <th>3</th>\n",
       "      <td>2021-10-01</td>\n",
       "      <td>2021-09-18</td>\n",
       "    </tr>\n",
       "    <tr>\n",
       "      <th>4</th>\n",
       "      <td>2021-10-01</td>\n",
       "      <td>2021-09-15</td>\n",
       "    </tr>\n",
       "    <tr>\n",
       "      <th>...</th>\n",
       "      <td>...</td>\n",
       "      <td>...</td>\n",
       "    </tr>\n",
       "    <tr>\n",
       "      <th>238132</th>\n",
       "      <td>2021-12-26</td>\n",
       "      <td>2021-12-20</td>\n",
       "    </tr>\n",
       "    <tr>\n",
       "      <th>238133</th>\n",
       "      <td>2021-12-26</td>\n",
       "      <td>2021-11-12</td>\n",
       "    </tr>\n",
       "    <tr>\n",
       "      <th>238134</th>\n",
       "      <td>2021-12-26</td>\n",
       "      <td>2021-12-23</td>\n",
       "    </tr>\n",
       "    <tr>\n",
       "      <th>238135</th>\n",
       "      <td>2021-12-26</td>\n",
       "      <td>2021-12-23</td>\n",
       "    </tr>\n",
       "    <tr>\n",
       "      <th>238136</th>\n",
       "      <td>2021-12-26</td>\n",
       "      <td>2021-12-16</td>\n",
       "    </tr>\n",
       "  </tbody>\n",
       "</table>\n",
       "<p>238137 rows × 2 columns</p>\n",
       "</div>"
      ],
      "text/plain": [
       "       Dcompra_nvo Dcompra_ant\n",
       "0       2021-10-01  2021-09-23\n",
       "1       2021-10-01  2021-09-16\n",
       "2       2021-10-01  2021-09-27\n",
       "3       2021-10-01  2021-09-18\n",
       "4       2021-10-01  2021-09-15\n",
       "...            ...         ...\n",
       "238132  2021-12-26  2021-12-20\n",
       "238133  2021-12-26  2021-11-12\n",
       "238134  2021-12-26  2021-12-23\n",
       "238135  2021-12-26  2021-12-23\n",
       "238136  2021-12-26  2021-12-16\n",
       "\n",
       "[238137 rows x 2 columns]"
      ]
     },
     "execution_count": 18,
     "metadata": {},
     "output_type": "execute_result"
    }
   ],
   "source": [
    "df_con_ep[[\"Dcompra_nvo\",\"Dcompra_ant\"]]"
   ]
  },
  {
   "cell_type": "code",
   "execution_count": 58,
   "metadata": {},
   "outputs": [
    {
     "ename": "IndexingError",
     "evalue": "Unalignable boolean Series provided as indexer (index of the boolean Series and of the indexed object do not match).",
     "output_type": "error",
     "traceback": [
      "\u001b[1;31m---------------------------------------------------------------------------\u001b[0m",
      "\u001b[1;31mIndexingError\u001b[0m                             Traceback (most recent call last)",
      "\u001b[1;32mC:\\Users\\EXT_MA~1\\AppData\\Local\\Temp/ipykernel_12344/2622302137.py\u001b[0m in \u001b[0;36m<module>\u001b[1;34m\u001b[0m\n\u001b[1;32m----> 1\u001b[1;33m \u001b[0mcon\u001b[0m\u001b[1;33m.\u001b[0m\u001b[0mloc\u001b[0m\u001b[1;33m[\u001b[0m\u001b[0mdf_con_ep\u001b[0m\u001b[1;33m[\u001b[0m\u001b[1;34m\"Num_Documento\"\u001b[0m\u001b[1;33m]\u001b[0m \u001b[1;33m==\u001b[0m \u001b[0mdf_con_ep\u001b[0m\u001b[1;33m[\u001b[0m\u001b[1;34m\"Nrutcomprador\"\u001b[0m\u001b[1;33m]\u001b[0m\u001b[1;33m]\u001b[0m\u001b[1;33m\u001b[0m\u001b[1;33m\u001b[0m\u001b[0m\n\u001b[0m",
      "\u001b[1;32m~\\Anaconda3\\lib\\site-packages\\pandas\\core\\indexing.py\u001b[0m in \u001b[0;36m__getitem__\u001b[1;34m(self, key)\u001b[0m\n\u001b[0;32m    929\u001b[0m \u001b[1;33m\u001b[0m\u001b[0m\n\u001b[0;32m    930\u001b[0m             \u001b[0mmaybe_callable\u001b[0m \u001b[1;33m=\u001b[0m \u001b[0mcom\u001b[0m\u001b[1;33m.\u001b[0m\u001b[0mapply_if_callable\u001b[0m\u001b[1;33m(\u001b[0m\u001b[0mkey\u001b[0m\u001b[1;33m,\u001b[0m \u001b[0mself\u001b[0m\u001b[1;33m.\u001b[0m\u001b[0mobj\u001b[0m\u001b[1;33m)\u001b[0m\u001b[1;33m\u001b[0m\u001b[1;33m\u001b[0m\u001b[0m\n\u001b[1;32m--> 931\u001b[1;33m             \u001b[1;32mreturn\u001b[0m \u001b[0mself\u001b[0m\u001b[1;33m.\u001b[0m\u001b[0m_getitem_axis\u001b[0m\u001b[1;33m(\u001b[0m\u001b[0mmaybe_callable\u001b[0m\u001b[1;33m,\u001b[0m \u001b[0maxis\u001b[0m\u001b[1;33m=\u001b[0m\u001b[0maxis\u001b[0m\u001b[1;33m)\u001b[0m\u001b[1;33m\u001b[0m\u001b[1;33m\u001b[0m\u001b[0m\n\u001b[0m\u001b[0;32m    932\u001b[0m \u001b[1;33m\u001b[0m\u001b[0m\n\u001b[0;32m    933\u001b[0m     \u001b[1;32mdef\u001b[0m \u001b[0m_is_scalar_access\u001b[0m\u001b[1;33m(\u001b[0m\u001b[0mself\u001b[0m\u001b[1;33m,\u001b[0m \u001b[0mkey\u001b[0m\u001b[1;33m:\u001b[0m \u001b[0mtuple\u001b[0m\u001b[1;33m)\u001b[0m\u001b[1;33m:\u001b[0m\u001b[1;33m\u001b[0m\u001b[1;33m\u001b[0m\u001b[0m\n",
      "\u001b[1;32m~\\Anaconda3\\lib\\site-packages\\pandas\\core\\indexing.py\u001b[0m in \u001b[0;36m_getitem_axis\u001b[1;34m(self, key, axis)\u001b[0m\n\u001b[0;32m   1142\u001b[0m             \u001b[1;32mreturn\u001b[0m \u001b[0mself\u001b[0m\u001b[1;33m.\u001b[0m\u001b[0m_get_slice_axis\u001b[0m\u001b[1;33m(\u001b[0m\u001b[0mkey\u001b[0m\u001b[1;33m,\u001b[0m \u001b[0maxis\u001b[0m\u001b[1;33m=\u001b[0m\u001b[0maxis\u001b[0m\u001b[1;33m)\u001b[0m\u001b[1;33m\u001b[0m\u001b[1;33m\u001b[0m\u001b[0m\n\u001b[0;32m   1143\u001b[0m         \u001b[1;32melif\u001b[0m \u001b[0mcom\u001b[0m\u001b[1;33m.\u001b[0m\u001b[0mis_bool_indexer\u001b[0m\u001b[1;33m(\u001b[0m\u001b[0mkey\u001b[0m\u001b[1;33m)\u001b[0m\u001b[1;33m:\u001b[0m\u001b[1;33m\u001b[0m\u001b[1;33m\u001b[0m\u001b[0m\n\u001b[1;32m-> 1144\u001b[1;33m             \u001b[1;32mreturn\u001b[0m \u001b[0mself\u001b[0m\u001b[1;33m.\u001b[0m\u001b[0m_getbool_axis\u001b[0m\u001b[1;33m(\u001b[0m\u001b[0mkey\u001b[0m\u001b[1;33m,\u001b[0m \u001b[0maxis\u001b[0m\u001b[1;33m=\u001b[0m\u001b[0maxis\u001b[0m\u001b[1;33m)\u001b[0m\u001b[1;33m\u001b[0m\u001b[1;33m\u001b[0m\u001b[0m\n\u001b[0m\u001b[0;32m   1145\u001b[0m         \u001b[1;32melif\u001b[0m \u001b[0mis_list_like_indexer\u001b[0m\u001b[1;33m(\u001b[0m\u001b[0mkey\u001b[0m\u001b[1;33m)\u001b[0m\u001b[1;33m:\u001b[0m\u001b[1;33m\u001b[0m\u001b[1;33m\u001b[0m\u001b[0m\n\u001b[0;32m   1146\u001b[0m \u001b[1;33m\u001b[0m\u001b[0m\n",
      "\u001b[1;32m~\\Anaconda3\\lib\\site-packages\\pandas\\core\\indexing.py\u001b[0m in \u001b[0;36m_getbool_axis\u001b[1;34m(self, key, axis)\u001b[0m\n\u001b[0;32m    946\u001b[0m         \u001b[1;31m# caller is responsible for ensuring non-None axis\u001b[0m\u001b[1;33m\u001b[0m\u001b[1;33m\u001b[0m\u001b[0m\n\u001b[0;32m    947\u001b[0m         \u001b[0mlabels\u001b[0m \u001b[1;33m=\u001b[0m \u001b[0mself\u001b[0m\u001b[1;33m.\u001b[0m\u001b[0mobj\u001b[0m\u001b[1;33m.\u001b[0m\u001b[0m_get_axis\u001b[0m\u001b[1;33m(\u001b[0m\u001b[0maxis\u001b[0m\u001b[1;33m)\u001b[0m\u001b[1;33m\u001b[0m\u001b[1;33m\u001b[0m\u001b[0m\n\u001b[1;32m--> 948\u001b[1;33m         \u001b[0mkey\u001b[0m \u001b[1;33m=\u001b[0m \u001b[0mcheck_bool_indexer\u001b[0m\u001b[1;33m(\u001b[0m\u001b[0mlabels\u001b[0m\u001b[1;33m,\u001b[0m \u001b[0mkey\u001b[0m\u001b[1;33m)\u001b[0m\u001b[1;33m\u001b[0m\u001b[1;33m\u001b[0m\u001b[0m\n\u001b[0m\u001b[0;32m    949\u001b[0m         \u001b[0minds\u001b[0m \u001b[1;33m=\u001b[0m \u001b[0mkey\u001b[0m\u001b[1;33m.\u001b[0m\u001b[0mnonzero\u001b[0m\u001b[1;33m(\u001b[0m\u001b[1;33m)\u001b[0m\u001b[1;33m[\u001b[0m\u001b[1;36m0\u001b[0m\u001b[1;33m]\u001b[0m\u001b[1;33m\u001b[0m\u001b[1;33m\u001b[0m\u001b[0m\n\u001b[0;32m    950\u001b[0m         \u001b[1;32mreturn\u001b[0m \u001b[0mself\u001b[0m\u001b[1;33m.\u001b[0m\u001b[0mobj\u001b[0m\u001b[1;33m.\u001b[0m\u001b[0m_take_with_is_copy\u001b[0m\u001b[1;33m(\u001b[0m\u001b[0minds\u001b[0m\u001b[1;33m,\u001b[0m \u001b[0maxis\u001b[0m\u001b[1;33m=\u001b[0m\u001b[0maxis\u001b[0m\u001b[1;33m)\u001b[0m\u001b[1;33m\u001b[0m\u001b[1;33m\u001b[0m\u001b[0m\n",
      "\u001b[1;32m~\\Anaconda3\\lib\\site-packages\\pandas\\core\\indexing.py\u001b[0m in \u001b[0;36mcheck_bool_indexer\u001b[1;34m(index, key)\u001b[0m\n\u001b[0;32m   2386\u001b[0m         \u001b[0mmask\u001b[0m \u001b[1;33m=\u001b[0m \u001b[0misna\u001b[0m\u001b[1;33m(\u001b[0m\u001b[0mresult\u001b[0m\u001b[1;33m.\u001b[0m\u001b[0m_values\u001b[0m\u001b[1;33m)\u001b[0m\u001b[1;33m\u001b[0m\u001b[1;33m\u001b[0m\u001b[0m\n\u001b[0;32m   2387\u001b[0m         \u001b[1;32mif\u001b[0m \u001b[0mmask\u001b[0m\u001b[1;33m.\u001b[0m\u001b[0many\u001b[0m\u001b[1;33m(\u001b[0m\u001b[1;33m)\u001b[0m\u001b[1;33m:\u001b[0m\u001b[1;33m\u001b[0m\u001b[1;33m\u001b[0m\u001b[0m\n\u001b[1;32m-> 2388\u001b[1;33m             raise IndexingError(\n\u001b[0m\u001b[0;32m   2389\u001b[0m                 \u001b[1;34m\"Unalignable boolean Series provided as \"\u001b[0m\u001b[1;33m\u001b[0m\u001b[1;33m\u001b[0m\u001b[0m\n\u001b[0;32m   2390\u001b[0m                 \u001b[1;34m\"indexer (index of the boolean Series and of \"\u001b[0m\u001b[1;33m\u001b[0m\u001b[1;33m\u001b[0m\u001b[0m\n",
      "\u001b[1;31mIndexingError\u001b[0m: Unalignable boolean Series provided as indexer (index of the boolean Series and of the indexed object do not match)."
     ]
    }
   ],
   "source": [
    "alerta_igual_vend_clien = con.loc[df_con_ep[\"Num_Documento\"] == con[\"Nrutcomprador\"]]"
   ]
  },
  {
   "cell_type": "code",
   "execution_count": null,
   "metadata": {},
   "outputs": [],
   "source": [
    "df_con_ep.loc[]"
   ]
  },
  {
   "cell_type": "code",
   "execution_count": 20,
   "metadata": {},
   "outputs": [],
   "source": [
    "df_con_ep[\"dif_dias\"] = (df_con_ep.Dcompra_nvo - df_con_ep.Dcompra_ant).dt.days\n"
   ]
  },
  {
   "cell_type": "code",
   "execution_count": null,
   "metadata": {},
   "outputs": [],
   "source": [
    "mes=0\n",
    "mes_sig=0\n",
    "mes_ant=0\n",
    "while mes_sig <=2302:\n",
    "    mes = mes + 1\n",
    "    mes_sig= mes_sig + 30\n",
    "    mes_ant = mes_sig - 30\n",
    "    diferencia_dias.loc[(diferencia_dias[\"dif_dias\"] >= f\"{str(mes_ant)} days\") & ((diferencia_dias[\"dif_dias\"] <= f\"{str(mes_sig)} days\")), \"mes\"] = f\"mes {mes}\"\n",
    "    \n"
   ]
  },
  {
   "cell_type": "code",
   "execution_count": 26,
   "metadata": {},
   "outputs": [],
   "source": [
    "diferencia_dias = df_con_ep.groupby(\"dif_dias\")[\"Cautoriza\"].nunique().reset_index()"
   ]
  },
  {
   "cell_type": "code",
   "execution_count": 27,
   "metadata": {},
   "outputs": [
    {
     "data": {
      "application/vnd.plotly.v1+json": {
       "config": {
        "plotlyServerURL": "https://plot.ly"
       },
       "data": [
        {
         "alignmentgroup": "True",
         "hovertemplate": "Dias=%{x}<br>Cantidad=%{y}<extra></extra>",
         "legendgroup": "",
         "marker": {
          "color": "#636efa",
          "pattern": {
           "shape": ""
          }
         },
         "name": "",
         "offsetgroup": "",
         "orientation": "v",
         "showlegend": false,
         "textposition": "auto",
         "type": "bar",
         "x": [
          0,
          1,
          2,
          3,
          4,
          5,
          6,
          7,
          8,
          9,
          10,
          11,
          12,
          13,
          14,
          15,
          16,
          17,
          18,
          19,
          20,
          21,
          22,
          23,
          24,
          25,
          26,
          27,
          28,
          29,
          30,
          31,
          32,
          33,
          34,
          35,
          36,
          37,
          38,
          39,
          40,
          41,
          42,
          43,
          44,
          45,
          46,
          47,
          48,
          49,
          50,
          51,
          52,
          53,
          54,
          55,
          56,
          57,
          58,
          59,
          60,
          61,
          62,
          63,
          64,
          65,
          66,
          67,
          68,
          69,
          70,
          71,
          72,
          73,
          74,
          75,
          76,
          77,
          78,
          79,
          80,
          81,
          82,
          83,
          84,
          85,
          86,
          87,
          88,
          89,
          90,
          91,
          92,
          93,
          94,
          95,
          96,
          97,
          98,
          99,
          100,
          101,
          102,
          103,
          104,
          105,
          106,
          107,
          108,
          109,
          110,
          111,
          112,
          113,
          114,
          115,
          116,
          117,
          118,
          119,
          120,
          121,
          122,
          123,
          124,
          125,
          126,
          127,
          128,
          129,
          130,
          131,
          132,
          133,
          134,
          135,
          136,
          137,
          138,
          139,
          140,
          141,
          142,
          143,
          144,
          145,
          146,
          147,
          148,
          149,
          150,
          151,
          152,
          153,
          154,
          155,
          156,
          157,
          158,
          159,
          160,
          161,
          162,
          163,
          164,
          165,
          166,
          167,
          168,
          169,
          170,
          171,
          172,
          173,
          174,
          175,
          176,
          177,
          178,
          179,
          180,
          181,
          182,
          183,
          184,
          185,
          186,
          187,
          188,
          189,
          190,
          191,
          192,
          193,
          194,
          195,
          196,
          197,
          198,
          199,
          200,
          201,
          202,
          203,
          204,
          205,
          206,
          207,
          208,
          209,
          210,
          211,
          212,
          213,
          214,
          215,
          216,
          217,
          218,
          219,
          220,
          221,
          222,
          223,
          224,
          225,
          226,
          227,
          228,
          229,
          230,
          231,
          232,
          233,
          234,
          235,
          236,
          237,
          238,
          239,
          240,
          241,
          242,
          243,
          244,
          245,
          246,
          247,
          248,
          249,
          250,
          251,
          252,
          253,
          254,
          255,
          256,
          257,
          258,
          259,
          260,
          261,
          262,
          263,
          264,
          265,
          266,
          267,
          268,
          269,
          270,
          271,
          272,
          273,
          274,
          275,
          276,
          277,
          278,
          279,
          280,
          281,
          282,
          283,
          284,
          285,
          286,
          287,
          288,
          289,
          290,
          291,
          292,
          293,
          294,
          295,
          296,
          297,
          298,
          299,
          300,
          301,
          302,
          303,
          304,
          305,
          306,
          307,
          308,
          309,
          310,
          311,
          312,
          313,
          314,
          315,
          316,
          317,
          318,
          319,
          320,
          321,
          322,
          323,
          324,
          325,
          326,
          327,
          328,
          329,
          330,
          331,
          332,
          333,
          334,
          335,
          336,
          337,
          338,
          339,
          340,
          341,
          342,
          343,
          344,
          345,
          346,
          347,
          348,
          349,
          350,
          351,
          352,
          353,
          354,
          355,
          356,
          357,
          358,
          359,
          360,
          361,
          362,
          363,
          364,
          365,
          366,
          367,
          368,
          369,
          370,
          371,
          372,
          373,
          374,
          375,
          376,
          377,
          378,
          379,
          380,
          381,
          382,
          383,
          384,
          385,
          386,
          387,
          388,
          389,
          390,
          391,
          392,
          393,
          394,
          395,
          396,
          397,
          398,
          399,
          400,
          401,
          402,
          403,
          404,
          405,
          406,
          407,
          408,
          409,
          410,
          411,
          412,
          413,
          414,
          415,
          416,
          417,
          418,
          419,
          420,
          421,
          422,
          423,
          424,
          425,
          426,
          427,
          428,
          429,
          430,
          431,
          432,
          433,
          434,
          435,
          436,
          437,
          438,
          439,
          440,
          441,
          442,
          443,
          444,
          445,
          446,
          448,
          451,
          452,
          453,
          454,
          455,
          456,
          459,
          460,
          461,
          462,
          463,
          464,
          466,
          467,
          468,
          469,
          470,
          471,
          473,
          474,
          475,
          476,
          477,
          478,
          479,
          480,
          481,
          482,
          483,
          486,
          487,
          488,
          489,
          490,
          491,
          493,
          494,
          496,
          497,
          499,
          501,
          503,
          504,
          506,
          508,
          509,
          510,
          512,
          514,
          515,
          516,
          518,
          520,
          522,
          524,
          525,
          526,
          528,
          529,
          530,
          533,
          534,
          535,
          536,
          537,
          538,
          539,
          540,
          541,
          542,
          543,
          549,
          550,
          552,
          553,
          555,
          557,
          559,
          560,
          561,
          562,
          563,
          564,
          566,
          568,
          569,
          571,
          574,
          575,
          576,
          580,
          582,
          584,
          585,
          588,
          591,
          593,
          594,
          595,
          596,
          597,
          598,
          601,
          604,
          606,
          607,
          609,
          610,
          618,
          621,
          622,
          623,
          628,
          629,
          632,
          634,
          645,
          646,
          647,
          648,
          651,
          652,
          656,
          662,
          665,
          672,
          676,
          678,
          680,
          681,
          684,
          685,
          688,
          690,
          691,
          693,
          696,
          699,
          700,
          704,
          706,
          707,
          708,
          712,
          713,
          714,
          715,
          716,
          720,
          721,
          722,
          723,
          725,
          728,
          729,
          730,
          731,
          733,
          736,
          737,
          738,
          742,
          743,
          748,
          750,
          752,
          754,
          755,
          757,
          760,
          761,
          762,
          765,
          770,
          771,
          772,
          777,
          779,
          783,
          787,
          789,
          793,
          795,
          797,
          803,
          804,
          807,
          812,
          815,
          818,
          820,
          821,
          829,
          845,
          857,
          875,
          878,
          887,
          899,
          904,
          924,
          959,
          980,
          983,
          987,
          1020,
          1052,
          1068,
          1075,
          1211,
          1222,
          1231,
          1518,
          1546,
          1548,
          1551,
          1566,
          1830,
          1904,
          2302
         ],
         "xaxis": "x",
         "y": [
          31842,
          11038,
          8892,
          8387,
          7799,
          7091,
          6550,
          6221,
          5123,
          4304,
          3482,
          2964,
          2651,
          2543,
          2598,
          2322,
          2039,
          1787,
          1716,
          1527,
          1458,
          1416,
          1239,
          1399,
          1228,
          1190,
          1215,
          1245,
          1085,
          1076,
          1219,
          972,
          605,
          570,
          471,
          479,
          439,
          400,
          361,
          319,
          288,
          317,
          277,
          251,
          208,
          207,
          187,
          209,
          195,
          197,
          174,
          161,
          155,
          148,
          147,
          143,
          173,
          118,
          116,
          103,
          120,
          116,
          119,
          110,
          96,
          93,
          84,
          94,
          86,
          97,
          98,
          98,
          67,
          59,
          73,
          51,
          60,
          84,
          65,
          50,
          48,
          38,
          55,
          63,
          51,
          61,
          51,
          43,
          45,
          41,
          51,
          62,
          51,
          39,
          30,
          29,
          31,
          40,
          43,
          25,
          40,
          21,
          15,
          38,
          37,
          28,
          29,
          34,
          27,
          23,
          30,
          35,
          39,
          26,
          35,
          33,
          26,
          34,
          25,
          18,
          21,
          15,
          20,
          25,
          25,
          34,
          33,
          30,
          14,
          23,
          16,
          24,
          24,
          23,
          15,
          21,
          19,
          16,
          14,
          17,
          29,
          14,
          17,
          11,
          16,
          19,
          17,
          18,
          17,
          14,
          13,
          18,
          17,
          9,
          22,
          17,
          19,
          22,
          15,
          15,
          18,
          14,
          8,
          9,
          17,
          7,
          5,
          13,
          20,
          13,
          7,
          18,
          15,
          12,
          6,
          11,
          12,
          12,
          11,
          12,
          14,
          18,
          13,
          8,
          13,
          11,
          12,
          9,
          9,
          10,
          18,
          13,
          16,
          10,
          11,
          12,
          10,
          15,
          11,
          5,
          12,
          8,
          18,
          12,
          5,
          14,
          13,
          7,
          15,
          11,
          10,
          11,
          6,
          8,
          15,
          10,
          6,
          15,
          11,
          11,
          8,
          13,
          16,
          12,
          6,
          15,
          10,
          11,
          8,
          9,
          12,
          6,
          8,
          3,
          8,
          7,
          5,
          9,
          9,
          6,
          10,
          3,
          7,
          12,
          4,
          7,
          4,
          6,
          4,
          7,
          7,
          6,
          13,
          6,
          12,
          5,
          8,
          5,
          3,
          6,
          8,
          2,
          4,
          9,
          2,
          6,
          14,
          9,
          13,
          6,
          5,
          4,
          8,
          6,
          4,
          9,
          12,
          6,
          6,
          9,
          8,
          4,
          4,
          8,
          4,
          7,
          4,
          6,
          3,
          5,
          3,
          6,
          3,
          4,
          6,
          6,
          8,
          6,
          6,
          7,
          6,
          7,
          8,
          8,
          8,
          10,
          5,
          5,
          5,
          4,
          4,
          6,
          8,
          11,
          12,
          12,
          3,
          5,
          8,
          5,
          9,
          13,
          9,
          12,
          9,
          6,
          6,
          8,
          11,
          4,
          5,
          4,
          5,
          6,
          6,
          4,
          10,
          10,
          7,
          6,
          6,
          6,
          8,
          6,
          9,
          9,
          12,
          6,
          2,
          7,
          9,
          7,
          8,
          3,
          11,
          8,
          11,
          8,
          6,
          5,
          7,
          7,
          8,
          8,
          14,
          6,
          8,
          4,
          4,
          8,
          9,
          6,
          11,
          6,
          6,
          7,
          13,
          5,
          6,
          6,
          8,
          7,
          11,
          2,
          11,
          9,
          6,
          6,
          10,
          2,
          9,
          7,
          11,
          5,
          8,
          7,
          4,
          5,
          5,
          7,
          6,
          8,
          7,
          6,
          7,
          7,
          8,
          7,
          7,
          7,
          7,
          4,
          3,
          5,
          4,
          9,
          7,
          3,
          7,
          6,
          11,
          4,
          6,
          6,
          5,
          3,
          4,
          4,
          7,
          3,
          4,
          2,
          1,
          4,
          3,
          5,
          2,
          3,
          6,
          1,
          3,
          6,
          3,
          3,
          3,
          2,
          3,
          2,
          1,
          5,
          1,
          2,
          3,
          1,
          1,
          2,
          1,
          5,
          1,
          1,
          2,
          3,
          2,
          2,
          2,
          1,
          2,
          2,
          1,
          3,
          2,
          1,
          2,
          3,
          2,
          1,
          1,
          1,
          4,
          1,
          2,
          2,
          3,
          3,
          1,
          1,
          1,
          1,
          2,
          1,
          2,
          3,
          2,
          3,
          2,
          3,
          1,
          1,
          1,
          2,
          1,
          1,
          1,
          2,
          1,
          1,
          1,
          3,
          2,
          1,
          1,
          2,
          1,
          1,
          1,
          1,
          2,
          2,
          1,
          1,
          2,
          1,
          1,
          2,
          1,
          2,
          1,
          1,
          1,
          2,
          2,
          1,
          1,
          1,
          1,
          2,
          1,
          1,
          2,
          2,
          2,
          1,
          1,
          1,
          1,
          1,
          2,
          1,
          2,
          1,
          2,
          1,
          2,
          1,
          1,
          2,
          1,
          2,
          1,
          2,
          1,
          1,
          1,
          1,
          1,
          2,
          1,
          1,
          1,
          2,
          1,
          2,
          1,
          1,
          3,
          1,
          1,
          1,
          2,
          2,
          1,
          1,
          2,
          2,
          2,
          1,
          1,
          2,
          1,
          1,
          1,
          1,
          1,
          1,
          1,
          1,
          1,
          1,
          1,
          1,
          2,
          2,
          1,
          2,
          1,
          2,
          1,
          2,
          1,
          1,
          2,
          1,
          1,
          1,
          1,
          2,
          2,
          1,
          2,
          2,
          1,
          1,
          1,
          1,
          2,
          1,
          1,
          1,
          1,
          1,
          2,
          1,
          1,
          2,
          1,
          1,
          2,
          1,
          2,
          1,
          1,
          1,
          1,
          1,
          1,
          1,
          1,
          1,
          1,
          1,
          1,
          1,
          1,
          1,
          1,
          1,
          1,
          1,
          1,
          1,
          1,
          1,
          1,
          1,
          1,
          1,
          1,
          1
         ],
         "yaxis": "y"
        }
       ],
       "layout": {
        "barmode": "relative",
        "legend": {
         "tracegroupgap": 0
        },
        "template": {
         "data": {
          "bar": [
           {
            "error_x": {
             "color": "#2a3f5f"
            },
            "error_y": {
             "color": "#2a3f5f"
            },
            "marker": {
             "line": {
              "color": "#E5ECF6",
              "width": 0.5
             },
             "pattern": {
              "fillmode": "overlay",
              "size": 10,
              "solidity": 0.2
             }
            },
            "type": "bar"
           }
          ],
          "barpolar": [
           {
            "marker": {
             "line": {
              "color": "#E5ECF6",
              "width": 0.5
             },
             "pattern": {
              "fillmode": "overlay",
              "size": 10,
              "solidity": 0.2
             }
            },
            "type": "barpolar"
           }
          ],
          "carpet": [
           {
            "aaxis": {
             "endlinecolor": "#2a3f5f",
             "gridcolor": "white",
             "linecolor": "white",
             "minorgridcolor": "white",
             "startlinecolor": "#2a3f5f"
            },
            "baxis": {
             "endlinecolor": "#2a3f5f",
             "gridcolor": "white",
             "linecolor": "white",
             "minorgridcolor": "white",
             "startlinecolor": "#2a3f5f"
            },
            "type": "carpet"
           }
          ],
          "choropleth": [
           {
            "colorbar": {
             "outlinewidth": 0,
             "ticks": ""
            },
            "type": "choropleth"
           }
          ],
          "contour": [
           {
            "colorbar": {
             "outlinewidth": 0,
             "ticks": ""
            },
            "colorscale": [
             [
              0,
              "#0d0887"
             ],
             [
              0.1111111111111111,
              "#46039f"
             ],
             [
              0.2222222222222222,
              "#7201a8"
             ],
             [
              0.3333333333333333,
              "#9c179e"
             ],
             [
              0.4444444444444444,
              "#bd3786"
             ],
             [
              0.5555555555555556,
              "#d8576b"
             ],
             [
              0.6666666666666666,
              "#ed7953"
             ],
             [
              0.7777777777777778,
              "#fb9f3a"
             ],
             [
              0.8888888888888888,
              "#fdca26"
             ],
             [
              1,
              "#f0f921"
             ]
            ],
            "type": "contour"
           }
          ],
          "contourcarpet": [
           {
            "colorbar": {
             "outlinewidth": 0,
             "ticks": ""
            },
            "type": "contourcarpet"
           }
          ],
          "heatmap": [
           {
            "colorbar": {
             "outlinewidth": 0,
             "ticks": ""
            },
            "colorscale": [
             [
              0,
              "#0d0887"
             ],
             [
              0.1111111111111111,
              "#46039f"
             ],
             [
              0.2222222222222222,
              "#7201a8"
             ],
             [
              0.3333333333333333,
              "#9c179e"
             ],
             [
              0.4444444444444444,
              "#bd3786"
             ],
             [
              0.5555555555555556,
              "#d8576b"
             ],
             [
              0.6666666666666666,
              "#ed7953"
             ],
             [
              0.7777777777777778,
              "#fb9f3a"
             ],
             [
              0.8888888888888888,
              "#fdca26"
             ],
             [
              1,
              "#f0f921"
             ]
            ],
            "type": "heatmap"
           }
          ],
          "heatmapgl": [
           {
            "colorbar": {
             "outlinewidth": 0,
             "ticks": ""
            },
            "colorscale": [
             [
              0,
              "#0d0887"
             ],
             [
              0.1111111111111111,
              "#46039f"
             ],
             [
              0.2222222222222222,
              "#7201a8"
             ],
             [
              0.3333333333333333,
              "#9c179e"
             ],
             [
              0.4444444444444444,
              "#bd3786"
             ],
             [
              0.5555555555555556,
              "#d8576b"
             ],
             [
              0.6666666666666666,
              "#ed7953"
             ],
             [
              0.7777777777777778,
              "#fb9f3a"
             ],
             [
              0.8888888888888888,
              "#fdca26"
             ],
             [
              1,
              "#f0f921"
             ]
            ],
            "type": "heatmapgl"
           }
          ],
          "histogram": [
           {
            "marker": {
             "pattern": {
              "fillmode": "overlay",
              "size": 10,
              "solidity": 0.2
             }
            },
            "type": "histogram"
           }
          ],
          "histogram2d": [
           {
            "colorbar": {
             "outlinewidth": 0,
             "ticks": ""
            },
            "colorscale": [
             [
              0,
              "#0d0887"
             ],
             [
              0.1111111111111111,
              "#46039f"
             ],
             [
              0.2222222222222222,
              "#7201a8"
             ],
             [
              0.3333333333333333,
              "#9c179e"
             ],
             [
              0.4444444444444444,
              "#bd3786"
             ],
             [
              0.5555555555555556,
              "#d8576b"
             ],
             [
              0.6666666666666666,
              "#ed7953"
             ],
             [
              0.7777777777777778,
              "#fb9f3a"
             ],
             [
              0.8888888888888888,
              "#fdca26"
             ],
             [
              1,
              "#f0f921"
             ]
            ],
            "type": "histogram2d"
           }
          ],
          "histogram2dcontour": [
           {
            "colorbar": {
             "outlinewidth": 0,
             "ticks": ""
            },
            "colorscale": [
             [
              0,
              "#0d0887"
             ],
             [
              0.1111111111111111,
              "#46039f"
             ],
             [
              0.2222222222222222,
              "#7201a8"
             ],
             [
              0.3333333333333333,
              "#9c179e"
             ],
             [
              0.4444444444444444,
              "#bd3786"
             ],
             [
              0.5555555555555556,
              "#d8576b"
             ],
             [
              0.6666666666666666,
              "#ed7953"
             ],
             [
              0.7777777777777778,
              "#fb9f3a"
             ],
             [
              0.8888888888888888,
              "#fdca26"
             ],
             [
              1,
              "#f0f921"
             ]
            ],
            "type": "histogram2dcontour"
           }
          ],
          "mesh3d": [
           {
            "colorbar": {
             "outlinewidth": 0,
             "ticks": ""
            },
            "type": "mesh3d"
           }
          ],
          "parcoords": [
           {
            "line": {
             "colorbar": {
              "outlinewidth": 0,
              "ticks": ""
             }
            },
            "type": "parcoords"
           }
          ],
          "pie": [
           {
            "automargin": true,
            "type": "pie"
           }
          ],
          "scatter": [
           {
            "marker": {
             "colorbar": {
              "outlinewidth": 0,
              "ticks": ""
             }
            },
            "type": "scatter"
           }
          ],
          "scatter3d": [
           {
            "line": {
             "colorbar": {
              "outlinewidth": 0,
              "ticks": ""
             }
            },
            "marker": {
             "colorbar": {
              "outlinewidth": 0,
              "ticks": ""
             }
            },
            "type": "scatter3d"
           }
          ],
          "scattercarpet": [
           {
            "marker": {
             "colorbar": {
              "outlinewidth": 0,
              "ticks": ""
             }
            },
            "type": "scattercarpet"
           }
          ],
          "scattergeo": [
           {
            "marker": {
             "colorbar": {
              "outlinewidth": 0,
              "ticks": ""
             }
            },
            "type": "scattergeo"
           }
          ],
          "scattergl": [
           {
            "marker": {
             "colorbar": {
              "outlinewidth": 0,
              "ticks": ""
             }
            },
            "type": "scattergl"
           }
          ],
          "scattermapbox": [
           {
            "marker": {
             "colorbar": {
              "outlinewidth": 0,
              "ticks": ""
             }
            },
            "type": "scattermapbox"
           }
          ],
          "scatterpolar": [
           {
            "marker": {
             "colorbar": {
              "outlinewidth": 0,
              "ticks": ""
             }
            },
            "type": "scatterpolar"
           }
          ],
          "scatterpolargl": [
           {
            "marker": {
             "colorbar": {
              "outlinewidth": 0,
              "ticks": ""
             }
            },
            "type": "scatterpolargl"
           }
          ],
          "scatterternary": [
           {
            "marker": {
             "colorbar": {
              "outlinewidth": 0,
              "ticks": ""
             }
            },
            "type": "scatterternary"
           }
          ],
          "surface": [
           {
            "colorbar": {
             "outlinewidth": 0,
             "ticks": ""
            },
            "colorscale": [
             [
              0,
              "#0d0887"
             ],
             [
              0.1111111111111111,
              "#46039f"
             ],
             [
              0.2222222222222222,
              "#7201a8"
             ],
             [
              0.3333333333333333,
              "#9c179e"
             ],
             [
              0.4444444444444444,
              "#bd3786"
             ],
             [
              0.5555555555555556,
              "#d8576b"
             ],
             [
              0.6666666666666666,
              "#ed7953"
             ],
             [
              0.7777777777777778,
              "#fb9f3a"
             ],
             [
              0.8888888888888888,
              "#fdca26"
             ],
             [
              1,
              "#f0f921"
             ]
            ],
            "type": "surface"
           }
          ],
          "table": [
           {
            "cells": {
             "fill": {
              "color": "#EBF0F8"
             },
             "line": {
              "color": "white"
             }
            },
            "header": {
             "fill": {
              "color": "#C8D4E3"
             },
             "line": {
              "color": "white"
             }
            },
            "type": "table"
           }
          ]
         },
         "layout": {
          "annotationdefaults": {
           "arrowcolor": "#2a3f5f",
           "arrowhead": 0,
           "arrowwidth": 1
          },
          "autotypenumbers": "strict",
          "coloraxis": {
           "colorbar": {
            "outlinewidth": 0,
            "ticks": ""
           }
          },
          "colorscale": {
           "diverging": [
            [
             0,
             "#8e0152"
            ],
            [
             0.1,
             "#c51b7d"
            ],
            [
             0.2,
             "#de77ae"
            ],
            [
             0.3,
             "#f1b6da"
            ],
            [
             0.4,
             "#fde0ef"
            ],
            [
             0.5,
             "#f7f7f7"
            ],
            [
             0.6,
             "#e6f5d0"
            ],
            [
             0.7,
             "#b8e186"
            ],
            [
             0.8,
             "#7fbc41"
            ],
            [
             0.9,
             "#4d9221"
            ],
            [
             1,
             "#276419"
            ]
           ],
           "sequential": [
            [
             0,
             "#0d0887"
            ],
            [
             0.1111111111111111,
             "#46039f"
            ],
            [
             0.2222222222222222,
             "#7201a8"
            ],
            [
             0.3333333333333333,
             "#9c179e"
            ],
            [
             0.4444444444444444,
             "#bd3786"
            ],
            [
             0.5555555555555556,
             "#d8576b"
            ],
            [
             0.6666666666666666,
             "#ed7953"
            ],
            [
             0.7777777777777778,
             "#fb9f3a"
            ],
            [
             0.8888888888888888,
             "#fdca26"
            ],
            [
             1,
             "#f0f921"
            ]
           ],
           "sequentialminus": [
            [
             0,
             "#0d0887"
            ],
            [
             0.1111111111111111,
             "#46039f"
            ],
            [
             0.2222222222222222,
             "#7201a8"
            ],
            [
             0.3333333333333333,
             "#9c179e"
            ],
            [
             0.4444444444444444,
             "#bd3786"
            ],
            [
             0.5555555555555556,
             "#d8576b"
            ],
            [
             0.6666666666666666,
             "#ed7953"
            ],
            [
             0.7777777777777778,
             "#fb9f3a"
            ],
            [
             0.8888888888888888,
             "#fdca26"
            ],
            [
             1,
             "#f0f921"
            ]
           ]
          },
          "colorway": [
           "#636efa",
           "#EF553B",
           "#00cc96",
           "#ab63fa",
           "#FFA15A",
           "#19d3f3",
           "#FF6692",
           "#B6E880",
           "#FF97FF",
           "#FECB52"
          ],
          "font": {
           "color": "#2a3f5f"
          },
          "geo": {
           "bgcolor": "white",
           "lakecolor": "white",
           "landcolor": "#E5ECF6",
           "showlakes": true,
           "showland": true,
           "subunitcolor": "white"
          },
          "hoverlabel": {
           "align": "left"
          },
          "hovermode": "closest",
          "mapbox": {
           "style": "light"
          },
          "paper_bgcolor": "white",
          "plot_bgcolor": "#E5ECF6",
          "polar": {
           "angularaxis": {
            "gridcolor": "white",
            "linecolor": "white",
            "ticks": ""
           },
           "bgcolor": "#E5ECF6",
           "radialaxis": {
            "gridcolor": "white",
            "linecolor": "white",
            "ticks": ""
           }
          },
          "scene": {
           "xaxis": {
            "backgroundcolor": "#E5ECF6",
            "gridcolor": "white",
            "gridwidth": 2,
            "linecolor": "white",
            "showbackground": true,
            "ticks": "",
            "zerolinecolor": "white"
           },
           "yaxis": {
            "backgroundcolor": "#E5ECF6",
            "gridcolor": "white",
            "gridwidth": 2,
            "linecolor": "white",
            "showbackground": true,
            "ticks": "",
            "zerolinecolor": "white"
           },
           "zaxis": {
            "backgroundcolor": "#E5ECF6",
            "gridcolor": "white",
            "gridwidth": 2,
            "linecolor": "white",
            "showbackground": true,
            "ticks": "",
            "zerolinecolor": "white"
           }
          },
          "shapedefaults": {
           "line": {
            "color": "#2a3f5f"
           }
          },
          "ternary": {
           "aaxis": {
            "gridcolor": "white",
            "linecolor": "white",
            "ticks": ""
           },
           "baxis": {
            "gridcolor": "white",
            "linecolor": "white",
            "ticks": ""
           },
           "bgcolor": "#E5ECF6",
           "caxis": {
            "gridcolor": "white",
            "linecolor": "white",
            "ticks": ""
           }
          },
          "title": {
           "x": 0.05
          },
          "xaxis": {
           "automargin": true,
           "gridcolor": "white",
           "linecolor": "white",
           "ticks": "",
           "title": {
            "standoff": 15
           },
           "zerolinecolor": "white",
           "zerolinewidth": 2
          },
          "yaxis": {
           "automargin": true,
           "gridcolor": "white",
           "linecolor": "white",
           "ticks": "",
           "title": {
            "standoff": 15
           },
           "zerolinecolor": "white",
           "zerolinewidth": 2
          }
         }
        },
        "title": {
         "text": "Diferencia de días entre venta y NCs"
        },
        "xaxis": {
         "anchor": "y",
         "categoryorder": "total descending",
         "domain": [
          0,
          1
         ],
         "title": {
          "text": "Dias"
         }
        },
        "yaxis": {
         "anchor": "x",
         "domain": [
          0,
          1
         ],
         "title": {
          "text": "Cantidad"
         }
        }
       }
      }
     },
     "metadata": {},
     "output_type": "display_data"
    }
   ],
   "source": [
    "\n",
    "dias_graf = px.bar(diferencia_dias, x=\"dif_dias\", y=\"Cautoriza\",title = \"Diferencia de días entre venta y NCs\",labels={\"Cautoriza\":\"Cantidad\",\"dif_dias\":\"Dias\"})\n",
    "dias_graf.update_layout(xaxis_categoryorder = 'total descending')\n",
    "dias_graf.show()\n",
    "\n"
   ]
  },
  {
   "cell_type": "code",
   "execution_count": 35,
   "metadata": {},
   "outputs": [],
   "source": [
    "top_20_clientes_nc = df_con_ep.groupby(\"Nrutcomprador\")[\"Cautoriza\"].nunique().reset_index().sort_values(\"Cautoriza\",ascending=False)"
   ]
  },
  {
   "cell_type": "code",
   "execution_count": 53,
   "metadata": {},
   "outputs": [
    {
     "data": {
      "text/html": [
       "<div>\n",
       "<style scoped>\n",
       "    .dataframe tbody tr th:only-of-type {\n",
       "        vertical-align: middle;\n",
       "    }\n",
       "\n",
       "    .dataframe tbody tr th {\n",
       "        vertical-align: top;\n",
       "    }\n",
       "\n",
       "    .dataframe thead th {\n",
       "        text-align: right;\n",
       "    }\n",
       "</style>\n",
       "<table border=\"1\" class=\"dataframe\">\n",
       "  <thead>\n",
       "    <tr style=\"text-align: right;\">\n",
       "      <th></th>\n",
       "      <th>Nrutcomprador</th>\n",
       "      <th>Cautoriza</th>\n",
       "    </tr>\n",
       "  </thead>\n",
       "  <tbody>\n",
       "    <tr>\n",
       "      <th>50484</th>\n",
       "      <td>1234567890</td>\n",
       "      <td>38</td>\n",
       "    </tr>\n",
       "    <tr>\n",
       "      <th>96018</th>\n",
       "      <td>52295256</td>\n",
       "      <td>28</td>\n",
       "    </tr>\n",
       "    <tr>\n",
       "      <th>38958</th>\n",
       "      <td>1110555895</td>\n",
       "      <td>24</td>\n",
       "    </tr>\n",
       "    <tr>\n",
       "      <th>105940</th>\n",
       "      <td>63317421</td>\n",
       "      <td>22</td>\n",
       "    </tr>\n",
       "    <tr>\n",
       "      <th>108286</th>\n",
       "      <td>66710306</td>\n",
       "      <td>21</td>\n",
       "    </tr>\n",
       "    <tr>\n",
       "      <th>15536</th>\n",
       "      <td>1020805672</td>\n",
       "      <td>20</td>\n",
       "    </tr>\n",
       "    <tr>\n",
       "      <th>88442</th>\n",
       "      <td>459687456</td>\n",
       "      <td>18</td>\n",
       "    </tr>\n",
       "    <tr>\n",
       "      <th>125421</th>\n",
       "      <td>90113482</td>\n",
       "      <td>16</td>\n",
       "    </tr>\n",
       "    <tr>\n",
       "      <th>73350</th>\n",
       "      <td>37723241</td>\n",
       "      <td>16</td>\n",
       "    </tr>\n",
       "    <tr>\n",
       "      <th>84069</th>\n",
       "      <td>43187261</td>\n",
       "      <td>16</td>\n",
       "    </tr>\n",
       "    <tr>\n",
       "      <th>78317</th>\n",
       "      <td>41328972</td>\n",
       "      <td>16</td>\n",
       "    </tr>\n",
       "    <tr>\n",
       "      <th>73405</th>\n",
       "      <td>37733421</td>\n",
       "      <td>15</td>\n",
       "    </tr>\n",
       "    <tr>\n",
       "      <th>61561</th>\n",
       "      <td>26329049</td>\n",
       "      <td>15</td>\n",
       "    </tr>\n",
       "    <tr>\n",
       "      <th>17730</th>\n",
       "      <td>1023921225</td>\n",
       "      <td>15</td>\n",
       "    </tr>\n",
       "    <tr>\n",
       "      <th>73996</th>\n",
       "      <td>38142680</td>\n",
       "      <td>15</td>\n",
       "    </tr>\n",
       "    <tr>\n",
       "      <th>72563</th>\n",
       "      <td>36312592</td>\n",
       "      <td>15</td>\n",
       "    </tr>\n",
       "    <tr>\n",
       "      <th>37746</th>\n",
       "      <td>1107077435</td>\n",
       "      <td>14</td>\n",
       "    </tr>\n",
       "    <tr>\n",
       "      <th>81900</th>\n",
       "      <td>42485739</td>\n",
       "      <td>14</td>\n",
       "    </tr>\n",
       "    <tr>\n",
       "      <th>44510</th>\n",
       "      <td>1140818008</td>\n",
       "      <td>13</td>\n",
       "    </tr>\n",
       "    <tr>\n",
       "      <th>128240</th>\n",
       "      <td>96964224</td>\n",
       "      <td>13</td>\n",
       "    </tr>\n",
       "  </tbody>\n",
       "</table>\n",
       "</div>"
      ],
      "text/plain": [
       "       Nrutcomprador  Cautoriza\n",
       "50484     1234567890         38\n",
       "96018       52295256         28\n",
       "38958     1110555895         24\n",
       "105940      63317421         22\n",
       "108286      66710306         21\n",
       "15536     1020805672         20\n",
       "88442      459687456         18\n",
       "125421      90113482         16\n",
       "73350       37723241         16\n",
       "84069       43187261         16\n",
       "78317       41328972         16\n",
       "73405       37733421         15\n",
       "61561       26329049         15\n",
       "17730     1023921225         15\n",
       "73996       38142680         15\n",
       "72563       36312592         15\n",
       "37746     1107077435         14\n",
       "81900       42485739         14\n",
       "44510     1140818008         13\n",
       "128240      96964224         13"
      ]
     },
     "execution_count": 53,
     "metadata": {},
     "output_type": "execute_result"
    }
   ],
   "source": [
    "top_20_clientes_nc = top_20_clientes_nc.loc[~top_20_clientes_nc.Nrutcomprador.isin([\"0\",\"1\",\"2\"])].head(20)"
   ]
  },
  {
   "cell_type": "code",
   "execution_count": 48,
   "metadata": {},
   "outputs": [
    {
     "data": {
      "text/html": [
       "<div>\n",
       "<style scoped>\n",
       "    .dataframe tbody tr th:only-of-type {\n",
       "        vertical-align: middle;\n",
       "    }\n",
       "\n",
       "    .dataframe tbody tr th {\n",
       "        vertical-align: top;\n",
       "    }\n",
       "\n",
       "    .dataframe thead th {\n",
       "        text-align: right;\n",
       "    }\n",
       "</style>\n",
       "<table border=\"1\" class=\"dataframe\">\n",
       "  <thead>\n",
       "    <tr style=\"text-align: right;\">\n",
       "      <th></th>\n",
       "      <th>Local_creacion</th>\n",
       "      <th>Desc_local</th>\n",
       "      <th>Dcompra_nvo</th>\n",
       "      <th>Nterminal_nvo</th>\n",
       "      <th>Nsecuencia_nvo</th>\n",
       "      <th>Hora</th>\n",
       "      <th>Tipo_trx</th>\n",
       "      <th>Cautoriza</th>\n",
       "      <th>Estado</th>\n",
       "      <th>Usuario</th>\n",
       "      <th>Cvendedor</th>\n",
       "      <th>Local_ant</th>\n",
       "      <th>Descr_local_ant</th>\n",
       "      <th>Dcompra_ant</th>\n",
       "      <th>Nterminal_ant</th>\n",
       "      <th>Nsecuencia_ant</th>\n",
       "      <th>Cvendedor_ant</th>\n",
       "      <th>Cajero_apertura</th>\n",
       "      <th>Linea</th>\n",
       "      <th>LiDescripcion</th>\n",
       "      <th>Slinea</th>\n",
       "      <th>SLiDescripcion</th>\n",
       "      <th>Clase</th>\n",
       "      <th>CDescripcion</th>\n",
       "      <th>SClase</th>\n",
       "      <th>SCDescripcion</th>\n",
       "      <th>SKU</th>\n",
       "      <th>EAN</th>\n",
       "      <th>PDescripcion</th>\n",
       "      <th>Cmarca</th>\n",
       "      <th>Tipo Producto</th>\n",
       "      <th>Origen</th>\n",
       "      <th>NIT_proveedor</th>\n",
       "      <th>Nombre_proveedor</th>\n",
       "      <th>Codigof12</th>\n",
       "      <th>Cevento</th>\n",
       "      <th>Cevento_desc</th>\n",
       "      <th>Nrutcomprador</th>\n",
       "      <th>Qcantidad</th>\n",
       "      <th>Punitario_venta</th>\n",
       "      <th>Punitario_nc</th>\n",
       "      <th>Mventa</th>\n",
       "      <th>Mventa_nc</th>\n",
       "      <th>Mdescto</th>\n",
       "      <th>Ctipificacion</th>\n",
       "      <th>Xtipificacion</th>\n",
       "      <th>mes-nc</th>\n",
       "      <th>Cod_Sucursal</th>\n",
       "      <th>Sucursal</th>\n",
       "      <th>Cod_Empleado</th>\n",
       "      <th>Num_Documento</th>\n",
       "      <th>FecInicioContrato</th>\n",
       "      <th>Cod_Cargo</th>\n",
       "      <th>Cargo</th>\n",
       "      <th>Cod_Depto</th>\n",
       "      <th>Departamento</th>\n",
       "      <th>Nombre_Superior</th>\n",
       "      <th>nombre_completo</th>\n",
       "      <th>dif_dias</th>\n",
       "    </tr>\n",
       "  </thead>\n",
       "  <tbody>\n",
       "    <tr>\n",
       "      <th>0</th>\n",
       "      <td>6</td>\n",
       "      <td>PARQUE ARBOLEDA</td>\n",
       "      <td>2021-10-01</td>\n",
       "      <td>95</td>\n",
       "      <td>76</td>\n",
       "      <td>1126</td>\n",
       "      <td>NC</td>\n",
       "      <td>1069552042</td>\n",
       "      <td>V</td>\n",
       "      <td>NaN</td>\n",
       "      <td>928941</td>\n",
       "      <td>2000</td>\n",
       "      <td>TIENDA FALABELLA .COM</td>\n",
       "      <td>2021-09-23</td>\n",
       "      <td>3463</td>\n",
       "      <td>93250</td>\n",
       "      <td>47708</td>\n",
       "      <td>47708</td>\n",
       "      <td>J09</td>\n",
       "      <td>NIÑOS</td>\n",
       "      <td>J0905</td>\n",
       "      <td>VESTUARIO BEBE</td>\n",
       "      <td>J090502</td>\n",
       "      <td>BOTTOMS NINA</td>\n",
       "      <td>J09050202</td>\n",
       "      <td>PANTALON SPORT NINA</td>\n",
       "      <td>9547282</td>\n",
       "      <td>1200051948910</td>\n",
       "      <td>PANT 620247 000 12-18M</td>\n",
       "      <td>GAP</td>\n",
       "      <td>Producto</td>\n",
       "      <td>IMPORTADO</td>\n",
       "      <td>444448349-1</td>\n",
       "      <td>GAP EUROPE LIMITED</td>\n",
       "      <td>0</td>\n",
       "      <td>0</td>\n",
       "      <td></td>\n",
       "      <td>421447218</td>\n",
       "      <td>-2</td>\n",
       "      <td>39990</td>\n",
       "      <td>39990</td>\n",
       "      <td>79980</td>\n",
       "      <td>-79980</td>\n",
       "      <td>0</td>\n",
       "      <td>APTD034</td>\n",
       "      <td>DEV PRODUCTO TROCADO</td>\n",
       "      <td>Oct-21</td>\n",
       "      <td>720</td>\n",
       "      <td>FALABELLA - PARQUE ARBOLEDA PEREIRA</td>\n",
       "      <td>928941</td>\n",
       "      <td>1023010579</td>\n",
       "      <td>13/10/2018</td>\n",
       "      <td>664</td>\n",
       "      <td>ASESOR MULTISERVICIOS</td>\n",
       "      <td>1039</td>\n",
       "      <td>TDA- MULTISERVICIOS</td>\n",
       "      <td>LEYDA MARITZA CASTRO VARGAS</td>\n",
       "      <td>MONTOYA ARTUNDUAGA MAUDY YERALDYN</td>\n",
       "      <td>8</td>\n",
       "    </tr>\n",
       "    <tr>\n",
       "      <th>1</th>\n",
       "      <td>6</td>\n",
       "      <td>PARQUE ARBOLEDA</td>\n",
       "      <td>2021-10-01</td>\n",
       "      <td>95</td>\n",
       "      <td>78</td>\n",
       "      <td>1131</td>\n",
       "      <td>NC</td>\n",
       "      <td>1069552196</td>\n",
       "      <td>V</td>\n",
       "      <td>NaN</td>\n",
       "      <td>928941</td>\n",
       "      <td>2000</td>\n",
       "      <td>TIENDA FALABELLA .COM</td>\n",
       "      <td>2021-09-16</td>\n",
       "      <td>3464</td>\n",
       "      <td>21983</td>\n",
       "      <td>47708</td>\n",
       "      <td>47708</td>\n",
       "      <td>J12</td>\n",
       "      <td>BLANCO</td>\n",
       "      <td>J1201</td>\n",
       "      <td>ROPA DE CAMA</td>\n",
       "      <td>J120104</td>\n",
       "      <td>JUEGOS DE CAMA</td>\n",
       "      <td>J12010402</td>\n",
       "      <td>JGO CAMA ESTAMPADO</td>\n",
       "      <td>882001880</td>\n",
       "      <td>2998820018801</td>\n",
       "      <td>EDREDON+JGO DE SABANA TRIS KN</td>\n",
       "      <td>MICA</td>\n",
       "      <td>Producto</td>\n",
       "      <td>IMPORTADO</td>\n",
       "      <td>41482-2</td>\n",
       "      <td>NANTONG L-ANGEL TEXTILE CO.,LTD</td>\n",
       "      <td>0</td>\n",
       "      <td>0</td>\n",
       "      <td></td>\n",
       "      <td>42147218</td>\n",
       "      <td>-1</td>\n",
       "      <td>209994</td>\n",
       "      <td>209994</td>\n",
       "      <td>209994</td>\n",
       "      <td>-209994</td>\n",
       "      <td>0</td>\n",
       "      <td>APTD034</td>\n",
       "      <td>DEV PRODUCTO TROCADO</td>\n",
       "      <td>Oct-21</td>\n",
       "      <td>720</td>\n",
       "      <td>FALABELLA - PARQUE ARBOLEDA PEREIRA</td>\n",
       "      <td>928941</td>\n",
       "      <td>1023010579</td>\n",
       "      <td>13/10/2018</td>\n",
       "      <td>664</td>\n",
       "      <td>ASESOR MULTISERVICIOS</td>\n",
       "      <td>1039</td>\n",
       "      <td>TDA- MULTISERVICIOS</td>\n",
       "      <td>LEYDA MARITZA CASTRO VARGAS</td>\n",
       "      <td>MONTOYA ARTUNDUAGA MAUDY YERALDYN</td>\n",
       "      <td>15</td>\n",
       "    </tr>\n",
       "    <tr>\n",
       "      <th>2</th>\n",
       "      <td>6</td>\n",
       "      <td>PARQUE ARBOLEDA</td>\n",
       "      <td>2021-10-01</td>\n",
       "      <td>95</td>\n",
       "      <td>81</td>\n",
       "      <td>1216</td>\n",
       "      <td>NC</td>\n",
       "      <td>1069554015</td>\n",
       "      <td>V</td>\n",
       "      <td>NaN</td>\n",
       "      <td>928941</td>\n",
       "      <td>2000</td>\n",
       "      <td>TIENDA FALABELLA .COM</td>\n",
       "      <td>2021-09-27</td>\n",
       "      <td>3462</td>\n",
       "      <td>91145</td>\n",
       "      <td>47708</td>\n",
       "      <td>47708</td>\n",
       "      <td>J10</td>\n",
       "      <td>CALZADO</td>\n",
       "      <td>J1001</td>\n",
       "      <td>ZAPATOS HOMBRE</td>\n",
       "      <td>J100102</td>\n",
       "      <td>BOTA HOMBRE</td>\n",
       "      <td>J10010202</td>\n",
       "      <td>BOTA HOM CASUAL</td>\n",
       "      <td>11558268</td>\n",
       "      <td>2011558268000</td>\n",
       "      <td>Bota  Hombre  Wolker Belfort Cafe</td>\n",
       "      <td>WOLKER</td>\n",
       "      <td>Market Place</td>\n",
       "      <td>NACIONAL</td>\n",
       "      <td>901247635-6</td>\n",
       "      <td>WOLKER S.A.S</td>\n",
       "      <td>0</td>\n",
       "      <td>0</td>\n",
       "      <td></td>\n",
       "      <td>97723141</td>\n",
       "      <td>-1</td>\n",
       "      <td>195000</td>\n",
       "      <td>195000</td>\n",
       "      <td>195000</td>\n",
       "      <td>-195000</td>\n",
       "      <td>0</td>\n",
       "      <td>APTD031</td>\n",
       "      <td>DEV X TALLA</td>\n",
       "      <td>Oct-21</td>\n",
       "      <td>720</td>\n",
       "      <td>FALABELLA - PARQUE ARBOLEDA PEREIRA</td>\n",
       "      <td>928941</td>\n",
       "      <td>1023010579</td>\n",
       "      <td>13/10/2018</td>\n",
       "      <td>664</td>\n",
       "      <td>ASESOR MULTISERVICIOS</td>\n",
       "      <td>1039</td>\n",
       "      <td>TDA- MULTISERVICIOS</td>\n",
       "      <td>LEYDA MARITZA CASTRO VARGAS</td>\n",
       "      <td>MONTOYA ARTUNDUAGA MAUDY YERALDYN</td>\n",
       "      <td>4</td>\n",
       "    </tr>\n",
       "    <tr>\n",
       "      <th>3</th>\n",
       "      <td>6</td>\n",
       "      <td>PARQUE ARBOLEDA</td>\n",
       "      <td>2021-10-01</td>\n",
       "      <td>8</td>\n",
       "      <td>1482</td>\n",
       "      <td>1324</td>\n",
       "      <td>NC</td>\n",
       "      <td>1069556231</td>\n",
       "      <td>V</td>\n",
       "      <td>NaN</td>\n",
       "      <td>85766</td>\n",
       "      <td>6</td>\n",
       "      <td>PARQUE ARBOLEDA</td>\n",
       "      <td>2021-09-18</td>\n",
       "      <td>24</td>\n",
       "      <td>1791</td>\n",
       "      <td>85766</td>\n",
       "      <td>81434</td>\n",
       "      <td>J05</td>\n",
       "      <td>RINCON JUVENIL MUJER</td>\n",
       "      <td>J0503</td>\n",
       "      <td>TOPS</td>\n",
       "      <td>J050304</td>\n",
       "      <td>ESQUELETO</td>\n",
       "      <td>J05030401</td>\n",
       "      <td>ESQUELETO</td>\n",
       "      <td>10973842</td>\n",
       "      <td>2010973842000</td>\n",
       "      <td>TOP/114865/MA25549/NEG/M</td>\n",
       "      <td>MOSSIMO</td>\n",
       "      <td>Producto</td>\n",
       "      <td>NACIONAL</td>\n",
       "      <td>900017447-8</td>\n",
       "      <td>FALABELLA DE COLOMBIA S.A.</td>\n",
       "      <td>0</td>\n",
       "      <td>0</td>\n",
       "      <td></td>\n",
       "      <td>24319736</td>\n",
       "      <td>-1</td>\n",
       "      <td>29990</td>\n",
       "      <td>29990</td>\n",
       "      <td>29990</td>\n",
       "      <td>-29990</td>\n",
       "      <td>0</td>\n",
       "      <td>APTD034</td>\n",
       "      <td>DEV PRODUCTO TROCADO</td>\n",
       "      <td>Oct-21</td>\n",
       "      <td>720</td>\n",
       "      <td>FALABELLA - PARQUE ARBOLEDA PEREIRA</td>\n",
       "      <td>85766</td>\n",
       "      <td>10050411</td>\n",
       "      <td>05/02/2011</td>\n",
       "      <td>461</td>\n",
       "      <td>ASESOR DE COMPRAS</td>\n",
       "      <td>305</td>\n",
       "      <td>TDA-RINCON JUVENIL HOMBRES GENERICO</td>\n",
       "      <td>INGRID YISELA GALEANO HERRERA</td>\n",
       "      <td>VILLEGAS ALZATE ALEXANDER DE JESUS</td>\n",
       "      <td>13</td>\n",
       "    </tr>\n",
       "    <tr>\n",
       "      <th>4</th>\n",
       "      <td>6</td>\n",
       "      <td>PARQUE ARBOLEDA</td>\n",
       "      <td>2021-10-01</td>\n",
       "      <td>9</td>\n",
       "      <td>9039</td>\n",
       "      <td>1340</td>\n",
       "      <td>NC</td>\n",
       "      <td>1069556712</td>\n",
       "      <td>V</td>\n",
       "      <td>NaN</td>\n",
       "      <td>882828</td>\n",
       "      <td>2000</td>\n",
       "      <td>TIENDA FALABELLA .COM</td>\n",
       "      <td>2021-09-15</td>\n",
       "      <td>3462</td>\n",
       "      <td>74621</td>\n",
       "      <td>887080</td>\n",
       "      <td>887080</td>\n",
       "      <td>J10</td>\n",
       "      <td>CALZADO</td>\n",
       "      <td>J1004</td>\n",
       "      <td>ZAPATILLAS MUJER</td>\n",
       "      <td>J100401</td>\n",
       "      <td>ZAP MODA MUJ</td>\n",
       "      <td>J10040101</td>\n",
       "      <td>ZAP MODA M</td>\n",
       "      <td>9533248</td>\n",
       "      <td>4062453809124</td>\n",
       "      <td>RS-X MONO METAL WNS BL0 6.5/36</td>\n",
       "      <td>PUMA</td>\n",
       "      <td>Producto</td>\n",
       "      <td>IMPORTADO</td>\n",
       "      <td>444441691-2</td>\n",
       "      <td>WORKOUT INC (PUMA)</td>\n",
       "      <td>0</td>\n",
       "      <td>0</td>\n",
       "      <td></td>\n",
       "      <td>1113648503</td>\n",
       "      <td>-1</td>\n",
       "      <td>269994</td>\n",
       "      <td>269994</td>\n",
       "      <td>269994</td>\n",
       "      <td>-269994</td>\n",
       "      <td>0</td>\n",
       "      <td>APTD034</td>\n",
       "      <td>DEV PRODUCTO TROCADO</td>\n",
       "      <td>Oct-21</td>\n",
       "      <td>720</td>\n",
       "      <td>FALABELLA - PARQUE ARBOLEDA PEREIRA</td>\n",
       "      <td>882828</td>\n",
       "      <td>1004733148</td>\n",
       "      <td>20/01/2020</td>\n",
       "      <td>502</td>\n",
       "      <td>OPERADOR DE P.O.S.</td>\n",
       "      <td>373</td>\n",
       "      <td>TDA-CAJAS</td>\n",
       "      <td>CRISTIAN CAMILO MOLINA MUÑOZ</td>\n",
       "      <td>ALCARAZ SOTO CLAUDIA LORENA</td>\n",
       "      <td>16</td>\n",
       "    </tr>\n",
       "    <tr>\n",
       "      <th>...</th>\n",
       "      <td>...</td>\n",
       "      <td>...</td>\n",
       "      <td>...</td>\n",
       "      <td>...</td>\n",
       "      <td>...</td>\n",
       "      <td>...</td>\n",
       "      <td>...</td>\n",
       "      <td>...</td>\n",
       "      <td>...</td>\n",
       "      <td>...</td>\n",
       "      <td>...</td>\n",
       "      <td>...</td>\n",
       "      <td>...</td>\n",
       "      <td>...</td>\n",
       "      <td>...</td>\n",
       "      <td>...</td>\n",
       "      <td>...</td>\n",
       "      <td>...</td>\n",
       "      <td>...</td>\n",
       "      <td>...</td>\n",
       "      <td>...</td>\n",
       "      <td>...</td>\n",
       "      <td>...</td>\n",
       "      <td>...</td>\n",
       "      <td>...</td>\n",
       "      <td>...</td>\n",
       "      <td>...</td>\n",
       "      <td>...</td>\n",
       "      <td>...</td>\n",
       "      <td>...</td>\n",
       "      <td>...</td>\n",
       "      <td>...</td>\n",
       "      <td>...</td>\n",
       "      <td>...</td>\n",
       "      <td>...</td>\n",
       "      <td>...</td>\n",
       "      <td>...</td>\n",
       "      <td>...</td>\n",
       "      <td>...</td>\n",
       "      <td>...</td>\n",
       "      <td>...</td>\n",
       "      <td>...</td>\n",
       "      <td>...</td>\n",
       "      <td>...</td>\n",
       "      <td>...</td>\n",
       "      <td>...</td>\n",
       "      <td>...</td>\n",
       "      <td>...</td>\n",
       "      <td>...</td>\n",
       "      <td>...</td>\n",
       "      <td>...</td>\n",
       "      <td>...</td>\n",
       "      <td>...</td>\n",
       "      <td>...</td>\n",
       "      <td>...</td>\n",
       "      <td>...</td>\n",
       "      <td>...</td>\n",
       "      <td>...</td>\n",
       "      <td>...</td>\n",
       "    </tr>\n",
       "    <tr>\n",
       "      <th>238132</th>\n",
       "      <td>183</td>\n",
       "      <td>SANTA FE</td>\n",
       "      <td>2021-12-26</td>\n",
       "      <td>34</td>\n",
       "      <td>3501</td>\n",
       "      <td>2009</td>\n",
       "      <td>NC</td>\n",
       "      <td>1073375057</td>\n",
       "      <td>V</td>\n",
       "      <td>NaN</td>\n",
       "      <td>16195</td>\n",
       "      <td>183</td>\n",
       "      <td>SANTA FE</td>\n",
       "      <td>2021-12-20</td>\n",
       "      <td>27</td>\n",
       "      <td>7847</td>\n",
       "      <td>16195</td>\n",
       "      <td>16195</td>\n",
       "      <td>J09</td>\n",
       "      <td>NIÑOS</td>\n",
       "      <td>J0902</td>\n",
       "      <td>NINOS (8-16)</td>\n",
       "      <td>J090203</td>\n",
       "      <td>TOPS</td>\n",
       "      <td>J09020304</td>\n",
       "      <td>POLERA MC</td>\n",
       "      <td>882088301</td>\n",
       "      <td>2998820883010</td>\n",
       "      <td>POLERA MC BSCPOLOMCV E4 AZUL 12</td>\n",
       "      <td>FEDERATION</td>\n",
       "      <td>Producto</td>\n",
       "      <td>IMPORTADO</td>\n",
       "      <td>41490-1</td>\n",
       "      <td>NANTONG AIQI INTERNATIONAL TRADE CO.,LTD</td>\n",
       "      <td>0</td>\n",
       "      <td>0</td>\n",
       "      <td></td>\n",
       "      <td>79628762</td>\n",
       "      <td>-1</td>\n",
       "      <td>16664</td>\n",
       "      <td>16664</td>\n",
       "      <td>16664</td>\n",
       "      <td>-16664</td>\n",
       "      <td>3326</td>\n",
       "      <td>APTD037</td>\n",
       "      <td>DEV X GUSTO</td>\n",
       "      <td>Dec-21</td>\n",
       "      <td>709</td>\n",
       "      <td>FALABELLA - SANTAFE</td>\n",
       "      <td>16195</td>\n",
       "      <td>35263202</td>\n",
       "      <td>18/04/2007</td>\n",
       "      <td>867</td>\n",
       "      <td>ENCARGADO DE CAJAS Y TESORERÍA</td>\n",
       "      <td>373</td>\n",
       "      <td>TDA-CAJAS</td>\n",
       "      <td>WILLIAM RICARDO NOVOA NAVARRO</td>\n",
       "      <td>AVILA LEON MILENA</td>\n",
       "      <td>6</td>\n",
       "    </tr>\n",
       "    <tr>\n",
       "      <th>238133</th>\n",
       "      <td>183</td>\n",
       "      <td>SANTA FE</td>\n",
       "      <td>2021-12-26</td>\n",
       "      <td>96</td>\n",
       "      <td>1833</td>\n",
       "      <td>2016</td>\n",
       "      <td>NC</td>\n",
       "      <td>1073375699</td>\n",
       "      <td>V</td>\n",
       "      <td>137499</td>\n",
       "      <td>103829</td>\n",
       "      <td>183</td>\n",
       "      <td>SANTA FE</td>\n",
       "      <td>2021-11-12</td>\n",
       "      <td>36</td>\n",
       "      <td>3320</td>\n",
       "      <td>103829</td>\n",
       "      <td>103829</td>\n",
       "      <td>J09</td>\n",
       "      <td>NIÑOS</td>\n",
       "      <td>J0909</td>\n",
       "      <td>JUGUETERIA</td>\n",
       "      <td>J090920</td>\n",
       "      <td>AUTOS Y RADIO CONTROLADOS</td>\n",
       "      <td>J09092004</td>\n",
       "      <td>RC TODO TERRENO</td>\n",
       "      <td>881313507</td>\n",
       "      <td>2998813135072</td>\n",
       "      <td>CAMIONETA NEGRA MATE 1:16</td>\n",
       "      <td>YIDAFENG</td>\n",
       "      <td>Producto</td>\n",
       "      <td>IMPORTADO</td>\n",
       "      <td>444447718-1</td>\n",
       "      <td>KNP LLC</td>\n",
       "      <td>0</td>\n",
       "      <td>0</td>\n",
       "      <td></td>\n",
       "      <td>1020827708</td>\n",
       "      <td>-1</td>\n",
       "      <td>69993</td>\n",
       "      <td>69993</td>\n",
       "      <td>69993</td>\n",
       "      <td>-69993</td>\n",
       "      <td>0</td>\n",
       "      <td>APTD033</td>\n",
       "      <td>DEV PRODUCTO DAÑADO / CALIDAD</td>\n",
       "      <td>Dec-21</td>\n",
       "      <td>709</td>\n",
       "      <td>FALABELLA - SANTAFE</td>\n",
       "      <td>103829</td>\n",
       "      <td>52391770</td>\n",
       "      <td>03/03/2012</td>\n",
       "      <td>502</td>\n",
       "      <td>OPERADOR DE P.O.S.</td>\n",
       "      <td>373</td>\n",
       "      <td>TDA-CAJAS</td>\n",
       "      <td>WILLIAM RICARDO NOVOA NAVARRO</td>\n",
       "      <td>PEDRAZA GARCIA VALENTINA</td>\n",
       "      <td>44</td>\n",
       "    </tr>\n",
       "    <tr>\n",
       "      <th>238134</th>\n",
       "      <td>183</td>\n",
       "      <td>SANTA FE</td>\n",
       "      <td>2021-12-26</td>\n",
       "      <td>57</td>\n",
       "      <td>7588</td>\n",
       "      <td>2048</td>\n",
       "      <td>NC</td>\n",
       "      <td>1073378324</td>\n",
       "      <td>V</td>\n",
       "      <td>111228</td>\n",
       "      <td>111228</td>\n",
       "      <td>183</td>\n",
       "      <td>SANTA FE</td>\n",
       "      <td>2021-12-23</td>\n",
       "      <td>74</td>\n",
       "      <td>338</td>\n",
       "      <td>0</td>\n",
       "      <td>0</td>\n",
       "      <td>J01</td>\n",
       "      <td>HOMBRES</td>\n",
       "      <td>J0105</td>\n",
       "      <td>TOPS SPORT</td>\n",
       "      <td>J010503</td>\n",
       "      <td>T-SHIRT</td>\n",
       "      <td>J01050301</td>\n",
       "      <td>T-SHIRT M/C CUELLO</td>\n",
       "      <td>3459130</td>\n",
       "      <td>2003459130005</td>\n",
       "      <td>PC NB MP 1 AZUL S-44132 L</td>\n",
       "      <td>NEWBOAT</td>\n",
       "      <td>Producto</td>\n",
       "      <td>NACIONAL</td>\n",
       "      <td>860045838-9</td>\n",
       "      <td>TINTORERIA ASITEX SA</td>\n",
       "      <td>0</td>\n",
       "      <td>0</td>\n",
       "      <td></td>\n",
       "      <td>1015474229</td>\n",
       "      <td>-1</td>\n",
       "      <td>24995</td>\n",
       "      <td>24995</td>\n",
       "      <td>24995</td>\n",
       "      <td>-24995</td>\n",
       "      <td>4995</td>\n",
       "      <td>APTD031</td>\n",
       "      <td>DEV X TALLA</td>\n",
       "      <td>Dec-21</td>\n",
       "      <td>709</td>\n",
       "      <td>FALABELLA - SANTAFE</td>\n",
       "      <td>111228</td>\n",
       "      <td>1019105692</td>\n",
       "      <td>24/02/2020</td>\n",
       "      <td>502</td>\n",
       "      <td>OPERADOR DE P.O.S.</td>\n",
       "      <td>373</td>\n",
       "      <td>TDA-CAJAS</td>\n",
       "      <td>WILLIAM RICARDO NOVOA NAVARRO</td>\n",
       "      <td>MARTINEZ ECHEVERRI ALEJANDRO</td>\n",
       "      <td>3</td>\n",
       "    </tr>\n",
       "    <tr>\n",
       "      <th>238135</th>\n",
       "      <td>183</td>\n",
       "      <td>SANTA FE</td>\n",
       "      <td>2021-12-26</td>\n",
       "      <td>57</td>\n",
       "      <td>7588</td>\n",
       "      <td>2048</td>\n",
       "      <td>NC</td>\n",
       "      <td>1073378324</td>\n",
       "      <td>V</td>\n",
       "      <td>111228</td>\n",
       "      <td>111228</td>\n",
       "      <td>183</td>\n",
       "      <td>SANTA FE</td>\n",
       "      <td>2021-12-23</td>\n",
       "      <td>74</td>\n",
       "      <td>338</td>\n",
       "      <td>0</td>\n",
       "      <td>0</td>\n",
       "      <td>J01</td>\n",
       "      <td>HOMBRES</td>\n",
       "      <td>J0105</td>\n",
       "      <td>TOPS SPORT</td>\n",
       "      <td>J010503</td>\n",
       "      <td>T-SHIRT</td>\n",
       "      <td>J01050301</td>\n",
       "      <td>T-SHIRT M/C CUELLO</td>\n",
       "      <td>3459130</td>\n",
       "      <td>2003459130005</td>\n",
       "      <td>PC NB MP 1 AZUL S-44132 L</td>\n",
       "      <td>NEWBOAT</td>\n",
       "      <td>Producto</td>\n",
       "      <td>NACIONAL</td>\n",
       "      <td>860045838-9</td>\n",
       "      <td>TINTORERIA ASITEX SA</td>\n",
       "      <td>0</td>\n",
       "      <td>0</td>\n",
       "      <td></td>\n",
       "      <td>1015474229</td>\n",
       "      <td>-1</td>\n",
       "      <td>24995</td>\n",
       "      <td>24995</td>\n",
       "      <td>24995</td>\n",
       "      <td>-24995</td>\n",
       "      <td>4995</td>\n",
       "      <td>APTD031</td>\n",
       "      <td>DEV X TALLA</td>\n",
       "      <td>Dec-21</td>\n",
       "      <td>709</td>\n",
       "      <td>FALABELLA - SANTAFE</td>\n",
       "      <td>111228</td>\n",
       "      <td>1019105692</td>\n",
       "      <td>24/02/2020</td>\n",
       "      <td>502</td>\n",
       "      <td>OPERADOR DE P.O.S.</td>\n",
       "      <td>373</td>\n",
       "      <td>TDA-CAJAS</td>\n",
       "      <td>WILLIAM RICARDO NOVOA NAVARRO</td>\n",
       "      <td>MARTINEZ ECHEVERRI ALEJANDRO</td>\n",
       "      <td>3</td>\n",
       "    </tr>\n",
       "    <tr>\n",
       "      <th>238136</th>\n",
       "      <td>183</td>\n",
       "      <td>SANTA FE</td>\n",
       "      <td>2021-12-26</td>\n",
       "      <td>34</td>\n",
       "      <td>3528</td>\n",
       "      <td>2103</td>\n",
       "      <td>NC</td>\n",
       "      <td>1073379246</td>\n",
       "      <td>V</td>\n",
       "      <td>NaN</td>\n",
       "      <td>147931</td>\n",
       "      <td>138</td>\n",
       "      <td>COLINA</td>\n",
       "      <td>2021-12-16</td>\n",
       "      <td>61</td>\n",
       "      <td>387</td>\n",
       "      <td>0</td>\n",
       "      <td>0</td>\n",
       "      <td>J01</td>\n",
       "      <td>HOMBRES</td>\n",
       "      <td>J0106</td>\n",
       "      <td>SWEATERS, POLAR Y SACOS</td>\n",
       "      <td>J010601</td>\n",
       "      <td>SWEATERS</td>\n",
       "      <td>J01060101</td>\n",
       "      <td>SWEATER SPORT</td>\n",
       "      <td>19386316</td>\n",
       "      <td>1200056945136</td>\n",
       "      <td>V-HERITAGE LOG 738100 AZ0 S</td>\n",
       "      <td>GAP</td>\n",
       "      <td>Producto</td>\n",
       "      <td>IMPORTADO</td>\n",
       "      <td>444448349-1</td>\n",
       "      <td>GAP EUROPE LIMITED</td>\n",
       "      <td>0</td>\n",
       "      <td>0</td>\n",
       "      <td></td>\n",
       "      <td>1018453417</td>\n",
       "      <td>-1</td>\n",
       "      <td>199990</td>\n",
       "      <td>199990</td>\n",
       "      <td>199990</td>\n",
       "      <td>-199990</td>\n",
       "      <td>0</td>\n",
       "      <td>APTD037</td>\n",
       "      <td>DEV X GUSTO</td>\n",
       "      <td>Dec-21</td>\n",
       "      <td>709</td>\n",
       "      <td>FALABELLA - SANTAFE</td>\n",
       "      <td>147931</td>\n",
       "      <td>1019031258</td>\n",
       "      <td>05/07/2014</td>\n",
       "      <td>502</td>\n",
       "      <td>OPERADOR DE P.O.S.</td>\n",
       "      <td>373</td>\n",
       "      <td>TDA-CAJAS</td>\n",
       "      <td>WILLIAM RICARDO NOVOA NAVARRO</td>\n",
       "      <td>CEPEDA VERGARA DIANA MILENA</td>\n",
       "      <td>10</td>\n",
       "    </tr>\n",
       "  </tbody>\n",
       "</table>\n",
       "<p>238137 rows × 59 columns</p>\n",
       "</div>"
      ],
      "text/plain": [
       "       Local_creacion       Desc_local Dcompra_nvo Nterminal_nvo  \\\n",
       "0                   6  PARQUE ARBOLEDA  2021-10-01            95   \n",
       "1                   6  PARQUE ARBOLEDA  2021-10-01            95   \n",
       "2                   6  PARQUE ARBOLEDA  2021-10-01            95   \n",
       "3                   6  PARQUE ARBOLEDA  2021-10-01             8   \n",
       "4                   6  PARQUE ARBOLEDA  2021-10-01             9   \n",
       "...               ...              ...         ...           ...   \n",
       "238132            183         SANTA FE  2021-12-26            34   \n",
       "238133            183         SANTA FE  2021-12-26            96   \n",
       "238134            183         SANTA FE  2021-12-26            57   \n",
       "238135            183         SANTA FE  2021-12-26            57   \n",
       "238136            183         SANTA FE  2021-12-26            34   \n",
       "\n",
       "       Nsecuencia_nvo  Hora Tipo_trx   Cautoriza Estado Usuario Cvendedor  \\\n",
       "0                  76  1126       NC  1069552042      V     NaN    928941   \n",
       "1                  78  1131       NC  1069552196      V     NaN    928941   \n",
       "2                  81  1216       NC  1069554015      V     NaN    928941   \n",
       "3                1482  1324       NC  1069556231      V     NaN     85766   \n",
       "4                9039  1340       NC  1069556712      V     NaN    882828   \n",
       "...               ...   ...      ...         ...    ...     ...       ...   \n",
       "238132           3501  2009       NC  1073375057      V     NaN     16195   \n",
       "238133           1833  2016       NC  1073375699      V  137499    103829   \n",
       "238134           7588  2048       NC  1073378324      V  111228    111228   \n",
       "238135           7588  2048       NC  1073378324      V  111228    111228   \n",
       "238136           3528  2103       NC  1073379246      V     NaN    147931   \n",
       "\n",
       "       Local_ant        Descr_local_ant Dcompra_ant Nterminal_ant  \\\n",
       "0           2000  TIENDA FALABELLA .COM  2021-09-23          3463   \n",
       "1           2000  TIENDA FALABELLA .COM  2021-09-16          3464   \n",
       "2           2000  TIENDA FALABELLA .COM  2021-09-27          3462   \n",
       "3              6        PARQUE ARBOLEDA  2021-09-18            24   \n",
       "4           2000  TIENDA FALABELLA .COM  2021-09-15          3462   \n",
       "...          ...                    ...         ...           ...   \n",
       "238132       183               SANTA FE  2021-12-20            27   \n",
       "238133       183               SANTA FE  2021-11-12            36   \n",
       "238134       183               SANTA FE  2021-12-23            74   \n",
       "238135       183               SANTA FE  2021-12-23            74   \n",
       "238136       138                 COLINA  2021-12-16            61   \n",
       "\n",
       "       Nsecuencia_ant Cvendedor_ant Cajero_apertura            Linea  \\\n",
       "0               93250         47708           47708  J09               \n",
       "1               21983         47708           47708  J12               \n",
       "2               91145         47708           47708  J10               \n",
       "3                1791         85766           81434  J05               \n",
       "4               74621        887080          887080  J10               \n",
       "...               ...           ...             ...              ...   \n",
       "238132           7847         16195           16195  J09               \n",
       "238133           3320        103829          103829  J09               \n",
       "238134            338             0               0  J01               \n",
       "238135            338             0               0  J01               \n",
       "238136            387             0               0  J01               \n",
       "\n",
       "               LiDescripcion           Slinea           SLiDescripcion  \\\n",
       "0                      NIÑOS  J0905                     VESTUARIO BEBE   \n",
       "1                     BLANCO  J1201                       ROPA DE CAMA   \n",
       "2                    CALZADO  J1001                     ZAPATOS HOMBRE   \n",
       "3       RINCON JUVENIL MUJER  J0503                              TOPS    \n",
       "4                    CALZADO  J1004                   ZAPATILLAS MUJER   \n",
       "...                      ...              ...                      ...   \n",
       "238132                 NIÑOS  J0902                       NINOS (8-16)   \n",
       "238133                 NIÑOS  J0909                         JUGUETERIA   \n",
       "238134               HOMBRES  J0105                         TOPS SPORT   \n",
       "238135               HOMBRES  J0105                         TOPS SPORT   \n",
       "238136               HOMBRES  J0106            SWEATERS, POLAR Y SACOS   \n",
       "\n",
       "                  Clase               CDescripcion           SClase  \\\n",
       "0       J090502                       BOTTOMS NINA  J09050202         \n",
       "1       J120104                     JUEGOS DE CAMA  J12010402         \n",
       "2       J100102                        BOTA HOMBRE  J10010202         \n",
       "3       J050304                          ESQUELETO  J05030401         \n",
       "4       J100401                       ZAP MODA MUJ  J10040101         \n",
       "...                 ...                        ...              ...   \n",
       "238132  J090203                               TOPS  J09020304         \n",
       "238133  J090920          AUTOS Y RADIO CONTROLADOS  J09092004         \n",
       "238134  J010503                            T-SHIRT  J01050301         \n",
       "238135  J010503                            T-SHIRT  J01050301         \n",
       "238136  J010601                          SWEATERS   J01060101         \n",
       "\n",
       "              SCDescripcion              SKU            EAN  \\\n",
       "0       PANTALON SPORT NINA  9547282          1200051948910   \n",
       "1        JGO CAMA ESTAMPADO  882001880        2998820018801   \n",
       "2           BOTA HOM CASUAL  11558268         2011558268000   \n",
       "3                 ESQUELETO  10973842         2010973842000   \n",
       "4                ZAP MODA M  9533248          4062453809124   \n",
       "...                     ...              ...            ...   \n",
       "238132            POLERA MC  882088301        2998820883010   \n",
       "238133      RC TODO TERRENO  881313507        2998813135072   \n",
       "238134   T-SHIRT M/C CUELLO  3459130          2003459130005   \n",
       "238135   T-SHIRT M/C CUELLO  3459130          2003459130005   \n",
       "238136        SWEATER SPORT  19386316         1200056945136   \n",
       "\n",
       "                             PDescripcion      Cmarca Tipo Producto  \\\n",
       "0                  PANT 620247 000 12-18M         GAP      Producto   \n",
       "1           EDREDON+JGO DE SABANA TRIS KN        MICA      Producto   \n",
       "2       Bota  Hombre  Wolker Belfort Cafe      WOLKER  Market Place   \n",
       "3                TOP/114865/MA25549/NEG/M     MOSSIMO      Producto   \n",
       "4          RS-X MONO METAL WNS BL0 6.5/36        PUMA      Producto   \n",
       "...                                   ...         ...           ...   \n",
       "238132    POLERA MC BSCPOLOMCV E4 AZUL 12  FEDERATION      Producto   \n",
       "238133          CAMIONETA NEGRA MATE 1:16    YIDAFENG      Producto   \n",
       "238134          PC NB MP 1 AZUL S-44132 L     NEWBOAT      Producto   \n",
       "238135          PC NB MP 1 AZUL S-44132 L     NEWBOAT      Producto   \n",
       "238136        V-HERITAGE LOG 738100 AZ0 S         GAP      Producto   \n",
       "\n",
       "           Origen NIT_proveedor                          Nombre_proveedor  \\\n",
       "0       IMPORTADO   444448349-1                        GAP EUROPE LIMITED   \n",
       "1       IMPORTADO       41482-2           NANTONG L-ANGEL TEXTILE CO.,LTD   \n",
       "2        NACIONAL   901247635-6  WOLKER S.A.S                               \n",
       "3        NACIONAL   900017447-8              FALABELLA DE COLOMBIA S.A.     \n",
       "4       IMPORTADO   444441691-2                        WORKOUT INC (PUMA)   \n",
       "...           ...           ...                                       ...   \n",
       "238132  IMPORTADO       41490-1  NANTONG AIQI INTERNATIONAL TRADE CO.,LTD   \n",
       "238133  IMPORTADO   444447718-1                                   KNP LLC   \n",
       "238134   NACIONAL   860045838-9                      TINTORERIA ASITEX SA   \n",
       "238135   NACIONAL   860045838-9                      TINTORERIA ASITEX SA   \n",
       "238136  IMPORTADO   444448349-1                        GAP EUROPE LIMITED   \n",
       "\n",
       "       Codigof12 Cevento Cevento_desc Nrutcomprador Qcantidad Punitario_venta  \\\n",
       "0              0       0                  421447218        -2           39990   \n",
       "1              0       0                   42147218        -1          209994   \n",
       "2              0       0                   97723141        -1          195000   \n",
       "3              0       0                   24319736        -1           29990   \n",
       "4              0       0                 1113648503        -1          269994   \n",
       "...          ...     ...          ...           ...       ...             ...   \n",
       "238132         0       0                   79628762        -1           16664   \n",
       "238133         0       0                 1020827708        -1           69993   \n",
       "238134         0       0                 1015474229        -1           24995   \n",
       "238135         0       0                 1015474229        -1           24995   \n",
       "238136         0       0                 1018453417        -1          199990   \n",
       "\n",
       "       Punitario_nc  Mventa Mventa_nc Mdescto Ctipificacion  \\\n",
       "0             39990   79980    -79980       0       APTD034   \n",
       "1            209994  209994   -209994       0       APTD034   \n",
       "2            195000  195000   -195000       0       APTD031   \n",
       "3             29990   29990    -29990       0       APTD034   \n",
       "4            269994  269994   -269994       0       APTD034   \n",
       "...             ...     ...       ...     ...           ...   \n",
       "238132        16664   16664    -16664    3326       APTD037   \n",
       "238133        69993   69993    -69993       0       APTD033   \n",
       "238134        24995   24995    -24995    4995       APTD031   \n",
       "238135        24995   24995    -24995    4995       APTD031   \n",
       "238136       199990  199990   -199990       0       APTD037   \n",
       "\n",
       "                        Xtipificacion  mes-nc Cod_Sucursal  \\\n",
       "0                DEV PRODUCTO TROCADO  Oct-21          720   \n",
       "1                DEV PRODUCTO TROCADO  Oct-21          720   \n",
       "2                         DEV X TALLA  Oct-21          720   \n",
       "3                DEV PRODUCTO TROCADO  Oct-21          720   \n",
       "4                DEV PRODUCTO TROCADO  Oct-21          720   \n",
       "...                               ...     ...          ...   \n",
       "238132                    DEV X GUSTO  Dec-21          709   \n",
       "238133  DEV PRODUCTO DAÑADO / CALIDAD  Dec-21          709   \n",
       "238134                    DEV X TALLA  Dec-21          709   \n",
       "238135                    DEV X TALLA  Dec-21          709   \n",
       "238136                    DEV X GUSTO  Dec-21          709   \n",
       "\n",
       "                                   Sucursal Cod_Empleado Num_Documento  \\\n",
       "0       FALABELLA - PARQUE ARBOLEDA PEREIRA       928941    1023010579   \n",
       "1       FALABELLA - PARQUE ARBOLEDA PEREIRA       928941    1023010579   \n",
       "2       FALABELLA - PARQUE ARBOLEDA PEREIRA       928941    1023010579   \n",
       "3       FALABELLA - PARQUE ARBOLEDA PEREIRA        85766      10050411   \n",
       "4       FALABELLA - PARQUE ARBOLEDA PEREIRA       882828    1004733148   \n",
       "...                                     ...          ...           ...   \n",
       "238132                  FALABELLA - SANTAFE        16195      35263202   \n",
       "238133                  FALABELLA - SANTAFE       103829      52391770   \n",
       "238134                  FALABELLA - SANTAFE       111228    1019105692   \n",
       "238135                  FALABELLA - SANTAFE       111228    1019105692   \n",
       "238136                  FALABELLA - SANTAFE       147931    1019031258   \n",
       "\n",
       "       FecInicioContrato Cod_Cargo                           Cargo Cod_Depto  \\\n",
       "0             13/10/2018       664           ASESOR MULTISERVICIOS      1039   \n",
       "1             13/10/2018       664           ASESOR MULTISERVICIOS      1039   \n",
       "2             13/10/2018       664           ASESOR MULTISERVICIOS      1039   \n",
       "3             05/02/2011       461               ASESOR DE COMPRAS       305   \n",
       "4             20/01/2020       502              OPERADOR DE P.O.S.       373   \n",
       "...                  ...       ...                             ...       ...   \n",
       "238132        18/04/2007       867  ENCARGADO DE CAJAS Y TESORERÍA       373   \n",
       "238133        03/03/2012       502              OPERADOR DE P.O.S.       373   \n",
       "238134        24/02/2020       502              OPERADOR DE P.O.S.       373   \n",
       "238135        24/02/2020       502              OPERADOR DE P.O.S.       373   \n",
       "238136        05/07/2014       502              OPERADOR DE P.O.S.       373   \n",
       "\n",
       "                               Departamento                Nombre_Superior  \\\n",
       "0                       TDA- MULTISERVICIOS    LEYDA MARITZA CASTRO VARGAS   \n",
       "1                       TDA- MULTISERVICIOS    LEYDA MARITZA CASTRO VARGAS   \n",
       "2                       TDA- MULTISERVICIOS    LEYDA MARITZA CASTRO VARGAS   \n",
       "3       TDA-RINCON JUVENIL HOMBRES GENERICO  INGRID YISELA GALEANO HERRERA   \n",
       "4                                 TDA-CAJAS   CRISTIAN CAMILO MOLINA MUÑOZ   \n",
       "...                                     ...                            ...   \n",
       "238132                            TDA-CAJAS  WILLIAM RICARDO NOVOA NAVARRO   \n",
       "238133                            TDA-CAJAS  WILLIAM RICARDO NOVOA NAVARRO   \n",
       "238134                            TDA-CAJAS  WILLIAM RICARDO NOVOA NAVARRO   \n",
       "238135                            TDA-CAJAS  WILLIAM RICARDO NOVOA NAVARRO   \n",
       "238136                            TDA-CAJAS  WILLIAM RICARDO NOVOA NAVARRO   \n",
       "\n",
       "                           nombre_completo  dif_dias  \n",
       "0        MONTOYA ARTUNDUAGA MAUDY YERALDYN         8  \n",
       "1        MONTOYA ARTUNDUAGA MAUDY YERALDYN        15  \n",
       "2        MONTOYA ARTUNDUAGA MAUDY YERALDYN         4  \n",
       "3       VILLEGAS ALZATE ALEXANDER DE JESUS        13  \n",
       "4              ALCARAZ SOTO CLAUDIA LORENA        16  \n",
       "...                                    ...       ...  \n",
       "238132                   AVILA LEON MILENA         6  \n",
       "238133            PEDRAZA GARCIA VALENTINA        44  \n",
       "238134        MARTINEZ ECHEVERRI ALEJANDRO         3  \n",
       "238135        MARTINEZ ECHEVERRI ALEJANDRO         3  \n",
       "238136         CEPEDA VERGARA DIANA MILENA        10  \n",
       "\n",
       "[238137 rows x 59 columns]"
      ]
     },
     "execution_count": 48,
     "metadata": {},
     "output_type": "execute_result"
    }
   ],
   "source": [
    "df_con_ep"
   ]
  },
  {
   "cell_type": "code",
   "execution_count": 45,
   "metadata": {},
   "outputs": [
    {
     "data": {
      "text/html": [
       "<div>\n",
       "<style scoped>\n",
       "    .dataframe tbody tr th:only-of-type {\n",
       "        vertical-align: middle;\n",
       "    }\n",
       "\n",
       "    .dataframe tbody tr th {\n",
       "        vertical-align: top;\n",
       "    }\n",
       "\n",
       "    .dataframe thead th {\n",
       "        text-align: right;\n",
       "    }\n",
       "</style>\n",
       "<table border=\"1\" class=\"dataframe\">\n",
       "  <thead>\n",
       "    <tr style=\"text-align: right;\">\n",
       "      <th></th>\n",
       "      <th>Desc_local</th>\n",
       "      <th>Dcompra_nvo</th>\n",
       "      <th>Cvendedor</th>\n",
       "    </tr>\n",
       "  </thead>\n",
       "  <tbody>\n",
       "    <tr>\n",
       "      <th>0</th>\n",
       "      <td>ACQUA</td>\n",
       "      <td>2021-10-04</td>\n",
       "      <td>1</td>\n",
       "    </tr>\n",
       "    <tr>\n",
       "      <th>1</th>\n",
       "      <td>SANTA FE</td>\n",
       "      <td>2021-12-24</td>\n",
       "      <td>1</td>\n",
       "    </tr>\n",
       "    <tr>\n",
       "      <th>2</th>\n",
       "      <td>SANTA FE</td>\n",
       "      <td>2022-01-13</td>\n",
       "      <td>1</td>\n",
       "    </tr>\n",
       "    <tr>\n",
       "      <th>3</th>\n",
       "      <td>SANTA FE</td>\n",
       "      <td>2022-01-07</td>\n",
       "      <td>1</td>\n",
       "    </tr>\n",
       "    <tr>\n",
       "      <th>4</th>\n",
       "      <td>SANTA FE</td>\n",
       "      <td>2022-01-06</td>\n",
       "      <td>1</td>\n",
       "    </tr>\n",
       "    <tr>\n",
       "      <th>...</th>\n",
       "      <td>...</td>\n",
       "      <td>...</td>\n",
       "      <td>...</td>\n",
       "    </tr>\n",
       "    <tr>\n",
       "      <th>275</th>\n",
       "      <td>HAYUELOS</td>\n",
       "      <td>2021-10-09</td>\n",
       "      <td>1</td>\n",
       "    </tr>\n",
       "    <tr>\n",
       "      <th>276</th>\n",
       "      <td>HAYUELOS</td>\n",
       "      <td>2021-10-20</td>\n",
       "      <td>1</td>\n",
       "    </tr>\n",
       "    <tr>\n",
       "      <th>277</th>\n",
       "      <td>HAYUELOS</td>\n",
       "      <td>2021-11-21</td>\n",
       "      <td>1</td>\n",
       "    </tr>\n",
       "    <tr>\n",
       "      <th>278</th>\n",
       "      <td>HAYUELOS</td>\n",
       "      <td>2021-12-01</td>\n",
       "      <td>1</td>\n",
       "    </tr>\n",
       "    <tr>\n",
       "      <th>279</th>\n",
       "      <td>WTC CALI</td>\n",
       "      <td>2022-01-06</td>\n",
       "      <td>1</td>\n",
       "    </tr>\n",
       "  </tbody>\n",
       "</table>\n",
       "<p>280 rows × 3 columns</p>\n",
       "</div>"
      ],
      "text/plain": [
       "    Desc_local Dcompra_nvo  Cvendedor\n",
       "0        ACQUA  2021-10-04          1\n",
       "1     SANTA FE  2021-12-24          1\n",
       "2     SANTA FE  2022-01-13          1\n",
       "3     SANTA FE  2022-01-07          1\n",
       "4     SANTA FE  2022-01-06          1\n",
       "..         ...         ...        ...\n",
       "275   HAYUELOS  2021-10-09          1\n",
       "276   HAYUELOS  2021-10-20          1\n",
       "277   HAYUELOS  2021-11-21          1\n",
       "278   HAYUELOS  2021-12-01          1\n",
       "279   WTC CALI  2022-01-06          1\n",
       "\n",
       "[280 rows x 3 columns]"
      ]
     },
     "execution_count": 45,
     "metadata": {},
     "output_type": "execute_result"
    }
   ],
   "source": [
    "\n",
    "ced_0.groupby([\"Desc_local\",\"Dcompra_nvo\"])[\"Cvendedor\"].nunique().sort_values(ascending=False).reset_index()"
   ]
  },
  {
   "cell_type": "code",
   "execution_count": 50,
   "metadata": {},
   "outputs": [
    {
     "data": {
      "application/vnd.plotly.v1+json": {
       "config": {
        "plotlyServerURL": "https://plot.ly"
       },
       "data": [
        {
         "alignmentgroup": "True",
         "hovertemplate": "Desc_local=PLAZA CENTRAL<br>Fecha creacion=%{x}<br>Código vendedor=%{y}<extra></extra>",
         "legendgroup": "PLAZA CENTRAL",
         "marker": {
          "color": "#636efa",
          "pattern": {
           "shape": ""
          }
         },
         "name": "PLAZA CENTRAL",
         "offsetgroup": "PLAZA CENTRAL",
         "orientation": "v",
         "showlegend": true,
         "textposition": "auto",
         "type": "bar",
         "x": [
          "2021-11-20T00:00:00",
          "2021-11-04T00:00:00",
          "2022-02-13T00:00:00",
          "2021-12-05T00:00:00",
          "2021-11-27T00:00:00",
          "2021-10-08T00:00:00",
          "2021-10-02T00:00:00"
         ],
         "xaxis": "x",
         "y": [
          2,
          2,
          1,
          1,
          1,
          1,
          1
         ],
         "yaxis": "y"
        },
        {
         "alignmentgroup": "True",
         "hovertemplate": "Desc_local=UNICENTRO<br>Fecha creacion=%{x}<br>Código vendedor=%{y}<extra></extra>",
         "legendgroup": "UNICENTRO",
         "marker": {
          "color": "#EF553B",
          "pattern": {
           "shape": ""
          }
         },
         "name": "UNICENTRO",
         "offsetgroup": "UNICENTRO",
         "orientation": "v",
         "showlegend": true,
         "textposition": "auto",
         "type": "bar",
         "x": [
          "2022-01-24T00:00:00",
          "2021-12-02T00:00:00",
          "2022-01-29T00:00:00",
          "2021-10-02T00:00:00",
          "2021-10-04T00:00:00",
          "2021-10-22T00:00:00",
          "2021-10-24T00:00:00",
          "2021-10-29T00:00:00",
          "2021-11-22T00:00:00",
          "2021-11-27T00:00:00",
          "2021-12-03T00:00:00",
          "2021-12-09T00:00:00",
          "2021-12-11T00:00:00",
          "2021-12-15T00:00:00",
          "2021-12-18T00:00:00",
          "2021-12-26T00:00:00",
          "2021-12-28T00:00:00",
          "2022-01-07T00:00:00",
          "2022-01-25T00:00:00",
          "2022-02-01T00:00:00",
          "2022-02-07T00:00:00",
          "2022-02-12T00:00:00"
         ],
         "xaxis": "x",
         "y": [
          2,
          2,
          2,
          1,
          1,
          1,
          1,
          1,
          1,
          1,
          1,
          1,
          1,
          1,
          1,
          1,
          1,
          1,
          1,
          1,
          1,
          1
         ],
         "yaxis": "y"
        },
        {
         "alignmentgroup": "True",
         "hovertemplate": "Desc_local=LA CAROLA<br>Fecha creacion=%{x}<br>Código vendedor=%{y}<extra></extra>",
         "legendgroup": "LA CAROLA",
         "marker": {
          "color": "#00cc96",
          "pattern": {
           "shape": ""
          }
         },
         "name": "LA CAROLA",
         "offsetgroup": "LA CAROLA",
         "orientation": "v",
         "showlegend": true,
         "textposition": "auto",
         "type": "bar",
         "x": [
          "2021-11-19T00:00:00",
          "2021-11-20T00:00:00"
         ],
         "xaxis": "x",
         "y": [
          2,
          1
         ],
         "yaxis": "y"
        },
        {
         "alignmentgroup": "True",
         "hovertemplate": "Desc_local=SANTA FE<br>Fecha creacion=%{x}<br>Código vendedor=%{y}<extra></extra>",
         "legendgroup": "SANTA FE",
         "marker": {
          "color": "#ab63fa",
          "pattern": {
           "shape": ""
          }
         },
         "name": "SANTA FE",
         "offsetgroup": "SANTA FE",
         "orientation": "v",
         "showlegend": true,
         "textposition": "auto",
         "type": "bar",
         "x": [
          "2021-11-11T00:00:00",
          "2021-11-20T00:00:00",
          "2021-12-15T00:00:00",
          "2021-11-21T00:00:00",
          "2022-02-05T00:00:00",
          "2021-12-30T00:00:00",
          "2022-01-04T00:00:00",
          "2022-01-06T00:00:00",
          "2022-01-07T00:00:00",
          "2022-01-13T00:00:00",
          "2022-01-16T00:00:00",
          "2022-01-20T00:00:00",
          "2021-12-27T00:00:00",
          "2021-10-07T00:00:00",
          "2021-10-13T00:00:00",
          "2021-10-21T00:00:00",
          "2021-10-27T00:00:00",
          "2021-11-01T00:00:00",
          "2021-11-10T00:00:00",
          "2021-11-14T00:00:00",
          "2021-12-14T00:00:00",
          "2021-11-15T00:00:00",
          "2021-11-26T00:00:00",
          "2021-11-29T00:00:00",
          "2021-12-04T00:00:00",
          "2021-12-10T00:00:00",
          "2021-12-13T00:00:00",
          "2021-12-24T00:00:00"
         ],
         "xaxis": "x",
         "y": [
          2,
          2,
          2,
          2,
          1,
          1,
          1,
          1,
          1,
          1,
          1,
          1,
          1,
          1,
          1,
          1,
          1,
          1,
          1,
          1,
          1,
          1,
          1,
          1,
          1,
          1,
          1,
          1
         ],
         "yaxis": "y"
        },
        {
         "alignmentgroup": "True",
         "hovertemplate": "Desc_local=HAYUELOS<br>Fecha creacion=%{x}<br>Código vendedor=%{y}<extra></extra>",
         "legendgroup": "HAYUELOS",
         "marker": {
          "color": "#FFA15A",
          "pattern": {
           "shape": ""
          }
         },
         "name": "HAYUELOS",
         "offsetgroup": "HAYUELOS",
         "orientation": "v",
         "showlegend": true,
         "textposition": "auto",
         "type": "bar",
         "x": [
          "2022-01-07T00:00:00",
          "2021-12-31T00:00:00",
          "2021-12-06T00:00:00",
          "2022-01-08T00:00:00",
          "2022-01-18T00:00:00",
          "2022-01-20T00:00:00",
          "2021-12-24T00:00:00",
          "2022-01-03T00:00:00",
          "2021-12-15T00:00:00",
          "2021-12-09T00:00:00",
          "2021-10-02T00:00:00",
          "2021-10-09T00:00:00",
          "2021-10-20T00:00:00",
          "2021-11-21T00:00:00",
          "2021-12-01T00:00:00",
          "2021-12-08T00:00:00"
         ],
         "xaxis": "x",
         "y": [
          2,
          2,
          2,
          1,
          1,
          1,
          1,
          1,
          1,
          1,
          1,
          1,
          1,
          1,
          1,
          1
         ],
         "yaxis": "y"
        },
        {
         "alignmentgroup": "True",
         "hovertemplate": "Desc_local=TITAN<br>Fecha creacion=%{x}<br>Código vendedor=%{y}<extra></extra>",
         "legendgroup": "TITAN",
         "marker": {
          "color": "#19d3f3",
          "pattern": {
           "shape": ""
          }
         },
         "name": "TITAN",
         "offsetgroup": "TITAN",
         "orientation": "v",
         "showlegend": true,
         "textposition": "auto",
         "type": "bar",
         "x": [
          "2021-10-28T00:00:00",
          "2021-10-09T00:00:00",
          "2022-01-24T00:00:00",
          "2022-02-11T00:00:00",
          "2022-01-06T00:00:00",
          "2021-12-29T00:00:00",
          "2021-10-18T00:00:00",
          "2021-10-19T00:00:00",
          "2021-10-26T00:00:00",
          "2021-10-29T00:00:00",
          "2021-11-19T00:00:00",
          "2021-11-20T00:00:00",
          "2021-11-25T00:00:00",
          "2021-11-27T00:00:00",
          "2021-12-06T00:00:00",
          "2021-12-11T00:00:00",
          "2021-12-19T00:00:00",
          "2021-12-22T00:00:00",
          "2021-12-27T00:00:00"
         ],
         "xaxis": "x",
         "y": [
          2,
          2,
          1,
          1,
          1,
          1,
          1,
          1,
          1,
          1,
          1,
          1,
          1,
          1,
          1,
          1,
          1,
          1,
          1
         ],
         "yaxis": "y"
        },
        {
         "alignmentgroup": "True",
         "hovertemplate": "Desc_local=COLINA<br>Fecha creacion=%{x}<br>Código vendedor=%{y}<extra></extra>",
         "legendgroup": "COLINA",
         "marker": {
          "color": "#FF6692",
          "pattern": {
           "shape": ""
          }
         },
         "name": "COLINA",
         "offsetgroup": "COLINA",
         "orientation": "v",
         "showlegend": true,
         "textposition": "auto",
         "type": "bar",
         "x": [
          "2022-02-12T00:00:00",
          "2021-11-01T00:00:00",
          "2021-12-26T00:00:00",
          "2021-12-22T00:00:00",
          "2021-12-08T00:00:00",
          "2021-12-06T00:00:00",
          "2021-12-05T00:00:00",
          "2021-11-11T00:00:00",
          "2021-10-30T00:00:00",
          "2021-10-06T00:00:00",
          "2022-01-15T00:00:00",
          "2022-02-19T00:00:00"
         ],
         "xaxis": "x",
         "y": [
          2,
          1,
          1,
          1,
          1,
          1,
          1,
          1,
          1,
          1,
          1,
          1
         ],
         "yaxis": "y"
        },
        {
         "alignmentgroup": "True",
         "hovertemplate": "Desc_local=GALERIAS<br>Fecha creacion=%{x}<br>Código vendedor=%{y}<extra></extra>",
         "legendgroup": "GALERIAS",
         "marker": {
          "color": "#B6E880",
          "pattern": {
           "shape": ""
          }
         },
         "name": "GALERIAS",
         "offsetgroup": "GALERIAS",
         "orientation": "v",
         "showlegend": true,
         "textposition": "auto",
         "type": "bar",
         "x": [
          "2022-02-09T00:00:00",
          "2021-11-05T00:00:00",
          "2021-11-01T00:00:00",
          "2021-11-14T00:00:00",
          "2021-11-15T00:00:00",
          "2021-11-16T00:00:00",
          "2021-12-17T00:00:00",
          "2021-12-31T00:00:00",
          "2022-01-08T00:00:00",
          "2022-01-11T00:00:00",
          "2022-02-05T00:00:00",
          "2022-02-13T00:00:00"
         ],
         "xaxis": "x",
         "y": [
          2,
          1,
          1,
          1,
          1,
          1,
          1,
          1,
          1,
          1,
          1,
          1
         ],
         "yaxis": "y"
        },
        {
         "alignmentgroup": "True",
         "hovertemplate": "Desc_local=SUBA<br>Fecha creacion=%{x}<br>Código vendedor=%{y}<extra></extra>",
         "legendgroup": "SUBA",
         "marker": {
          "color": "#FF97FF",
          "pattern": {
           "shape": ""
          }
         },
         "name": "SUBA",
         "offsetgroup": "SUBA",
         "orientation": "v",
         "showlegend": true,
         "textposition": "auto",
         "type": "bar",
         "x": [
          "2021-12-06T00:00:00",
          "2021-10-03T00:00:00",
          "2021-10-04T00:00:00",
          "2021-10-07T00:00:00",
          "2021-10-12T00:00:00",
          "2021-10-19T00:00:00",
          "2021-10-23T00:00:00",
          "2021-10-24T00:00:00",
          "2021-10-26T00:00:00",
          "2021-10-28T00:00:00",
          "2021-11-01T00:00:00",
          "2021-11-16T00:00:00",
          "2021-12-01T00:00:00",
          "2021-12-29T00:00:00",
          "2022-01-13T00:00:00",
          "2022-02-07T00:00:00"
         ],
         "xaxis": "x",
         "y": [
          2,
          1,
          1,
          1,
          1,
          1,
          1,
          1,
          1,
          1,
          1,
          1,
          1,
          1,
          1,
          1
         ],
         "yaxis": "y"
        },
        {
         "alignmentgroup": "True",
         "hovertemplate": "Desc_local=SANTAFE MEDELLIN<br>Fecha creacion=%{x}<br>Código vendedor=%{y}<extra></extra>",
         "legendgroup": "SANTAFE MEDELLIN",
         "marker": {
          "color": "#FECB52",
          "pattern": {
           "shape": ""
          }
         },
         "name": "SANTAFE MEDELLIN",
         "offsetgroup": "SANTAFE MEDELLIN",
         "orientation": "v",
         "showlegend": true,
         "textposition": "auto",
         "type": "bar",
         "x": [
          "2022-01-10T00:00:00",
          "2021-10-10T00:00:00",
          "2021-10-13T00:00:00",
          "2021-11-09T00:00:00",
          "2021-11-19T00:00:00",
          "2021-11-27T00:00:00",
          "2021-11-30T00:00:00",
          "2021-12-03T00:00:00",
          "2021-12-16T00:00:00",
          "2021-12-22T00:00:00",
          "2021-12-26T00:00:00",
          "2021-12-27T00:00:00",
          "2021-12-29T00:00:00",
          "2022-01-05T00:00:00",
          "2022-01-08T00:00:00",
          "2022-01-25T00:00:00",
          "2022-02-02T00:00:00"
         ],
         "xaxis": "x",
         "y": [
          2,
          1,
          1,
          1,
          1,
          1,
          1,
          1,
          1,
          1,
          1,
          1,
          1,
          1,
          1,
          1,
          1
         ],
         "yaxis": "y"
        },
        {
         "alignmentgroup": "True",
         "hovertemplate": "Desc_local=SAN DIEGO<br>Fecha creacion=%{x}<br>Código vendedor=%{y}<extra></extra>",
         "legendgroup": "SAN DIEGO",
         "marker": {
          "color": "#636efa",
          "pattern": {
           "shape": ""
          }
         },
         "name": "SAN DIEGO",
         "offsetgroup": "SAN DIEGO",
         "orientation": "v",
         "showlegend": true,
         "textposition": "auto",
         "type": "bar",
         "x": [
          "2021-12-29T00:00:00",
          "2021-10-23T00:00:00",
          "2021-12-22T00:00:00",
          "2022-01-10T00:00:00",
          "2021-12-11T00:00:00",
          "2022-01-13T00:00:00",
          "2022-02-06T00:00:00",
          "2022-02-11T00:00:00",
          "2022-02-17T00:00:00",
          "2021-12-14T00:00:00",
          "2021-11-26T00:00:00",
          "2021-11-20T00:00:00",
          "2021-10-29T00:00:00",
          "2021-10-27T00:00:00"
         ],
         "xaxis": "x",
         "y": [
          2,
          1,
          1,
          1,
          1,
          1,
          1,
          1,
          1,
          1,
          1,
          1,
          1,
          1
         ],
         "yaxis": "y"
        },
        {
         "alignmentgroup": "True",
         "hovertemplate": "Desc_local=FONTANAR<br>Fecha creacion=%{x}<br>Código vendedor=%{y}<extra></extra>",
         "legendgroup": "FONTANAR",
         "marker": {
          "color": "#EF553B",
          "pattern": {
           "shape": ""
          }
         },
         "name": "FONTANAR",
         "offsetgroup": "FONTANAR",
         "orientation": "v",
         "showlegend": true,
         "textposition": "auto",
         "type": "bar",
         "x": [
          "2021-12-18T00:00:00",
          "2021-10-19T00:00:00",
          "2021-10-25T00:00:00",
          "2021-11-03T00:00:00",
          "2021-11-18T00:00:00",
          "2021-11-19T00:00:00",
          "2021-12-11T00:00:00",
          "2021-12-22T00:00:00",
          "2021-12-26T00:00:00",
          "2021-12-27T00:00:00",
          "2021-12-31T00:00:00",
          "2022-01-04T00:00:00",
          "2022-01-06T00:00:00",
          "2022-01-13T00:00:00",
          "2022-01-25T00:00:00",
          "2022-02-09T00:00:00"
         ],
         "xaxis": "x",
         "y": [
          2,
          1,
          1,
          1,
          1,
          1,
          1,
          1,
          1,
          1,
          1,
          1,
          1,
          1,
          1,
          1
         ],
         "yaxis": "y"
        },
        {
         "alignmentgroup": "True",
         "hovertemplate": "Desc_local=WTC CALI<br>Fecha creacion=%{x}<br>Código vendedor=%{y}<extra></extra>",
         "legendgroup": "WTC CALI",
         "marker": {
          "color": "#00cc96",
          "pattern": {
           "shape": ""
          }
         },
         "name": "WTC CALI",
         "offsetgroup": "WTC CALI",
         "orientation": "v",
         "showlegend": true,
         "textposition": "auto",
         "type": "bar",
         "x": [
          "2021-10-16T00:00:00",
          "2021-10-26T00:00:00",
          "2021-10-28T00:00:00",
          "2021-11-18T00:00:00",
          "2021-12-19T00:00:00",
          "2021-12-21T00:00:00",
          "2021-12-28T00:00:00",
          "2021-12-31T00:00:00",
          "2022-01-06T00:00:00"
         ],
         "xaxis": "x",
         "y": [
          2,
          1,
          1,
          1,
          1,
          1,
          1,
          1,
          1
         ],
         "yaxis": "y"
        },
        {
         "alignmentgroup": "True",
         "hovertemplate": "Desc_local=PRIMAVERA<br>Fecha creacion=%{x}<br>Código vendedor=%{y}<extra></extra>",
         "legendgroup": "PRIMAVERA",
         "marker": {
          "color": "#ab63fa",
          "pattern": {
           "shape": ""
          }
         },
         "name": "PRIMAVERA",
         "offsetgroup": "PRIMAVERA",
         "orientation": "v",
         "showlegend": true,
         "textposition": "auto",
         "type": "bar",
         "x": [
          "2022-01-14T00:00:00",
          "2021-12-24T00:00:00",
          "2021-12-18T00:00:00"
         ],
         "xaxis": "x",
         "y": [
          1,
          1,
          1
         ],
         "yaxis": "y"
        },
        {
         "alignmentgroup": "True",
         "hovertemplate": "Desc_local=ACQUA<br>Fecha creacion=%{x}<br>Código vendedor=%{y}<extra></extra>",
         "legendgroup": "ACQUA",
         "marker": {
          "color": "#FFA15A",
          "pattern": {
           "shape": ""
          }
         },
         "name": "ACQUA",
         "offsetgroup": "ACQUA",
         "orientation": "v",
         "showlegend": true,
         "textposition": "auto",
         "type": "bar",
         "x": [
          "2021-10-04T00:00:00",
          "2021-11-27T00:00:00",
          "2021-11-30T00:00:00",
          "2021-12-21T00:00:00",
          "2021-12-27T00:00:00",
          "2021-12-29T00:00:00",
          "2021-12-30T00:00:00",
          "2022-01-23T00:00:00",
          "2022-02-03T00:00:00",
          "2022-02-15T00:00:00",
          "2021-10-20T00:00:00"
         ],
         "xaxis": "x",
         "y": [
          1,
          1,
          1,
          1,
          1,
          1,
          1,
          1,
          1,
          1,
          1
         ],
         "yaxis": "y"
        },
        {
         "alignmentgroup": "True",
         "hovertemplate": "Desc_local=VILLA COUNTRY<br>Fecha creacion=%{x}<br>Código vendedor=%{y}<extra></extra>",
         "legendgroup": "VILLA COUNTRY",
         "marker": {
          "color": "#19d3f3",
          "pattern": {
           "shape": ""
          }
         },
         "name": "VILLA COUNTRY",
         "offsetgroup": "VILLA COUNTRY",
         "orientation": "v",
         "showlegend": true,
         "textposition": "auto",
         "type": "bar",
         "x": [
          "2021-10-01T00:00:00",
          "2021-11-18T00:00:00",
          "2021-12-02T00:00:00"
         ],
         "xaxis": "x",
         "y": [
          1,
          1,
          1
         ],
         "yaxis": "y"
        },
        {
         "alignmentgroup": "True",
         "hovertemplate": "Desc_local=PARQUE ARBOLEDA<br>Fecha creacion=%{x}<br>Código vendedor=%{y}<extra></extra>",
         "legendgroup": "PARQUE ARBOLEDA",
         "marker": {
          "color": "#FF6692",
          "pattern": {
           "shape": ""
          }
         },
         "name": "PARQUE ARBOLEDA",
         "offsetgroup": "PARQUE ARBOLEDA",
         "orientation": "v",
         "showlegend": true,
         "textposition": "auto",
         "type": "bar",
         "x": [
          "2021-12-24T00:00:00",
          "2021-11-01T00:00:00",
          "2021-11-08T00:00:00",
          "2021-12-11T00:00:00",
          "2021-12-14T00:00:00",
          "2021-12-19T00:00:00",
          "2021-12-30T00:00:00"
         ],
         "xaxis": "x",
         "y": [
          1,
          1,
          1,
          1,
          1,
          1,
          1
         ],
         "yaxis": "y"
        },
        {
         "alignmentgroup": "True",
         "hovertemplate": "Desc_local=CENTRO MAYOR<br>Fecha creacion=%{x}<br>Código vendedor=%{y}<extra></extra>",
         "legendgroup": "CENTRO MAYOR",
         "marker": {
          "color": "#B6E880",
          "pattern": {
           "shape": ""
          }
         },
         "name": "CENTRO MAYOR",
         "offsetgroup": "CENTRO MAYOR",
         "orientation": "v",
         "showlegend": true,
         "textposition": "auto",
         "type": "bar",
         "x": [
          "2022-02-12T00:00:00",
          "2022-02-06T00:00:00",
          "2022-01-16T00:00:00",
          "2022-01-05T00:00:00",
          "2021-12-31T00:00:00",
          "2021-12-27T00:00:00",
          "2021-12-26T00:00:00",
          "2021-12-22T00:00:00",
          "2021-12-08T00:00:00",
          "2021-10-17T00:00:00",
          "2021-10-25T00:00:00"
         ],
         "xaxis": "x",
         "y": [
          1,
          1,
          1,
          1,
          1,
          1,
          1,
          1,
          1,
          1,
          1
         ],
         "yaxis": "y"
        },
        {
         "alignmentgroup": "True",
         "hovertemplate": "Desc_local=DIVER PLAZA<br>Fecha creacion=%{x}<br>Código vendedor=%{y}<extra></extra>",
         "legendgroup": "DIVER PLAZA",
         "marker": {
          "color": "#FF97FF",
          "pattern": {
           "shape": ""
          }
         },
         "name": "DIVER PLAZA",
         "offsetgroup": "DIVER PLAZA",
         "orientation": "v",
         "showlegend": true,
         "textposition": "auto",
         "type": "bar",
         "x": [
          "2021-10-04T00:00:00",
          "2021-10-16T00:00:00",
          "2021-10-17T00:00:00",
          "2021-10-22T00:00:00",
          "2021-11-08T00:00:00",
          "2021-11-25T00:00:00",
          "2021-12-09T00:00:00",
          "2022-01-05T00:00:00",
          "2022-01-16T00:00:00",
          "2022-02-01T00:00:00"
         ],
         "xaxis": "x",
         "y": [
          1,
          1,
          1,
          1,
          1,
          1,
          1,
          1,
          1,
          1
         ],
         "yaxis": "y"
        },
        {
         "alignmentgroup": "True",
         "hovertemplate": "Desc_local=EL CASTILLO<br>Fecha creacion=%{x}<br>Código vendedor=%{y}<extra></extra>",
         "legendgroup": "EL CASTILLO",
         "marker": {
          "color": "#FECB52",
          "pattern": {
           "shape": ""
          }
         },
         "name": "EL CASTILLO",
         "offsetgroup": "EL CASTILLO",
         "orientation": "v",
         "showlegend": true,
         "textposition": "auto",
         "type": "bar",
         "x": [
          "2021-11-12T00:00:00",
          "2021-11-19T00:00:00",
          "2021-11-30T00:00:00",
          "2021-12-17T00:00:00",
          "2021-12-26T00:00:00",
          "2022-01-26T00:00:00",
          "2022-02-20T00:00:00"
         ],
         "xaxis": "x",
         "y": [
          1,
          1,
          1,
          1,
          1,
          1,
          1
         ],
         "yaxis": "y"
        },
        {
         "alignmentgroup": "True",
         "hovertemplate": "Desc_local=BUENAVISTA<br>Fecha creacion=%{x}<br>Código vendedor=%{y}<extra></extra>",
         "legendgroup": "BUENAVISTA",
         "marker": {
          "color": "#636efa",
          "pattern": {
           "shape": ""
          }
         },
         "name": "BUENAVISTA",
         "offsetgroup": "BUENAVISTA",
         "orientation": "v",
         "showlegend": true,
         "textposition": "auto",
         "type": "bar",
         "x": [
          "2021-10-18T00:00:00",
          "2021-12-28T00:00:00",
          "2022-02-04T00:00:00"
         ],
         "xaxis": "x",
         "y": [
          1,
          1,
          1
         ],
         "yaxis": "y"
        },
        {
         "alignmentgroup": "True",
         "hovertemplate": "Desc_local=ARKADIA<br>Fecha creacion=%{x}<br>Código vendedor=%{y}<extra></extra>",
         "legendgroup": "ARKADIA",
         "marker": {
          "color": "#EF553B",
          "pattern": {
           "shape": ""
          }
         },
         "name": "ARKADIA",
         "offsetgroup": "ARKADIA",
         "orientation": "v",
         "showlegend": true,
         "textposition": "auto",
         "type": "bar",
         "x": [
          "2021-12-07T00:00:00",
          "2021-12-17T00:00:00",
          "2021-12-21T00:00:00",
          "2021-12-23T00:00:00",
          "2022-01-28T00:00:00"
         ],
         "xaxis": "x",
         "y": [
          1,
          1,
          1,
          1,
          1
         ],
         "yaxis": "y"
        },
        {
         "alignmentgroup": "True",
         "hovertemplate": "Desc_local=CACIQUE<br>Fecha creacion=%{x}<br>Código vendedor=%{y}<extra></extra>",
         "legendgroup": "CACIQUE",
         "marker": {
          "color": "#00cc96",
          "pattern": {
           "shape": ""
          }
         },
         "name": "CACIQUE",
         "offsetgroup": "CACIQUE",
         "orientation": "v",
         "showlegend": true,
         "textposition": "auto",
         "type": "bar",
         "x": [
          "2021-11-17T00:00:00",
          "2021-12-10T00:00:00",
          "2021-12-18T00:00:00",
          "2021-12-26T00:00:00",
          "2022-01-03T00:00:00",
          "2022-01-15T00:00:00",
          "2022-01-28T00:00:00",
          "2022-02-18T00:00:00"
         ],
         "xaxis": "x",
         "y": [
          1,
          1,
          1,
          1,
          1,
          1,
          1,
          1
         ],
         "yaxis": "y"
        },
        {
         "alignmentgroup": "True",
         "hovertemplate": "Desc_local=CARACOLI<br>Fecha creacion=%{x}<br>Código vendedor=%{y}<extra></extra>",
         "legendgroup": "CARACOLI",
         "marker": {
          "color": "#ab63fa",
          "pattern": {
           "shape": ""
          }
         },
         "name": "CARACOLI",
         "offsetgroup": "CARACOLI",
         "orientation": "v",
         "showlegend": true,
         "textposition": "auto",
         "type": "bar",
         "x": [
          "2021-11-15T00:00:00",
          "2022-01-18T00:00:00",
          "2022-01-26T00:00:00"
         ],
         "xaxis": "x",
         "y": [
          1,
          1,
          1
         ],
         "yaxis": "y"
        },
        {
         "alignmentgroup": "True",
         "hovertemplate": "Desc_local=LA FELICIDAD<br>Fecha creacion=%{x}<br>Código vendedor=%{y}<extra></extra>",
         "legendgroup": "LA FELICIDAD",
         "marker": {
          "color": "#FFA15A",
          "pattern": {
           "shape": ""
          }
         },
         "name": "LA FELICIDAD",
         "offsetgroup": "LA FELICIDAD",
         "orientation": "v",
         "showlegend": true,
         "textposition": "auto",
         "type": "bar",
         "x": [
          "2021-11-28T00:00:00",
          "2021-10-12T00:00:00",
          "2021-10-17T00:00:00",
          "2021-11-03T00:00:00",
          "2021-11-20T00:00:00",
          "2021-11-29T00:00:00",
          "2021-12-23T00:00:00",
          "2021-12-24T00:00:00",
          "2022-01-04T00:00:00",
          "2022-01-11T00:00:00",
          "2022-01-13T00:00:00",
          "2022-01-30T00:00:00",
          "2022-02-08T00:00:00"
         ],
         "xaxis": "x",
         "y": [
          1,
          1,
          1,
          1,
          1,
          1,
          1,
          1,
          1,
          1,
          1,
          1,
          1
         ],
         "yaxis": "y"
        },
        {
         "alignmentgroup": "True",
         "hovertemplate": "Desc_local=JARDIN PLAZA<br>Fecha creacion=%{x}<br>Código vendedor=%{y}<extra></extra>",
         "legendgroup": "JARDIN PLAZA",
         "marker": {
          "color": "#19d3f3",
          "pattern": {
           "shape": ""
          }
         },
         "name": "JARDIN PLAZA",
         "offsetgroup": "JARDIN PLAZA",
         "orientation": "v",
         "showlegend": true,
         "textposition": "auto",
         "type": "bar",
         "x": [
          "2021-10-09T00:00:00",
          "2021-10-28T00:00:00",
          "2021-12-02T00:00:00",
          "2021-12-14T00:00:00",
          "2021-12-31T00:00:00",
          "2022-01-17T00:00:00"
         ],
         "xaxis": "x",
         "y": [
          1,
          1,
          1,
          1,
          1,
          1
         ],
         "yaxis": "y"
        }
       ],
       "layout": {
        "barmode": "relative",
        "legend": {
         "title": {
          "text": "Desc_local"
         },
         "tracegroupgap": 0
        },
        "template": {
         "data": {
          "bar": [
           {
            "error_x": {
             "color": "#2a3f5f"
            },
            "error_y": {
             "color": "#2a3f5f"
            },
            "marker": {
             "line": {
              "color": "#E5ECF6",
              "width": 0.5
             },
             "pattern": {
              "fillmode": "overlay",
              "size": 10,
              "solidity": 0.2
             }
            },
            "type": "bar"
           }
          ],
          "barpolar": [
           {
            "marker": {
             "line": {
              "color": "#E5ECF6",
              "width": 0.5
             },
             "pattern": {
              "fillmode": "overlay",
              "size": 10,
              "solidity": 0.2
             }
            },
            "type": "barpolar"
           }
          ],
          "carpet": [
           {
            "aaxis": {
             "endlinecolor": "#2a3f5f",
             "gridcolor": "white",
             "linecolor": "white",
             "minorgridcolor": "white",
             "startlinecolor": "#2a3f5f"
            },
            "baxis": {
             "endlinecolor": "#2a3f5f",
             "gridcolor": "white",
             "linecolor": "white",
             "minorgridcolor": "white",
             "startlinecolor": "#2a3f5f"
            },
            "type": "carpet"
           }
          ],
          "choropleth": [
           {
            "colorbar": {
             "outlinewidth": 0,
             "ticks": ""
            },
            "type": "choropleth"
           }
          ],
          "contour": [
           {
            "colorbar": {
             "outlinewidth": 0,
             "ticks": ""
            },
            "colorscale": [
             [
              0,
              "#0d0887"
             ],
             [
              0.1111111111111111,
              "#46039f"
             ],
             [
              0.2222222222222222,
              "#7201a8"
             ],
             [
              0.3333333333333333,
              "#9c179e"
             ],
             [
              0.4444444444444444,
              "#bd3786"
             ],
             [
              0.5555555555555556,
              "#d8576b"
             ],
             [
              0.6666666666666666,
              "#ed7953"
             ],
             [
              0.7777777777777778,
              "#fb9f3a"
             ],
             [
              0.8888888888888888,
              "#fdca26"
             ],
             [
              1,
              "#f0f921"
             ]
            ],
            "type": "contour"
           }
          ],
          "contourcarpet": [
           {
            "colorbar": {
             "outlinewidth": 0,
             "ticks": ""
            },
            "type": "contourcarpet"
           }
          ],
          "heatmap": [
           {
            "colorbar": {
             "outlinewidth": 0,
             "ticks": ""
            },
            "colorscale": [
             [
              0,
              "#0d0887"
             ],
             [
              0.1111111111111111,
              "#46039f"
             ],
             [
              0.2222222222222222,
              "#7201a8"
             ],
             [
              0.3333333333333333,
              "#9c179e"
             ],
             [
              0.4444444444444444,
              "#bd3786"
             ],
             [
              0.5555555555555556,
              "#d8576b"
             ],
             [
              0.6666666666666666,
              "#ed7953"
             ],
             [
              0.7777777777777778,
              "#fb9f3a"
             ],
             [
              0.8888888888888888,
              "#fdca26"
             ],
             [
              1,
              "#f0f921"
             ]
            ],
            "type": "heatmap"
           }
          ],
          "heatmapgl": [
           {
            "colorbar": {
             "outlinewidth": 0,
             "ticks": ""
            },
            "colorscale": [
             [
              0,
              "#0d0887"
             ],
             [
              0.1111111111111111,
              "#46039f"
             ],
             [
              0.2222222222222222,
              "#7201a8"
             ],
             [
              0.3333333333333333,
              "#9c179e"
             ],
             [
              0.4444444444444444,
              "#bd3786"
             ],
             [
              0.5555555555555556,
              "#d8576b"
             ],
             [
              0.6666666666666666,
              "#ed7953"
             ],
             [
              0.7777777777777778,
              "#fb9f3a"
             ],
             [
              0.8888888888888888,
              "#fdca26"
             ],
             [
              1,
              "#f0f921"
             ]
            ],
            "type": "heatmapgl"
           }
          ],
          "histogram": [
           {
            "marker": {
             "pattern": {
              "fillmode": "overlay",
              "size": 10,
              "solidity": 0.2
             }
            },
            "type": "histogram"
           }
          ],
          "histogram2d": [
           {
            "colorbar": {
             "outlinewidth": 0,
             "ticks": ""
            },
            "colorscale": [
             [
              0,
              "#0d0887"
             ],
             [
              0.1111111111111111,
              "#46039f"
             ],
             [
              0.2222222222222222,
              "#7201a8"
             ],
             [
              0.3333333333333333,
              "#9c179e"
             ],
             [
              0.4444444444444444,
              "#bd3786"
             ],
             [
              0.5555555555555556,
              "#d8576b"
             ],
             [
              0.6666666666666666,
              "#ed7953"
             ],
             [
              0.7777777777777778,
              "#fb9f3a"
             ],
             [
              0.8888888888888888,
              "#fdca26"
             ],
             [
              1,
              "#f0f921"
             ]
            ],
            "type": "histogram2d"
           }
          ],
          "histogram2dcontour": [
           {
            "colorbar": {
             "outlinewidth": 0,
             "ticks": ""
            },
            "colorscale": [
             [
              0,
              "#0d0887"
             ],
             [
              0.1111111111111111,
              "#46039f"
             ],
             [
              0.2222222222222222,
              "#7201a8"
             ],
             [
              0.3333333333333333,
              "#9c179e"
             ],
             [
              0.4444444444444444,
              "#bd3786"
             ],
             [
              0.5555555555555556,
              "#d8576b"
             ],
             [
              0.6666666666666666,
              "#ed7953"
             ],
             [
              0.7777777777777778,
              "#fb9f3a"
             ],
             [
              0.8888888888888888,
              "#fdca26"
             ],
             [
              1,
              "#f0f921"
             ]
            ],
            "type": "histogram2dcontour"
           }
          ],
          "mesh3d": [
           {
            "colorbar": {
             "outlinewidth": 0,
             "ticks": ""
            },
            "type": "mesh3d"
           }
          ],
          "parcoords": [
           {
            "line": {
             "colorbar": {
              "outlinewidth": 0,
              "ticks": ""
             }
            },
            "type": "parcoords"
           }
          ],
          "pie": [
           {
            "automargin": true,
            "type": "pie"
           }
          ],
          "scatter": [
           {
            "marker": {
             "colorbar": {
              "outlinewidth": 0,
              "ticks": ""
             }
            },
            "type": "scatter"
           }
          ],
          "scatter3d": [
           {
            "line": {
             "colorbar": {
              "outlinewidth": 0,
              "ticks": ""
             }
            },
            "marker": {
             "colorbar": {
              "outlinewidth": 0,
              "ticks": ""
             }
            },
            "type": "scatter3d"
           }
          ],
          "scattercarpet": [
           {
            "marker": {
             "colorbar": {
              "outlinewidth": 0,
              "ticks": ""
             }
            },
            "type": "scattercarpet"
           }
          ],
          "scattergeo": [
           {
            "marker": {
             "colorbar": {
              "outlinewidth": 0,
              "ticks": ""
             }
            },
            "type": "scattergeo"
           }
          ],
          "scattergl": [
           {
            "marker": {
             "colorbar": {
              "outlinewidth": 0,
              "ticks": ""
             }
            },
            "type": "scattergl"
           }
          ],
          "scattermapbox": [
           {
            "marker": {
             "colorbar": {
              "outlinewidth": 0,
              "ticks": ""
             }
            },
            "type": "scattermapbox"
           }
          ],
          "scatterpolar": [
           {
            "marker": {
             "colorbar": {
              "outlinewidth": 0,
              "ticks": ""
             }
            },
            "type": "scatterpolar"
           }
          ],
          "scatterpolargl": [
           {
            "marker": {
             "colorbar": {
              "outlinewidth": 0,
              "ticks": ""
             }
            },
            "type": "scatterpolargl"
           }
          ],
          "scatterternary": [
           {
            "marker": {
             "colorbar": {
              "outlinewidth": 0,
              "ticks": ""
             }
            },
            "type": "scatterternary"
           }
          ],
          "surface": [
           {
            "colorbar": {
             "outlinewidth": 0,
             "ticks": ""
            },
            "colorscale": [
             [
              0,
              "#0d0887"
             ],
             [
              0.1111111111111111,
              "#46039f"
             ],
             [
              0.2222222222222222,
              "#7201a8"
             ],
             [
              0.3333333333333333,
              "#9c179e"
             ],
             [
              0.4444444444444444,
              "#bd3786"
             ],
             [
              0.5555555555555556,
              "#d8576b"
             ],
             [
              0.6666666666666666,
              "#ed7953"
             ],
             [
              0.7777777777777778,
              "#fb9f3a"
             ],
             [
              0.8888888888888888,
              "#fdca26"
             ],
             [
              1,
              "#f0f921"
             ]
            ],
            "type": "surface"
           }
          ],
          "table": [
           {
            "cells": {
             "fill": {
              "color": "#EBF0F8"
             },
             "line": {
              "color": "white"
             }
            },
            "header": {
             "fill": {
              "color": "#C8D4E3"
             },
             "line": {
              "color": "white"
             }
            },
            "type": "table"
           }
          ]
         },
         "layout": {
          "annotationdefaults": {
           "arrowcolor": "#2a3f5f",
           "arrowhead": 0,
           "arrowwidth": 1
          },
          "autotypenumbers": "strict",
          "coloraxis": {
           "colorbar": {
            "outlinewidth": 0,
            "ticks": ""
           }
          },
          "colorscale": {
           "diverging": [
            [
             0,
             "#8e0152"
            ],
            [
             0.1,
             "#c51b7d"
            ],
            [
             0.2,
             "#de77ae"
            ],
            [
             0.3,
             "#f1b6da"
            ],
            [
             0.4,
             "#fde0ef"
            ],
            [
             0.5,
             "#f7f7f7"
            ],
            [
             0.6,
             "#e6f5d0"
            ],
            [
             0.7,
             "#b8e186"
            ],
            [
             0.8,
             "#7fbc41"
            ],
            [
             0.9,
             "#4d9221"
            ],
            [
             1,
             "#276419"
            ]
           ],
           "sequential": [
            [
             0,
             "#0d0887"
            ],
            [
             0.1111111111111111,
             "#46039f"
            ],
            [
             0.2222222222222222,
             "#7201a8"
            ],
            [
             0.3333333333333333,
             "#9c179e"
            ],
            [
             0.4444444444444444,
             "#bd3786"
            ],
            [
             0.5555555555555556,
             "#d8576b"
            ],
            [
             0.6666666666666666,
             "#ed7953"
            ],
            [
             0.7777777777777778,
             "#fb9f3a"
            ],
            [
             0.8888888888888888,
             "#fdca26"
            ],
            [
             1,
             "#f0f921"
            ]
           ],
           "sequentialminus": [
            [
             0,
             "#0d0887"
            ],
            [
             0.1111111111111111,
             "#46039f"
            ],
            [
             0.2222222222222222,
             "#7201a8"
            ],
            [
             0.3333333333333333,
             "#9c179e"
            ],
            [
             0.4444444444444444,
             "#bd3786"
            ],
            [
             0.5555555555555556,
             "#d8576b"
            ],
            [
             0.6666666666666666,
             "#ed7953"
            ],
            [
             0.7777777777777778,
             "#fb9f3a"
            ],
            [
             0.8888888888888888,
             "#fdca26"
            ],
            [
             1,
             "#f0f921"
            ]
           ]
          },
          "colorway": [
           "#636efa",
           "#EF553B",
           "#00cc96",
           "#ab63fa",
           "#FFA15A",
           "#19d3f3",
           "#FF6692",
           "#B6E880",
           "#FF97FF",
           "#FECB52"
          ],
          "font": {
           "color": "#2a3f5f"
          },
          "geo": {
           "bgcolor": "white",
           "lakecolor": "white",
           "landcolor": "#E5ECF6",
           "showlakes": true,
           "showland": true,
           "subunitcolor": "white"
          },
          "hoverlabel": {
           "align": "left"
          },
          "hovermode": "closest",
          "mapbox": {
           "style": "light"
          },
          "paper_bgcolor": "white",
          "plot_bgcolor": "#E5ECF6",
          "polar": {
           "angularaxis": {
            "gridcolor": "white",
            "linecolor": "white",
            "ticks": ""
           },
           "bgcolor": "#E5ECF6",
           "radialaxis": {
            "gridcolor": "white",
            "linecolor": "white",
            "ticks": ""
           }
          },
          "scene": {
           "xaxis": {
            "backgroundcolor": "#E5ECF6",
            "gridcolor": "white",
            "gridwidth": 2,
            "linecolor": "white",
            "showbackground": true,
            "ticks": "",
            "zerolinecolor": "white"
           },
           "yaxis": {
            "backgroundcolor": "#E5ECF6",
            "gridcolor": "white",
            "gridwidth": 2,
            "linecolor": "white",
            "showbackground": true,
            "ticks": "",
            "zerolinecolor": "white"
           },
           "zaxis": {
            "backgroundcolor": "#E5ECF6",
            "gridcolor": "white",
            "gridwidth": 2,
            "linecolor": "white",
            "showbackground": true,
            "ticks": "",
            "zerolinecolor": "white"
           }
          },
          "shapedefaults": {
           "line": {
            "color": "#2a3f5f"
           }
          },
          "ternary": {
           "aaxis": {
            "gridcolor": "white",
            "linecolor": "white",
            "ticks": ""
           },
           "baxis": {
            "gridcolor": "white",
            "linecolor": "white",
            "ticks": ""
           },
           "bgcolor": "#E5ECF6",
           "caxis": {
            "gridcolor": "white",
            "linecolor": "white",
            "ticks": ""
           }
          },
          "title": {
           "x": 0.05
          },
          "xaxis": {
           "automargin": true,
           "gridcolor": "white",
           "linecolor": "white",
           "ticks": "",
           "title": {
            "standoff": 15
           },
           "zerolinecolor": "white",
           "zerolinewidth": 2
          },
          "yaxis": {
           "automargin": true,
           "gridcolor": "white",
           "linecolor": "white",
           "ticks": "",
           "title": {
            "standoff": 15
           },
           "zerolinecolor": "white",
           "zerolinewidth": 2
          }
         }
        },
        "title": {
         "text": "Creación de NCs numero de cedula : 0"
        },
        "xaxis": {
         "anchor": "y",
         "domain": [
          0,
          1
         ],
         "title": {
          "text": "Fecha creacion"
         }
        },
        "yaxis": {
         "anchor": "x",
         "domain": [
          0,
          1
         ],
         "title": {
          "text": "Código vendedor"
         }
        }
       }
      }
     },
     "metadata": {},
     "output_type": "display_data"
    }
   ],
   "source": [
    "ced_0= df_con_ep.loc[df_con_ep.Nrutcomprador == \"0\" ] \n",
    "ced_0 = ced_0.groupby([\"Desc_local\",\"Dcompra_nvo\"])[\"Cvendedor\"].nunique().sort_values(ascending=False).reset_index()\n",
    "graf_ced_0 = px.bar(ced_0, x=\"Dcompra_nvo\", y=\"Cvendedor\", color=\"Desc_local\",title=\"Creación de NCs numero de cedula : 0\", labels={\"Dcompra_nvo\":\"Fecha creacion\",\"Cvendedor\":\"Código vendedor\"})\n",
    "graf_ced_0.show()"
   ]
  },
  {
   "cell_type": "code",
   "execution_count": 51,
   "metadata": {},
   "outputs": [
    {
     "data": {
      "application/vnd.plotly.v1+json": {
       "config": {
        "plotlyServerURL": "https://plot.ly"
       },
       "data": [
        {
         "alignmentgroup": "True",
         "hovertemplate": "Desc_local=CARACOLI<br>Fecha creacion=%{x}<br>Código vendedor=%{y}<extra></extra>",
         "legendgroup": "CARACOLI",
         "marker": {
          "color": "#636efa",
          "pattern": {
           "shape": ""
          }
         },
         "name": "CARACOLI",
         "offsetgroup": "CARACOLI",
         "orientation": "v",
         "showlegend": true,
         "textposition": "auto",
         "type": "bar",
         "x": [
          "2022-02-04T00:00:00",
          "2021-10-29T00:00:00",
          "2022-01-08T00:00:00",
          "2021-12-03T00:00:00",
          "2021-12-11T00:00:00",
          "2021-12-24T00:00:00",
          "2022-01-05T00:00:00",
          "2022-01-18T00:00:00",
          "2021-12-02T00:00:00",
          "2021-11-28T00:00:00",
          "2021-11-19T00:00:00",
          "2021-10-27T00:00:00",
          "2021-10-25T00:00:00",
          "2021-10-01T00:00:00"
         ],
         "xaxis": "x",
         "y": [
          4,
          2,
          2,
          1,
          1,
          1,
          1,
          1,
          1,
          1,
          1,
          1,
          1,
          1
         ],
         "yaxis": "y"
        },
        {
         "alignmentgroup": "True",
         "hovertemplate": "Desc_local=COLINA<br>Fecha creacion=%{x}<br>Código vendedor=%{y}<extra></extra>",
         "legendgroup": "COLINA",
         "marker": {
          "color": "#EF553B",
          "pattern": {
           "shape": ""
          }
         },
         "name": "COLINA",
         "offsetgroup": "COLINA",
         "orientation": "v",
         "showlegend": true,
         "textposition": "auto",
         "type": "bar",
         "x": [
          "2022-01-05T00:00:00",
          "2021-11-03T00:00:00",
          "2021-11-19T00:00:00",
          "2021-10-02T00:00:00",
          "2021-10-15T00:00:00",
          "2021-10-17T00:00:00",
          "2021-10-25T00:00:00",
          "2021-10-28T00:00:00",
          "2021-11-26T00:00:00",
          "2021-12-06T00:00:00",
          "2022-02-20T00:00:00",
          "2022-02-04T00:00:00",
          "2022-01-21T00:00:00",
          "2022-01-10T00:00:00",
          "2022-01-02T00:00:00",
          "2021-12-28T00:00:00",
          "2021-12-26T00:00:00",
          "2021-12-16T00:00:00"
         ],
         "xaxis": "x",
         "y": [
          4,
          2,
          1,
          1,
          1,
          1,
          1,
          1,
          1,
          1,
          1,
          1,
          1,
          1,
          1,
          1,
          1,
          1
         ],
         "yaxis": "y"
        },
        {
         "alignmentgroup": "True",
         "hovertemplate": "Desc_local=DIVER PLAZA<br>Fecha creacion=%{x}<br>Código vendedor=%{y}<extra></extra>",
         "legendgroup": "DIVER PLAZA",
         "marker": {
          "color": "#00cc96",
          "pattern": {
           "shape": ""
          }
         },
         "name": "DIVER PLAZA",
         "offsetgroup": "DIVER PLAZA",
         "orientation": "v",
         "showlegend": true,
         "textposition": "auto",
         "type": "bar",
         "x": [
          "2021-11-05T00:00:00",
          "2021-12-31T00:00:00",
          "2021-12-08T00:00:00",
          "2021-10-16T00:00:00"
         ],
         "xaxis": "x",
         "y": [
          3,
          1,
          1,
          1
         ],
         "yaxis": "y"
        },
        {
         "alignmentgroup": "True",
         "hovertemplate": "Desc_local=GALERIAS<br>Fecha creacion=%{x}<br>Código vendedor=%{y}<extra></extra>",
         "legendgroup": "GALERIAS",
         "marker": {
          "color": "#ab63fa",
          "pattern": {
           "shape": ""
          }
         },
         "name": "GALERIAS",
         "offsetgroup": "GALERIAS",
         "orientation": "v",
         "showlegend": true,
         "textposition": "auto",
         "type": "bar",
         "x": [
          "2021-11-26T00:00:00",
          "2021-10-10T00:00:00",
          "2021-10-02T00:00:00",
          "2021-10-07T00:00:00",
          "2021-11-30T00:00:00",
          "2021-12-01T00:00:00",
          "2021-12-14T00:00:00",
          "2022-01-09T00:00:00",
          "2022-02-04T00:00:00"
         ],
         "xaxis": "x",
         "y": [
          2,
          1,
          1,
          1,
          1,
          1,
          1,
          1,
          1
         ],
         "yaxis": "y"
        },
        {
         "alignmentgroup": "True",
         "hovertemplate": "Desc_local=JARDIN PLAZA<br>Fecha creacion=%{x}<br>Código vendedor=%{y}<extra></extra>",
         "legendgroup": "JARDIN PLAZA",
         "marker": {
          "color": "#FFA15A",
          "pattern": {
           "shape": ""
          }
         },
         "name": "JARDIN PLAZA",
         "offsetgroup": "JARDIN PLAZA",
         "orientation": "v",
         "showlegend": true,
         "textposition": "auto",
         "type": "bar",
         "x": [
          "2021-11-20T00:00:00",
          "2022-02-19T00:00:00",
          "2021-10-22T00:00:00",
          "2021-10-27T00:00:00",
          "2021-11-06T00:00:00",
          "2021-11-14T00:00:00",
          "2021-11-18T00:00:00",
          "2021-12-04T00:00:00",
          "2021-12-05T00:00:00",
          "2021-12-15T00:00:00",
          "2021-12-17T00:00:00",
          "2021-12-22T00:00:00",
          "2021-12-27T00:00:00",
          "2021-12-28T00:00:00",
          "2022-01-07T00:00:00",
          "2022-01-24T00:00:00",
          "2021-10-11T00:00:00",
          "2021-10-16T00:00:00",
          "2021-10-09T00:00:00",
          "2021-10-03T00:00:00",
          "2021-10-02T00:00:00"
         ],
         "xaxis": "x",
         "y": [
          2,
          1,
          1,
          1,
          1,
          1,
          1,
          1,
          1,
          1,
          1,
          1,
          1,
          1,
          1,
          1,
          1,
          1,
          1,
          1,
          1
         ],
         "yaxis": "y"
        },
        {
         "alignmentgroup": "True",
         "hovertemplate": "Desc_local=UNICENTRO<br>Fecha creacion=%{x}<br>Código vendedor=%{y}<extra></extra>",
         "legendgroup": "UNICENTRO",
         "marker": {
          "color": "#19d3f3",
          "pattern": {
           "shape": ""
          }
         },
         "name": "UNICENTRO",
         "offsetgroup": "UNICENTRO",
         "orientation": "v",
         "showlegend": true,
         "textposition": "auto",
         "type": "bar",
         "x": [
          "2021-10-14T00:00:00",
          "2021-12-11T00:00:00",
          "2021-12-16T00:00:00",
          "2021-12-24T00:00:00",
          "2022-01-14T00:00:00",
          "2022-02-01T00:00:00"
         ],
         "xaxis": "x",
         "y": [
          2,
          1,
          1,
          1,
          1,
          1
         ],
         "yaxis": "y"
        },
        {
         "alignmentgroup": "True",
         "hovertemplate": "Desc_local=PARQUE ARBOLEDA<br>Fecha creacion=%{x}<br>Código vendedor=%{y}<extra></extra>",
         "legendgroup": "PARQUE ARBOLEDA",
         "marker": {
          "color": "#FF6692",
          "pattern": {
           "shape": ""
          }
         },
         "name": "PARQUE ARBOLEDA",
         "offsetgroup": "PARQUE ARBOLEDA",
         "orientation": "v",
         "showlegend": true,
         "textposition": "auto",
         "type": "bar",
         "x": [
          "2022-02-07T00:00:00",
          "2022-01-25T00:00:00",
          "2022-01-09T00:00:00",
          "2022-01-08T00:00:00",
          "2021-10-30T00:00:00",
          "2021-10-28T00:00:00",
          "2022-02-08T00:00:00"
         ],
         "xaxis": "x",
         "y": [
          1,
          1,
          1,
          1,
          1,
          1,
          1
         ],
         "yaxis": "y"
        },
        {
         "alignmentgroup": "True",
         "hovertemplate": "Desc_local=LA CAROLA<br>Fecha creacion=%{x}<br>Código vendedor=%{y}<extra></extra>",
         "legendgroup": "LA CAROLA",
         "marker": {
          "color": "#B6E880",
          "pattern": {
           "shape": ""
          }
         },
         "name": "LA CAROLA",
         "offsetgroup": "LA CAROLA",
         "orientation": "v",
         "showlegend": true,
         "textposition": "auto",
         "type": "bar",
         "x": [
          "2021-11-19T00:00:00",
          "2021-11-27T00:00:00",
          "2021-10-29T00:00:00",
          "2021-10-22T00:00:00"
         ],
         "xaxis": "x",
         "y": [
          1,
          1,
          1,
          1
         ],
         "yaxis": "y"
        },
        {
         "alignmentgroup": "True",
         "hovertemplate": "Desc_local=LA FELICIDAD<br>Fecha creacion=%{x}<br>Código vendedor=%{y}<extra></extra>",
         "legendgroup": "LA FELICIDAD",
         "marker": {
          "color": "#FF97FF",
          "pattern": {
           "shape": ""
          }
         },
         "name": "LA FELICIDAD",
         "offsetgroup": "LA FELICIDAD",
         "orientation": "v",
         "showlegend": true,
         "textposition": "auto",
         "type": "bar",
         "x": [
          "2021-11-14T00:00:00",
          "2021-10-21T00:00:00"
         ],
         "xaxis": "x",
         "y": [
          1,
          1
         ],
         "yaxis": "y"
        },
        {
         "alignmentgroup": "True",
         "hovertemplate": "Desc_local=PLAZA CENTRAL<br>Fecha creacion=%{x}<br>Código vendedor=%{y}<extra></extra>",
         "legendgroup": "PLAZA CENTRAL",
         "marker": {
          "color": "#FECB52",
          "pattern": {
           "shape": ""
          }
         },
         "name": "PLAZA CENTRAL",
         "offsetgroup": "PLAZA CENTRAL",
         "orientation": "v",
         "showlegend": true,
         "textposition": "auto",
         "type": "bar",
         "x": [
          "2021-10-18T00:00:00",
          "2021-12-04T00:00:00"
         ],
         "xaxis": "x",
         "y": [
          1,
          1
         ],
         "yaxis": "y"
        },
        {
         "alignmentgroup": "True",
         "hovertemplate": "Desc_local=ACQUA<br>Fecha creacion=%{x}<br>Código vendedor=%{y}<extra></extra>",
         "legendgroup": "ACQUA",
         "marker": {
          "color": "#636efa",
          "pattern": {
           "shape": ""
          }
         },
         "name": "ACQUA",
         "offsetgroup": "ACQUA",
         "orientation": "v",
         "showlegend": true,
         "textposition": "auto",
         "type": "bar",
         "x": [
          "2021-12-24T00:00:00",
          "2022-01-20T00:00:00"
         ],
         "xaxis": "x",
         "y": [
          1,
          1
         ],
         "yaxis": "y"
        },
        {
         "alignmentgroup": "True",
         "hovertemplate": "Desc_local=SAN DIEGO<br>Fecha creacion=%{x}<br>Código vendedor=%{y}<extra></extra>",
         "legendgroup": "SAN DIEGO",
         "marker": {
          "color": "#EF553B",
          "pattern": {
           "shape": ""
          }
         },
         "name": "SAN DIEGO",
         "offsetgroup": "SAN DIEGO",
         "orientation": "v",
         "showlegend": true,
         "textposition": "auto",
         "type": "bar",
         "x": [
          "2021-10-28T00:00:00",
          "2021-12-04T00:00:00",
          "2021-11-11T00:00:00",
          "2021-11-14T00:00:00",
          "2022-02-03T00:00:00",
          "2022-02-04T00:00:00",
          "2022-02-11T00:00:00"
         ],
         "xaxis": "x",
         "y": [
          1,
          1,
          1,
          1,
          1,
          1,
          1
         ],
         "yaxis": "y"
        },
        {
         "alignmentgroup": "True",
         "hovertemplate": "Desc_local=TITAN<br>Fecha creacion=%{x}<br>Código vendedor=%{y}<extra></extra>",
         "legendgroup": "TITAN",
         "marker": {
          "color": "#00cc96",
          "pattern": {
           "shape": ""
          }
         },
         "name": "TITAN",
         "offsetgroup": "TITAN",
         "orientation": "v",
         "showlegend": true,
         "textposition": "auto",
         "type": "bar",
         "x": [
          "2021-10-28T00:00:00",
          "2021-10-12T00:00:00",
          "2021-10-24T00:00:00",
          "2021-12-30T00:00:00"
         ],
         "xaxis": "x",
         "y": [
          1,
          1,
          1,
          1
         ],
         "yaxis": "y"
        },
        {
         "alignmentgroup": "True",
         "hovertemplate": "Desc_local=SUBA<br>Fecha creacion=%{x}<br>Código vendedor=%{y}<extra></extra>",
         "legendgroup": "SUBA",
         "marker": {
          "color": "#ab63fa",
          "pattern": {
           "shape": ""
          }
         },
         "name": "SUBA",
         "offsetgroup": "SUBA",
         "orientation": "v",
         "showlegend": true,
         "textposition": "auto",
         "type": "bar",
         "x": [
          "2021-12-23T00:00:00",
          "2021-12-24T00:00:00",
          "2022-01-03T00:00:00",
          "2022-01-14T00:00:00",
          "2021-12-12T00:00:00",
          "2021-12-21T00:00:00",
          "2021-12-09T00:00:00",
          "2021-12-06T00:00:00",
          "2021-10-10T00:00:00",
          "2021-11-17T00:00:00",
          "2021-11-19T00:00:00",
          "2021-12-04T00:00:00"
         ],
         "xaxis": "x",
         "y": [
          1,
          1,
          1,
          1,
          1,
          1,
          1,
          1,
          1,
          1,
          1,
          1
         ],
         "yaxis": "y"
        },
        {
         "alignmentgroup": "True",
         "hovertemplate": "Desc_local=VILLA COUNTRY<br>Fecha creacion=%{x}<br>Código vendedor=%{y}<extra></extra>",
         "legendgroup": "VILLA COUNTRY",
         "marker": {
          "color": "#FFA15A",
          "pattern": {
           "shape": ""
          }
         },
         "name": "VILLA COUNTRY",
         "offsetgroup": "VILLA COUNTRY",
         "orientation": "v",
         "showlegend": true,
         "textposition": "auto",
         "type": "bar",
         "x": [
          "2021-10-20T00:00:00",
          "2022-01-11T00:00:00"
         ],
         "xaxis": "x",
         "y": [
          1,
          1
         ],
         "yaxis": "y"
        },
        {
         "alignmentgroup": "True",
         "hovertemplate": "Desc_local=SANTAFE MEDELLIN<br>Fecha creacion=%{x}<br>Código vendedor=%{y}<extra></extra>",
         "legendgroup": "SANTAFE MEDELLIN",
         "marker": {
          "color": "#19d3f3",
          "pattern": {
           "shape": ""
          }
         },
         "name": "SANTAFE MEDELLIN",
         "offsetgroup": "SANTAFE MEDELLIN",
         "orientation": "v",
         "showlegend": true,
         "textposition": "auto",
         "type": "bar",
         "x": [
          "2021-10-09T00:00:00",
          "2021-11-05T00:00:00",
          "2021-11-13T00:00:00",
          "2021-12-03T00:00:00"
         ],
         "xaxis": "x",
         "y": [
          1,
          1,
          1,
          1
         ],
         "yaxis": "y"
        },
        {
         "alignmentgroup": "True",
         "hovertemplate": "Desc_local=SANTA FE<br>Fecha creacion=%{x}<br>Código vendedor=%{y}<extra></extra>",
         "legendgroup": "SANTA FE",
         "marker": {
          "color": "#FF6692",
          "pattern": {
           "shape": ""
          }
         },
         "name": "SANTA FE",
         "offsetgroup": "SANTA FE",
         "orientation": "v",
         "showlegend": true,
         "textposition": "auto",
         "type": "bar",
         "x": [
          "2021-12-15T00:00:00",
          "2022-01-27T00:00:00"
         ],
         "xaxis": "x",
         "y": [
          1,
          1
         ],
         "yaxis": "y"
        },
        {
         "alignmentgroup": "True",
         "hovertemplate": "Desc_local=HAYUELOS<br>Fecha creacion=%{x}<br>Código vendedor=%{y}<extra></extra>",
         "legendgroup": "HAYUELOS",
         "marker": {
          "color": "#B6E880",
          "pattern": {
           "shape": ""
          }
         },
         "name": "HAYUELOS",
         "offsetgroup": "HAYUELOS",
         "orientation": "v",
         "showlegend": true,
         "textposition": "auto",
         "type": "bar",
         "x": [
          "2021-12-23T00:00:00"
         ],
         "xaxis": "x",
         "y": [
          1
         ],
         "yaxis": "y"
        },
        {
         "alignmentgroup": "True",
         "hovertemplate": "Desc_local=CENTRO MAYOR<br>Fecha creacion=%{x}<br>Código vendedor=%{y}<extra></extra>",
         "legendgroup": "CENTRO MAYOR",
         "marker": {
          "color": "#FF97FF",
          "pattern": {
           "shape": ""
          }
         },
         "name": "CENTRO MAYOR",
         "offsetgroup": "CENTRO MAYOR",
         "orientation": "v",
         "showlegend": true,
         "textposition": "auto",
         "type": "bar",
         "x": [
          "2021-12-20T00:00:00",
          "2021-10-31T00:00:00",
          "2021-12-23T00:00:00",
          "2021-12-28T00:00:00",
          "2022-01-08T00:00:00"
         ],
         "xaxis": "x",
         "y": [
          1,
          1,
          1,
          1,
          1
         ],
         "yaxis": "y"
        },
        {
         "alignmentgroup": "True",
         "hovertemplate": "Desc_local=CACIQUE<br>Fecha creacion=%{x}<br>Código vendedor=%{y}<extra></extra>",
         "legendgroup": "CACIQUE",
         "marker": {
          "color": "#FECB52",
          "pattern": {
           "shape": ""
          }
         },
         "name": "CACIQUE",
         "offsetgroup": "CACIQUE",
         "orientation": "v",
         "showlegend": true,
         "textposition": "auto",
         "type": "bar",
         "x": [
          "2022-02-03T00:00:00",
          "2021-11-19T00:00:00",
          "2021-10-13T00:00:00"
         ],
         "xaxis": "x",
         "y": [
          1,
          1,
          1
         ],
         "yaxis": "y"
        },
        {
         "alignmentgroup": "True",
         "hovertemplate": "Desc_local=ARKADIA<br>Fecha creacion=%{x}<br>Código vendedor=%{y}<extra></extra>",
         "legendgroup": "ARKADIA",
         "marker": {
          "color": "#636efa",
          "pattern": {
           "shape": ""
          }
         },
         "name": "ARKADIA",
         "offsetgroup": "ARKADIA",
         "orientation": "v",
         "showlegend": true,
         "textposition": "auto",
         "type": "bar",
         "x": [
          "2022-02-09T00:00:00",
          "2022-01-22T00:00:00",
          "2022-01-15T00:00:00",
          "2021-12-16T00:00:00",
          "2021-12-15T00:00:00",
          "2021-11-19T00:00:00",
          "2021-10-23T00:00:00",
          "2021-10-17T00:00:00"
         ],
         "xaxis": "x",
         "y": [
          1,
          1,
          1,
          1,
          1,
          1,
          1,
          1
         ],
         "yaxis": "y"
        },
        {
         "alignmentgroup": "True",
         "hovertemplate": "Desc_local=FONTANAR<br>Fecha creacion=%{x}<br>Código vendedor=%{y}<extra></extra>",
         "legendgroup": "FONTANAR",
         "marker": {
          "color": "#EF553B",
          "pattern": {
           "shape": ""
          }
         },
         "name": "FONTANAR",
         "offsetgroup": "FONTANAR",
         "orientation": "v",
         "showlegend": true,
         "textposition": "auto",
         "type": "bar",
         "x": [
          "2021-11-18T00:00:00",
          "2021-11-25T00:00:00",
          "2021-12-24T00:00:00",
          "2022-02-01T00:00:00",
          "2021-11-06T00:00:00",
          "2021-10-31T00:00:00",
          "2021-10-12T00:00:00",
          "2021-10-07T00:00:00"
         ],
         "xaxis": "x",
         "y": [
          1,
          1,
          1,
          1,
          1,
          1,
          1,
          1
         ],
         "yaxis": "y"
        },
        {
         "alignmentgroup": "True",
         "hovertemplate": "Desc_local=EL CASTILLO<br>Fecha creacion=%{x}<br>Código vendedor=%{y}<extra></extra>",
         "legendgroup": "EL CASTILLO",
         "marker": {
          "color": "#00cc96",
          "pattern": {
           "shape": ""
          }
         },
         "name": "EL CASTILLO",
         "offsetgroup": "EL CASTILLO",
         "orientation": "v",
         "showlegend": true,
         "textposition": "auto",
         "type": "bar",
         "x": [
          "2022-01-24T00:00:00",
          "2021-10-18T00:00:00"
         ],
         "xaxis": "x",
         "y": [
          1,
          1
         ],
         "yaxis": "y"
        }
       ],
       "layout": {
        "barmode": "relative",
        "legend": {
         "title": {
          "text": "Desc_local"
         },
         "tracegroupgap": 0
        },
        "template": {
         "data": {
          "bar": [
           {
            "error_x": {
             "color": "#2a3f5f"
            },
            "error_y": {
             "color": "#2a3f5f"
            },
            "marker": {
             "line": {
              "color": "#E5ECF6",
              "width": 0.5
             },
             "pattern": {
              "fillmode": "overlay",
              "size": 10,
              "solidity": 0.2
             }
            },
            "type": "bar"
           }
          ],
          "barpolar": [
           {
            "marker": {
             "line": {
              "color": "#E5ECF6",
              "width": 0.5
             },
             "pattern": {
              "fillmode": "overlay",
              "size": 10,
              "solidity": 0.2
             }
            },
            "type": "barpolar"
           }
          ],
          "carpet": [
           {
            "aaxis": {
             "endlinecolor": "#2a3f5f",
             "gridcolor": "white",
             "linecolor": "white",
             "minorgridcolor": "white",
             "startlinecolor": "#2a3f5f"
            },
            "baxis": {
             "endlinecolor": "#2a3f5f",
             "gridcolor": "white",
             "linecolor": "white",
             "minorgridcolor": "white",
             "startlinecolor": "#2a3f5f"
            },
            "type": "carpet"
           }
          ],
          "choropleth": [
           {
            "colorbar": {
             "outlinewidth": 0,
             "ticks": ""
            },
            "type": "choropleth"
           }
          ],
          "contour": [
           {
            "colorbar": {
             "outlinewidth": 0,
             "ticks": ""
            },
            "colorscale": [
             [
              0,
              "#0d0887"
             ],
             [
              0.1111111111111111,
              "#46039f"
             ],
             [
              0.2222222222222222,
              "#7201a8"
             ],
             [
              0.3333333333333333,
              "#9c179e"
             ],
             [
              0.4444444444444444,
              "#bd3786"
             ],
             [
              0.5555555555555556,
              "#d8576b"
             ],
             [
              0.6666666666666666,
              "#ed7953"
             ],
             [
              0.7777777777777778,
              "#fb9f3a"
             ],
             [
              0.8888888888888888,
              "#fdca26"
             ],
             [
              1,
              "#f0f921"
             ]
            ],
            "type": "contour"
           }
          ],
          "contourcarpet": [
           {
            "colorbar": {
             "outlinewidth": 0,
             "ticks": ""
            },
            "type": "contourcarpet"
           }
          ],
          "heatmap": [
           {
            "colorbar": {
             "outlinewidth": 0,
             "ticks": ""
            },
            "colorscale": [
             [
              0,
              "#0d0887"
             ],
             [
              0.1111111111111111,
              "#46039f"
             ],
             [
              0.2222222222222222,
              "#7201a8"
             ],
             [
              0.3333333333333333,
              "#9c179e"
             ],
             [
              0.4444444444444444,
              "#bd3786"
             ],
             [
              0.5555555555555556,
              "#d8576b"
             ],
             [
              0.6666666666666666,
              "#ed7953"
             ],
             [
              0.7777777777777778,
              "#fb9f3a"
             ],
             [
              0.8888888888888888,
              "#fdca26"
             ],
             [
              1,
              "#f0f921"
             ]
            ],
            "type": "heatmap"
           }
          ],
          "heatmapgl": [
           {
            "colorbar": {
             "outlinewidth": 0,
             "ticks": ""
            },
            "colorscale": [
             [
              0,
              "#0d0887"
             ],
             [
              0.1111111111111111,
              "#46039f"
             ],
             [
              0.2222222222222222,
              "#7201a8"
             ],
             [
              0.3333333333333333,
              "#9c179e"
             ],
             [
              0.4444444444444444,
              "#bd3786"
             ],
             [
              0.5555555555555556,
              "#d8576b"
             ],
             [
              0.6666666666666666,
              "#ed7953"
             ],
             [
              0.7777777777777778,
              "#fb9f3a"
             ],
             [
              0.8888888888888888,
              "#fdca26"
             ],
             [
              1,
              "#f0f921"
             ]
            ],
            "type": "heatmapgl"
           }
          ],
          "histogram": [
           {
            "marker": {
             "pattern": {
              "fillmode": "overlay",
              "size": 10,
              "solidity": 0.2
             }
            },
            "type": "histogram"
           }
          ],
          "histogram2d": [
           {
            "colorbar": {
             "outlinewidth": 0,
             "ticks": ""
            },
            "colorscale": [
             [
              0,
              "#0d0887"
             ],
             [
              0.1111111111111111,
              "#46039f"
             ],
             [
              0.2222222222222222,
              "#7201a8"
             ],
             [
              0.3333333333333333,
              "#9c179e"
             ],
             [
              0.4444444444444444,
              "#bd3786"
             ],
             [
              0.5555555555555556,
              "#d8576b"
             ],
             [
              0.6666666666666666,
              "#ed7953"
             ],
             [
              0.7777777777777778,
              "#fb9f3a"
             ],
             [
              0.8888888888888888,
              "#fdca26"
             ],
             [
              1,
              "#f0f921"
             ]
            ],
            "type": "histogram2d"
           }
          ],
          "histogram2dcontour": [
           {
            "colorbar": {
             "outlinewidth": 0,
             "ticks": ""
            },
            "colorscale": [
             [
              0,
              "#0d0887"
             ],
             [
              0.1111111111111111,
              "#46039f"
             ],
             [
              0.2222222222222222,
              "#7201a8"
             ],
             [
              0.3333333333333333,
              "#9c179e"
             ],
             [
              0.4444444444444444,
              "#bd3786"
             ],
             [
              0.5555555555555556,
              "#d8576b"
             ],
             [
              0.6666666666666666,
              "#ed7953"
             ],
             [
              0.7777777777777778,
              "#fb9f3a"
             ],
             [
              0.8888888888888888,
              "#fdca26"
             ],
             [
              1,
              "#f0f921"
             ]
            ],
            "type": "histogram2dcontour"
           }
          ],
          "mesh3d": [
           {
            "colorbar": {
             "outlinewidth": 0,
             "ticks": ""
            },
            "type": "mesh3d"
           }
          ],
          "parcoords": [
           {
            "line": {
             "colorbar": {
              "outlinewidth": 0,
              "ticks": ""
             }
            },
            "type": "parcoords"
           }
          ],
          "pie": [
           {
            "automargin": true,
            "type": "pie"
           }
          ],
          "scatter": [
           {
            "marker": {
             "colorbar": {
              "outlinewidth": 0,
              "ticks": ""
             }
            },
            "type": "scatter"
           }
          ],
          "scatter3d": [
           {
            "line": {
             "colorbar": {
              "outlinewidth": 0,
              "ticks": ""
             }
            },
            "marker": {
             "colorbar": {
              "outlinewidth": 0,
              "ticks": ""
             }
            },
            "type": "scatter3d"
           }
          ],
          "scattercarpet": [
           {
            "marker": {
             "colorbar": {
              "outlinewidth": 0,
              "ticks": ""
             }
            },
            "type": "scattercarpet"
           }
          ],
          "scattergeo": [
           {
            "marker": {
             "colorbar": {
              "outlinewidth": 0,
              "ticks": ""
             }
            },
            "type": "scattergeo"
           }
          ],
          "scattergl": [
           {
            "marker": {
             "colorbar": {
              "outlinewidth": 0,
              "ticks": ""
             }
            },
            "type": "scattergl"
           }
          ],
          "scattermapbox": [
           {
            "marker": {
             "colorbar": {
              "outlinewidth": 0,
              "ticks": ""
             }
            },
            "type": "scattermapbox"
           }
          ],
          "scatterpolar": [
           {
            "marker": {
             "colorbar": {
              "outlinewidth": 0,
              "ticks": ""
             }
            },
            "type": "scatterpolar"
           }
          ],
          "scatterpolargl": [
           {
            "marker": {
             "colorbar": {
              "outlinewidth": 0,
              "ticks": ""
             }
            },
            "type": "scatterpolargl"
           }
          ],
          "scatterternary": [
           {
            "marker": {
             "colorbar": {
              "outlinewidth": 0,
              "ticks": ""
             }
            },
            "type": "scatterternary"
           }
          ],
          "surface": [
           {
            "colorbar": {
             "outlinewidth": 0,
             "ticks": ""
            },
            "colorscale": [
             [
              0,
              "#0d0887"
             ],
             [
              0.1111111111111111,
              "#46039f"
             ],
             [
              0.2222222222222222,
              "#7201a8"
             ],
             [
              0.3333333333333333,
              "#9c179e"
             ],
             [
              0.4444444444444444,
              "#bd3786"
             ],
             [
              0.5555555555555556,
              "#d8576b"
             ],
             [
              0.6666666666666666,
              "#ed7953"
             ],
             [
              0.7777777777777778,
              "#fb9f3a"
             ],
             [
              0.8888888888888888,
              "#fdca26"
             ],
             [
              1,
              "#f0f921"
             ]
            ],
            "type": "surface"
           }
          ],
          "table": [
           {
            "cells": {
             "fill": {
              "color": "#EBF0F8"
             },
             "line": {
              "color": "white"
             }
            },
            "header": {
             "fill": {
              "color": "#C8D4E3"
             },
             "line": {
              "color": "white"
             }
            },
            "type": "table"
           }
          ]
         },
         "layout": {
          "annotationdefaults": {
           "arrowcolor": "#2a3f5f",
           "arrowhead": 0,
           "arrowwidth": 1
          },
          "autotypenumbers": "strict",
          "coloraxis": {
           "colorbar": {
            "outlinewidth": 0,
            "ticks": ""
           }
          },
          "colorscale": {
           "diverging": [
            [
             0,
             "#8e0152"
            ],
            [
             0.1,
             "#c51b7d"
            ],
            [
             0.2,
             "#de77ae"
            ],
            [
             0.3,
             "#f1b6da"
            ],
            [
             0.4,
             "#fde0ef"
            ],
            [
             0.5,
             "#f7f7f7"
            ],
            [
             0.6,
             "#e6f5d0"
            ],
            [
             0.7,
             "#b8e186"
            ],
            [
             0.8,
             "#7fbc41"
            ],
            [
             0.9,
             "#4d9221"
            ],
            [
             1,
             "#276419"
            ]
           ],
           "sequential": [
            [
             0,
             "#0d0887"
            ],
            [
             0.1111111111111111,
             "#46039f"
            ],
            [
             0.2222222222222222,
             "#7201a8"
            ],
            [
             0.3333333333333333,
             "#9c179e"
            ],
            [
             0.4444444444444444,
             "#bd3786"
            ],
            [
             0.5555555555555556,
             "#d8576b"
            ],
            [
             0.6666666666666666,
             "#ed7953"
            ],
            [
             0.7777777777777778,
             "#fb9f3a"
            ],
            [
             0.8888888888888888,
             "#fdca26"
            ],
            [
             1,
             "#f0f921"
            ]
           ],
           "sequentialminus": [
            [
             0,
             "#0d0887"
            ],
            [
             0.1111111111111111,
             "#46039f"
            ],
            [
             0.2222222222222222,
             "#7201a8"
            ],
            [
             0.3333333333333333,
             "#9c179e"
            ],
            [
             0.4444444444444444,
             "#bd3786"
            ],
            [
             0.5555555555555556,
             "#d8576b"
            ],
            [
             0.6666666666666666,
             "#ed7953"
            ],
            [
             0.7777777777777778,
             "#fb9f3a"
            ],
            [
             0.8888888888888888,
             "#fdca26"
            ],
            [
             1,
             "#f0f921"
            ]
           ]
          },
          "colorway": [
           "#636efa",
           "#EF553B",
           "#00cc96",
           "#ab63fa",
           "#FFA15A",
           "#19d3f3",
           "#FF6692",
           "#B6E880",
           "#FF97FF",
           "#FECB52"
          ],
          "font": {
           "color": "#2a3f5f"
          },
          "geo": {
           "bgcolor": "white",
           "lakecolor": "white",
           "landcolor": "#E5ECF6",
           "showlakes": true,
           "showland": true,
           "subunitcolor": "white"
          },
          "hoverlabel": {
           "align": "left"
          },
          "hovermode": "closest",
          "mapbox": {
           "style": "light"
          },
          "paper_bgcolor": "white",
          "plot_bgcolor": "#E5ECF6",
          "polar": {
           "angularaxis": {
            "gridcolor": "white",
            "linecolor": "white",
            "ticks": ""
           },
           "bgcolor": "#E5ECF6",
           "radialaxis": {
            "gridcolor": "white",
            "linecolor": "white",
            "ticks": ""
           }
          },
          "scene": {
           "xaxis": {
            "backgroundcolor": "#E5ECF6",
            "gridcolor": "white",
            "gridwidth": 2,
            "linecolor": "white",
            "showbackground": true,
            "ticks": "",
            "zerolinecolor": "white"
           },
           "yaxis": {
            "backgroundcolor": "#E5ECF6",
            "gridcolor": "white",
            "gridwidth": 2,
            "linecolor": "white",
            "showbackground": true,
            "ticks": "",
            "zerolinecolor": "white"
           },
           "zaxis": {
            "backgroundcolor": "#E5ECF6",
            "gridcolor": "white",
            "gridwidth": 2,
            "linecolor": "white",
            "showbackground": true,
            "ticks": "",
            "zerolinecolor": "white"
           }
          },
          "shapedefaults": {
           "line": {
            "color": "#2a3f5f"
           }
          },
          "ternary": {
           "aaxis": {
            "gridcolor": "white",
            "linecolor": "white",
            "ticks": ""
           },
           "baxis": {
            "gridcolor": "white",
            "linecolor": "white",
            "ticks": ""
           },
           "bgcolor": "#E5ECF6",
           "caxis": {
            "gridcolor": "white",
            "linecolor": "white",
            "ticks": ""
           }
          },
          "title": {
           "x": 0.05
          },
          "xaxis": {
           "automargin": true,
           "gridcolor": "white",
           "linecolor": "white",
           "ticks": "",
           "title": {
            "standoff": 15
           },
           "zerolinecolor": "white",
           "zerolinewidth": 2
          },
          "yaxis": {
           "automargin": true,
           "gridcolor": "white",
           "linecolor": "white",
           "ticks": "",
           "title": {
            "standoff": 15
           },
           "zerolinecolor": "white",
           "zerolinewidth": 2
          }
         }
        },
        "title": {
         "text": "Creación de NCs numero de cedula : 1"
        },
        "xaxis": {
         "anchor": "y",
         "domain": [
          0,
          1
         ],
         "title": {
          "text": "Fecha creacion"
         }
        },
        "yaxis": {
         "anchor": "x",
         "domain": [
          0,
          1
         ],
         "title": {
          "text": "Código vendedor"
         }
        }
       }
      }
     },
     "metadata": {},
     "output_type": "display_data"
    }
   ],
   "source": [
    "nc_r= df_con_ep.loc[df_con_ep.Nrutcomprador == \"1\" ] \n",
    "ced_1 = nc_r.groupby([\"Desc_local\",\"Dcompra_nvo\"])[\"Cvendedor\"].nunique().sort_values(ascending=False).reset_index()\n",
    "graf_ced_1 = px.bar(ced_1, x=\"Dcompra_nvo\", y=\"Cvendedor\", color=\"Desc_local\",title=\"Creación de NCs numero de cedula : 1\", labels={\"Dcompra_nvo\":\"Fecha creacion\",\"Cvendedor\":\"Código vendedor\"} )\n",
    "graf_ced_1.show()"
   ]
  },
  {
   "cell_type": "code",
   "execution_count": 52,
   "metadata": {},
   "outputs": [
    {
     "data": {
      "application/vnd.plotly.v1+json": {
       "config": {
        "plotlyServerURL": "https://plot.ly"
       },
       "data": [
        {
         "alignmentgroup": "True",
         "hovertemplate": "Desc_local=CENTRO MAYOR<br>Fecha creacion=%{x}<br>Código vendedor=%{y}<extra></extra>",
         "legendgroup": "CENTRO MAYOR",
         "marker": {
          "color": "#636efa",
          "pattern": {
           "shape": ""
          }
         },
         "name": "CENTRO MAYOR",
         "offsetgroup": "CENTRO MAYOR",
         "orientation": "v",
         "showlegend": true,
         "textposition": "auto",
         "type": "bar",
         "x": [
          "2021-11-28T00:00:00"
         ],
         "xaxis": "x",
         "y": [
          1
         ],
         "yaxis": "y"
        },
        {
         "alignmentgroup": "True",
         "hovertemplate": "Desc_local=DIVER PLAZA<br>Fecha creacion=%{x}<br>Código vendedor=%{y}<extra></extra>",
         "legendgroup": "DIVER PLAZA",
         "marker": {
          "color": "#EF553B",
          "pattern": {
           "shape": ""
          }
         },
         "name": "DIVER PLAZA",
         "offsetgroup": "DIVER PLAZA",
         "orientation": "v",
         "showlegend": true,
         "textposition": "auto",
         "type": "bar",
         "x": [
          "2021-10-23T00:00:00",
          "2021-10-24T00:00:00",
          "2021-11-28T00:00:00",
          "2021-12-26T00:00:00"
         ],
         "xaxis": "x",
         "y": [
          1,
          1,
          1,
          1
         ],
         "yaxis": "y"
        },
        {
         "alignmentgroup": "True",
         "hovertemplate": "Desc_local=FONTANAR<br>Fecha creacion=%{x}<br>Código vendedor=%{y}<extra></extra>",
         "legendgroup": "FONTANAR",
         "marker": {
          "color": "#00cc96",
          "pattern": {
           "shape": ""
          }
         },
         "name": "FONTANAR",
         "offsetgroup": "FONTANAR",
         "orientation": "v",
         "showlegend": true,
         "textposition": "auto",
         "type": "bar",
         "x": [
          "2021-10-27T00:00:00",
          "2021-12-12T00:00:00"
         ],
         "xaxis": "x",
         "y": [
          1,
          1
         ],
         "yaxis": "y"
        },
        {
         "alignmentgroup": "True",
         "hovertemplate": "Desc_local=LA CAROLA<br>Fecha creacion=%{x}<br>Código vendedor=%{y}<extra></extra>",
         "legendgroup": "LA CAROLA",
         "marker": {
          "color": "#ab63fa",
          "pattern": {
           "shape": ""
          }
         },
         "name": "LA CAROLA",
         "offsetgroup": "LA CAROLA",
         "orientation": "v",
         "showlegend": true,
         "textposition": "auto",
         "type": "bar",
         "x": [
          "2021-12-19T00:00:00"
         ],
         "xaxis": "x",
         "y": [
          1
         ],
         "yaxis": "y"
        },
        {
         "alignmentgroup": "True",
         "hovertemplate": "Desc_local=LA FELICIDAD<br>Fecha creacion=%{x}<br>Código vendedor=%{y}<extra></extra>",
         "legendgroup": "LA FELICIDAD",
         "marker": {
          "color": "#FFA15A",
          "pattern": {
           "shape": ""
          }
         },
         "name": "LA FELICIDAD",
         "offsetgroup": "LA FELICIDAD",
         "orientation": "v",
         "showlegend": true,
         "textposition": "auto",
         "type": "bar",
         "x": [
          "2021-11-13T00:00:00"
         ],
         "xaxis": "x",
         "y": [
          1
         ],
         "yaxis": "y"
        },
        {
         "alignmentgroup": "True",
         "hovertemplate": "Desc_local=SAN DIEGO<br>Fecha creacion=%{x}<br>Código vendedor=%{y}<extra></extra>",
         "legendgroup": "SAN DIEGO",
         "marker": {
          "color": "#19d3f3",
          "pattern": {
           "shape": ""
          }
         },
         "name": "SAN DIEGO",
         "offsetgroup": "SAN DIEGO",
         "orientation": "v",
         "showlegend": true,
         "textposition": "auto",
         "type": "bar",
         "x": [
          "2021-12-19T00:00:00",
          "2021-12-20T00:00:00"
         ],
         "xaxis": "x",
         "y": [
          1,
          1
         ],
         "yaxis": "y"
        },
        {
         "alignmentgroup": "True",
         "hovertemplate": "Desc_local=TITAN<br>Fecha creacion=%{x}<br>Código vendedor=%{y}<extra></extra>",
         "legendgroup": "TITAN",
         "marker": {
          "color": "#FF6692",
          "pattern": {
           "shape": ""
          }
         },
         "name": "TITAN",
         "offsetgroup": "TITAN",
         "orientation": "v",
         "showlegend": true,
         "textposition": "auto",
         "type": "bar",
         "x": [
          "2021-11-02T00:00:00"
         ],
         "xaxis": "x",
         "y": [
          1
         ],
         "yaxis": "y"
        },
        {
         "alignmentgroup": "True",
         "hovertemplate": "Desc_local=UNICENTRO<br>Fecha creacion=%{x}<br>Código vendedor=%{y}<extra></extra>",
         "legendgroup": "UNICENTRO",
         "marker": {
          "color": "#B6E880",
          "pattern": {
           "shape": ""
          }
         },
         "name": "UNICENTRO",
         "offsetgroup": "UNICENTRO",
         "orientation": "v",
         "showlegend": true,
         "textposition": "auto",
         "type": "bar",
         "x": [
          "2021-12-14T00:00:00"
         ],
         "xaxis": "x",
         "y": [
          1
         ],
         "yaxis": "y"
        }
       ],
       "layout": {
        "barmode": "relative",
        "legend": {
         "title": {
          "text": "Desc_local"
         },
         "tracegroupgap": 0
        },
        "template": {
         "data": {
          "bar": [
           {
            "error_x": {
             "color": "#2a3f5f"
            },
            "error_y": {
             "color": "#2a3f5f"
            },
            "marker": {
             "line": {
              "color": "#E5ECF6",
              "width": 0.5
             },
             "pattern": {
              "fillmode": "overlay",
              "size": 10,
              "solidity": 0.2
             }
            },
            "type": "bar"
           }
          ],
          "barpolar": [
           {
            "marker": {
             "line": {
              "color": "#E5ECF6",
              "width": 0.5
             },
             "pattern": {
              "fillmode": "overlay",
              "size": 10,
              "solidity": 0.2
             }
            },
            "type": "barpolar"
           }
          ],
          "carpet": [
           {
            "aaxis": {
             "endlinecolor": "#2a3f5f",
             "gridcolor": "white",
             "linecolor": "white",
             "minorgridcolor": "white",
             "startlinecolor": "#2a3f5f"
            },
            "baxis": {
             "endlinecolor": "#2a3f5f",
             "gridcolor": "white",
             "linecolor": "white",
             "minorgridcolor": "white",
             "startlinecolor": "#2a3f5f"
            },
            "type": "carpet"
           }
          ],
          "choropleth": [
           {
            "colorbar": {
             "outlinewidth": 0,
             "ticks": ""
            },
            "type": "choropleth"
           }
          ],
          "contour": [
           {
            "colorbar": {
             "outlinewidth": 0,
             "ticks": ""
            },
            "colorscale": [
             [
              0,
              "#0d0887"
             ],
             [
              0.1111111111111111,
              "#46039f"
             ],
             [
              0.2222222222222222,
              "#7201a8"
             ],
             [
              0.3333333333333333,
              "#9c179e"
             ],
             [
              0.4444444444444444,
              "#bd3786"
             ],
             [
              0.5555555555555556,
              "#d8576b"
             ],
             [
              0.6666666666666666,
              "#ed7953"
             ],
             [
              0.7777777777777778,
              "#fb9f3a"
             ],
             [
              0.8888888888888888,
              "#fdca26"
             ],
             [
              1,
              "#f0f921"
             ]
            ],
            "type": "contour"
           }
          ],
          "contourcarpet": [
           {
            "colorbar": {
             "outlinewidth": 0,
             "ticks": ""
            },
            "type": "contourcarpet"
           }
          ],
          "heatmap": [
           {
            "colorbar": {
             "outlinewidth": 0,
             "ticks": ""
            },
            "colorscale": [
             [
              0,
              "#0d0887"
             ],
             [
              0.1111111111111111,
              "#46039f"
             ],
             [
              0.2222222222222222,
              "#7201a8"
             ],
             [
              0.3333333333333333,
              "#9c179e"
             ],
             [
              0.4444444444444444,
              "#bd3786"
             ],
             [
              0.5555555555555556,
              "#d8576b"
             ],
             [
              0.6666666666666666,
              "#ed7953"
             ],
             [
              0.7777777777777778,
              "#fb9f3a"
             ],
             [
              0.8888888888888888,
              "#fdca26"
             ],
             [
              1,
              "#f0f921"
             ]
            ],
            "type": "heatmap"
           }
          ],
          "heatmapgl": [
           {
            "colorbar": {
             "outlinewidth": 0,
             "ticks": ""
            },
            "colorscale": [
             [
              0,
              "#0d0887"
             ],
             [
              0.1111111111111111,
              "#46039f"
             ],
             [
              0.2222222222222222,
              "#7201a8"
             ],
             [
              0.3333333333333333,
              "#9c179e"
             ],
             [
              0.4444444444444444,
              "#bd3786"
             ],
             [
              0.5555555555555556,
              "#d8576b"
             ],
             [
              0.6666666666666666,
              "#ed7953"
             ],
             [
              0.7777777777777778,
              "#fb9f3a"
             ],
             [
              0.8888888888888888,
              "#fdca26"
             ],
             [
              1,
              "#f0f921"
             ]
            ],
            "type": "heatmapgl"
           }
          ],
          "histogram": [
           {
            "marker": {
             "pattern": {
              "fillmode": "overlay",
              "size": 10,
              "solidity": 0.2
             }
            },
            "type": "histogram"
           }
          ],
          "histogram2d": [
           {
            "colorbar": {
             "outlinewidth": 0,
             "ticks": ""
            },
            "colorscale": [
             [
              0,
              "#0d0887"
             ],
             [
              0.1111111111111111,
              "#46039f"
             ],
             [
              0.2222222222222222,
              "#7201a8"
             ],
             [
              0.3333333333333333,
              "#9c179e"
             ],
             [
              0.4444444444444444,
              "#bd3786"
             ],
             [
              0.5555555555555556,
              "#d8576b"
             ],
             [
              0.6666666666666666,
              "#ed7953"
             ],
             [
              0.7777777777777778,
              "#fb9f3a"
             ],
             [
              0.8888888888888888,
              "#fdca26"
             ],
             [
              1,
              "#f0f921"
             ]
            ],
            "type": "histogram2d"
           }
          ],
          "histogram2dcontour": [
           {
            "colorbar": {
             "outlinewidth": 0,
             "ticks": ""
            },
            "colorscale": [
             [
              0,
              "#0d0887"
             ],
             [
              0.1111111111111111,
              "#46039f"
             ],
             [
              0.2222222222222222,
              "#7201a8"
             ],
             [
              0.3333333333333333,
              "#9c179e"
             ],
             [
              0.4444444444444444,
              "#bd3786"
             ],
             [
              0.5555555555555556,
              "#d8576b"
             ],
             [
              0.6666666666666666,
              "#ed7953"
             ],
             [
              0.7777777777777778,
              "#fb9f3a"
             ],
             [
              0.8888888888888888,
              "#fdca26"
             ],
             [
              1,
              "#f0f921"
             ]
            ],
            "type": "histogram2dcontour"
           }
          ],
          "mesh3d": [
           {
            "colorbar": {
             "outlinewidth": 0,
             "ticks": ""
            },
            "type": "mesh3d"
           }
          ],
          "parcoords": [
           {
            "line": {
             "colorbar": {
              "outlinewidth": 0,
              "ticks": ""
             }
            },
            "type": "parcoords"
           }
          ],
          "pie": [
           {
            "automargin": true,
            "type": "pie"
           }
          ],
          "scatter": [
           {
            "marker": {
             "colorbar": {
              "outlinewidth": 0,
              "ticks": ""
             }
            },
            "type": "scatter"
           }
          ],
          "scatter3d": [
           {
            "line": {
             "colorbar": {
              "outlinewidth": 0,
              "ticks": ""
             }
            },
            "marker": {
             "colorbar": {
              "outlinewidth": 0,
              "ticks": ""
             }
            },
            "type": "scatter3d"
           }
          ],
          "scattercarpet": [
           {
            "marker": {
             "colorbar": {
              "outlinewidth": 0,
              "ticks": ""
             }
            },
            "type": "scattercarpet"
           }
          ],
          "scattergeo": [
           {
            "marker": {
             "colorbar": {
              "outlinewidth": 0,
              "ticks": ""
             }
            },
            "type": "scattergeo"
           }
          ],
          "scattergl": [
           {
            "marker": {
             "colorbar": {
              "outlinewidth": 0,
              "ticks": ""
             }
            },
            "type": "scattergl"
           }
          ],
          "scattermapbox": [
           {
            "marker": {
             "colorbar": {
              "outlinewidth": 0,
              "ticks": ""
             }
            },
            "type": "scattermapbox"
           }
          ],
          "scatterpolar": [
           {
            "marker": {
             "colorbar": {
              "outlinewidth": 0,
              "ticks": ""
             }
            },
            "type": "scatterpolar"
           }
          ],
          "scatterpolargl": [
           {
            "marker": {
             "colorbar": {
              "outlinewidth": 0,
              "ticks": ""
             }
            },
            "type": "scatterpolargl"
           }
          ],
          "scatterternary": [
           {
            "marker": {
             "colorbar": {
              "outlinewidth": 0,
              "ticks": ""
             }
            },
            "type": "scatterternary"
           }
          ],
          "surface": [
           {
            "colorbar": {
             "outlinewidth": 0,
             "ticks": ""
            },
            "colorscale": [
             [
              0,
              "#0d0887"
             ],
             [
              0.1111111111111111,
              "#46039f"
             ],
             [
              0.2222222222222222,
              "#7201a8"
             ],
             [
              0.3333333333333333,
              "#9c179e"
             ],
             [
              0.4444444444444444,
              "#bd3786"
             ],
             [
              0.5555555555555556,
              "#d8576b"
             ],
             [
              0.6666666666666666,
              "#ed7953"
             ],
             [
              0.7777777777777778,
              "#fb9f3a"
             ],
             [
              0.8888888888888888,
              "#fdca26"
             ],
             [
              1,
              "#f0f921"
             ]
            ],
            "type": "surface"
           }
          ],
          "table": [
           {
            "cells": {
             "fill": {
              "color": "#EBF0F8"
             },
             "line": {
              "color": "white"
             }
            },
            "header": {
             "fill": {
              "color": "#C8D4E3"
             },
             "line": {
              "color": "white"
             }
            },
            "type": "table"
           }
          ]
         },
         "layout": {
          "annotationdefaults": {
           "arrowcolor": "#2a3f5f",
           "arrowhead": 0,
           "arrowwidth": 1
          },
          "autotypenumbers": "strict",
          "coloraxis": {
           "colorbar": {
            "outlinewidth": 0,
            "ticks": ""
           }
          },
          "colorscale": {
           "diverging": [
            [
             0,
             "#8e0152"
            ],
            [
             0.1,
             "#c51b7d"
            ],
            [
             0.2,
             "#de77ae"
            ],
            [
             0.3,
             "#f1b6da"
            ],
            [
             0.4,
             "#fde0ef"
            ],
            [
             0.5,
             "#f7f7f7"
            ],
            [
             0.6,
             "#e6f5d0"
            ],
            [
             0.7,
             "#b8e186"
            ],
            [
             0.8,
             "#7fbc41"
            ],
            [
             0.9,
             "#4d9221"
            ],
            [
             1,
             "#276419"
            ]
           ],
           "sequential": [
            [
             0,
             "#0d0887"
            ],
            [
             0.1111111111111111,
             "#46039f"
            ],
            [
             0.2222222222222222,
             "#7201a8"
            ],
            [
             0.3333333333333333,
             "#9c179e"
            ],
            [
             0.4444444444444444,
             "#bd3786"
            ],
            [
             0.5555555555555556,
             "#d8576b"
            ],
            [
             0.6666666666666666,
             "#ed7953"
            ],
            [
             0.7777777777777778,
             "#fb9f3a"
            ],
            [
             0.8888888888888888,
             "#fdca26"
            ],
            [
             1,
             "#f0f921"
            ]
           ],
           "sequentialminus": [
            [
             0,
             "#0d0887"
            ],
            [
             0.1111111111111111,
             "#46039f"
            ],
            [
             0.2222222222222222,
             "#7201a8"
            ],
            [
             0.3333333333333333,
             "#9c179e"
            ],
            [
             0.4444444444444444,
             "#bd3786"
            ],
            [
             0.5555555555555556,
             "#d8576b"
            ],
            [
             0.6666666666666666,
             "#ed7953"
            ],
            [
             0.7777777777777778,
             "#fb9f3a"
            ],
            [
             0.8888888888888888,
             "#fdca26"
            ],
            [
             1,
             "#f0f921"
            ]
           ]
          },
          "colorway": [
           "#636efa",
           "#EF553B",
           "#00cc96",
           "#ab63fa",
           "#FFA15A",
           "#19d3f3",
           "#FF6692",
           "#B6E880",
           "#FF97FF",
           "#FECB52"
          ],
          "font": {
           "color": "#2a3f5f"
          },
          "geo": {
           "bgcolor": "white",
           "lakecolor": "white",
           "landcolor": "#E5ECF6",
           "showlakes": true,
           "showland": true,
           "subunitcolor": "white"
          },
          "hoverlabel": {
           "align": "left"
          },
          "hovermode": "closest",
          "mapbox": {
           "style": "light"
          },
          "paper_bgcolor": "white",
          "plot_bgcolor": "#E5ECF6",
          "polar": {
           "angularaxis": {
            "gridcolor": "white",
            "linecolor": "white",
            "ticks": ""
           },
           "bgcolor": "#E5ECF6",
           "radialaxis": {
            "gridcolor": "white",
            "linecolor": "white",
            "ticks": ""
           }
          },
          "scene": {
           "xaxis": {
            "backgroundcolor": "#E5ECF6",
            "gridcolor": "white",
            "gridwidth": 2,
            "linecolor": "white",
            "showbackground": true,
            "ticks": "",
            "zerolinecolor": "white"
           },
           "yaxis": {
            "backgroundcolor": "#E5ECF6",
            "gridcolor": "white",
            "gridwidth": 2,
            "linecolor": "white",
            "showbackground": true,
            "ticks": "",
            "zerolinecolor": "white"
           },
           "zaxis": {
            "backgroundcolor": "#E5ECF6",
            "gridcolor": "white",
            "gridwidth": 2,
            "linecolor": "white",
            "showbackground": true,
            "ticks": "",
            "zerolinecolor": "white"
           }
          },
          "shapedefaults": {
           "line": {
            "color": "#2a3f5f"
           }
          },
          "ternary": {
           "aaxis": {
            "gridcolor": "white",
            "linecolor": "white",
            "ticks": ""
           },
           "baxis": {
            "gridcolor": "white",
            "linecolor": "white",
            "ticks": ""
           },
           "bgcolor": "#E5ECF6",
           "caxis": {
            "gridcolor": "white",
            "linecolor": "white",
            "ticks": ""
           }
          },
          "title": {
           "x": 0.05
          },
          "xaxis": {
           "automargin": true,
           "gridcolor": "white",
           "linecolor": "white",
           "ticks": "",
           "title": {
            "standoff": 15
           },
           "zerolinecolor": "white",
           "zerolinewidth": 2
          },
          "yaxis": {
           "automargin": true,
           "gridcolor": "white",
           "linecolor": "white",
           "ticks": "",
           "title": {
            "standoff": 15
           },
           "zerolinecolor": "white",
           "zerolinewidth": 2
          }
         }
        },
        "title": {
         "text": "Creación de NCs numero de cedula : 2"
        },
        "xaxis": {
         "anchor": "y",
         "domain": [
          0,
          1
         ],
         "title": {
          "text": "Fecha creacion"
         }
        },
        "yaxis": {
         "anchor": "x",
         "domain": [
          0,
          1
         ],
         "title": {
          "text": "Código vendedor"
         }
        }
       }
      }
     },
     "metadata": {},
     "output_type": "display_data"
    }
   ],
   "source": [
    "nc_r= sa.df_nc.loc[sa.df_nc.Nrutcomprador == \"2\" ] \n",
    "ced_1 = nc_r.groupby([\"Desc_local\",\"Dcompra_nvo\"])[\"Cvendedor\"].nunique().sort_values(ascending=False).reset_index()\n",
    "graf_ced_2 = px.bar(ced_1, x=\"Dcompra_nvo\", y=\"Cvendedor\", color=\"Desc_local\",title=\"Creación de NCs numero de cedula : 2\", labels={\"Dcompra_nvo\":\"Fecha creacion\",\"Cvendedor\":\"Código vendedor\"} )\n",
    "graf_ced_2.show()"
   ]
  }
 ],
 "metadata": {
  "interpreter": {
   "hash": "5e82abcde2448df551356d1d461f587df37012dba02e762b4fbb1beabfe0c2eb"
  },
  "kernelspec": {
   "display_name": "Python 3.9.7 ('base')",
   "language": "python",
   "name": "python3"
  },
  "language_info": {
   "codemirror_mode": {
    "name": "ipython",
    "version": 3
   },
   "file_extension": ".py",
   "mimetype": "text/x-python",
   "name": "python",
   "nbconvert_exporter": "python",
   "pygments_lexer": "ipython3",
   "version": "3.9.7"
  },
  "orig_nbformat": 4
 },
 "nbformat": 4,
 "nbformat_minor": 2
}
