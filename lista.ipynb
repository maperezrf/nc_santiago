{
 "cells": [
  {
   "cell_type": "code",
   "execution_count": 1,
   "metadata": {},
   "outputs": [],
   "source": [
    "import pandas as pd\n",
    "from datetime import date, time\n",
    "import xlsxwriter\n",
    "from openpyxl import Workbook\n",
    "from openpyxl.worksheet.datavalidation import DataValidation\n",
    "from openpyxl import load_workbook\n",
    "from openpyxl.workbook.protection import WorkbookProtection\n",
    "from openpyxl.styles import Protection \n",
    "from importlib import import_module\n",
    "from datetime import datetime, timedelta\n",
    "from os import listdir\n",
    "import plotly.express as px\n",
    "from os.path import isfile, join\n",
    "import numpy as np\n",
    "import sys\n",
    "dt_string = datetime.today().strftime('%d%m%y')"
   ]
  },
  {
   "cell_type": "code",
   "execution_count": 2,
   "metadata": {},
   "outputs": [],
   "source": [
    "# libro = load_workbook(\"221205 ACQUA.xlsx\")"
   ]
  },
  {
   "cell_type": "code",
   "execution_count": 3,
   "metadata": {},
   "outputs": [],
   "source": [
    "def drop_down_block(libro):\n",
    "    hoja=libro.active\n",
    "    dv = DataValidation(type=\"list\", formula1='\"SI,NO\"', allow_blank=True)\n",
    "    hoja.add_data_validation(dv)\n",
    "    dv.add('o2:o1048576')\n",
    "    dv.add('p2:p1048576')\n",
    "    dv.add('q2:q1048576')\n",
    "    hoja.protection.sheet = True\n",
    "    for col in ['o', 'p','q','r']:\n",
    "        for cell in hoja[col]:\n",
    "             cell.protection = Protection(locked=False)\n",
    "    \n",
    "    "
   ]
  },
  {
   "cell_type": "code",
   "execution_count": 4,
   "metadata": {},
   "outputs": [],
   "source": [
    "# drop_down_block(libro)\n",
    "# libro.save('221205 ACQUA.xlsx')"
   ]
  },
  {
   "cell_type": "code",
   "execution_count": 5,
   "metadata": {},
   "outputs": [],
   "source": [
    "def format_(fecha):\n",
    "    with open('config\\path.txt', \"r\") as tf:\n",
    "            path = tf.read()\n",
    "            path = path.replace(\"\\\\\",\"/\")\n",
    "    tf.close()\n",
    "\n",
    "    for i in listdir(path):\n",
    "        files_store= pd.DataFrame()\n",
    "        if i.startswith('JPPs - Análisis de notas crédito - '):\n",
    "            new_path= f\"{path}/{i}\"\n",
    "            files_names = [f for f in listdir(new_path) if isfile(join(new_path, f))]\n",
    "            for j in (files_names):\n",
    "                if j.endswith('.xlsx'):\n",
    "                    for i in [fecha]:\n",
    "                        if j.startswith(i):\n",
    "                            if '_cm' in j:\n",
    "                                pass\n",
    "                            else:\n",
    "                                    libro = load_workbook(f'{new_path}/{j}')\n",
    "                                    drop_down_block(libro)\n",
    "                                    libro.save(f'{new_path}/{j}')\n",
    "                                                            \n",
    "            \n"
   ]
  },
  {
   "cell_type": "code",
   "execution_count": 6,
   "metadata": {},
   "outputs": [],
   "source": [
    "format_('221208')"
   ]
  }
 ],
 "metadata": {
  "kernelspec": {
   "display_name": "Python 3 (ipykernel)",
   "language": "python",
   "name": "python3"
  },
  "language_info": {
   "codemirror_mode": {
    "name": "ipython",
    "version": 3
   },
   "file_extension": ".py",
   "mimetype": "text/x-python",
   "name": "python",
   "nbconvert_exporter": "python",
   "pygments_lexer": "ipython3",
   "version": "3.9.13"
  },
  "vscode": {
   "interpreter": {
    "hash": "a321a14e087a510dfc7ae8360530cc28f8eb3988bb6d0baa5cae85ea5f6d0648"
   }
  }
 },
 "nbformat": 4,
 "nbformat_minor": 2
}
