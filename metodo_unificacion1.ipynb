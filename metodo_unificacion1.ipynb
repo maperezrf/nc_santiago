{
 "cells": [
  {
   "cell_type": "code",
   "execution_count": 1,
   "metadata": {},
   "outputs": [],
   "source": [
    "from importlib import import_module\n",
    "import pandas as pd \n",
    "from datetime import datetime, timedelta\n",
    "from os import listdir\n",
    "import plotly.express as px\n",
    "from os.path import isfile, join\n",
    "import numpy as np\n",
    "import sys\n",
    "#sys.path.insert(1, 'C:/Users/maperezr/proyectos/fs-emails')\n",
    "#from adm_email import ADM_MAIL\n",
    "#from input_planillas import f_miguel as fm\n",
    "dt_string = datetime.today().strftime('%d%m%y')\n",
    "pd.set_option('display.max_columns', 500)"
   ]
  },
  {
   "cell_type": "code",
   "execution_count": 2,
   "metadata": {},
   "outputs": [],
   "source": [
    "fecha_inicio = \"2022-08-01\"\n",
    "fecha_final = \"2022-11-29\"\n",
    "f_inicio = datetime.strptime(fecha_inicio, '%Y-%m-%d')\n",
    "f_final = datetime.strptime(fecha_final, '%Y-%m-%d')"
   ]
  },
  {
   "cell_type": "code",
   "execution_count": 3,
   "metadata": {},
   "outputs": [
    {
     "data": {
      "text/plain": [
       "121"
      ]
     },
     "execution_count": 3,
     "metadata": {},
     "output_type": "execute_result"
    }
   ],
   "source": [
    "lista_fechas = [(f_inicio + timedelta(days=d)).strftime('%y%m%d') for d in range((f_final - f_inicio).days + 1)] \n",
    "len(lista_fechas)"
   ]
  },
  {
   "cell_type": "code",
   "execution_count": 4,
   "metadata": {},
   "outputs": [],
   "source": [
    "with open('config\\path.txt', \"r\") as tf:\n",
    "        path = tf.read()\n",
    "        path = path.replace(\"\\\\\",\"/\")\n",
    "tf.close()\n",
    "alertas = pd.DataFrame()\n",
    "for i in listdir(path):\n",
    "        files_store= pd.DataFrame()\n",
    "        if i.startswith('JPPs - Análisis de notas crédito - '):\n",
    "                new_path= f\"{path}/{i}\"\n",
    "                files_names = [f for f in listdir(new_path) if isfile(join(new_path, f))]\n",
    "                for j in (files_names):\n",
    "                        if j.endswith('.xlsx'):\n",
    "                                for i in lista_fechas:\n",
    "                                        if j.startswith(i):\n",
    "                                                if '_cm' in j:\n",
    "                                                        pass\n",
    "                                                else:\n",
    "                                                        file = pd.read_excel(f'{new_path}/{j}',sheet_name=\"Alertas\",dtype=str)\n",
    "                                                        file[\"fecha\"] = i\n",
    "                                                        files_store = pd.concat([files_store,file])\n",
    "        alertas = pd.concat([alertas, files_store])  \n"
   ]
  },
  {
   "cell_type": "code",
   "execution_count": 8,
   "metadata": {},
   "outputs": [
    {
     "data": {
      "text/plain": [
       "Index([             'Tipo alerta',                'Cautoriza',\n",
       "                     'Desc_local',              'Dcompra_nvo',\n",
       "                  'Nterminal_nvo',           'Nsecuencia_nvo',\n",
       "                           'Hora',             'Cod_Empleado',\n",
       "                  'Num_Documento',          'nombre_completo',\n",
       "                          'Cargo',                      'SKU',\n",
       "                      'Qcantidad',        'Costo_NC-Empleado',\n",
       "                     'Grabación?',                 'Cliente?',\n",
       "                      'Producto?',            'Observaciones',\n",
       "                          'fecha',                        ' ',\n",
       "                    'Unnamed: 18',              'Unnamed: 19',\n",
       "                    'Unnamed: 20',              'Unnamed: 21',\n",
       "                     'gravacion?',              'Unnamed: 17',\n",
       "                    'OBSERVACION',              'Observacion',\n",
       "                   'Observacione',                        's',\n",
       "                             'si',               'Unnamed: 0',\n",
       "                     'Unnamed: 1',               'Unnamed: 2',\n",
       "                     'Unnamed: 3',               'Unnamed: 4',\n",
       "                     'Unnamed: 5',               'Unnamed: 6',\n",
       "                     'Unnamed: 7',               'Unnamed: 8',\n",
       "                     'Unnamed: 9',              'Unnamed: 10',\n",
       "                    'Unnamed: 11',              'Unnamed: 12',\n",
       "                    'Unnamed: 13',              'Unnamed: 14',\n",
       "                    'Unnamed: 15',              'Unnamed: 16',\n",
       "                  'Tipo alerta.1',            'Tipo alerta.2',\n",
       "                  'Tipo alerta.3',            'Tipo alerta.4',\n",
       "                  'Tipo alerta.5',            'Tipo alerta.6',\n",
       "                  'Tipo alerta.7',            'Tipo alerta.8',\n",
       "                  'Tipo alerta.9',           'Tipo alerta.10',\n",
       "                 'Tipo alerta.11',           'Tipo alerta.12',\n",
       "                 'Tipo alerta.13',           'Tipo alerta.14',\n",
       "                 'Tipo alerta.15',           'Tipo alerta.16',\n",
       "                 'Hay Grabación?',         'Esta el cliente?',\n",
       "        ' Se revisa el Producto?', ' Se dejan los  Producto?',\n",
       "                  'OBSERVACIONES',                        'P',\n",
       "                              nan,              'Unnamed: 22',\n",
       "                    'Unnamed: 23',                     '    ',\n",
       "                            'OMT',                      56676,\n",
       "                      'Indicador'],\n",
       "      dtype='object')"
      ]
     },
     "execution_count": 8,
     "metadata": {},
     "output_type": "execute_result"
    }
   ],
   "source": [
    "alertas.columns"
   ]
  },
  {
   "cell_type": "code",
   "execution_count": 14,
   "metadata": {},
   "outputs": [],
   "source": [
    "#alertas.to_excel('output/inf_alerta_mensualult.xlsx')"
   ]
  },
  {
   "cell_type": "code",
   "execution_count": null,
   "metadata": {},
   "outputs": [],
   "source": [
    "#ruta=r\"C:\\Users\\valetorresr\\Proyectos\\nc_santiago\\output\\inf_alerta_mensual1.xlsx\"\n",
    "#alertas=pd.read_excel(ruta)"
   ]
  },
  {
   "cell_type": "code",
   "execution_count": 9,
   "metadata": {},
   "outputs": [],
   "source": [
    "alertas.loc[(alertas[\"Grabación?\"].notna()) & (alertas[\"Cliente?\"].notna()) & (alertas[\"Producto?\"].notna()), \"Indicador\"] = \"Diligenciado\"\n",
    "alertas.loc[alertas[\"Indicador\"] != \"Diligenciado\", \"Indicador\"] = \"No diligenciado\""
   ]
  },
  {
   "cell_type": "code",
   "execution_count": 10,
   "metadata": {},
   "outputs": [],
   "source": [
    "alertas[\"Grabación?\"]= alertas[\"Grabación?\"].str.upper()\n",
    "alertas[\"Cliente?\"]= alertas[\"Cliente?\"].str.upper()\n",
    "alertas[\"Producto?\"]= alertas[\"Producto?\"].str.upper()"
   ]
  },
  {
   "cell_type": "code",
   "execution_count": 11,
   "metadata": {},
   "outputs": [],
   "source": [
    "alertas.loc[(alertas[\"Grabación?\"]==\"SI\") | (alertas[\"Grabación?\"]==\"SI OK\") | (alertas[\"Grabación?\"]==\"SIS\")| (alertas[\"Grabación?\"]==\"OK\")| (alertas[\"Grabación?\"]==\"SI OK \")| (alertas[\"Grabación?\"]==\"SI \") , \"Grab\"] = \"SI\"\n",
    "alertas.loc[(alertas[\"Grabación?\"]==\"NO\") | (alertas[\"Grabación?\"]==\"ON\") | (alertas[\"Grabación?\"]==\"N0\")| (alertas[\"Grabación?\"]==\"NO \"), \"Grab\"] = \"NO\"\n",
    "alertas.loc[(alertas[\"Grab\"]!=\"NO\") & (alertas[\"Grab\"]!=\"SI\"), \"Grab\"] = \"VACIO\"\n",
    "\n",
    "alertas.loc[(alertas[\"Cliente?\"]==\"SI\") | (alertas[\"Cliente?\"]==\"SI OK\") | (alertas[\"Cliente?\"]==\"SIS\")| (alertas[\"Cliente?\"]==\"OK\")| (alertas[\"Cliente?\"]==\"SI OK \")| (alertas[\"Cliente?\"]==\"SI \") , \"Clien\"] = \"SI\"\n",
    "alertas.loc[(alertas[\"Cliente?\"]==\"NO\") | (alertas[\"Cliente?\"]==\"ON\") | (alertas[\"Cliente?\"]==\"N0\")| (alertas[\"Cliente?\"]==\"NO \"), \"Clien\"] = \"NO\"\n",
    "alertas.loc[(alertas[\"Clien\"]!=\"NO\") & (alertas[\"Clien\"]!=\"SI\"), \"Clien\"] = \"VACIO\"\n",
    "\n",
    "alertas.loc[(alertas[\"Producto?\"]==\"SI\") | (alertas[\"Producto?\"]==\"SI OK\") | (alertas[\"Producto?\"]==\"SIS\")| (alertas[\"Producto?\"]==\"OK\")| (alertas[\"Producto?\"]==\"SI OK \")| (alertas[\"Producto?\"]==\"SI \") , \"Prod\"] = \"SI\"\n",
    "alertas.loc[(alertas[\"Producto?\"]==\"NO\") | (alertas[\"Producto?\"]==\"ON\") | (alertas[\"Producto?\"]==\"N0\")| (alertas[\"Producto?\"]==\"NO \"), \"Prod\"] = \"NO\"\n",
    "alertas.loc[(alertas[\"Prod\"]!=\"NO\") & (alertas[\"Prod\"]!=\"SI\"), \"Prod\"] = \"VACIO\""
   ]
  },
  {
   "cell_type": "code",
   "execution_count": 12,
   "metadata": {},
   "outputs": [],
   "source": [
    "alertas.loc[(alertas[\"Grab\"]==\"SI\") & (alertas[\"Clien\"]==\"NO\") & (alertas[\"Prod\"]==\"NO\"), \"Falta_CL_PR\"] = \"Alerta\"\n",
    "alertas.loc[(alertas[\"Grab\"]==\"SI\") & (alertas[\"Clien\"]==\"NO\") & (alertas[\"Prod\"]==\"SI\"), \"Falta_CL\"] = \"Alerta\"\n",
    "alertas.loc[(alertas[\"Grab\"]==\"SI\") & (alertas[\"Clien\"]==\"SI\") & (alertas[\"Prod\"]==\"NO\"), \"Falta_PR\"] = \"Alerta\""
   ]
  },
  {
   "cell_type": "code",
   "execution_count": 13,
   "metadata": {},
   "outputs": [],
   "source": [
    "alertas['Falta_CL_PR']=alertas['Falta_CL_PR'].fillna('No Alerta')\n",
    "alertas['Falta_CL']=alertas['Falta_CL'].fillna('No Alerta')\n",
    "alertas['Falta_PR']=alertas['Falta_PR'].fillna('No Alerta')"
   ]
  },
  {
   "cell_type": "code",
   "execution_count": 11,
   "metadata": {},
   "outputs": [],
   "source": [
    "alertas[['Tipo alerta','Cautoriza', 'Desc_local', 'Dcompra_nvo',\n",
    "'Nterminal_nvo', 'Nsecuencia_nvo', 'Hora', 'Cod_Empleado',\n",
    "'Num_Documento', 'nombre_completo', 'Cargo', 'SKU', 'Qcantidad',\n",
    "'Costo_NC-Empleado', 'Grabación?', 'Cliente?', 'Producto?','Indicador','Grab','Clien','Prod','Falta_CL_PR','Falta_CL','Falta_PR']].to_csv('output/inf_alerta_mensual8111.csv')"
   ]
  },
  {
   "cell_type": "code",
   "execution_count": 148,
   "metadata": {},
   "outputs": [],
   "source": [
    "alertas_x_hora = alertas.loc[alertas['Tipo alerta'] == 'Alerta x Hora']\n",
    "alertas_x_monto = alertas.loc[alertas['Tipo alerta'] == 'Alerta x monto']"
   ]
  },
  {
   "cell_type": "code",
   "execution_count": 149,
   "metadata": {},
   "outputs": [
    {
     "data": {
      "text/html": [
       "<div>\n",
       "<style scoped>\n",
       "    .dataframe tbody tr th:only-of-type {\n",
       "        vertical-align: middle;\n",
       "    }\n",
       "\n",
       "    .dataframe tbody tr th {\n",
       "        vertical-align: top;\n",
       "    }\n",
       "\n",
       "    .dataframe thead th {\n",
       "        text-align: right;\n",
       "    }\n",
       "</style>\n",
       "<table border=\"1\" class=\"dataframe\">\n",
       "  <thead>\n",
       "    <tr style=\"text-align: right;\">\n",
       "      <th></th>\n",
       "      <th>Tipo alerta</th>\n",
       "      <th>Cautoriza</th>\n",
       "      <th>Desc_local</th>\n",
       "      <th>Dcompra_nvo</th>\n",
       "      <th>Nterminal_nvo</th>\n",
       "      <th>Nsecuencia_nvo</th>\n",
       "      <th>Hora</th>\n",
       "      <th>Cod_Empleado</th>\n",
       "      <th>Num_Documento</th>\n",
       "      <th>nombre_completo</th>\n",
       "      <th>Cargo</th>\n",
       "      <th>SKU</th>\n",
       "      <th>Qcantidad</th>\n",
       "      <th>Costo_NC-Empleado</th>\n",
       "      <th>Grabación?</th>\n",
       "      <th>Cliente?</th>\n",
       "      <th>Producto?</th>\n",
       "      <th>Observaciones</th>\n",
       "      <th>fecha</th>\n",
       "      <th></th>\n",
       "      <th>Unnamed: 18</th>\n",
       "      <th>Unnamed: 19</th>\n",
       "      <th>Unnamed: 20</th>\n",
       "      <th>Unnamed: 21</th>\n",
       "      <th>gravacion?</th>\n",
       "      <th>Unnamed: 17</th>\n",
       "      <th>OBSERVACION</th>\n",
       "      <th>Observacion</th>\n",
       "      <th>Observacione</th>\n",
       "      <th>s</th>\n",
       "      <th>si</th>\n",
       "      <th>Unnamed: 0</th>\n",
       "      <th>Unnamed: 1</th>\n",
       "      <th>Unnamed: 2</th>\n",
       "      <th>Unnamed: 3</th>\n",
       "      <th>Unnamed: 4</th>\n",
       "      <th>Unnamed: 5</th>\n",
       "      <th>Unnamed: 6</th>\n",
       "      <th>Unnamed: 7</th>\n",
       "      <th>Unnamed: 8</th>\n",
       "      <th>Unnamed: 9</th>\n",
       "      <th>Unnamed: 10</th>\n",
       "      <th>Unnamed: 11</th>\n",
       "      <th>Unnamed: 12</th>\n",
       "      <th>Unnamed: 13</th>\n",
       "      <th>Unnamed: 14</th>\n",
       "      <th>Unnamed: 15</th>\n",
       "      <th>Unnamed: 16</th>\n",
       "      <th>Hay Grabación?</th>\n",
       "      <th>Esta el cliente?</th>\n",
       "      <th>Se revisa el Producto?</th>\n",
       "      <th>Se dejan los  Producto?</th>\n",
       "      <th>OBSERVACIONES</th>\n",
       "      <th>NaN</th>\n",
       "      <th>Unnamed: 22</th>\n",
       "      <th>Unnamed: 23</th>\n",
       "      <th></th>\n",
       "      <th>OMT</th>\n",
       "      <th>56676</th>\n",
       "      <th>Indicador</th>\n",
       "      <th>Grab</th>\n",
       "      <th>Clien</th>\n",
       "      <th>Prod</th>\n",
       "      <th>Falta_CL_PR</th>\n",
       "      <th>Falta_CL</th>\n",
       "      <th>Falta_PR</th>\n",
       "    </tr>\n",
       "  </thead>\n",
       "  <tbody>\n",
       "    <tr>\n",
       "      <th>10</th>\n",
       "      <td>Alerta x Hora</td>\n",
       "      <td>1080911279</td>\n",
       "      <td>ACQUA</td>\n",
       "      <td>2022-09-02 00:00:00</td>\n",
       "      <td>33</td>\n",
       "      <td>6693</td>\n",
       "      <td>2112</td>\n",
       "      <td>102636</td>\n",
       "      <td>1110504794</td>\n",
       "      <td>MOTA MUÑOZ ANGIE YULIETH</td>\n",
       "      <td>ESTUDIANTE EN PRACTICA</td>\n",
       "      <td>2</td>\n",
       "      <td>-2</td>\n",
       "      <td>1174890</td>\n",
       "      <td>SI</td>\n",
       "      <td>SI</td>\n",
       "      <td>SI</td>\n",
       "      <td>NaN</td>\n",
       "      <td>220902</td>\n",
       "      <td>NaN</td>\n",
       "      <td>NaN</td>\n",
       "      <td>NaN</td>\n",
       "      <td>NaN</td>\n",
       "      <td>NaN</td>\n",
       "      <td>NaN</td>\n",
       "      <td>NaN</td>\n",
       "      <td>NaN</td>\n",
       "      <td>NaN</td>\n",
       "      <td>NaN</td>\n",
       "      <td>NaN</td>\n",
       "      <td>NaN</td>\n",
       "      <td>NaN</td>\n",
       "      <td>NaN</td>\n",
       "      <td>NaN</td>\n",
       "      <td>NaN</td>\n",
       "      <td>NaN</td>\n",
       "      <td>NaN</td>\n",
       "      <td>NaN</td>\n",
       "      <td>NaN</td>\n",
       "      <td>NaN</td>\n",
       "      <td>NaN</td>\n",
       "      <td>NaN</td>\n",
       "      <td>NaN</td>\n",
       "      <td>NaN</td>\n",
       "      <td>NaN</td>\n",
       "      <td>NaN</td>\n",
       "      <td>NaN</td>\n",
       "      <td>NaN</td>\n",
       "      <td>NaN</td>\n",
       "      <td>NaN</td>\n",
       "      <td>NaN</td>\n",
       "      <td>NaN</td>\n",
       "      <td>NaN</td>\n",
       "      <td>NaN</td>\n",
       "      <td>NaN</td>\n",
       "      <td>NaN</td>\n",
       "      <td>NaN</td>\n",
       "      <td>NaN</td>\n",
       "      <td>NaN</td>\n",
       "      <td>Diligenciado</td>\n",
       "      <td>SI</td>\n",
       "      <td>SI</td>\n",
       "      <td>SI</td>\n",
       "      <td>No Alerta</td>\n",
       "      <td>No Alerta</td>\n",
       "      <td>No Alerta</td>\n",
       "    </tr>\n",
       "    <tr>\n",
       "      <th>19</th>\n",
       "      <td>Alerta x Hora</td>\n",
       "      <td>1082520622</td>\n",
       "      <td>ACQUA</td>\n",
       "      <td>2022-11-15 00:00:00</td>\n",
       "      <td>31</td>\n",
       "      <td>5626</td>\n",
       "      <td>2101</td>\n",
       "      <td>134694</td>\n",
       "      <td>1121925805</td>\n",
       "      <td>LADINO TEJEIRO ANA MARIA</td>\n",
       "      <td>AUXILIAR DE PREVENCION Y PERDIDAS</td>\n",
       "      <td>1</td>\n",
       "      <td>-1</td>\n",
       "      <td>71994</td>\n",
       "      <td>SI</td>\n",
       "      <td>SI</td>\n",
       "      <td>SI</td>\n",
       "      <td>NaN</td>\n",
       "      <td>221115</td>\n",
       "      <td>NaN</td>\n",
       "      <td>NaN</td>\n",
       "      <td>NaN</td>\n",
       "      <td>NaN</td>\n",
       "      <td>NaN</td>\n",
       "      <td>NaN</td>\n",
       "      <td>NaN</td>\n",
       "      <td>NaN</td>\n",
       "      <td>NaN</td>\n",
       "      <td>NaN</td>\n",
       "      <td>NaN</td>\n",
       "      <td>NaN</td>\n",
       "      <td>NaN</td>\n",
       "      <td>NaN</td>\n",
       "      <td>NaN</td>\n",
       "      <td>NaN</td>\n",
       "      <td>NaN</td>\n",
       "      <td>NaN</td>\n",
       "      <td>NaN</td>\n",
       "      <td>NaN</td>\n",
       "      <td>NaN</td>\n",
       "      <td>NaN</td>\n",
       "      <td>NaN</td>\n",
       "      <td>NaN</td>\n",
       "      <td>NaN</td>\n",
       "      <td>NaN</td>\n",
       "      <td>NaN</td>\n",
       "      <td>NaN</td>\n",
       "      <td>NaN</td>\n",
       "      <td>NaN</td>\n",
       "      <td>NaN</td>\n",
       "      <td>NaN</td>\n",
       "      <td>NaN</td>\n",
       "      <td>NaN</td>\n",
       "      <td>NaN</td>\n",
       "      <td>NaN</td>\n",
       "      <td>NaN</td>\n",
       "      <td>NaN</td>\n",
       "      <td>NaN</td>\n",
       "      <td>NaN</td>\n",
       "      <td>Diligenciado</td>\n",
       "      <td>SI</td>\n",
       "      <td>SI</td>\n",
       "      <td>SI</td>\n",
       "      <td>No Alerta</td>\n",
       "      <td>No Alerta</td>\n",
       "      <td>No Alerta</td>\n",
       "    </tr>\n",
       "    <tr>\n",
       "      <th>20</th>\n",
       "      <td>Alerta x Hora</td>\n",
       "      <td>1082521155</td>\n",
       "      <td>ACQUA</td>\n",
       "      <td>2022-11-15 00:00:00</td>\n",
       "      <td>29</td>\n",
       "      <td>1239</td>\n",
       "      <td>2124</td>\n",
       "      <td>170305</td>\n",
       "      <td>1110571354</td>\n",
       "      <td>ZABALA PAEZ SHIRLEY CAROLINA</td>\n",
       "      <td>VENDEDOR INTEGRAL</td>\n",
       "      <td>2</td>\n",
       "      <td>-2</td>\n",
       "      <td>1549890</td>\n",
       "      <td>SI</td>\n",
       "      <td>SI</td>\n",
       "      <td>SI</td>\n",
       "      <td>NaN</td>\n",
       "      <td>221115</td>\n",
       "      <td>NaN</td>\n",
       "      <td>NaN</td>\n",
       "      <td>NaN</td>\n",
       "      <td>NaN</td>\n",
       "      <td>NaN</td>\n",
       "      <td>NaN</td>\n",
       "      <td>NaN</td>\n",
       "      <td>NaN</td>\n",
       "      <td>NaN</td>\n",
       "      <td>NaN</td>\n",
       "      <td>NaN</td>\n",
       "      <td>NaN</td>\n",
       "      <td>NaN</td>\n",
       "      <td>NaN</td>\n",
       "      <td>NaN</td>\n",
       "      <td>NaN</td>\n",
       "      <td>NaN</td>\n",
       "      <td>NaN</td>\n",
       "      <td>NaN</td>\n",
       "      <td>NaN</td>\n",
       "      <td>NaN</td>\n",
       "      <td>NaN</td>\n",
       "      <td>NaN</td>\n",
       "      <td>NaN</td>\n",
       "      <td>NaN</td>\n",
       "      <td>NaN</td>\n",
       "      <td>NaN</td>\n",
       "      <td>NaN</td>\n",
       "      <td>NaN</td>\n",
       "      <td>NaN</td>\n",
       "      <td>NaN</td>\n",
       "      <td>NaN</td>\n",
       "      <td>NaN</td>\n",
       "      <td>NaN</td>\n",
       "      <td>NaN</td>\n",
       "      <td>NaN</td>\n",
       "      <td>NaN</td>\n",
       "      <td>NaN</td>\n",
       "      <td>NaN</td>\n",
       "      <td>NaN</td>\n",
       "      <td>Diligenciado</td>\n",
       "      <td>SI</td>\n",
       "      <td>SI</td>\n",
       "      <td>SI</td>\n",
       "      <td>No Alerta</td>\n",
       "      <td>No Alerta</td>\n",
       "      <td>No Alerta</td>\n",
       "    </tr>\n",
       "    <tr>\n",
       "      <th>21</th>\n",
       "      <td>Alerta x Hora</td>\n",
       "      <td>1082521568</td>\n",
       "      <td>ACQUA</td>\n",
       "      <td>2022-11-15 00:00:00</td>\n",
       "      <td>6</td>\n",
       "      <td>892</td>\n",
       "      <td>2149</td>\n",
       "      <td>118540</td>\n",
       "      <td>65719613</td>\n",
       "      <td>YATE LAVAO LUCY CATALINA</td>\n",
       "      <td>ASESOR DE COMPRAS</td>\n",
       "      <td>13</td>\n",
       "      <td>-13</td>\n",
       "      <td>463407</td>\n",
       "      <td>SI</td>\n",
       "      <td>SI</td>\n",
       "      <td>SI</td>\n",
       "      <td>NaN</td>\n",
       "      <td>221115</td>\n",
       "      <td>NaN</td>\n",
       "      <td>NaN</td>\n",
       "      <td>NaN</td>\n",
       "      <td>NaN</td>\n",
       "      <td>NaN</td>\n",
       "      <td>NaN</td>\n",
       "      <td>NaN</td>\n",
       "      <td>NaN</td>\n",
       "      <td>NaN</td>\n",
       "      <td>NaN</td>\n",
       "      <td>NaN</td>\n",
       "      <td>NaN</td>\n",
       "      <td>NaN</td>\n",
       "      <td>NaN</td>\n",
       "      <td>NaN</td>\n",
       "      <td>NaN</td>\n",
       "      <td>NaN</td>\n",
       "      <td>NaN</td>\n",
       "      <td>NaN</td>\n",
       "      <td>NaN</td>\n",
       "      <td>NaN</td>\n",
       "      <td>NaN</td>\n",
       "      <td>NaN</td>\n",
       "      <td>NaN</td>\n",
       "      <td>NaN</td>\n",
       "      <td>NaN</td>\n",
       "      <td>NaN</td>\n",
       "      <td>NaN</td>\n",
       "      <td>NaN</td>\n",
       "      <td>NaN</td>\n",
       "      <td>NaN</td>\n",
       "      <td>NaN</td>\n",
       "      <td>NaN</td>\n",
       "      <td>NaN</td>\n",
       "      <td>NaN</td>\n",
       "      <td>NaN</td>\n",
       "      <td>NaN</td>\n",
       "      <td>NaN</td>\n",
       "      <td>NaN</td>\n",
       "      <td>NaN</td>\n",
       "      <td>Diligenciado</td>\n",
       "      <td>SI</td>\n",
       "      <td>SI</td>\n",
       "      <td>SI</td>\n",
       "      <td>No Alerta</td>\n",
       "      <td>No Alerta</td>\n",
       "      <td>No Alerta</td>\n",
       "    </tr>\n",
       "    <tr>\n",
       "      <th>22</th>\n",
       "      <td>Alerta x Hora</td>\n",
       "      <td>1082521810</td>\n",
       "      <td>ACQUA</td>\n",
       "      <td>2022-11-15 00:00:00</td>\n",
       "      <td>5</td>\n",
       "      <td>7608</td>\n",
       "      <td>2205</td>\n",
       "      <td>131555</td>\n",
       "      <td>1110566060</td>\n",
       "      <td>PEREA PINTO FRANK DAVID</td>\n",
       "      <td>VENDEDOR INTEGRAL</td>\n",
       "      <td>2</td>\n",
       "      <td>-2</td>\n",
       "      <td>1999901</td>\n",
       "      <td>SI</td>\n",
       "      <td>SI</td>\n",
       "      <td>SI</td>\n",
       "      <td>NaN</td>\n",
       "      <td>221115</td>\n",
       "      <td>NaN</td>\n",
       "      <td>NaN</td>\n",
       "      <td>NaN</td>\n",
       "      <td>NaN</td>\n",
       "      <td>NaN</td>\n",
       "      <td>NaN</td>\n",
       "      <td>NaN</td>\n",
       "      <td>NaN</td>\n",
       "      <td>NaN</td>\n",
       "      <td>NaN</td>\n",
       "      <td>NaN</td>\n",
       "      <td>NaN</td>\n",
       "      <td>NaN</td>\n",
       "      <td>NaN</td>\n",
       "      <td>NaN</td>\n",
       "      <td>NaN</td>\n",
       "      <td>NaN</td>\n",
       "      <td>NaN</td>\n",
       "      <td>NaN</td>\n",
       "      <td>NaN</td>\n",
       "      <td>NaN</td>\n",
       "      <td>NaN</td>\n",
       "      <td>NaN</td>\n",
       "      <td>NaN</td>\n",
       "      <td>NaN</td>\n",
       "      <td>NaN</td>\n",
       "      <td>NaN</td>\n",
       "      <td>NaN</td>\n",
       "      <td>NaN</td>\n",
       "      <td>NaN</td>\n",
       "      <td>NaN</td>\n",
       "      <td>NaN</td>\n",
       "      <td>NaN</td>\n",
       "      <td>NaN</td>\n",
       "      <td>NaN</td>\n",
       "      <td>NaN</td>\n",
       "      <td>NaN</td>\n",
       "      <td>NaN</td>\n",
       "      <td>NaN</td>\n",
       "      <td>NaN</td>\n",
       "      <td>Diligenciado</td>\n",
       "      <td>SI</td>\n",
       "      <td>SI</td>\n",
       "      <td>SI</td>\n",
       "      <td>No Alerta</td>\n",
       "      <td>No Alerta</td>\n",
       "      <td>No Alerta</td>\n",
       "    </tr>\n",
       "  </tbody>\n",
       "</table>\n",
       "</div>"
      ],
      "text/plain": [
       "      Tipo alerta   Cautoriza Desc_local          Dcompra_nvo Nterminal_nvo  \\\n",
       "10  Alerta x Hora  1080911279      ACQUA  2022-09-02 00:00:00            33   \n",
       "19  Alerta x Hora  1082520622      ACQUA  2022-11-15 00:00:00            31   \n",
       "20  Alerta x Hora  1082521155      ACQUA  2022-11-15 00:00:00            29   \n",
       "21  Alerta x Hora  1082521568      ACQUA  2022-11-15 00:00:00             6   \n",
       "22  Alerta x Hora  1082521810      ACQUA  2022-11-15 00:00:00             5   \n",
       "\n",
       "   Nsecuencia_nvo  Hora Cod_Empleado Num_Documento  \\\n",
       "10           6693  2112       102636    1110504794   \n",
       "19           5626  2101       134694    1121925805   \n",
       "20           1239  2124       170305    1110571354   \n",
       "21            892  2149       118540      65719613   \n",
       "22           7608  2205       131555    1110566060   \n",
       "\n",
       "                 nombre_completo                              Cargo SKU  \\\n",
       "10      MOTA MUÑOZ ANGIE YULIETH             ESTUDIANTE EN PRACTICA   2   \n",
       "19      LADINO TEJEIRO ANA MARIA  AUXILIAR DE PREVENCION Y PERDIDAS   1   \n",
       "20  ZABALA PAEZ SHIRLEY CAROLINA                  VENDEDOR INTEGRAL   2   \n",
       "21      YATE LAVAO LUCY CATALINA                  ASESOR DE COMPRAS  13   \n",
       "22       PEREA PINTO FRANK DAVID                  VENDEDOR INTEGRAL   2   \n",
       "\n",
       "   Qcantidad Costo_NC-Empleado Grabación? Cliente? Producto? Observaciones  \\\n",
       "10        -2           1174890         SI       SI        SI           NaN   \n",
       "19        -1             71994         SI       SI        SI           NaN   \n",
       "20        -2           1549890         SI       SI        SI           NaN   \n",
       "21       -13            463407         SI       SI        SI           NaN   \n",
       "22        -2           1999901         SI       SI        SI           NaN   \n",
       "\n",
       "     fecha      Unnamed: 18 Unnamed: 19 Unnamed: 20 Unnamed: 21 gravacion?  \\\n",
       "10  220902  NaN         NaN         NaN         NaN         NaN        NaN   \n",
       "19  221115  NaN         NaN         NaN         NaN         NaN        NaN   \n",
       "20  221115  NaN         NaN         NaN         NaN         NaN        NaN   \n",
       "21  221115  NaN         NaN         NaN         NaN         NaN        NaN   \n",
       "22  221115  NaN         NaN         NaN         NaN         NaN        NaN   \n",
       "\n",
       "   Unnamed: 17 OBSERVACION Observacion Observacione    s   si Unnamed: 0  \\\n",
       "10         NaN         NaN         NaN          NaN  NaN  NaN        NaN   \n",
       "19         NaN         NaN         NaN          NaN  NaN  NaN        NaN   \n",
       "20         NaN         NaN         NaN          NaN  NaN  NaN        NaN   \n",
       "21         NaN         NaN         NaN          NaN  NaN  NaN        NaN   \n",
       "22         NaN         NaN         NaN          NaN  NaN  NaN        NaN   \n",
       "\n",
       "   Unnamed: 1 Unnamed: 2 Unnamed: 3 Unnamed: 4 Unnamed: 5 Unnamed: 6  \\\n",
       "10        NaN        NaN        NaN        NaN        NaN        NaN   \n",
       "19        NaN        NaN        NaN        NaN        NaN        NaN   \n",
       "20        NaN        NaN        NaN        NaN        NaN        NaN   \n",
       "21        NaN        NaN        NaN        NaN        NaN        NaN   \n",
       "22        NaN        NaN        NaN        NaN        NaN        NaN   \n",
       "\n",
       "   Unnamed: 7 Unnamed: 8 Unnamed: 9 Unnamed: 10 Unnamed: 11 Unnamed: 12  \\\n",
       "10        NaN        NaN        NaN         NaN         NaN         NaN   \n",
       "19        NaN        NaN        NaN         NaN         NaN         NaN   \n",
       "20        NaN        NaN        NaN         NaN         NaN         NaN   \n",
       "21        NaN        NaN        NaN         NaN         NaN         NaN   \n",
       "22        NaN        NaN        NaN         NaN         NaN         NaN   \n",
       "\n",
       "   Unnamed: 13 Unnamed: 14 Unnamed: 15 Unnamed: 16 Hay Grabación?  \\\n",
       "10         NaN         NaN         NaN         NaN            NaN   \n",
       "19         NaN         NaN         NaN         NaN            NaN   \n",
       "20         NaN         NaN         NaN         NaN            NaN   \n",
       "21         NaN         NaN         NaN         NaN            NaN   \n",
       "22         NaN         NaN         NaN         NaN            NaN   \n",
       "\n",
       "   Esta el cliente?  Se revisa el Producto?  Se dejan los  Producto?  \\\n",
       "10              NaN                     NaN                      NaN   \n",
       "19              NaN                     NaN                      NaN   \n",
       "20              NaN                     NaN                      NaN   \n",
       "21              NaN                     NaN                      NaN   \n",
       "22              NaN                     NaN                      NaN   \n",
       "\n",
       "   OBSERVACIONES  NaN Unnamed: 22 Unnamed: 23       OMT 56676     Indicador  \\\n",
       "10           NaN  NaN         NaN         NaN  NaN  NaN   NaN  Diligenciado   \n",
       "19           NaN  NaN         NaN         NaN  NaN  NaN   NaN  Diligenciado   \n",
       "20           NaN  NaN         NaN         NaN  NaN  NaN   NaN  Diligenciado   \n",
       "21           NaN  NaN         NaN         NaN  NaN  NaN   NaN  Diligenciado   \n",
       "22           NaN  NaN         NaN         NaN  NaN  NaN   NaN  Diligenciado   \n",
       "\n",
       "   Grab Clien Prod Falta_CL_PR   Falta_CL   Falta_PR  \n",
       "10   SI    SI   SI   No Alerta  No Alerta  No Alerta  \n",
       "19   SI    SI   SI   No Alerta  No Alerta  No Alerta  \n",
       "20   SI    SI   SI   No Alerta  No Alerta  No Alerta  \n",
       "21   SI    SI   SI   No Alerta  No Alerta  No Alerta  \n",
       "22   SI    SI   SI   No Alerta  No Alerta  No Alerta  "
      ]
     },
     "execution_count": 149,
     "metadata": {},
     "output_type": "execute_result"
    }
   ],
   "source": [
    "alertas_x_hora.head()"
   ]
  },
  {
   "cell_type": "code",
   "execution_count": 150,
   "metadata": {},
   "outputs": [
    {
     "data": {
      "text/plain": [
       "835"
      ]
     },
     "execution_count": 150,
     "metadata": {},
     "output_type": "execute_result"
    }
   ],
   "source": [
    "alertas_x_hora.Cautoriza.nunique()"
   ]
  },
  {
   "cell_type": "code",
   "execution_count": 151,
   "metadata": {},
   "outputs": [
    {
     "data": {
      "text/plain": [
       "Index([             'Tipo alerta',                'Cautoriza',\n",
       "                     'Desc_local',              'Dcompra_nvo',\n",
       "                  'Nterminal_nvo',           'Nsecuencia_nvo',\n",
       "                           'Hora',             'Cod_Empleado',\n",
       "                  'Num_Documento',          'nombre_completo',\n",
       "                          'Cargo',                      'SKU',\n",
       "                      'Qcantidad',        'Costo_NC-Empleado',\n",
       "                     'Grabación?',                 'Cliente?',\n",
       "                      'Producto?',            'Observaciones',\n",
       "                          'fecha',                        ' ',\n",
       "                    'Unnamed: 18',              'Unnamed: 19',\n",
       "                    'Unnamed: 20',              'Unnamed: 21',\n",
       "                     'gravacion?',              'Unnamed: 17',\n",
       "                    'OBSERVACION',              'Observacion',\n",
       "                   'Observacione',                        's',\n",
       "                             'si',               'Unnamed: 0',\n",
       "                     'Unnamed: 1',               'Unnamed: 2',\n",
       "                     'Unnamed: 3',               'Unnamed: 4',\n",
       "                     'Unnamed: 5',               'Unnamed: 6',\n",
       "                     'Unnamed: 7',               'Unnamed: 8',\n",
       "                     'Unnamed: 9',              'Unnamed: 10',\n",
       "                    'Unnamed: 11',              'Unnamed: 12',\n",
       "                    'Unnamed: 13',              'Unnamed: 14',\n",
       "                    'Unnamed: 15',              'Unnamed: 16',\n",
       "                 'Hay Grabación?',         'Esta el cliente?',\n",
       "        ' Se revisa el Producto?', ' Se dejan los  Producto?',\n",
       "                  'OBSERVACIONES',                        nan,\n",
       "                    'Unnamed: 22',              'Unnamed: 23',\n",
       "                           '    ',                      'OMT',\n",
       "                            56676,                'Indicador',\n",
       "                           'Grab',                    'Clien',\n",
       "                           'Prod',              'Falta_CL_PR',\n",
       "                       'Falta_CL',                 'Falta_PR'],\n",
       "      dtype='object')"
      ]
     },
     "execution_count": 151,
     "metadata": {},
     "output_type": "execute_result"
    }
   ],
   "source": [
    "alertas_x_hora.columns"
   ]
  },
  {
   "cell_type": "code",
   "execution_count": 152,
   "metadata": {},
   "outputs": [
    {
     "name": "stderr",
     "output_type": "stream",
     "text": [
      "C:\\Users\\valetorresr\\AppData\\Local\\Temp\\ipykernel_17876\\3762780082.py:1: SettingWithCopyWarning:\n",
      "\n",
      "\n",
      "A value is trying to be set on a copy of a slice from a DataFrame.\n",
      "Try using .loc[row_indexer,col_indexer] = value instead\n",
      "\n",
      "See the caveats in the documentation: https://pandas.pydata.org/pandas-docs/stable/user_guide/indexing.html#returning-a-view-versus-a-copy\n",
      "\n"
     ]
    },
    {
     "name": "stdout",
     "output_type": "stream",
     "text": [
      "cantidad de alertas generadas en el corte: 835\n"
     ]
    },
    {
     "data": {
      "application/vnd.plotly.v1+json": {
       "config": {
        "plotlyServerURL": "https://plot.ly"
       },
       "data": [
        {
         "alignmentgroup": "True",
         "hovertemplate": "Indicador=Diligenciado<br>Local=%{x}<br>Cantidad NCs=%{text}<extra></extra>",
         "legendgroup": "Diligenciado",
         "marker": {
          "color": "rgb(45, 136, 45)",
          "pattern": {
           "shape": ""
          }
         },
         "name": "Diligenciado",
         "offsetgroup": "Diligenciado",
         "orientation": "v",
         "showlegend": true,
         "text": [
          63,
          63,
          61,
          60,
          55,
          46,
          33,
          26,
          20,
          18,
          17,
          17,
          16,
          16,
          16,
          14,
          13,
          11,
          11,
          10,
          9,
          7,
          5,
          5,
          4,
          4
         ],
         "textposition": "auto",
         "type": "bar",
         "x": [
          "COLINA",
          "TITAN",
          "SANTAFE MEDELLIN",
          "CENTRO MAYOR",
          "SUBA",
          "BUENAVISTA",
          "CACIQUE",
          "ARKADIA",
          "GALERIAS",
          "FONTANAR",
          "PARQUE ARBOLEDA",
          "LA FELICIDAD",
          "JARDIN PLAZA",
          "PLAZA CENTRAL",
          "SANTA FE",
          "LA CAROLA",
          "SAN DIEGO",
          "EL CASTILLO",
          "PRIMAVERA",
          "HAYUELOS",
          "CARACOLI",
          "TIENDA ALEGRA",
          "ACQUA",
          "DIVER PLAZA",
          "UNICENTRO",
          "WTC CALI"
         ],
         "xaxis": "x",
         "y": [
          63,
          63,
          61,
          60,
          55,
          46,
          33,
          26,
          20,
          18,
          17,
          17,
          16,
          16,
          16,
          14,
          13,
          11,
          11,
          10,
          9,
          7,
          5,
          5,
          4,
          4
         ],
         "yaxis": "y"
        },
        {
         "alignmentgroup": "True",
         "hovertemplate": "Indicador=No diligenciado<br>Local=%{x}<br>Cantidad NCs=%{text}<extra></extra>",
         "legendgroup": "No diligenciado",
         "marker": {
          "color": "rgb(170, 57, 57)",
          "pattern": {
           "shape": ""
          }
         },
         "name": "No diligenciado",
         "offsetgroup": "No diligenciado",
         "orientation": "v",
         "showlegend": true,
         "text": [
          53,
          21,
          19,
          16,
          15,
          11,
          11,
          10,
          10,
          9,
          7,
          7,
          7,
          5,
          3,
          3,
          2,
          2,
          1,
          1,
          1,
          1
         ],
         "textposition": "auto",
         "type": "bar",
         "x": [
          "TITAN",
          "COLINA",
          "CARACOLI",
          "SUBA",
          "WTC CALI",
          "GALERIAS",
          "SANTA FE",
          "JARDIN PLAZA",
          "UNICENTRO",
          "HAYUELOS",
          "CENTRO MAYOR",
          "CACIQUE",
          "ARKADIA",
          "LA FELICIDAD",
          "SAN DIEGO",
          "PARQUE ARBOLEDA",
          "EL CASTILLO",
          "BUENAVISTA",
          "PRIMAVERA",
          "PLAZA CENTRAL",
          "TIENDA ALEGRA",
          "LA CAROLA"
         ],
         "xaxis": "x",
         "y": [
          53,
          21,
          19,
          16,
          15,
          11,
          11,
          10,
          10,
          9,
          7,
          7,
          7,
          5,
          3,
          3,
          2,
          2,
          1,
          1,
          1,
          1
         ],
         "yaxis": "y"
        }
       ],
       "layout": {
        "barmode": "relative",
        "legend": {
         "title": {
          "text": "Indicador"
         },
         "tracegroupgap": 0,
         "x": 0.7,
         "xanchor": "left",
         "y": 0.95,
         "yanchor": "top"
        },
        "template": {
         "data": {
          "bar": [
           {
            "error_x": {
             "color": "#2a3f5f"
            },
            "error_y": {
             "color": "#2a3f5f"
            },
            "marker": {
             "line": {
              "color": "#E5ECF6",
              "width": 0.5
             },
             "pattern": {
              "fillmode": "overlay",
              "size": 10,
              "solidity": 0.2
             }
            },
            "type": "bar"
           }
          ],
          "barpolar": [
           {
            "marker": {
             "line": {
              "color": "#E5ECF6",
              "width": 0.5
             },
             "pattern": {
              "fillmode": "overlay",
              "size": 10,
              "solidity": 0.2
             }
            },
            "type": "barpolar"
           }
          ],
          "carpet": [
           {
            "aaxis": {
             "endlinecolor": "#2a3f5f",
             "gridcolor": "white",
             "linecolor": "white",
             "minorgridcolor": "white",
             "startlinecolor": "#2a3f5f"
            },
            "baxis": {
             "endlinecolor": "#2a3f5f",
             "gridcolor": "white",
             "linecolor": "white",
             "minorgridcolor": "white",
             "startlinecolor": "#2a3f5f"
            },
            "type": "carpet"
           }
          ],
          "choropleth": [
           {
            "colorbar": {
             "outlinewidth": 0,
             "ticks": ""
            },
            "type": "choropleth"
           }
          ],
          "contour": [
           {
            "colorbar": {
             "outlinewidth": 0,
             "ticks": ""
            },
            "colorscale": [
             [
              0,
              "#0d0887"
             ],
             [
              0.1111111111111111,
              "#46039f"
             ],
             [
              0.2222222222222222,
              "#7201a8"
             ],
             [
              0.3333333333333333,
              "#9c179e"
             ],
             [
              0.4444444444444444,
              "#bd3786"
             ],
             [
              0.5555555555555556,
              "#d8576b"
             ],
             [
              0.6666666666666666,
              "#ed7953"
             ],
             [
              0.7777777777777778,
              "#fb9f3a"
             ],
             [
              0.8888888888888888,
              "#fdca26"
             ],
             [
              1,
              "#f0f921"
             ]
            ],
            "type": "contour"
           }
          ],
          "contourcarpet": [
           {
            "colorbar": {
             "outlinewidth": 0,
             "ticks": ""
            },
            "type": "contourcarpet"
           }
          ],
          "heatmap": [
           {
            "colorbar": {
             "outlinewidth": 0,
             "ticks": ""
            },
            "colorscale": [
             [
              0,
              "#0d0887"
             ],
             [
              0.1111111111111111,
              "#46039f"
             ],
             [
              0.2222222222222222,
              "#7201a8"
             ],
             [
              0.3333333333333333,
              "#9c179e"
             ],
             [
              0.4444444444444444,
              "#bd3786"
             ],
             [
              0.5555555555555556,
              "#d8576b"
             ],
             [
              0.6666666666666666,
              "#ed7953"
             ],
             [
              0.7777777777777778,
              "#fb9f3a"
             ],
             [
              0.8888888888888888,
              "#fdca26"
             ],
             [
              1,
              "#f0f921"
             ]
            ],
            "type": "heatmap"
           }
          ],
          "heatmapgl": [
           {
            "colorbar": {
             "outlinewidth": 0,
             "ticks": ""
            },
            "colorscale": [
             [
              0,
              "#0d0887"
             ],
             [
              0.1111111111111111,
              "#46039f"
             ],
             [
              0.2222222222222222,
              "#7201a8"
             ],
             [
              0.3333333333333333,
              "#9c179e"
             ],
             [
              0.4444444444444444,
              "#bd3786"
             ],
             [
              0.5555555555555556,
              "#d8576b"
             ],
             [
              0.6666666666666666,
              "#ed7953"
             ],
             [
              0.7777777777777778,
              "#fb9f3a"
             ],
             [
              0.8888888888888888,
              "#fdca26"
             ],
             [
              1,
              "#f0f921"
             ]
            ],
            "type": "heatmapgl"
           }
          ],
          "histogram": [
           {
            "marker": {
             "pattern": {
              "fillmode": "overlay",
              "size": 10,
              "solidity": 0.2
             }
            },
            "type": "histogram"
           }
          ],
          "histogram2d": [
           {
            "colorbar": {
             "outlinewidth": 0,
             "ticks": ""
            },
            "colorscale": [
             [
              0,
              "#0d0887"
             ],
             [
              0.1111111111111111,
              "#46039f"
             ],
             [
              0.2222222222222222,
              "#7201a8"
             ],
             [
              0.3333333333333333,
              "#9c179e"
             ],
             [
              0.4444444444444444,
              "#bd3786"
             ],
             [
              0.5555555555555556,
              "#d8576b"
             ],
             [
              0.6666666666666666,
              "#ed7953"
             ],
             [
              0.7777777777777778,
              "#fb9f3a"
             ],
             [
              0.8888888888888888,
              "#fdca26"
             ],
             [
              1,
              "#f0f921"
             ]
            ],
            "type": "histogram2d"
           }
          ],
          "histogram2dcontour": [
           {
            "colorbar": {
             "outlinewidth": 0,
             "ticks": ""
            },
            "colorscale": [
             [
              0,
              "#0d0887"
             ],
             [
              0.1111111111111111,
              "#46039f"
             ],
             [
              0.2222222222222222,
              "#7201a8"
             ],
             [
              0.3333333333333333,
              "#9c179e"
             ],
             [
              0.4444444444444444,
              "#bd3786"
             ],
             [
              0.5555555555555556,
              "#d8576b"
             ],
             [
              0.6666666666666666,
              "#ed7953"
             ],
             [
              0.7777777777777778,
              "#fb9f3a"
             ],
             [
              0.8888888888888888,
              "#fdca26"
             ],
             [
              1,
              "#f0f921"
             ]
            ],
            "type": "histogram2dcontour"
           }
          ],
          "mesh3d": [
           {
            "colorbar": {
             "outlinewidth": 0,
             "ticks": ""
            },
            "type": "mesh3d"
           }
          ],
          "parcoords": [
           {
            "line": {
             "colorbar": {
              "outlinewidth": 0,
              "ticks": ""
             }
            },
            "type": "parcoords"
           }
          ],
          "pie": [
           {
            "automargin": true,
            "type": "pie"
           }
          ],
          "scatter": [
           {
            "fillpattern": {
             "fillmode": "overlay",
             "size": 10,
             "solidity": 0.2
            },
            "type": "scatter"
           }
          ],
          "scatter3d": [
           {
            "line": {
             "colorbar": {
              "outlinewidth": 0,
              "ticks": ""
             }
            },
            "marker": {
             "colorbar": {
              "outlinewidth": 0,
              "ticks": ""
             }
            },
            "type": "scatter3d"
           }
          ],
          "scattercarpet": [
           {
            "marker": {
             "colorbar": {
              "outlinewidth": 0,
              "ticks": ""
             }
            },
            "type": "scattercarpet"
           }
          ],
          "scattergeo": [
           {
            "marker": {
             "colorbar": {
              "outlinewidth": 0,
              "ticks": ""
             }
            },
            "type": "scattergeo"
           }
          ],
          "scattergl": [
           {
            "marker": {
             "colorbar": {
              "outlinewidth": 0,
              "ticks": ""
             }
            },
            "type": "scattergl"
           }
          ],
          "scattermapbox": [
           {
            "marker": {
             "colorbar": {
              "outlinewidth": 0,
              "ticks": ""
             }
            },
            "type": "scattermapbox"
           }
          ],
          "scatterpolar": [
           {
            "marker": {
             "colorbar": {
              "outlinewidth": 0,
              "ticks": ""
             }
            },
            "type": "scatterpolar"
           }
          ],
          "scatterpolargl": [
           {
            "marker": {
             "colorbar": {
              "outlinewidth": 0,
              "ticks": ""
             }
            },
            "type": "scatterpolargl"
           }
          ],
          "scatterternary": [
           {
            "marker": {
             "colorbar": {
              "outlinewidth": 0,
              "ticks": ""
             }
            },
            "type": "scatterternary"
           }
          ],
          "surface": [
           {
            "colorbar": {
             "outlinewidth": 0,
             "ticks": ""
            },
            "colorscale": [
             [
              0,
              "#0d0887"
             ],
             [
              0.1111111111111111,
              "#46039f"
             ],
             [
              0.2222222222222222,
              "#7201a8"
             ],
             [
              0.3333333333333333,
              "#9c179e"
             ],
             [
              0.4444444444444444,
              "#bd3786"
             ],
             [
              0.5555555555555556,
              "#d8576b"
             ],
             [
              0.6666666666666666,
              "#ed7953"
             ],
             [
              0.7777777777777778,
              "#fb9f3a"
             ],
             [
              0.8888888888888888,
              "#fdca26"
             ],
             [
              1,
              "#f0f921"
             ]
            ],
            "type": "surface"
           }
          ],
          "table": [
           {
            "cells": {
             "fill": {
              "color": "#EBF0F8"
             },
             "line": {
              "color": "white"
             }
            },
            "header": {
             "fill": {
              "color": "#C8D4E3"
             },
             "line": {
              "color": "white"
             }
            },
            "type": "table"
           }
          ]
         },
         "layout": {
          "annotationdefaults": {
           "arrowcolor": "#2a3f5f",
           "arrowhead": 0,
           "arrowwidth": 1
          },
          "autotypenumbers": "strict",
          "coloraxis": {
           "colorbar": {
            "outlinewidth": 0,
            "ticks": ""
           }
          },
          "colorscale": {
           "diverging": [
            [
             0,
             "#8e0152"
            ],
            [
             0.1,
             "#c51b7d"
            ],
            [
             0.2,
             "#de77ae"
            ],
            [
             0.3,
             "#f1b6da"
            ],
            [
             0.4,
             "#fde0ef"
            ],
            [
             0.5,
             "#f7f7f7"
            ],
            [
             0.6,
             "#e6f5d0"
            ],
            [
             0.7,
             "#b8e186"
            ],
            [
             0.8,
             "#7fbc41"
            ],
            [
             0.9,
             "#4d9221"
            ],
            [
             1,
             "#276419"
            ]
           ],
           "sequential": [
            [
             0,
             "#0d0887"
            ],
            [
             0.1111111111111111,
             "#46039f"
            ],
            [
             0.2222222222222222,
             "#7201a8"
            ],
            [
             0.3333333333333333,
             "#9c179e"
            ],
            [
             0.4444444444444444,
             "#bd3786"
            ],
            [
             0.5555555555555556,
             "#d8576b"
            ],
            [
             0.6666666666666666,
             "#ed7953"
            ],
            [
             0.7777777777777778,
             "#fb9f3a"
            ],
            [
             0.8888888888888888,
             "#fdca26"
            ],
            [
             1,
             "#f0f921"
            ]
           ],
           "sequentialminus": [
            [
             0,
             "#0d0887"
            ],
            [
             0.1111111111111111,
             "#46039f"
            ],
            [
             0.2222222222222222,
             "#7201a8"
            ],
            [
             0.3333333333333333,
             "#9c179e"
            ],
            [
             0.4444444444444444,
             "#bd3786"
            ],
            [
             0.5555555555555556,
             "#d8576b"
            ],
            [
             0.6666666666666666,
             "#ed7953"
            ],
            [
             0.7777777777777778,
             "#fb9f3a"
            ],
            [
             0.8888888888888888,
             "#fdca26"
            ],
            [
             1,
             "#f0f921"
            ]
           ]
          },
          "colorway": [
           "#636efa",
           "#EF553B",
           "#00cc96",
           "#ab63fa",
           "#FFA15A",
           "#19d3f3",
           "#FF6692",
           "#B6E880",
           "#FF97FF",
           "#FECB52"
          ],
          "font": {
           "color": "#2a3f5f"
          },
          "geo": {
           "bgcolor": "white",
           "lakecolor": "white",
           "landcolor": "#E5ECF6",
           "showlakes": true,
           "showland": true,
           "subunitcolor": "white"
          },
          "hoverlabel": {
           "align": "left"
          },
          "hovermode": "closest",
          "mapbox": {
           "style": "light"
          },
          "paper_bgcolor": "white",
          "plot_bgcolor": "#E5ECF6",
          "polar": {
           "angularaxis": {
            "gridcolor": "white",
            "linecolor": "white",
            "ticks": ""
           },
           "bgcolor": "#E5ECF6",
           "radialaxis": {
            "gridcolor": "white",
            "linecolor": "white",
            "ticks": ""
           }
          },
          "scene": {
           "xaxis": {
            "backgroundcolor": "#E5ECF6",
            "gridcolor": "white",
            "gridwidth": 2,
            "linecolor": "white",
            "showbackground": true,
            "ticks": "",
            "zerolinecolor": "white"
           },
           "yaxis": {
            "backgroundcolor": "#E5ECF6",
            "gridcolor": "white",
            "gridwidth": 2,
            "linecolor": "white",
            "showbackground": true,
            "ticks": "",
            "zerolinecolor": "white"
           },
           "zaxis": {
            "backgroundcolor": "#E5ECF6",
            "gridcolor": "white",
            "gridwidth": 2,
            "linecolor": "white",
            "showbackground": true,
            "ticks": "",
            "zerolinecolor": "white"
           }
          },
          "shapedefaults": {
           "line": {
            "color": "#2a3f5f"
           }
          },
          "ternary": {
           "aaxis": {
            "gridcolor": "white",
            "linecolor": "white",
            "ticks": ""
           },
           "baxis": {
            "gridcolor": "white",
            "linecolor": "white",
            "ticks": ""
           },
           "bgcolor": "#E5ECF6",
           "caxis": {
            "gridcolor": "white",
            "linecolor": "white",
            "ticks": ""
           }
          },
          "title": {
           "x": 0.05
          },
          "xaxis": {
           "automargin": true,
           "gridcolor": "white",
           "linecolor": "white",
           "ticks": "",
           "title": {
            "standoff": 15
           },
           "zerolinecolor": "white",
           "zerolinewidth": 2
          },
          "yaxis": {
           "automargin": true,
           "gridcolor": "white",
           "linecolor": "white",
           "ticks": "",
           "title": {
            "standoff": 15
           },
           "zerolinecolor": "white",
           "zerolinewidth": 2
          }
         }
        },
        "title": {
         "text": "Cantidad de alertas por hora revisadas por tienda <br>Corte: 2022-08-01 hasta el 2022-11-25"
        },
        "xaxis": {
         "anchor": "y",
         "categoryorder": "total descending",
         "domain": [
          0,
          1
         ],
         "title": {
          "text": "Local"
         }
        },
        "yaxis": {
         "anchor": "x",
         "domain": [
          0,
          1
         ],
         "title": {
          "text": "Cantidad NCs"
         }
        }
       }
      }
     },
     "metadata": {},
     "output_type": "display_data"
    }
   ],
   "source": [
    "\n",
    "alertas_x_hora[\"fecha\"] =  pd.to_datetime(alertas_x_hora.fecha, yearfirst=True)\n",
    "al_x_hora = alertas_x_hora.loc[(alertas_x_hora[\"fecha\"] >= fecha_inicio) & (alertas_x_hora[\"fecha\"] <= fecha_final)].reset_index(drop=True)\n",
    "al_x_hora[\"Grabación?\"] = al_x_hora[\"Grabación?\"].str.upper()\n",
    "al_x_hora[\"Grabación?\"] = al_x_hora[\"Grabación?\"].fillna(\"nan\")\n",
    "al_x_hora.loc[(al_x_hora[\"Grabación?\"].str.contains(\"NO\")) | (al_x_hora[\"Grabación?\"].notna()) & (al_x_hora[\"Cliente?\"].notna()) & (al_x_hora[\"Producto?\"].notna()),\"Indicador\"] = \"Diligenciado\"\n",
    "al_x_hora.loc[al_x_hora[\"Grabación?\"] ==\"nan\", \"Grabación?\" ] = np.nan\n",
    "print(f'cantidad de alertas generadas en el corte: {al_x_hora.shape[0]}')\n",
    "al_x_hora.loc[(al_x_hora[\"Grabación?\"].notna()) & (al_x_hora[\"Cliente?\"].notna()) & (al_x_hora[\"Producto?\"].notna()), \"Indicador\"] = \"Diligenciado\"\n",
    "al_x_hora.loc[al_x_hora[\"Indicador\"] != \"Diligenciado\", \"Indicador\"] = \"No diligenciado\"\n",
    "fig_al_x_hora = al_x_hora.groupby([\"Desc_local\",\"Indicador\"]).agg({\"Cautoriza\":\"nunique\",}).reset_index().sort_values(\"Cautoriza\", ascending=False)\n",
    "h_fig = px.bar(fig_al_x_hora, x=\"Desc_local\", y=\"Cautoriza\",color=\"Indicador\",text=\"Cautoriza\",color_discrete_map = {'No diligenciado':'rgb(170, 57, 57)','Diligenciado':'rgb(45, 136, 45)'}, title=f\"Cantidad de alertas por hora revisadas por tienda <br>Corte: {fecha_inicio} hasta el {fecha_final}\", labels={\"Desc_local\":\"Local\",\"Cautoriza\":\"Cantidad NCs\"}) \n",
    "h_fig.update_layout(xaxis_categoryorder = 'total descending',legend=dict(yanchor=\"top\", y=0.95, xanchor=\"left\", x=0.7))\n",
    "h_fig.write_image(f\"output/{dt_string}alerta_horas.jpg\", height = 600, width = 1000)\n",
    "h_fig.show()\n",
    "al_x_hora.to_excel(f\"output/{dt_string}_alertas_x_hora.xlsx\", index=False)"
   ]
  },
  {
   "cell_type": "code",
   "execution_count": 153,
   "metadata": {},
   "outputs": [
    {
     "data": {
      "text/html": [
       "<div>\n",
       "<style scoped>\n",
       "    .dataframe tbody tr th:only-of-type {\n",
       "        vertical-align: middle;\n",
       "    }\n",
       "\n",
       "    .dataframe tbody tr th {\n",
       "        vertical-align: top;\n",
       "    }\n",
       "\n",
       "    .dataframe thead th {\n",
       "        text-align: right;\n",
       "    }\n",
       "</style>\n",
       "<table border=\"1\" class=\"dataframe\">\n",
       "  <thead>\n",
       "    <tr style=\"text-align: right;\">\n",
       "      <th></th>\n",
       "      <th>Tipo alerta</th>\n",
       "      <th>Cautoriza</th>\n",
       "      <th>Desc_local</th>\n",
       "      <th>Dcompra_nvo</th>\n",
       "      <th>Nterminal_nvo</th>\n",
       "      <th>Nsecuencia_nvo</th>\n",
       "      <th>Hora</th>\n",
       "      <th>Cod_Empleado</th>\n",
       "      <th>Num_Documento</th>\n",
       "      <th>nombre_completo</th>\n",
       "      <th>Cargo</th>\n",
       "      <th>SKU</th>\n",
       "      <th>Qcantidad</th>\n",
       "      <th>Costo_NC-Empleado</th>\n",
       "      <th>Grabación?</th>\n",
       "      <th>Cliente?</th>\n",
       "      <th>Producto?</th>\n",
       "      <th>Observaciones</th>\n",
       "      <th>fecha</th>\n",
       "      <th></th>\n",
       "      <th>Unnamed: 18</th>\n",
       "      <th>Unnamed: 19</th>\n",
       "      <th>Unnamed: 20</th>\n",
       "      <th>Unnamed: 21</th>\n",
       "      <th>gravacion?</th>\n",
       "      <th>Unnamed: 17</th>\n",
       "      <th>OBSERVACION</th>\n",
       "      <th>Observacion</th>\n",
       "      <th>Observacione</th>\n",
       "      <th>s</th>\n",
       "      <th>si</th>\n",
       "      <th>Unnamed: 0</th>\n",
       "      <th>Unnamed: 1</th>\n",
       "      <th>Unnamed: 2</th>\n",
       "      <th>Unnamed: 3</th>\n",
       "      <th>Unnamed: 4</th>\n",
       "      <th>Unnamed: 5</th>\n",
       "      <th>Unnamed: 6</th>\n",
       "      <th>Unnamed: 7</th>\n",
       "      <th>Unnamed: 8</th>\n",
       "      <th>Unnamed: 9</th>\n",
       "      <th>Unnamed: 10</th>\n",
       "      <th>Unnamed: 11</th>\n",
       "      <th>Unnamed: 12</th>\n",
       "      <th>Unnamed: 13</th>\n",
       "      <th>Unnamed: 14</th>\n",
       "      <th>Unnamed: 15</th>\n",
       "      <th>Unnamed: 16</th>\n",
       "      <th>Hay Grabación?</th>\n",
       "      <th>Esta el cliente?</th>\n",
       "      <th>Se revisa el Producto?</th>\n",
       "      <th>Se dejan los  Producto?</th>\n",
       "      <th>OBSERVACIONES</th>\n",
       "      <th>NaN</th>\n",
       "      <th>Unnamed: 22</th>\n",
       "      <th>Unnamed: 23</th>\n",
       "      <th></th>\n",
       "      <th>OMT</th>\n",
       "      <th>56676</th>\n",
       "      <th>Indicador</th>\n",
       "      <th>Grab</th>\n",
       "      <th>Clien</th>\n",
       "      <th>Prod</th>\n",
       "      <th>Falta_CL_PR</th>\n",
       "      <th>Falta_CL</th>\n",
       "      <th>Falta_PR</th>\n",
       "    </tr>\n",
       "  </thead>\n",
       "  <tbody>\n",
       "    <tr>\n",
       "      <th>0</th>\n",
       "      <td>Alerta x Hora</td>\n",
       "      <td>1080911279</td>\n",
       "      <td>ACQUA</td>\n",
       "      <td>2022-09-02 00:00:00</td>\n",
       "      <td>33</td>\n",
       "      <td>6693</td>\n",
       "      <td>2112</td>\n",
       "      <td>102636</td>\n",
       "      <td>1110504794</td>\n",
       "      <td>MOTA MUÑOZ ANGIE YULIETH</td>\n",
       "      <td>ESTUDIANTE EN PRACTICA</td>\n",
       "      <td>2</td>\n",
       "      <td>-2</td>\n",
       "      <td>1174890</td>\n",
       "      <td>SI</td>\n",
       "      <td>SI</td>\n",
       "      <td>SI</td>\n",
       "      <td>NaN</td>\n",
       "      <td>2022-09-02</td>\n",
       "      <td>NaN</td>\n",
       "      <td>NaN</td>\n",
       "      <td>NaN</td>\n",
       "      <td>NaN</td>\n",
       "      <td>NaN</td>\n",
       "      <td>NaN</td>\n",
       "      <td>NaN</td>\n",
       "      <td>NaN</td>\n",
       "      <td>NaN</td>\n",
       "      <td>NaN</td>\n",
       "      <td>NaN</td>\n",
       "      <td>NaN</td>\n",
       "      <td>NaN</td>\n",
       "      <td>NaN</td>\n",
       "      <td>NaN</td>\n",
       "      <td>NaN</td>\n",
       "      <td>NaN</td>\n",
       "      <td>NaN</td>\n",
       "      <td>NaN</td>\n",
       "      <td>NaN</td>\n",
       "      <td>NaN</td>\n",
       "      <td>NaN</td>\n",
       "      <td>NaN</td>\n",
       "      <td>NaN</td>\n",
       "      <td>NaN</td>\n",
       "      <td>NaN</td>\n",
       "      <td>NaN</td>\n",
       "      <td>NaN</td>\n",
       "      <td>NaN</td>\n",
       "      <td>NaN</td>\n",
       "      <td>NaN</td>\n",
       "      <td>NaN</td>\n",
       "      <td>NaN</td>\n",
       "      <td>NaN</td>\n",
       "      <td>NaN</td>\n",
       "      <td>NaN</td>\n",
       "      <td>NaN</td>\n",
       "      <td>NaN</td>\n",
       "      <td>NaN</td>\n",
       "      <td>NaN</td>\n",
       "      <td>Diligenciado</td>\n",
       "      <td>SI</td>\n",
       "      <td>SI</td>\n",
       "      <td>SI</td>\n",
       "      <td>No Alerta</td>\n",
       "      <td>No Alerta</td>\n",
       "      <td>No Alerta</td>\n",
       "    </tr>\n",
       "    <tr>\n",
       "      <th>1</th>\n",
       "      <td>Alerta x Hora</td>\n",
       "      <td>1082520622</td>\n",
       "      <td>ACQUA</td>\n",
       "      <td>2022-11-15 00:00:00</td>\n",
       "      <td>31</td>\n",
       "      <td>5626</td>\n",
       "      <td>2101</td>\n",
       "      <td>134694</td>\n",
       "      <td>1121925805</td>\n",
       "      <td>LADINO TEJEIRO ANA MARIA</td>\n",
       "      <td>AUXILIAR DE PREVENCION Y PERDIDAS</td>\n",
       "      <td>1</td>\n",
       "      <td>-1</td>\n",
       "      <td>71994</td>\n",
       "      <td>SI</td>\n",
       "      <td>SI</td>\n",
       "      <td>SI</td>\n",
       "      <td>NaN</td>\n",
       "      <td>2022-11-15</td>\n",
       "      <td>NaN</td>\n",
       "      <td>NaN</td>\n",
       "      <td>NaN</td>\n",
       "      <td>NaN</td>\n",
       "      <td>NaN</td>\n",
       "      <td>NaN</td>\n",
       "      <td>NaN</td>\n",
       "      <td>NaN</td>\n",
       "      <td>NaN</td>\n",
       "      <td>NaN</td>\n",
       "      <td>NaN</td>\n",
       "      <td>NaN</td>\n",
       "      <td>NaN</td>\n",
       "      <td>NaN</td>\n",
       "      <td>NaN</td>\n",
       "      <td>NaN</td>\n",
       "      <td>NaN</td>\n",
       "      <td>NaN</td>\n",
       "      <td>NaN</td>\n",
       "      <td>NaN</td>\n",
       "      <td>NaN</td>\n",
       "      <td>NaN</td>\n",
       "      <td>NaN</td>\n",
       "      <td>NaN</td>\n",
       "      <td>NaN</td>\n",
       "      <td>NaN</td>\n",
       "      <td>NaN</td>\n",
       "      <td>NaN</td>\n",
       "      <td>NaN</td>\n",
       "      <td>NaN</td>\n",
       "      <td>NaN</td>\n",
       "      <td>NaN</td>\n",
       "      <td>NaN</td>\n",
       "      <td>NaN</td>\n",
       "      <td>NaN</td>\n",
       "      <td>NaN</td>\n",
       "      <td>NaN</td>\n",
       "      <td>NaN</td>\n",
       "      <td>NaN</td>\n",
       "      <td>NaN</td>\n",
       "      <td>Diligenciado</td>\n",
       "      <td>SI</td>\n",
       "      <td>SI</td>\n",
       "      <td>SI</td>\n",
       "      <td>No Alerta</td>\n",
       "      <td>No Alerta</td>\n",
       "      <td>No Alerta</td>\n",
       "    </tr>\n",
       "    <tr>\n",
       "      <th>2</th>\n",
       "      <td>Alerta x Hora</td>\n",
       "      <td>1082521155</td>\n",
       "      <td>ACQUA</td>\n",
       "      <td>2022-11-15 00:00:00</td>\n",
       "      <td>29</td>\n",
       "      <td>1239</td>\n",
       "      <td>2124</td>\n",
       "      <td>170305</td>\n",
       "      <td>1110571354</td>\n",
       "      <td>ZABALA PAEZ SHIRLEY CAROLINA</td>\n",
       "      <td>VENDEDOR INTEGRAL</td>\n",
       "      <td>2</td>\n",
       "      <td>-2</td>\n",
       "      <td>1549890</td>\n",
       "      <td>SI</td>\n",
       "      <td>SI</td>\n",
       "      <td>SI</td>\n",
       "      <td>NaN</td>\n",
       "      <td>2022-11-15</td>\n",
       "      <td>NaN</td>\n",
       "      <td>NaN</td>\n",
       "      <td>NaN</td>\n",
       "      <td>NaN</td>\n",
       "      <td>NaN</td>\n",
       "      <td>NaN</td>\n",
       "      <td>NaN</td>\n",
       "      <td>NaN</td>\n",
       "      <td>NaN</td>\n",
       "      <td>NaN</td>\n",
       "      <td>NaN</td>\n",
       "      <td>NaN</td>\n",
       "      <td>NaN</td>\n",
       "      <td>NaN</td>\n",
       "      <td>NaN</td>\n",
       "      <td>NaN</td>\n",
       "      <td>NaN</td>\n",
       "      <td>NaN</td>\n",
       "      <td>NaN</td>\n",
       "      <td>NaN</td>\n",
       "      <td>NaN</td>\n",
       "      <td>NaN</td>\n",
       "      <td>NaN</td>\n",
       "      <td>NaN</td>\n",
       "      <td>NaN</td>\n",
       "      <td>NaN</td>\n",
       "      <td>NaN</td>\n",
       "      <td>NaN</td>\n",
       "      <td>NaN</td>\n",
       "      <td>NaN</td>\n",
       "      <td>NaN</td>\n",
       "      <td>NaN</td>\n",
       "      <td>NaN</td>\n",
       "      <td>NaN</td>\n",
       "      <td>NaN</td>\n",
       "      <td>NaN</td>\n",
       "      <td>NaN</td>\n",
       "      <td>NaN</td>\n",
       "      <td>NaN</td>\n",
       "      <td>NaN</td>\n",
       "      <td>Diligenciado</td>\n",
       "      <td>SI</td>\n",
       "      <td>SI</td>\n",
       "      <td>SI</td>\n",
       "      <td>No Alerta</td>\n",
       "      <td>No Alerta</td>\n",
       "      <td>No Alerta</td>\n",
       "    </tr>\n",
       "    <tr>\n",
       "      <th>3</th>\n",
       "      <td>Alerta x Hora</td>\n",
       "      <td>1082521568</td>\n",
       "      <td>ACQUA</td>\n",
       "      <td>2022-11-15 00:00:00</td>\n",
       "      <td>6</td>\n",
       "      <td>892</td>\n",
       "      <td>2149</td>\n",
       "      <td>118540</td>\n",
       "      <td>65719613</td>\n",
       "      <td>YATE LAVAO LUCY CATALINA</td>\n",
       "      <td>ASESOR DE COMPRAS</td>\n",
       "      <td>13</td>\n",
       "      <td>-13</td>\n",
       "      <td>463407</td>\n",
       "      <td>SI</td>\n",
       "      <td>SI</td>\n",
       "      <td>SI</td>\n",
       "      <td>NaN</td>\n",
       "      <td>2022-11-15</td>\n",
       "      <td>NaN</td>\n",
       "      <td>NaN</td>\n",
       "      <td>NaN</td>\n",
       "      <td>NaN</td>\n",
       "      <td>NaN</td>\n",
       "      <td>NaN</td>\n",
       "      <td>NaN</td>\n",
       "      <td>NaN</td>\n",
       "      <td>NaN</td>\n",
       "      <td>NaN</td>\n",
       "      <td>NaN</td>\n",
       "      <td>NaN</td>\n",
       "      <td>NaN</td>\n",
       "      <td>NaN</td>\n",
       "      <td>NaN</td>\n",
       "      <td>NaN</td>\n",
       "      <td>NaN</td>\n",
       "      <td>NaN</td>\n",
       "      <td>NaN</td>\n",
       "      <td>NaN</td>\n",
       "      <td>NaN</td>\n",
       "      <td>NaN</td>\n",
       "      <td>NaN</td>\n",
       "      <td>NaN</td>\n",
       "      <td>NaN</td>\n",
       "      <td>NaN</td>\n",
       "      <td>NaN</td>\n",
       "      <td>NaN</td>\n",
       "      <td>NaN</td>\n",
       "      <td>NaN</td>\n",
       "      <td>NaN</td>\n",
       "      <td>NaN</td>\n",
       "      <td>NaN</td>\n",
       "      <td>NaN</td>\n",
       "      <td>NaN</td>\n",
       "      <td>NaN</td>\n",
       "      <td>NaN</td>\n",
       "      <td>NaN</td>\n",
       "      <td>NaN</td>\n",
       "      <td>NaN</td>\n",
       "      <td>Diligenciado</td>\n",
       "      <td>SI</td>\n",
       "      <td>SI</td>\n",
       "      <td>SI</td>\n",
       "      <td>No Alerta</td>\n",
       "      <td>No Alerta</td>\n",
       "      <td>No Alerta</td>\n",
       "    </tr>\n",
       "    <tr>\n",
       "      <th>4</th>\n",
       "      <td>Alerta x Hora</td>\n",
       "      <td>1082521810</td>\n",
       "      <td>ACQUA</td>\n",
       "      <td>2022-11-15 00:00:00</td>\n",
       "      <td>5</td>\n",
       "      <td>7608</td>\n",
       "      <td>2205</td>\n",
       "      <td>131555</td>\n",
       "      <td>1110566060</td>\n",
       "      <td>PEREA PINTO FRANK DAVID</td>\n",
       "      <td>VENDEDOR INTEGRAL</td>\n",
       "      <td>2</td>\n",
       "      <td>-2</td>\n",
       "      <td>1999901</td>\n",
       "      <td>SI</td>\n",
       "      <td>SI</td>\n",
       "      <td>SI</td>\n",
       "      <td>NaN</td>\n",
       "      <td>2022-11-15</td>\n",
       "      <td>NaN</td>\n",
       "      <td>NaN</td>\n",
       "      <td>NaN</td>\n",
       "      <td>NaN</td>\n",
       "      <td>NaN</td>\n",
       "      <td>NaN</td>\n",
       "      <td>NaN</td>\n",
       "      <td>NaN</td>\n",
       "      <td>NaN</td>\n",
       "      <td>NaN</td>\n",
       "      <td>NaN</td>\n",
       "      <td>NaN</td>\n",
       "      <td>NaN</td>\n",
       "      <td>NaN</td>\n",
       "      <td>NaN</td>\n",
       "      <td>NaN</td>\n",
       "      <td>NaN</td>\n",
       "      <td>NaN</td>\n",
       "      <td>NaN</td>\n",
       "      <td>NaN</td>\n",
       "      <td>NaN</td>\n",
       "      <td>NaN</td>\n",
       "      <td>NaN</td>\n",
       "      <td>NaN</td>\n",
       "      <td>NaN</td>\n",
       "      <td>NaN</td>\n",
       "      <td>NaN</td>\n",
       "      <td>NaN</td>\n",
       "      <td>NaN</td>\n",
       "      <td>NaN</td>\n",
       "      <td>NaN</td>\n",
       "      <td>NaN</td>\n",
       "      <td>NaN</td>\n",
       "      <td>NaN</td>\n",
       "      <td>NaN</td>\n",
       "      <td>NaN</td>\n",
       "      <td>NaN</td>\n",
       "      <td>NaN</td>\n",
       "      <td>NaN</td>\n",
       "      <td>NaN</td>\n",
       "      <td>Diligenciado</td>\n",
       "      <td>SI</td>\n",
       "      <td>SI</td>\n",
       "      <td>SI</td>\n",
       "      <td>No Alerta</td>\n",
       "      <td>No Alerta</td>\n",
       "      <td>No Alerta</td>\n",
       "    </tr>\n",
       "  </tbody>\n",
       "</table>\n",
       "</div>"
      ],
      "text/plain": [
       "     Tipo alerta   Cautoriza Desc_local          Dcompra_nvo Nterminal_nvo  \\\n",
       "0  Alerta x Hora  1080911279      ACQUA  2022-09-02 00:00:00            33   \n",
       "1  Alerta x Hora  1082520622      ACQUA  2022-11-15 00:00:00            31   \n",
       "2  Alerta x Hora  1082521155      ACQUA  2022-11-15 00:00:00            29   \n",
       "3  Alerta x Hora  1082521568      ACQUA  2022-11-15 00:00:00             6   \n",
       "4  Alerta x Hora  1082521810      ACQUA  2022-11-15 00:00:00             5   \n",
       "\n",
       "  Nsecuencia_nvo  Hora Cod_Empleado Num_Documento  \\\n",
       "0           6693  2112       102636    1110504794   \n",
       "1           5626  2101       134694    1121925805   \n",
       "2           1239  2124       170305    1110571354   \n",
       "3            892  2149       118540      65719613   \n",
       "4           7608  2205       131555    1110566060   \n",
       "\n",
       "                nombre_completo                              Cargo SKU  \\\n",
       "0      MOTA MUÑOZ ANGIE YULIETH             ESTUDIANTE EN PRACTICA   2   \n",
       "1      LADINO TEJEIRO ANA MARIA  AUXILIAR DE PREVENCION Y PERDIDAS   1   \n",
       "2  ZABALA PAEZ SHIRLEY CAROLINA                  VENDEDOR INTEGRAL   2   \n",
       "3      YATE LAVAO LUCY CATALINA                  ASESOR DE COMPRAS  13   \n",
       "4       PEREA PINTO FRANK DAVID                  VENDEDOR INTEGRAL   2   \n",
       "\n",
       "  Qcantidad Costo_NC-Empleado Grabación? Cliente? Producto? Observaciones  \\\n",
       "0        -2           1174890         SI       SI        SI           NaN   \n",
       "1        -1             71994         SI       SI        SI           NaN   \n",
       "2        -2           1549890         SI       SI        SI           NaN   \n",
       "3       -13            463407         SI       SI        SI           NaN   \n",
       "4        -2           1999901         SI       SI        SI           NaN   \n",
       "\n",
       "       fecha      Unnamed: 18 Unnamed: 19 Unnamed: 20 Unnamed: 21 gravacion?  \\\n",
       "0 2022-09-02  NaN         NaN         NaN         NaN         NaN        NaN   \n",
       "1 2022-11-15  NaN         NaN         NaN         NaN         NaN        NaN   \n",
       "2 2022-11-15  NaN         NaN         NaN         NaN         NaN        NaN   \n",
       "3 2022-11-15  NaN         NaN         NaN         NaN         NaN        NaN   \n",
       "4 2022-11-15  NaN         NaN         NaN         NaN         NaN        NaN   \n",
       "\n",
       "  Unnamed: 17 OBSERVACION Observacion Observacione    s   si Unnamed: 0  \\\n",
       "0         NaN         NaN         NaN          NaN  NaN  NaN        NaN   \n",
       "1         NaN         NaN         NaN          NaN  NaN  NaN        NaN   \n",
       "2         NaN         NaN         NaN          NaN  NaN  NaN        NaN   \n",
       "3         NaN         NaN         NaN          NaN  NaN  NaN        NaN   \n",
       "4         NaN         NaN         NaN          NaN  NaN  NaN        NaN   \n",
       "\n",
       "  Unnamed: 1 Unnamed: 2 Unnamed: 3 Unnamed: 4 Unnamed: 5 Unnamed: 6  \\\n",
       "0        NaN        NaN        NaN        NaN        NaN        NaN   \n",
       "1        NaN        NaN        NaN        NaN        NaN        NaN   \n",
       "2        NaN        NaN        NaN        NaN        NaN        NaN   \n",
       "3        NaN        NaN        NaN        NaN        NaN        NaN   \n",
       "4        NaN        NaN        NaN        NaN        NaN        NaN   \n",
       "\n",
       "  Unnamed: 7 Unnamed: 8 Unnamed: 9 Unnamed: 10 Unnamed: 11 Unnamed: 12  \\\n",
       "0        NaN        NaN        NaN         NaN         NaN         NaN   \n",
       "1        NaN        NaN        NaN         NaN         NaN         NaN   \n",
       "2        NaN        NaN        NaN         NaN         NaN         NaN   \n",
       "3        NaN        NaN        NaN         NaN         NaN         NaN   \n",
       "4        NaN        NaN        NaN         NaN         NaN         NaN   \n",
       "\n",
       "  Unnamed: 13 Unnamed: 14 Unnamed: 15 Unnamed: 16 Hay Grabación?  \\\n",
       "0         NaN         NaN         NaN         NaN            NaN   \n",
       "1         NaN         NaN         NaN         NaN            NaN   \n",
       "2         NaN         NaN         NaN         NaN            NaN   \n",
       "3         NaN         NaN         NaN         NaN            NaN   \n",
       "4         NaN         NaN         NaN         NaN            NaN   \n",
       "\n",
       "  Esta el cliente?  Se revisa el Producto?  Se dejan los  Producto?  \\\n",
       "0              NaN                     NaN                      NaN   \n",
       "1              NaN                     NaN                      NaN   \n",
       "2              NaN                     NaN                      NaN   \n",
       "3              NaN                     NaN                      NaN   \n",
       "4              NaN                     NaN                      NaN   \n",
       "\n",
       "  OBSERVACIONES  NaN Unnamed: 22 Unnamed: 23       OMT 56676     Indicador  \\\n",
       "0           NaN  NaN         NaN         NaN  NaN  NaN   NaN  Diligenciado   \n",
       "1           NaN  NaN         NaN         NaN  NaN  NaN   NaN  Diligenciado   \n",
       "2           NaN  NaN         NaN         NaN  NaN  NaN   NaN  Diligenciado   \n",
       "3           NaN  NaN         NaN         NaN  NaN  NaN   NaN  Diligenciado   \n",
       "4           NaN  NaN         NaN         NaN  NaN  NaN   NaN  Diligenciado   \n",
       "\n",
       "  Grab Clien Prod Falta_CL_PR   Falta_CL   Falta_PR  \n",
       "0   SI    SI   SI   No Alerta  No Alerta  No Alerta  \n",
       "1   SI    SI   SI   No Alerta  No Alerta  No Alerta  \n",
       "2   SI    SI   SI   No Alerta  No Alerta  No Alerta  \n",
       "3   SI    SI   SI   No Alerta  No Alerta  No Alerta  \n",
       "4   SI    SI   SI   No Alerta  No Alerta  No Alerta  "
      ]
     },
     "execution_count": 153,
     "metadata": {},
     "output_type": "execute_result"
    }
   ],
   "source": [
    "al_x_hora.head()"
   ]
  },
  {
   "cell_type": "code",
   "execution_count": 49,
   "metadata": {},
   "outputs": [],
   "source": [
    "with open('config\\path.txt', \"r\") as tf:\n",
    "        path = tf.read()\n",
    "        path = path.replace(\"\\\\\",\"/\")\n",
    "tf.close()\n",
    "alertas_x_monto = pd.DataFrame()\n",
    "for i in listdir(path):\n",
    "        files_store= pd.DataFrame()\n",
    "        if i.startswith('JPPs - Análisis de notas crédito - '):\n",
    "                new_path= f\"{path}/{i}\"\n",
    "                files_names = [f for f in listdir(new_path) if isfile(join(new_path, f))]\n",
    "                for j in (files_names):\n",
    "                        if j.endswith('.xlsx'):\n",
    "                                for i in lista_fechas:\n",
    "                                        if j.startswith(i):\n",
    "                                                if '_cm' in j:\n",
    "                                                        pass\n",
    "                                                else:\n",
    "                                                        file = pd.read_excel(f'{new_path}/{j}',sheet_name=\"Alertas\",dtype=str)\n",
    "                                                        file[\"fecha\"] = i\n",
    "                                                        files_store = pd.concat([files_store,file])\n",
    "        alertas_x_monto = pd.concat([alertas_x_monto, files_store]) "
   ]
  },
  {
   "cell_type": "markdown",
   "metadata": {},
   "source": [
    "Alertas x monto despues de ultimo informe (20/feb/22)"
   ]
  },
  {
   "cell_type": "code",
   "execution_count": 154,
   "metadata": {},
   "outputs": [
    {
     "name": "stderr",
     "output_type": "stream",
     "text": [
      "C:\\Users\\valetorresr\\AppData\\Local\\Temp\\ipykernel_17876\\2481296464.py:1: SettingWithCopyWarning:\n",
      "\n",
      "\n",
      "A value is trying to be set on a copy of a slice from a DataFrame.\n",
      "Try using .loc[row_indexer,col_indexer] = value instead\n",
      "\n",
      "See the caveats in the documentation: https://pandas.pydata.org/pandas-docs/stable/user_guide/indexing.html#returning-a-view-versus-a-copy\n",
      "\n"
     ]
    },
    {
     "name": "stdout",
     "output_type": "stream",
     "text": [
      "cantidad de alertas generadas en el corte: 46664\n"
     ]
    },
    {
     "data": {
      "application/vnd.plotly.v1+json": {
       "config": {
        "plotlyServerURL": "https://plot.ly"
       },
       "data": [
        {
         "alignmentgroup": "True",
         "hovertemplate": "Indicador=Diligenciado<br>Local=%{x}<br>Cantidad NCs=%{text}<extra></extra>",
         "legendgroup": "Diligenciado",
         "marker": {
          "color": "rgb(45, 136, 45)",
          "pattern": {
           "shape": ""
          }
         },
         "name": "Diligenciado",
         "offsetgroup": "Diligenciado",
         "orientation": "v",
         "showlegend": true,
         "text": [
          3359,
          3103,
          2136,
          2103,
          1964,
          1956,
          1569,
          1567,
          1472,
          1393,
          1258,
          1223,
          1153,
          1122,
          1030,
          986,
          937,
          915,
          874,
          864,
          834,
          827,
          740,
          728,
          498,
          481
         ],
         "textposition": "auto",
         "type": "bar",
         "x": [
          "SANTAFE MEDELLIN",
          "COLINA",
          "CENTRO MAYOR",
          "FONTANAR",
          "SAN DIEGO",
          "BUENAVISTA",
          "TITAN",
          "UNICENTRO",
          "GALERIAS",
          "JARDIN PLAZA",
          "SANTA FE",
          "EL CASTILLO",
          "PLAZA CENTRAL",
          "SUBA",
          "CACIQUE",
          "ARKADIA",
          "LA CAROLA",
          "LA FELICIDAD",
          "PARQUE ARBOLEDA",
          "WTC CALI",
          "HAYUELOS",
          "ACQUA",
          "DIVER PLAZA",
          "PRIMAVERA",
          "TIENDA ALEGRA",
          "CARACOLI"
         ],
         "xaxis": "x",
         "y": [
          3359,
          3103,
          2136,
          2103,
          1964,
          1956,
          1569,
          1567,
          1472,
          1393,
          1258,
          1223,
          1153,
          1122,
          1030,
          986,
          937,
          915,
          874,
          864,
          834,
          827,
          740,
          728,
          498,
          481
         ],
         "yaxis": "y"
        },
        {
         "alignmentgroup": "True",
         "hovertemplate": "Indicador=No diligenciado<br>Local=%{x}<br>Cantidad NCs=%{text}<extra></extra>",
         "legendgroup": "No diligenciado",
         "marker": {
          "color": "rgb(170, 57, 57)",
          "pattern": {
           "shape": ""
          }
         },
         "name": "No diligenciado",
         "offsetgroup": "No diligenciado",
         "orientation": "v",
         "showlegend": true,
         "text": [
          2086,
          1260,
          1164,
          1152,
          802,
          749,
          717,
          677,
          477,
          418,
          300,
          259,
          221,
          191,
          172,
          156,
          149,
          146,
          95,
          85,
          70,
          67,
          65,
          44,
          35,
          13
         ],
         "textposition": "auto",
         "type": "bar",
         "x": [
          "UNICENTRO",
          "SANTA FE",
          "TITAN",
          "WTC CALI",
          "JARDIN PLAZA",
          "GALERIAS",
          "COLINA",
          "CARACOLI",
          "SUBA",
          "HAYUELOS",
          "EL CASTILLO",
          "LA FELICIDAD",
          "ARKADIA",
          "PLAZA CENTRAL",
          "CENTRO MAYOR",
          "PARQUE ARBOLEDA",
          "SAN DIEGO",
          "BUENAVISTA",
          "FONTANAR",
          "ACQUA",
          "DIVER PLAZA",
          "LA CAROLA",
          "CACIQUE",
          "SANTAFE MEDELLIN",
          "PRIMAVERA",
          "TIENDA ALEGRA"
         ],
         "xaxis": "x",
         "y": [
          2086,
          1260,
          1164,
          1152,
          802,
          749,
          717,
          677,
          477,
          418,
          300,
          259,
          221,
          191,
          172,
          156,
          149,
          146,
          95,
          85,
          70,
          67,
          65,
          44,
          35,
          13
         ],
         "yaxis": "y"
        }
       ],
       "layout": {
        "barmode": "relative",
        "legend": {
         "title": {
          "text": "Indicador"
         },
         "tracegroupgap": 0,
         "x": 0.7,
         "xanchor": "left",
         "y": 0.95,
         "yanchor": "top"
        },
        "template": {
         "data": {
          "bar": [
           {
            "error_x": {
             "color": "#2a3f5f"
            },
            "error_y": {
             "color": "#2a3f5f"
            },
            "marker": {
             "line": {
              "color": "#E5ECF6",
              "width": 0.5
             },
             "pattern": {
              "fillmode": "overlay",
              "size": 10,
              "solidity": 0.2
             }
            },
            "type": "bar"
           }
          ],
          "barpolar": [
           {
            "marker": {
             "line": {
              "color": "#E5ECF6",
              "width": 0.5
             },
             "pattern": {
              "fillmode": "overlay",
              "size": 10,
              "solidity": 0.2
             }
            },
            "type": "barpolar"
           }
          ],
          "carpet": [
           {
            "aaxis": {
             "endlinecolor": "#2a3f5f",
             "gridcolor": "white",
             "linecolor": "white",
             "minorgridcolor": "white",
             "startlinecolor": "#2a3f5f"
            },
            "baxis": {
             "endlinecolor": "#2a3f5f",
             "gridcolor": "white",
             "linecolor": "white",
             "minorgridcolor": "white",
             "startlinecolor": "#2a3f5f"
            },
            "type": "carpet"
           }
          ],
          "choropleth": [
           {
            "colorbar": {
             "outlinewidth": 0,
             "ticks": ""
            },
            "type": "choropleth"
           }
          ],
          "contour": [
           {
            "colorbar": {
             "outlinewidth": 0,
             "ticks": ""
            },
            "colorscale": [
             [
              0,
              "#0d0887"
             ],
             [
              0.1111111111111111,
              "#46039f"
             ],
             [
              0.2222222222222222,
              "#7201a8"
             ],
             [
              0.3333333333333333,
              "#9c179e"
             ],
             [
              0.4444444444444444,
              "#bd3786"
             ],
             [
              0.5555555555555556,
              "#d8576b"
             ],
             [
              0.6666666666666666,
              "#ed7953"
             ],
             [
              0.7777777777777778,
              "#fb9f3a"
             ],
             [
              0.8888888888888888,
              "#fdca26"
             ],
             [
              1,
              "#f0f921"
             ]
            ],
            "type": "contour"
           }
          ],
          "contourcarpet": [
           {
            "colorbar": {
             "outlinewidth": 0,
             "ticks": ""
            },
            "type": "contourcarpet"
           }
          ],
          "heatmap": [
           {
            "colorbar": {
             "outlinewidth": 0,
             "ticks": ""
            },
            "colorscale": [
             [
              0,
              "#0d0887"
             ],
             [
              0.1111111111111111,
              "#46039f"
             ],
             [
              0.2222222222222222,
              "#7201a8"
             ],
             [
              0.3333333333333333,
              "#9c179e"
             ],
             [
              0.4444444444444444,
              "#bd3786"
             ],
             [
              0.5555555555555556,
              "#d8576b"
             ],
             [
              0.6666666666666666,
              "#ed7953"
             ],
             [
              0.7777777777777778,
              "#fb9f3a"
             ],
             [
              0.8888888888888888,
              "#fdca26"
             ],
             [
              1,
              "#f0f921"
             ]
            ],
            "type": "heatmap"
           }
          ],
          "heatmapgl": [
           {
            "colorbar": {
             "outlinewidth": 0,
             "ticks": ""
            },
            "colorscale": [
             [
              0,
              "#0d0887"
             ],
             [
              0.1111111111111111,
              "#46039f"
             ],
             [
              0.2222222222222222,
              "#7201a8"
             ],
             [
              0.3333333333333333,
              "#9c179e"
             ],
             [
              0.4444444444444444,
              "#bd3786"
             ],
             [
              0.5555555555555556,
              "#d8576b"
             ],
             [
              0.6666666666666666,
              "#ed7953"
             ],
             [
              0.7777777777777778,
              "#fb9f3a"
             ],
             [
              0.8888888888888888,
              "#fdca26"
             ],
             [
              1,
              "#f0f921"
             ]
            ],
            "type": "heatmapgl"
           }
          ],
          "histogram": [
           {
            "marker": {
             "pattern": {
              "fillmode": "overlay",
              "size": 10,
              "solidity": 0.2
             }
            },
            "type": "histogram"
           }
          ],
          "histogram2d": [
           {
            "colorbar": {
             "outlinewidth": 0,
             "ticks": ""
            },
            "colorscale": [
             [
              0,
              "#0d0887"
             ],
             [
              0.1111111111111111,
              "#46039f"
             ],
             [
              0.2222222222222222,
              "#7201a8"
             ],
             [
              0.3333333333333333,
              "#9c179e"
             ],
             [
              0.4444444444444444,
              "#bd3786"
             ],
             [
              0.5555555555555556,
              "#d8576b"
             ],
             [
              0.6666666666666666,
              "#ed7953"
             ],
             [
              0.7777777777777778,
              "#fb9f3a"
             ],
             [
              0.8888888888888888,
              "#fdca26"
             ],
             [
              1,
              "#f0f921"
             ]
            ],
            "type": "histogram2d"
           }
          ],
          "histogram2dcontour": [
           {
            "colorbar": {
             "outlinewidth": 0,
             "ticks": ""
            },
            "colorscale": [
             [
              0,
              "#0d0887"
             ],
             [
              0.1111111111111111,
              "#46039f"
             ],
             [
              0.2222222222222222,
              "#7201a8"
             ],
             [
              0.3333333333333333,
              "#9c179e"
             ],
             [
              0.4444444444444444,
              "#bd3786"
             ],
             [
              0.5555555555555556,
              "#d8576b"
             ],
             [
              0.6666666666666666,
              "#ed7953"
             ],
             [
              0.7777777777777778,
              "#fb9f3a"
             ],
             [
              0.8888888888888888,
              "#fdca26"
             ],
             [
              1,
              "#f0f921"
             ]
            ],
            "type": "histogram2dcontour"
           }
          ],
          "mesh3d": [
           {
            "colorbar": {
             "outlinewidth": 0,
             "ticks": ""
            },
            "type": "mesh3d"
           }
          ],
          "parcoords": [
           {
            "line": {
             "colorbar": {
              "outlinewidth": 0,
              "ticks": ""
             }
            },
            "type": "parcoords"
           }
          ],
          "pie": [
           {
            "automargin": true,
            "type": "pie"
           }
          ],
          "scatter": [
           {
            "fillpattern": {
             "fillmode": "overlay",
             "size": 10,
             "solidity": 0.2
            },
            "type": "scatter"
           }
          ],
          "scatter3d": [
           {
            "line": {
             "colorbar": {
              "outlinewidth": 0,
              "ticks": ""
             }
            },
            "marker": {
             "colorbar": {
              "outlinewidth": 0,
              "ticks": ""
             }
            },
            "type": "scatter3d"
           }
          ],
          "scattercarpet": [
           {
            "marker": {
             "colorbar": {
              "outlinewidth": 0,
              "ticks": ""
             }
            },
            "type": "scattercarpet"
           }
          ],
          "scattergeo": [
           {
            "marker": {
             "colorbar": {
              "outlinewidth": 0,
              "ticks": ""
             }
            },
            "type": "scattergeo"
           }
          ],
          "scattergl": [
           {
            "marker": {
             "colorbar": {
              "outlinewidth": 0,
              "ticks": ""
             }
            },
            "type": "scattergl"
           }
          ],
          "scattermapbox": [
           {
            "marker": {
             "colorbar": {
              "outlinewidth": 0,
              "ticks": ""
             }
            },
            "type": "scattermapbox"
           }
          ],
          "scatterpolar": [
           {
            "marker": {
             "colorbar": {
              "outlinewidth": 0,
              "ticks": ""
             }
            },
            "type": "scatterpolar"
           }
          ],
          "scatterpolargl": [
           {
            "marker": {
             "colorbar": {
              "outlinewidth": 0,
              "ticks": ""
             }
            },
            "type": "scatterpolargl"
           }
          ],
          "scatterternary": [
           {
            "marker": {
             "colorbar": {
              "outlinewidth": 0,
              "ticks": ""
             }
            },
            "type": "scatterternary"
           }
          ],
          "surface": [
           {
            "colorbar": {
             "outlinewidth": 0,
             "ticks": ""
            },
            "colorscale": [
             [
              0,
              "#0d0887"
             ],
             [
              0.1111111111111111,
              "#46039f"
             ],
             [
              0.2222222222222222,
              "#7201a8"
             ],
             [
              0.3333333333333333,
              "#9c179e"
             ],
             [
              0.4444444444444444,
              "#bd3786"
             ],
             [
              0.5555555555555556,
              "#d8576b"
             ],
             [
              0.6666666666666666,
              "#ed7953"
             ],
             [
              0.7777777777777778,
              "#fb9f3a"
             ],
             [
              0.8888888888888888,
              "#fdca26"
             ],
             [
              1,
              "#f0f921"
             ]
            ],
            "type": "surface"
           }
          ],
          "table": [
           {
            "cells": {
             "fill": {
              "color": "#EBF0F8"
             },
             "line": {
              "color": "white"
             }
            },
            "header": {
             "fill": {
              "color": "#C8D4E3"
             },
             "line": {
              "color": "white"
             }
            },
            "type": "table"
           }
          ]
         },
         "layout": {
          "annotationdefaults": {
           "arrowcolor": "#2a3f5f",
           "arrowhead": 0,
           "arrowwidth": 1
          },
          "autotypenumbers": "strict",
          "coloraxis": {
           "colorbar": {
            "outlinewidth": 0,
            "ticks": ""
           }
          },
          "colorscale": {
           "diverging": [
            [
             0,
             "#8e0152"
            ],
            [
             0.1,
             "#c51b7d"
            ],
            [
             0.2,
             "#de77ae"
            ],
            [
             0.3,
             "#f1b6da"
            ],
            [
             0.4,
             "#fde0ef"
            ],
            [
             0.5,
             "#f7f7f7"
            ],
            [
             0.6,
             "#e6f5d0"
            ],
            [
             0.7,
             "#b8e186"
            ],
            [
             0.8,
             "#7fbc41"
            ],
            [
             0.9,
             "#4d9221"
            ],
            [
             1,
             "#276419"
            ]
           ],
           "sequential": [
            [
             0,
             "#0d0887"
            ],
            [
             0.1111111111111111,
             "#46039f"
            ],
            [
             0.2222222222222222,
             "#7201a8"
            ],
            [
             0.3333333333333333,
             "#9c179e"
            ],
            [
             0.4444444444444444,
             "#bd3786"
            ],
            [
             0.5555555555555556,
             "#d8576b"
            ],
            [
             0.6666666666666666,
             "#ed7953"
            ],
            [
             0.7777777777777778,
             "#fb9f3a"
            ],
            [
             0.8888888888888888,
             "#fdca26"
            ],
            [
             1,
             "#f0f921"
            ]
           ],
           "sequentialminus": [
            [
             0,
             "#0d0887"
            ],
            [
             0.1111111111111111,
             "#46039f"
            ],
            [
             0.2222222222222222,
             "#7201a8"
            ],
            [
             0.3333333333333333,
             "#9c179e"
            ],
            [
             0.4444444444444444,
             "#bd3786"
            ],
            [
             0.5555555555555556,
             "#d8576b"
            ],
            [
             0.6666666666666666,
             "#ed7953"
            ],
            [
             0.7777777777777778,
             "#fb9f3a"
            ],
            [
             0.8888888888888888,
             "#fdca26"
            ],
            [
             1,
             "#f0f921"
            ]
           ]
          },
          "colorway": [
           "#636efa",
           "#EF553B",
           "#00cc96",
           "#ab63fa",
           "#FFA15A",
           "#19d3f3",
           "#FF6692",
           "#B6E880",
           "#FF97FF",
           "#FECB52"
          ],
          "font": {
           "color": "#2a3f5f"
          },
          "geo": {
           "bgcolor": "white",
           "lakecolor": "white",
           "landcolor": "#E5ECF6",
           "showlakes": true,
           "showland": true,
           "subunitcolor": "white"
          },
          "hoverlabel": {
           "align": "left"
          },
          "hovermode": "closest",
          "mapbox": {
           "style": "light"
          },
          "paper_bgcolor": "white",
          "plot_bgcolor": "#E5ECF6",
          "polar": {
           "angularaxis": {
            "gridcolor": "white",
            "linecolor": "white",
            "ticks": ""
           },
           "bgcolor": "#E5ECF6",
           "radialaxis": {
            "gridcolor": "white",
            "linecolor": "white",
            "ticks": ""
           }
          },
          "scene": {
           "xaxis": {
            "backgroundcolor": "#E5ECF6",
            "gridcolor": "white",
            "gridwidth": 2,
            "linecolor": "white",
            "showbackground": true,
            "ticks": "",
            "zerolinecolor": "white"
           },
           "yaxis": {
            "backgroundcolor": "#E5ECF6",
            "gridcolor": "white",
            "gridwidth": 2,
            "linecolor": "white",
            "showbackground": true,
            "ticks": "",
            "zerolinecolor": "white"
           },
           "zaxis": {
            "backgroundcolor": "#E5ECF6",
            "gridcolor": "white",
            "gridwidth": 2,
            "linecolor": "white",
            "showbackground": true,
            "ticks": "",
            "zerolinecolor": "white"
           }
          },
          "shapedefaults": {
           "line": {
            "color": "#2a3f5f"
           }
          },
          "ternary": {
           "aaxis": {
            "gridcolor": "white",
            "linecolor": "white",
            "ticks": ""
           },
           "baxis": {
            "gridcolor": "white",
            "linecolor": "white",
            "ticks": ""
           },
           "bgcolor": "#E5ECF6",
           "caxis": {
            "gridcolor": "white",
            "linecolor": "white",
            "ticks": ""
           }
          },
          "title": {
           "x": 0.05
          },
          "xaxis": {
           "automargin": true,
           "gridcolor": "white",
           "linecolor": "white",
           "ticks": "",
           "title": {
            "standoff": 15
           },
           "zerolinecolor": "white",
           "zerolinewidth": 2
          },
          "yaxis": {
           "automargin": true,
           "gridcolor": "white",
           "linecolor": "white",
           "ticks": "",
           "title": {
            "standoff": 15
           },
           "zerolinecolor": "white",
           "zerolinewidth": 2
          }
         }
        },
        "title": {
         "text": "Cantidad de alertas por monto por tienda <br>Corte:2022-08-01 hasta el 2022-11-25"
        },
        "xaxis": {
         "anchor": "y",
         "categoryorder": "total descending",
         "domain": [
          0,
          1
         ],
         "title": {
          "text": "Local"
         }
        },
        "yaxis": {
         "anchor": "x",
         "domain": [
          0,
          1
         ],
         "title": {
          "text": "Cantidad NCs"
         }
        }
       }
      }
     },
     "metadata": {},
     "output_type": "display_data"
    }
   ],
   "source": [
    "alertas_x_monto[\"fecha\"] =  pd.to_datetime(alertas_x_monto.fecha, yearfirst=True)\n",
    "al_x_monto = alertas_x_monto.loc[(alertas_x_monto[\"fecha\"] >= fecha_inicio) & (alertas_x_monto[\"fecha\"] <= fecha_final)].reset_index(drop=True)\n",
    "al_x_monto[\"Grabación?\"] = al_x_monto[\"Grabación?\"].str.upper()\n",
    "al_x_monto[\"Grabación?\"] = al_x_monto[\"Grabación?\"].fillna(\"nan\")\n",
    "al_x_monto.loc[(al_x_monto[\"Grabación?\"].str.contains(\"NO\")) | (al_x_monto[\"Grabación?\"].notna()) & (al_x_monto[\"Cliente?\"].notna()) & (al_x_monto[\"Producto?\"].notna()),\"Indicador\"] = \"Diligenciado\"\n",
    "al_x_monto.loc[al_x_monto[\"Grabación?\"] ==\"nan\", \"Grabación?\" ] = np.nan\n",
    "print(f'cantidad de alertas generadas en el corte: {al_x_monto.shape[0]}')\n",
    "al_x_monto.loc[(al_x_monto[\"Grabación?\"].notna()) & (al_x_monto[\"Cliente?\"].notna()) & (al_x_monto[\"Producto?\"].notna()), \"Indicador\"] = \"Diligenciado\"\n",
    "al_x_monto.loc[al_x_monto[\"Indicador\"] != \"Diligenciado\", \"Indicador\"] = \"No diligenciado\"\n",
    "fig_al_x_monto = al_x_monto.groupby([\"Desc_local\",\"Indicador\"]).agg({\"Cautoriza\":\"nunique\",}).reset_index().sort_values(\"Cautoriza\", ascending=False)\n",
    "h_fig = px.bar(fig_al_x_monto, x=\"Desc_local\", y=\"Cautoriza\",color=\"Indicador\",text=\"Cautoriza\",color_discrete_map = {'No diligenciado':'rgb(170, 57, 57)','Diligenciado':'rgb(45, 136, 45)'}, title=f\"Cantidad de alertas por monto por tienda <br>Corte:{fecha_inicio} hasta el {fecha_final}\", labels={\"Desc_local\":\"Local\",\"Cautoriza\":\"Cantidad NCs\"}) \n",
    "h_fig.update_layout(xaxis_categoryorder = 'total descending',legend=dict(yanchor=\"top\", y=0.95, xanchor=\"left\", x=0.7))\n",
    "h_fig.write_image(f\"output/{dt_string}alerta_monto.jpg\", height = 600, width = 1000)\n",
    "h_fig.show()\n",
    "al_x_monto.to_excel(f\"output/{dt_string}alertas_x_monto.xlsx\", index=False)"
   ]
  },
  {
   "cell_type": "markdown",
   "metadata": {},
   "source": [
    "Calculos\n"
   ]
  },
  {
   "cell_type": "code",
   "execution_count": 51,
   "metadata": {},
   "outputs": [
    {
     "name": "stdout",
     "output_type": "stream",
     "text": [
      "Cantidad total de alarmas por hora: 204\n",
      "Cantidad total de alarmas por monto: 9159\n",
      "Cantidad total de alarmas: 9363\n",
      "Cantidad total no diligenciado: 3555\n",
      "Cantidad diligenciados: 5676\n",
      "Porcentage de alertas diligenciadas: 60.6215956424223\n"
     ]
    }
   ],
   "source": [
    "hora_no_d = al_x_hora.loc[al_x_hora.Indicador == \"No diligenciado\", \"Cautoriza\" ].nunique()\n",
    "hora_d = al_x_hora.loc[al_x_hora.Indicador == \"Diligenciado\", \"Cautoriza\" ].nunique()\n",
    "monto_no_d = al_x_monto.loc[al_x_monto.Indicador == \"No diligenciado\", \"Cautoriza\" ].nunique()\n",
    "monto_d = al_x_monto.loc[al_x_monto.Indicador == \"Diligenciado\", \"Cautoriza\" ].nunique()\n",
    "total_alarmas = al_x_hora.shape[0] + al_x_monto.shape[0]\n",
    "cantidad_diligenciados = hora_d + monto_d\n",
    "print(f\"Cantidad total de alarmas por hora: {al_x_hora.shape[0]}\")\n",
    "print(f\"Cantidad total de alarmas por monto: {al_x_monto.shape[0]}\")\n",
    "print(f\"Cantidad total de alarmas: {total_alarmas}\")\n",
    "print(f\"Cantidad total no diligenciado: {hora_no_d + monto_no_d}\")\n",
    "print(f\"Cantidad diligenciados: {cantidad_diligenciados}\")\n",
    "print(f\"Porcentage de alertas diligenciadas: {(cantidad_diligenciados*100)/total_alarmas}\")\n",
    "alertas_hora = al_x_hora.shape[0]\n",
    "alertas_montos = al_x_monto.shape[0]\n",
    "alertas_totales = hora_no_d + monto_no_d\n"
   ]
  },
  {
   "cell_type": "code",
   "execution_count": null,
   "metadata": {},
   "outputs": [
    {
     "ename": "",
     "evalue": "",
     "output_type": "error",
     "traceback": [
      "\u001b[1;31mNo se pudo iniciar el kernel porque no se pudo cargar un archivo DLL.\n",
      "\u001b[1;31mHaga clic <a href='https://aka.ms/kernelFailuresDllLoad'>aquí</a> para obtener más información."
     ]
    }
   ],
   "source": [
    "email_content = f\"\"\"<p>Estimados:</p> \n",
    "<p>Por favor encuentren a continuación, el análisis de la gestión de diligenciamiento de los reportes de notas créditos según la tienda, para las alarmas por monto y hora, enviadas entre {fecha_inicio} hasta el {fecha_final}.</p>  \n",
    "<p>En total se generaron {alertas_totales} alertas para las 26 tiendas, las cuales incluye {alertas_hora} alertas por hora y {alertas_montos} alertas por monto. Se evidencia que <strong><u>fueron diligenciadas por las tiendas 1445 alertas que corresponden al 48% del total de alertas</strong></u>.</p> \n",
    "<p>Así mismo, en las siguientes gráficas se presentan la cantidad de alertas a revisar por las tiendas y el estado del diligenciamiento correspondiente:</p>  \n",
    "<img src=\"cid:alerta_horas\"><br></td>\n",
    "<img src=\"cid:alerta_montos\"><br></td>\n",
    "<p>El detalle de la información anterior se encuentra adjunto.</p>   \n",
    "<p>Quedo atento en caso de que surja alguna duda.</p>  \n",
    "<p>Saludos cordiales,</p> \n",
    "<br>\n",
    "{fm.firma}\n",
    "\"\"\"\n"
   ]
  },
  {
   "cell_type": "code",
   "execution_count": null,
   "metadata": {},
   "outputs": [
    {
     "ename": "",
     "evalue": "",
     "output_type": "error",
     "traceback": [
      "\u001b[1;31mNo se pudo iniciar el kernel porque no se pudo cargar un archivo DLL.\n",
      "\u001b[1;31mHaga clic <a href='https://aka.ms/kernelFailuresDllLoad'>aquí</a> para obtener más información."
     ]
    }
   ],
   "source": [
    "img=  {'alerta_horas' : f'output/{dt_string}alerta_horas.jpg', 'alerta_montos':f'output/{dt_string}alerta_monto.jpg'}"
   ]
  },
  {
   "cell_type": "code",
   "execution_count": null,
   "metadata": {},
   "outputs": [
    {
     "ename": "",
     "evalue": "",
     "output_type": "error",
     "traceback": [
      "\u001b[1;31mNo se pudo iniciar el kernel porque no se pudo cargar un archivo DLL.\n",
      "\u001b[1;31mHaga clic <a href='https://aka.ms/kernelFailuresDllLoad'>aquí</a> para obtener más información."
     ]
    }
   ],
   "source": [
    "print(f'{dt_string}_alertas_x_hora.xlsx')"
   ]
  },
  {
   "cell_type": "code",
   "execution_count": null,
   "metadata": {},
   "outputs": [
    {
     "ename": "",
     "evalue": "",
     "output_type": "error",
     "traceback": [
      "\u001b[1;31mNo se pudo iniciar el kernel porque no se pudo cargar un archivo DLL.\n",
      "\u001b[1;31mHaga clic <a href='https://aka.ms/kernelFailuresDllLoad'>aquí</a> para obtener más información."
     ]
    }
   ],
   "source": [
    "mail = ADM_MAIL()\n",
    "mail.attach_text(email_content)\n",
    "mail.attach_image(img)\n",
    "listado_archive = [f'output\\{dt_string}_alertas_x_hora.xlsx', f'output/{dt_string}_alertas_x_monto.xlsx']\n",
    "mail.attach_archives(listado_archive)"
   ]
  },
  {
   "cell_type": "code",
   "execution_count": null,
   "metadata": {},
   "outputs": [
    {
     "ename": "",
     "evalue": "",
     "output_type": "error",
     "traceback": [
      "\u001b[1;31mNo se pudo iniciar el kernel porque no se pudo cargar un archivo DLL.\n",
      "\u001b[1;31mHaga clic <a href='https://aka.ms/kernelFailuresDllLoad'>aquí</a> para obtener más información."
     ]
    }
   ],
   "source": [
    "mail.erase_head()"
   ]
  },
  {
   "cell_type": "code",
   "execution_count": null,
   "metadata": {},
   "outputs": [
    {
     "ename": "",
     "evalue": "",
     "output_type": "error",
     "traceback": [
      "\u001b[1;31mNo se pudo iniciar el kernel porque no se pudo cargar un archivo DLL.\n",
      "\u001b[1;31mHaga clic <a href='https://aka.ms/kernelFailuresDllLoad'>aquí</a> para obtener más información."
     ]
    }
   ],
   "source": [
    "mail.head_mesagge('usuario@falabella.com.co','usuario@falabella.com.co',f'Reporte diligenciamiento alertas NC - {fecha_inicio} hasta el {fecha_final}','usuario@falabella.com.co')"
   ]
  },
  {
   "cell_type": "code",
   "execution_count": null,
   "metadata": {},
   "outputs": [
    {
     "ename": "",
     "evalue": "",
     "output_type": "error",
     "traceback": [
      "\u001b[1;31mNo se pudo iniciar el kernel porque no se pudo cargar un archivo DLL.\n",
      "\u001b[1;31mHaga clic <a href='https://aka.ms/kernelFailuresDllLoad'>aquí</a> para obtener más información."
     ]
    }
   ],
   "source": [
    "mail.send_mesaje()"
   ]
  },
  {
   "cell_type": "markdown",
   "metadata": {},
   "source": [
    "tiendas"
   ]
  },
  {
   "cell_type": "code",
   "execution_count": null,
   "metadata": {},
   "outputs": [
    {
     "ename": "",
     "evalue": "",
     "output_type": "error",
     "traceback": [
      "\u001b[1;31mNo se pudo iniciar el kernel porque no se pudo cargar un archivo DLL.\n",
      "\u001b[1;31mHaga clic <a href='https://aka.ms/kernelFailuresDllLoad'>aquí</a> para obtener más información."
     ]
    }
   ],
   "source": [
    "tienda == 'ACQUA', |\n",
    "tienda == 'TIENDA ALEGRA'    \n",
    "tienda == 'ARKADIA', |\n",
    "tienda == 'BUENAVISTA', |\n",
    "tienda == 'CACIQUE', | \n",
    "tienda == 'CARACOLI', | \n",
    "tienda == 'CENTRO MAYOR', | \n",
    "tienda == 'COLINA', | \n",
    "tienda == 'DIVER PLAZA', | \n",
    "tienda == 'EL CASTILLO', | \n",
    "tienda == 'FONTANAR', |\n",
    "tienda == 'GALERIAS', |\n",
    "tienda == 'HAYUELOS', | \n",
    "tienda == 'JARDIN PLAZA', | \n",
    "tienda == 'LA CAROLA', | \n",
    "tienda == 'LA FELICIDAD', | \n",
    "tienda == 'PARQUE ARBOLEDA', | \n",
    "tienda == 'PLAZA CENTRAL', | \n",
    "tienda == 'PRIMAVERA', | \n",
    "tienda == 'SAN DIEGO', | \n",
    "tienda == 'SANTA FE', | \n",
    "tienda == 'SANTAFE MEDELLIN', | \n",
    "tienda == 'SUBA', | \n",
    "tienda == 'TITAN', | \n",
    "tienda == 'UNICENTRO', |\n",
    "tienda == 'VILLA COUNTRY', | \n",
    "tienda == 'WTC CALI'"
   ]
  },
  {
   "cell_type": "code",
   "execution_count": null,
   "metadata": {},
   "outputs": [
    {
     "ename": "",
     "evalue": "",
     "output_type": "error",
     "traceback": [
      "\u001b[1;31mNo se pudo iniciar el kernel porque no se pudo cargar un archivo DLL.\n",
      "\u001b[1;31mHaga clic <a href='https://aka.ms/kernelFailuresDllLoad'>aquí</a> para obtener más información."
     ]
    }
   ],
   "source": [
    "tienda == 'EL CASTILLO' | tienda == 'FONTANAR' |tienda == 'GALERIAS' |tienda == 'HAYUELOS' | tienda == 'JARDIN PLAZA' | tienda == 'LA CAROLA' | tienda == 'LA FELICIDAD' | tienda == 'PARQUE ARBOLEDA' | tienda == 'PLAZA CENTRAL' | tienda == 'PRIMAVERA' | tienda == 'SAN DIEGO' | tienda == 'SANTA FE' | tienda == 'SANTAFE MEDELLIN' | tienda == 'SUBA' | tienda == 'TITAN' | tienda == 'UNICENTRO' |tienda == 'VILLA COUNTRY' | tienda == 'WTC CALI'"
   ]
  }
 ],
 "metadata": {
  "kernelspec": {
   "display_name": "Python 3.9.13 ('base')",
   "language": "python",
   "name": "python3"
  },
  "language_info": {
   "codemirror_mode": {
    "name": "ipython",
    "version": 3
   },
   "file_extension": ".py",
   "mimetype": "text/x-python",
   "name": "python",
   "nbconvert_exporter": "python",
   "pygments_lexer": "ipython3",
   "version": "3.9.13"
  },
  "orig_nbformat": 4,
  "vscode": {
   "interpreter": {
    "hash": "a321a14e087a510dfc7ae8360530cc28f8eb3988bb6d0baa5cae85ea5f6d0648"
   }
  }
 },
 "nbformat": 4,
 "nbformat_minor": 2
}
