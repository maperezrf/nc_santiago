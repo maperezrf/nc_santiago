{
 "cells": [
  {
   "cell_type": "code",
   "execution_count": 1,
   "metadata": {},
   "outputs": [],
   "source": [
    "import pandas as pd\n",
    "pd.options.display.float_format ='${:,.0f}'.format"
   ]
  },
  {
   "cell_type": "code",
   "execution_count": 2,
   "metadata": {},
   "outputs": [],
   "source": [
    "nc = pd.read_csv('input/consolidado_nc.csv')"
   ]
  },
  {
   "cell_type": "code",
   "execution_count": 4,
   "metadata": {},
   "outputs": [
    {
     "data": {
      "text/plain": [
       "array(['CAMBIO X TALLA', 'DEV PRODUCTO TROCADO', 'DEV X TALLA',\n",
       "       'DEV PRODUCTO INCOMPLETO', 'ERROR DE FACTURACION', 'DEV X COLOR',\n",
       "       'INCUMPLI ENTREGA', 'CAMBIO PRODUC DAÑADO', 'CAMBIO X COLOR',\n",
       "       'CAMBIO X GUSTO', 'DEV PRODUCTO DAÑADO / CALIDAD', 'DEV X GUSTO',\n",
       "       'DEVOLUCION X FRAUDE', 'Otros', 'Devolucion de producto', nan,\n",
       "       'SE CREA NUEVO F12', 'Devolucion por error',\n",
       "       'CAMB X OTRO PRODUCTO', 'otros', 'DEV GAR EXTENDIDA',\n",
       "       'Devolucion garantia extendida', 'Cambio por otro producto',\n",
       "       'DOBLE REGISTRO POS', 'PRUEBAS FALABELLA', 'CAMB PRODUC TROCADO',\n",
       "       'CAMB PRODUC INCOMPLETO', 'PREVENTAS',\n",
       "       'Cambio por venta compartida', 'BOLETA SIN MED PAGO',\n",
       "       'Cambio garantia extendida', 'IND TRANSPORTADORA', 'Cambio de SKU',\n",
       "       'DEV X GARANTIA', 'DEV X SIN STOCK', 'DEV X PRODUCTO FALTANTE'],\n",
       "      dtype=object)"
      ]
     },
     "execution_count": 4,
     "metadata": {},
     "output_type": "execute_result"
    }
   ],
   "source": [
    "nc['Xtipificacion'].unique()"
   ]
  },
  {
   "cell_type": "code",
   "execution_count": null,
   "metadata": {},
   "outputs": [],
   "source": [
    "['CAMBIO X TALLA',\n",
    "'DEV PRODUCTO TROCADO',\n",
    "'DEV X TALLA',\n",
    "'DEV PRODUCTO INCOMPLETO',\n",
    "'ERROR DE FACTURACION',\n",
    "'DEV X COLOR',\n",
    "'INCUMPLI ENTREGA',\n",
    "'CAMBIO PRODUC DAÑADO',\n",
    "'CAMBIO X COLOR',\n",
    "'CAMBIO X GUSTO',\n",
    "'DEV PRODUCTO DAÑADO / CALIDAD',\n",
    "'DEV X GUSTO',\n",
    "'DEVOLUCION X FRAUDE',\n",
    "'Otros',\n",
    "'Devolucion de producto',\n",
    "nan,\n",
    "'SE CREA NUEVO F12',\n",
    "'Devolucion por error',\n",
    "'CAMB X OTRO PRODUCTO',\n",
    "'otros',\n",
    "'DEV GAR EXTENDIDA',\n",
    "'Devolucion garantia extendida',\n",
    "'Cambio por otro producto',\n",
    "'DOBLE REGISTRO POS',\n",
    "'PRUEBAS FALABELLA',\n",
    "'CAMB PRODUC TROCADO',\n",
    "'CAMB PRODUC INCOMPLETO',\n",
    "'PREVENTAS',\n",
    "'Cambio por venta compartida',\n",
    "'BOLETA SIN MED PAGO',\n",
    "'Cambio garantia extendida',\n",
    "'IND TRANSPORTADORA',\n",
    "'Cambio de SKU',\n",
    "'DEV X GARANTIA',\n",
    "'DEV X SIN STOCK',\n",
    "'DEV X PRODUCTO FALTANTE']"
   ]
  },
  {
   "cell_type": "code",
   "execution_count": 3,
   "metadata": {},
   "outputs": [],
   "source": [
    "nc.Dcompra_nvo = nc.Dcompra_nvo.str.replace('ene', '01')\n",
    "nc.Dcompra_nvo = nc.Dcompra_nvo.str.replace('feb', '02')\n",
    "nc.Dcompra_nvo = nc.Dcompra_nvo.str.replace('mar', '03')\n",
    "nc.Dcompra_nvo = nc.Dcompra_nvo.str.replace('abr', '04')\n",
    "nc.Dcompra_nvo = nc.Dcompra_nvo.str.replace('may', '05')\n",
    "nc.Dcompra_nvo = nc.Dcompra_nvo.str.replace('jun', '06')\n",
    "nc.Dcompra_nvo = nc.Dcompra_nvo.str.replace('jul', '07')\n",
    "nc.Dcompra_nvo = nc.Dcompra_nvo.str.replace('ago', '08')\n",
    "nc.Dcompra_nvo = nc.Dcompra_nvo.str.replace('sep', '09')\n",
    "nc.Dcompra_nvo = nc.Dcompra_nvo.str.replace('oct', '10')\n",
    "nc.Dcompra_nvo = nc.Dcompra_nvo.str.replace('nov', '11')\n",
    "nc.Dcompra_nvo = nc.Dcompra_nvo.str.replace('dic', '12')\n",
    "nc.Dcompra_nvo = pd.to_datetime(nc.Dcompra_nvo, format='%d-%m-%Y') "
   ]
  },
  {
   "cell_type": "code",
   "execution_count": 4,
   "metadata": {},
   "outputs": [],
   "source": [
    "nc['Mventa_nc'] = abs(nc['Mventa_nc'].astype(float))\n"
   ]
  },
  {
   "cell_type": "code",
   "execution_count": 5,
   "metadata": {},
   "outputs": [],
   "source": [
    "nc_ago = nc.loc[(nc['Dcompra_nvo'] >= '2022-08-01') & (nc['Cautoriza'] == 10009)]"
   ]
  },
  {
   "cell_type": "code",
   "execution_count": 6,
   "metadata": {},
   "outputs": [
    {
     "data": {
      "text/html": [
       "<div>\n",
       "<style scoped>\n",
       "    .dataframe tbody tr th:only-of-type {\n",
       "        vertical-align: middle;\n",
       "    }\n",
       "\n",
       "    .dataframe tbody tr th {\n",
       "        vertical-align: top;\n",
       "    }\n",
       "\n",
       "    .dataframe thead th {\n",
       "        text-align: right;\n",
       "    }\n",
       "</style>\n",
       "<table border=\"1\" class=\"dataframe\">\n",
       "  <thead>\n",
       "    <tr style=\"text-align: right;\">\n",
       "      <th></th>\n",
       "      <th>Desc_local</th>\n",
       "      <th>Cautoriza</th>\n",
       "      <th>Mventa_nc</th>\n",
       "    </tr>\n",
       "  </thead>\n",
       "  <tbody>\n",
       "    <tr>\n",
       "      <th>3</th>\n",
       "      <td>CARACOLI</td>\n",
       "      <td>7</td>\n",
       "      <td>$4,455,480</td>\n",
       "    </tr>\n",
       "    <tr>\n",
       "      <th>9</th>\n",
       "      <td>PARQUE ARBOLEDA</td>\n",
       "      <td>7</td>\n",
       "      <td>$480,934</td>\n",
       "    </tr>\n",
       "    <tr>\n",
       "      <th>7</th>\n",
       "      <td>FONTANAR</td>\n",
       "      <td>4</td>\n",
       "      <td>$319,960</td>\n",
       "    </tr>\n",
       "    <tr>\n",
       "      <th>4</th>\n",
       "      <td>DIVER PLAZA</td>\n",
       "      <td>3</td>\n",
       "      <td>$2,213,882</td>\n",
       "    </tr>\n",
       "    <tr>\n",
       "      <th>0</th>\n",
       "      <td>ARKADIA</td>\n",
       "      <td>2</td>\n",
       "      <td>$44,980</td>\n",
       "    </tr>\n",
       "    <tr>\n",
       "      <th>2</th>\n",
       "      <td>CACIQUE</td>\n",
       "      <td>2</td>\n",
       "      <td>$59,980</td>\n",
       "    </tr>\n",
       "    <tr>\n",
       "      <th>5</th>\n",
       "      <td>EL CASTILLO</td>\n",
       "      <td>2</td>\n",
       "      <td>$2,299,901</td>\n",
       "    </tr>\n",
       "    <tr>\n",
       "      <th>10</th>\n",
       "      <td>SAN DIEGO</td>\n",
       "      <td>2</td>\n",
       "      <td>$239,980</td>\n",
       "    </tr>\n",
       "    <tr>\n",
       "      <th>11</th>\n",
       "      <td>SANTA FE</td>\n",
       "      <td>2</td>\n",
       "      <td>$250,382</td>\n",
       "    </tr>\n",
       "    <tr>\n",
       "      <th>1</th>\n",
       "      <td>BUENAVISTA</td>\n",
       "      <td>1</td>\n",
       "      <td>$132,993</td>\n",
       "    </tr>\n",
       "    <tr>\n",
       "      <th>6</th>\n",
       "      <td>FALABELLA. COM ALTERNO</td>\n",
       "      <td>1</td>\n",
       "      <td>$13,299,905</td>\n",
       "    </tr>\n",
       "    <tr>\n",
       "      <th>8</th>\n",
       "      <td>LA FELICIDAD</td>\n",
       "      <td>1</td>\n",
       "      <td>$84,990</td>\n",
       "    </tr>\n",
       "    <tr>\n",
       "      <th>12</th>\n",
       "      <td>TITAN</td>\n",
       "      <td>1</td>\n",
       "      <td>$147,053</td>\n",
       "    </tr>\n",
       "  </tbody>\n",
       "</table>\n",
       "</div>"
      ],
      "text/plain": [
       "                Desc_local  Cautoriza   Mventa_nc\n",
       "3                 CARACOLI          7  $4,455,480\n",
       "9          PARQUE ARBOLEDA          7    $480,934\n",
       "7                 FONTANAR          4    $319,960\n",
       "4              DIVER PLAZA          3  $2,213,882\n",
       "0                  ARKADIA          2     $44,980\n",
       "2                  CACIQUE          2     $59,980\n",
       "5              EL CASTILLO          2  $2,299,901\n",
       "10               SAN DIEGO          2    $239,980\n",
       "11                SANTA FE          2    $250,382\n",
       "1               BUENAVISTA          1    $132,993\n",
       "6   FALABELLA. COM ALTERNO          1 $13,299,905\n",
       "8             LA FELICIDAD          1     $84,990\n",
       "12                   TITAN          1    $147,053"
      ]
     },
     "execution_count": 6,
     "metadata": {},
     "output_type": "execute_result"
    }
   ],
   "source": [
    "nc_ago.groupby('Desc_local').agg({'Cautoriza':'count', 'Mventa_nc':'sum'}).reset_index().sort_values(by = 'Cautoriza', ascending=False)"
   ]
  },
  {
   "cell_type": "code",
   "execution_count": 7,
   "metadata": {},
   "outputs": [],
   "source": [
    "nc_ago.to_excel('220901_nc_cm.xlsx', index = False)"
   ]
  }
 ],
 "metadata": {
  "kernelspec": {
   "display_name": "Python 3.9.12 ('base')",
   "language": "python",
   "name": "python3"
  },
  "language_info": {
   "codemirror_mode": {
    "name": "ipython",
    "version": 3
   },
   "file_extension": ".py",
   "mimetype": "text/x-python",
   "name": "python",
   "nbconvert_exporter": "python",
   "pygments_lexer": "ipython3",
   "version": "3.9.12"
  },
  "orig_nbformat": 4,
  "vscode": {
   "interpreter": {
    "hash": "82a490cbc5ab7ede3fb5f9c339977e226ff85331602536a0bba4d2a51bd464ee"
   }
  }
 },
 "nbformat": 4,
 "nbformat_minor": 2
}
