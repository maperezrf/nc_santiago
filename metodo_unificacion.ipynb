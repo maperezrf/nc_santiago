{
 "cells": [
  {
   "cell_type": "code",
   "execution_count": 17,
   "metadata": {},
   "outputs": [],
   "source": [
    "from importlib import import_module\n",
    "import pandas as pd \n",
    "from datetime import datetime, timedelta\n",
    "from os import listdir\n",
    "import plotly.express as px\n",
    "from os.path import isfile, join\n",
    "import numpy as np\n",
    "import sys\n",
    "sys.path.insert(1, 'C:/Users/maperezr/proyectos/fs-emails')\n",
    "from adm_email import ADM_MAIL\n",
    "from input_planillas import f_miguel as fm\n",
    "dt_string = datetime.today().strftime('%d%m%y')\n",
    "pd.set_option('display.max_columns', 500)"
   ]
  },
  {
   "cell_type": "code",
   "execution_count": 18,
   "metadata": {},
   "outputs": [],
   "source": [
    "fecha_inicio = \"2022-08-23\"\n",
    "fecha_final = \"2022-08-30\"\n",
    "f_inicio = datetime.strptime(fecha_inicio, '%Y-%m-%d')\n",
    "f_final = datetime.strptime(fecha_final, '%Y-%m-%d')"
   ]
  },
  {
   "cell_type": "code",
   "execution_count": 19,
   "metadata": {},
   "outputs": [],
   "source": [
    "lista_fechas = [(f_inicio + timedelta(days=d)).strftime('%y%m%d') for d in range((f_final - f_inicio).days + 1)] "
   ]
  },
  {
   "cell_type": "code",
   "execution_count": 20,
   "metadata": {},
   "outputs": [],
   "source": [
    "with open('config\\path.txt', \"r\") as tf:\n",
    "        path = tf.read()\n",
    "        path = path.replace(\"\\\\\",\"/\")\n",
    "tf.close()\n",
    "alertas = pd.DataFrame()\n",
    "for i in listdir(path):\n",
    "        files_store= pd.DataFrame()\n",
    "        if i.startswith('JPPs - Análisis de notas crédito - '):\n",
    "                new_path= f\"{path}/{i}\"\n",
    "                files_names = [f for f in listdir(new_path) if isfile(join(new_path, f))]\n",
    "                for j in (files_names):\n",
    "                        if j.endswith('.xlsx'):\n",
    "                                for i in lista_fechas:\n",
    "                                        if j.startswith(i):\n",
    "                                                if '_cm' in j:\n",
    "                                                        pass\n",
    "                                                else:\n",
    "                                                        file = pd.read_excel(f'{new_path}/{j}',sheet_name=\"Alertas\",dtype=str)\n",
    "                                                        file[\"fecha\"] = i\n",
    "                                                        files_store = pd.concat([files_store,file])\n",
    "        alertas = pd.concat([alertas, files_store])   \n"
   ]
  },
  {
   "cell_type": "code",
   "execution_count": 21,
   "metadata": {},
   "outputs": [],
   "source": [
    "alertas_x_hora = alertas.loc[alertas['Tipo alerta'] == 'Alerta x Hora']\n",
    "alertas_x_monto = alertas.loc[alertas['Tipo alerta'] == 'Alerta x monto']"
   ]
  },
  {
   "cell_type": "code",
   "execution_count": 22,
   "metadata": {},
   "outputs": [
    {
     "name": "stdout",
     "output_type": "stream",
     "text": [
      "cantidad de alertas generadas en el corte: 43\n"
     ]
    },
    {
     "name": "stderr",
     "output_type": "stream",
     "text": [
      "C:\\Users\\maperezr\\AppData\\Local\\Temp\\ipykernel_15648\\3762780082.py:1: SettingWithCopyWarning:\n",
      "\n",
      "\n",
      "A value is trying to be set on a copy of a slice from a DataFrame.\n",
      "Try using .loc[row_indexer,col_indexer] = value instead\n",
      "\n",
      "See the caveats in the documentation: https://pandas.pydata.org/pandas-docs/stable/user_guide/indexing.html#returning-a-view-versus-a-copy\n",
      "\n"
     ]
    },
    {
     "data": {
      "application/vnd.plotly.v1+json": {
       "config": {
        "plotlyServerURL": "https://plot.ly"
       },
       "data": [
        {
         "alignmentgroup": "True",
         "hovertemplate": "Indicador=No diligenciado<br>Local=%{x}<br>Cantidad NCs=%{text}<extra></extra>",
         "legendgroup": "No diligenciado",
         "marker": {
          "color": "rgb(170, 57, 57)",
          "pattern": {
           "shape": ""
          }
         },
         "name": "No diligenciado",
         "offsetgroup": "No diligenciado",
         "orientation": "v",
         "showlegend": true,
         "text": [
          5,
          4,
          3,
          1,
          1
         ],
         "textposition": "auto",
         "type": "bar",
         "x": [
          "TITAN",
          "SUBA",
          "SANTA FE",
          "SAN DIEGO",
          "CARACOLI"
         ],
         "xaxis": "x",
         "y": [
          5,
          4,
          3,
          1,
          1
         ],
         "yaxis": "y"
        },
        {
         "alignmentgroup": "True",
         "hovertemplate": "Indicador=Diligenciado<br>Local=%{x}<br>Cantidad NCs=%{text}<extra></extra>",
         "legendgroup": "Diligenciado",
         "marker": {
          "color": "rgb(45, 136, 45)",
          "pattern": {
           "shape": ""
          }
         },
         "name": "Diligenciado",
         "offsetgroup": "Diligenciado",
         "orientation": "v",
         "showlegend": true,
         "text": [
          5,
          4,
          4,
          3,
          3,
          2,
          2,
          1,
          1,
          1,
          1,
          1,
          1
         ],
         "textposition": "auto",
         "type": "bar",
         "x": [
          "CENTRO MAYOR",
          "BUENAVISTA",
          "SANTAFE MEDELLIN",
          "SAN DIEGO",
          "COLINA",
          "ARKADIA",
          "PLAZA CENTRAL",
          "PRIMAVERA",
          "EL CASTILLO",
          "TIENDA ALEGRA",
          "TITAN",
          "CACIQUE",
          "WTC CALI"
         ],
         "xaxis": "x",
         "y": [
          5,
          4,
          4,
          3,
          3,
          2,
          2,
          1,
          1,
          1,
          1,
          1,
          1
         ],
         "yaxis": "y"
        }
       ],
       "layout": {
        "barmode": "relative",
        "legend": {
         "title": {
          "text": "Indicador"
         },
         "tracegroupgap": 0,
         "x": 0.7,
         "xanchor": "left",
         "y": 0.95,
         "yanchor": "top"
        },
        "template": {
         "data": {
          "bar": [
           {
            "error_x": {
             "color": "#2a3f5f"
            },
            "error_y": {
             "color": "#2a3f5f"
            },
            "marker": {
             "line": {
              "color": "#E5ECF6",
              "width": 0.5
             },
             "pattern": {
              "fillmode": "overlay",
              "size": 10,
              "solidity": 0.2
             }
            },
            "type": "bar"
           }
          ],
          "barpolar": [
           {
            "marker": {
             "line": {
              "color": "#E5ECF6",
              "width": 0.5
             },
             "pattern": {
              "fillmode": "overlay",
              "size": 10,
              "solidity": 0.2
             }
            },
            "type": "barpolar"
           }
          ],
          "carpet": [
           {
            "aaxis": {
             "endlinecolor": "#2a3f5f",
             "gridcolor": "white",
             "linecolor": "white",
             "minorgridcolor": "white",
             "startlinecolor": "#2a3f5f"
            },
            "baxis": {
             "endlinecolor": "#2a3f5f",
             "gridcolor": "white",
             "linecolor": "white",
             "minorgridcolor": "white",
             "startlinecolor": "#2a3f5f"
            },
            "type": "carpet"
           }
          ],
          "choropleth": [
           {
            "colorbar": {
             "outlinewidth": 0,
             "ticks": ""
            },
            "type": "choropleth"
           }
          ],
          "contour": [
           {
            "colorbar": {
             "outlinewidth": 0,
             "ticks": ""
            },
            "colorscale": [
             [
              0,
              "#0d0887"
             ],
             [
              0.1111111111111111,
              "#46039f"
             ],
             [
              0.2222222222222222,
              "#7201a8"
             ],
             [
              0.3333333333333333,
              "#9c179e"
             ],
             [
              0.4444444444444444,
              "#bd3786"
             ],
             [
              0.5555555555555556,
              "#d8576b"
             ],
             [
              0.6666666666666666,
              "#ed7953"
             ],
             [
              0.7777777777777778,
              "#fb9f3a"
             ],
             [
              0.8888888888888888,
              "#fdca26"
             ],
             [
              1,
              "#f0f921"
             ]
            ],
            "type": "contour"
           }
          ],
          "contourcarpet": [
           {
            "colorbar": {
             "outlinewidth": 0,
             "ticks": ""
            },
            "type": "contourcarpet"
           }
          ],
          "heatmap": [
           {
            "colorbar": {
             "outlinewidth": 0,
             "ticks": ""
            },
            "colorscale": [
             [
              0,
              "#0d0887"
             ],
             [
              0.1111111111111111,
              "#46039f"
             ],
             [
              0.2222222222222222,
              "#7201a8"
             ],
             [
              0.3333333333333333,
              "#9c179e"
             ],
             [
              0.4444444444444444,
              "#bd3786"
             ],
             [
              0.5555555555555556,
              "#d8576b"
             ],
             [
              0.6666666666666666,
              "#ed7953"
             ],
             [
              0.7777777777777778,
              "#fb9f3a"
             ],
             [
              0.8888888888888888,
              "#fdca26"
             ],
             [
              1,
              "#f0f921"
             ]
            ],
            "type": "heatmap"
           }
          ],
          "heatmapgl": [
           {
            "colorbar": {
             "outlinewidth": 0,
             "ticks": ""
            },
            "colorscale": [
             [
              0,
              "#0d0887"
             ],
             [
              0.1111111111111111,
              "#46039f"
             ],
             [
              0.2222222222222222,
              "#7201a8"
             ],
             [
              0.3333333333333333,
              "#9c179e"
             ],
             [
              0.4444444444444444,
              "#bd3786"
             ],
             [
              0.5555555555555556,
              "#d8576b"
             ],
             [
              0.6666666666666666,
              "#ed7953"
             ],
             [
              0.7777777777777778,
              "#fb9f3a"
             ],
             [
              0.8888888888888888,
              "#fdca26"
             ],
             [
              1,
              "#f0f921"
             ]
            ],
            "type": "heatmapgl"
           }
          ],
          "histogram": [
           {
            "marker": {
             "pattern": {
              "fillmode": "overlay",
              "size": 10,
              "solidity": 0.2
             }
            },
            "type": "histogram"
           }
          ],
          "histogram2d": [
           {
            "colorbar": {
             "outlinewidth": 0,
             "ticks": ""
            },
            "colorscale": [
             [
              0,
              "#0d0887"
             ],
             [
              0.1111111111111111,
              "#46039f"
             ],
             [
              0.2222222222222222,
              "#7201a8"
             ],
             [
              0.3333333333333333,
              "#9c179e"
             ],
             [
              0.4444444444444444,
              "#bd3786"
             ],
             [
              0.5555555555555556,
              "#d8576b"
             ],
             [
              0.6666666666666666,
              "#ed7953"
             ],
             [
              0.7777777777777778,
              "#fb9f3a"
             ],
             [
              0.8888888888888888,
              "#fdca26"
             ],
             [
              1,
              "#f0f921"
             ]
            ],
            "type": "histogram2d"
           }
          ],
          "histogram2dcontour": [
           {
            "colorbar": {
             "outlinewidth": 0,
             "ticks": ""
            },
            "colorscale": [
             [
              0,
              "#0d0887"
             ],
             [
              0.1111111111111111,
              "#46039f"
             ],
             [
              0.2222222222222222,
              "#7201a8"
             ],
             [
              0.3333333333333333,
              "#9c179e"
             ],
             [
              0.4444444444444444,
              "#bd3786"
             ],
             [
              0.5555555555555556,
              "#d8576b"
             ],
             [
              0.6666666666666666,
              "#ed7953"
             ],
             [
              0.7777777777777778,
              "#fb9f3a"
             ],
             [
              0.8888888888888888,
              "#fdca26"
             ],
             [
              1,
              "#f0f921"
             ]
            ],
            "type": "histogram2dcontour"
           }
          ],
          "mesh3d": [
           {
            "colorbar": {
             "outlinewidth": 0,
             "ticks": ""
            },
            "type": "mesh3d"
           }
          ],
          "parcoords": [
           {
            "line": {
             "colorbar": {
              "outlinewidth": 0,
              "ticks": ""
             }
            },
            "type": "parcoords"
           }
          ],
          "pie": [
           {
            "automargin": true,
            "type": "pie"
           }
          ],
          "scatter": [
           {
            "marker": {
             "colorbar": {
              "outlinewidth": 0,
              "ticks": ""
             }
            },
            "type": "scatter"
           }
          ],
          "scatter3d": [
           {
            "line": {
             "colorbar": {
              "outlinewidth": 0,
              "ticks": ""
             }
            },
            "marker": {
             "colorbar": {
              "outlinewidth": 0,
              "ticks": ""
             }
            },
            "type": "scatter3d"
           }
          ],
          "scattercarpet": [
           {
            "marker": {
             "colorbar": {
              "outlinewidth": 0,
              "ticks": ""
             }
            },
            "type": "scattercarpet"
           }
          ],
          "scattergeo": [
           {
            "marker": {
             "colorbar": {
              "outlinewidth": 0,
              "ticks": ""
             }
            },
            "type": "scattergeo"
           }
          ],
          "scattergl": [
           {
            "marker": {
             "colorbar": {
              "outlinewidth": 0,
              "ticks": ""
             }
            },
            "type": "scattergl"
           }
          ],
          "scattermapbox": [
           {
            "marker": {
             "colorbar": {
              "outlinewidth": 0,
              "ticks": ""
             }
            },
            "type": "scattermapbox"
           }
          ],
          "scatterpolar": [
           {
            "marker": {
             "colorbar": {
              "outlinewidth": 0,
              "ticks": ""
             }
            },
            "type": "scatterpolar"
           }
          ],
          "scatterpolargl": [
           {
            "marker": {
             "colorbar": {
              "outlinewidth": 0,
              "ticks": ""
             }
            },
            "type": "scatterpolargl"
           }
          ],
          "scatterternary": [
           {
            "marker": {
             "colorbar": {
              "outlinewidth": 0,
              "ticks": ""
             }
            },
            "type": "scatterternary"
           }
          ],
          "surface": [
           {
            "colorbar": {
             "outlinewidth": 0,
             "ticks": ""
            },
            "colorscale": [
             [
              0,
              "#0d0887"
             ],
             [
              0.1111111111111111,
              "#46039f"
             ],
             [
              0.2222222222222222,
              "#7201a8"
             ],
             [
              0.3333333333333333,
              "#9c179e"
             ],
             [
              0.4444444444444444,
              "#bd3786"
             ],
             [
              0.5555555555555556,
              "#d8576b"
             ],
             [
              0.6666666666666666,
              "#ed7953"
             ],
             [
              0.7777777777777778,
              "#fb9f3a"
             ],
             [
              0.8888888888888888,
              "#fdca26"
             ],
             [
              1,
              "#f0f921"
             ]
            ],
            "type": "surface"
           }
          ],
          "table": [
           {
            "cells": {
             "fill": {
              "color": "#EBF0F8"
             },
             "line": {
              "color": "white"
             }
            },
            "header": {
             "fill": {
              "color": "#C8D4E3"
             },
             "line": {
              "color": "white"
             }
            },
            "type": "table"
           }
          ]
         },
         "layout": {
          "annotationdefaults": {
           "arrowcolor": "#2a3f5f",
           "arrowhead": 0,
           "arrowwidth": 1
          },
          "autotypenumbers": "strict",
          "coloraxis": {
           "colorbar": {
            "outlinewidth": 0,
            "ticks": ""
           }
          },
          "colorscale": {
           "diverging": [
            [
             0,
             "#8e0152"
            ],
            [
             0.1,
             "#c51b7d"
            ],
            [
             0.2,
             "#de77ae"
            ],
            [
             0.3,
             "#f1b6da"
            ],
            [
             0.4,
             "#fde0ef"
            ],
            [
             0.5,
             "#f7f7f7"
            ],
            [
             0.6,
             "#e6f5d0"
            ],
            [
             0.7,
             "#b8e186"
            ],
            [
             0.8,
             "#7fbc41"
            ],
            [
             0.9,
             "#4d9221"
            ],
            [
             1,
             "#276419"
            ]
           ],
           "sequential": [
            [
             0,
             "#0d0887"
            ],
            [
             0.1111111111111111,
             "#46039f"
            ],
            [
             0.2222222222222222,
             "#7201a8"
            ],
            [
             0.3333333333333333,
             "#9c179e"
            ],
            [
             0.4444444444444444,
             "#bd3786"
            ],
            [
             0.5555555555555556,
             "#d8576b"
            ],
            [
             0.6666666666666666,
             "#ed7953"
            ],
            [
             0.7777777777777778,
             "#fb9f3a"
            ],
            [
             0.8888888888888888,
             "#fdca26"
            ],
            [
             1,
             "#f0f921"
            ]
           ],
           "sequentialminus": [
            [
             0,
             "#0d0887"
            ],
            [
             0.1111111111111111,
             "#46039f"
            ],
            [
             0.2222222222222222,
             "#7201a8"
            ],
            [
             0.3333333333333333,
             "#9c179e"
            ],
            [
             0.4444444444444444,
             "#bd3786"
            ],
            [
             0.5555555555555556,
             "#d8576b"
            ],
            [
             0.6666666666666666,
             "#ed7953"
            ],
            [
             0.7777777777777778,
             "#fb9f3a"
            ],
            [
             0.8888888888888888,
             "#fdca26"
            ],
            [
             1,
             "#f0f921"
            ]
           ]
          },
          "colorway": [
           "#636efa",
           "#EF553B",
           "#00cc96",
           "#ab63fa",
           "#FFA15A",
           "#19d3f3",
           "#FF6692",
           "#B6E880",
           "#FF97FF",
           "#FECB52"
          ],
          "font": {
           "color": "#2a3f5f"
          },
          "geo": {
           "bgcolor": "white",
           "lakecolor": "white",
           "landcolor": "#E5ECF6",
           "showlakes": true,
           "showland": true,
           "subunitcolor": "white"
          },
          "hoverlabel": {
           "align": "left"
          },
          "hovermode": "closest",
          "mapbox": {
           "style": "light"
          },
          "paper_bgcolor": "white",
          "plot_bgcolor": "#E5ECF6",
          "polar": {
           "angularaxis": {
            "gridcolor": "white",
            "linecolor": "white",
            "ticks": ""
           },
           "bgcolor": "#E5ECF6",
           "radialaxis": {
            "gridcolor": "white",
            "linecolor": "white",
            "ticks": ""
           }
          },
          "scene": {
           "xaxis": {
            "backgroundcolor": "#E5ECF6",
            "gridcolor": "white",
            "gridwidth": 2,
            "linecolor": "white",
            "showbackground": true,
            "ticks": "",
            "zerolinecolor": "white"
           },
           "yaxis": {
            "backgroundcolor": "#E5ECF6",
            "gridcolor": "white",
            "gridwidth": 2,
            "linecolor": "white",
            "showbackground": true,
            "ticks": "",
            "zerolinecolor": "white"
           },
           "zaxis": {
            "backgroundcolor": "#E5ECF6",
            "gridcolor": "white",
            "gridwidth": 2,
            "linecolor": "white",
            "showbackground": true,
            "ticks": "",
            "zerolinecolor": "white"
           }
          },
          "shapedefaults": {
           "line": {
            "color": "#2a3f5f"
           }
          },
          "ternary": {
           "aaxis": {
            "gridcolor": "white",
            "linecolor": "white",
            "ticks": ""
           },
           "baxis": {
            "gridcolor": "white",
            "linecolor": "white",
            "ticks": ""
           },
           "bgcolor": "#E5ECF6",
           "caxis": {
            "gridcolor": "white",
            "linecolor": "white",
            "ticks": ""
           }
          },
          "title": {
           "x": 0.05
          },
          "xaxis": {
           "automargin": true,
           "gridcolor": "white",
           "linecolor": "white",
           "ticks": "",
           "title": {
            "standoff": 15
           },
           "zerolinecolor": "white",
           "zerolinewidth": 2
          },
          "yaxis": {
           "automargin": true,
           "gridcolor": "white",
           "linecolor": "white",
           "ticks": "",
           "title": {
            "standoff": 15
           },
           "zerolinecolor": "white",
           "zerolinewidth": 2
          }
         }
        },
        "title": {
         "text": "Cantidad de alertas por hora revisadas por tienda <br>Corte: 2022-08-23 hasta el 2022-08-30"
        },
        "xaxis": {
         "anchor": "y",
         "categoryorder": "total descending",
         "domain": [
          0,
          1
         ],
         "title": {
          "text": "Local"
         }
        },
        "yaxis": {
         "anchor": "x",
         "domain": [
          0,
          1
         ],
         "title": {
          "text": "Cantidad NCs"
         }
        }
       }
      }
     },
     "metadata": {},
     "output_type": "display_data"
    }
   ],
   "source": [
    "\n",
    "alertas_x_hora[\"fecha\"] =  pd.to_datetime(alertas_x_hora.fecha, yearfirst=True)\n",
    "al_x_hora = alertas_x_hora.loc[(alertas_x_hora[\"fecha\"] >= fecha_inicio) & (alertas_x_hora[\"fecha\"] <= fecha_final)].reset_index(drop=True)\n",
    "al_x_hora[\"Grabación?\"] = al_x_hora[\"Grabación?\"].str.upper()\n",
    "al_x_hora[\"Grabación?\"] = al_x_hora[\"Grabación?\"].fillna(\"nan\")\n",
    "al_x_hora.loc[(al_x_hora[\"Grabación?\"].str.contains(\"NO\")) | (al_x_hora[\"Grabación?\"].notna()) & (al_x_hora[\"Cliente?\"].notna()) & (al_x_hora[\"Producto?\"].notna()),\"Indicador\"] = \"Diligenciado\"\n",
    "al_x_hora.loc[al_x_hora[\"Grabación?\"] ==\"nan\", \"Grabación?\" ] = np.nan\n",
    "print(f'cantidad de alertas generadas en el corte: {al_x_hora.shape[0]}')\n",
    "al_x_hora.loc[(al_x_hora[\"Grabación?\"].notna()) & (al_x_hora[\"Cliente?\"].notna()) & (al_x_hora[\"Producto?\"].notna()), \"Indicador\"] = \"Diligenciado\"\n",
    "al_x_hora.loc[al_x_hora[\"Indicador\"] != \"Diligenciado\", \"Indicador\"] = \"No diligenciado\"\n",
    "fig_al_x_hora = al_x_hora.groupby([\"Desc_local\",\"Indicador\"]).agg({\"Cautoriza\":\"nunique\",}).reset_index().sort_values(\"Cautoriza\", ascending=False)\n",
    "h_fig = px.bar(fig_al_x_hora, x=\"Desc_local\", y=\"Cautoriza\",color=\"Indicador\",text=\"Cautoriza\",color_discrete_map = {'No diligenciado':'rgb(170, 57, 57)','Diligenciado':'rgb(45, 136, 45)'}, title=f\"Cantidad de alertas por hora revisadas por tienda <br>Corte: {fecha_inicio} hasta el {fecha_final}\", labels={\"Desc_local\":\"Local\",\"Cautoriza\":\"Cantidad NCs\"}) \n",
    "h_fig.update_layout(xaxis_categoryorder = 'total descending',legend=dict(yanchor=\"top\", y=0.95, xanchor=\"left\", x=0.7))\n",
    "h_fig.write_image(f\"output/{dt_string}alerta_horas.jpg\", height = 600, width = 1000)\n",
    "h_fig.show()\n",
    "al_x_hora.to_excel(f\"output/{dt_string}_alertas_x_hora.xlsx\", index=False)"
   ]
  },
  {
   "cell_type": "code",
   "execution_count": 23,
   "metadata": {},
   "outputs": [],
   "source": [
    "with open('config\\path.txt', \"r\") as tf:\n",
    "        path = tf.read()\n",
    "        path = path.replace(\"\\\\\",\"/\")\n",
    "tf.close()\n",
    "alertas_x_monto = pd.DataFrame()\n",
    "for i in listdir(path):\n",
    "        files_store= pd.DataFrame()\n",
    "        if i.startswith('JPPs - Análisis de notas crédito - '):\n",
    "                new_path= f\"{path}/{i}\"\n",
    "                files_names = [f for f in listdir(new_path) if isfile(join(new_path, f))]\n",
    "                for j in (files_names):\n",
    "                        if j.endswith('.xlsx'):\n",
    "                                for i in lista_fechas:\n",
    "                                        if j.startswith(i):\n",
    "                                                if '_cm' in j:\n",
    "                                                        pass\n",
    "                                                else:\n",
    "                                                        file = pd.read_excel(f'{new_path}/{j}',sheet_name=\"Alertas\",dtype=str)\n",
    "                                                        file[\"fecha\"] = i\n",
    "                                                        files_store = pd.concat([files_store,file])\n",
    "        alertas_x_monto = pd.concat([alertas_x_monto, files_store]) "
   ]
  },
  {
   "cell_type": "markdown",
   "metadata": {},
   "source": [
    "Alertas x monto despues de ultimo informe (20/feb/22)"
   ]
  },
  {
   "cell_type": "code",
   "execution_count": 24,
   "metadata": {},
   "outputs": [
    {
     "name": "stdout",
     "output_type": "stream",
     "text": [
      "cantidad de alertas generadas en el corte: 3175\n"
     ]
    },
    {
     "data": {
      "application/vnd.plotly.v1+json": {
       "config": {
        "plotlyServerURL": "https://plot.ly"
       },
       "data": [
        {
         "alignmentgroup": "True",
         "hovertemplate": "Indicador=Diligenciado<br>Local=%{x}<br>Cantidad NCs=%{text}<extra></extra>",
         "legendgroup": "Diligenciado",
         "marker": {
          "color": "rgb(45, 136, 45)",
          "pattern": {
           "shape": ""
          }
         },
         "name": "Diligenciado",
         "offsetgroup": "Diligenciado",
         "orientation": "v",
         "showlegend": true,
         "text": [
          280,
          247,
          160,
          137,
          130,
          125,
          123,
          114,
          86,
          85,
          80,
          72,
          71,
          70,
          56,
          50,
          48,
          48,
          43,
          33,
          29,
          26,
          16
         ],
         "textposition": "auto",
         "type": "bar",
         "x": [
          "COLINA",
          "SANTAFE MEDELLIN",
          "GALERIAS",
          "CENTRO MAYOR",
          "FONTANAR",
          "SAN DIEGO",
          "BUENAVISTA",
          "WTC CALI",
          "PLAZA CENTRAL",
          "EL CASTILLO",
          "CACIQUE",
          "UNICENTRO",
          "ARKADIA",
          "HAYUELOS",
          "ACQUA",
          "PRIMAVERA",
          "DIVER PLAZA",
          "PARQUE ARBOLEDA",
          "LA CAROLA",
          "TITAN",
          "SUBA",
          "TIENDA ALEGRA",
          "CARACOLI"
         ],
         "xaxis": "x",
         "y": [
          280,
          247,
          160,
          137,
          130,
          125,
          123,
          114,
          86,
          85,
          80,
          72,
          71,
          70,
          56,
          50,
          48,
          48,
          43,
          33,
          29,
          26,
          16
         ],
         "yaxis": "y"
        },
        {
         "alignmentgroup": "True",
         "hovertemplate": "Indicador=No diligenciado<br>Local=%{x}<br>Cantidad NCs=%{text}<extra></extra>",
         "legendgroup": "No diligenciado",
         "marker": {
          "color": "rgb(170, 57, 57)",
          "pattern": {
           "shape": ""
          }
         },
         "name": "No diligenciado",
         "offsetgroup": "No diligenciado",
         "orientation": "v",
         "showlegend": true,
         "text": [
          230,
          173,
          135,
          126,
          82,
          60,
          48,
          31,
          26,
          24,
          23,
          22,
          15,
          12,
          1,
          1
         ],
         "textposition": "auto",
         "type": "bar",
         "x": [
          "UNICENTRO",
          "SANTA FE",
          "JARDIN PLAZA",
          "TITAN",
          "LA FELICIDAD",
          "SUBA",
          "CARACOLI",
          "EL CASTILLO",
          "LA CAROLA",
          "SAN DIEGO",
          "COLINA",
          "PARQUE ARBOLEDA",
          "WTC CALI",
          "ARKADIA",
          "HAYUELOS",
          "CACIQUE"
         ],
         "xaxis": "x",
         "y": [
          230,
          173,
          135,
          126,
          82,
          60,
          48,
          31,
          26,
          24,
          23,
          22,
          15,
          12,
          1,
          1
         ],
         "yaxis": "y"
        }
       ],
       "layout": {
        "barmode": "relative",
        "legend": {
         "title": {
          "text": "Indicador"
         },
         "tracegroupgap": 0,
         "x": 0.7,
         "xanchor": "left",
         "y": 0.95,
         "yanchor": "top"
        },
        "template": {
         "data": {
          "bar": [
           {
            "error_x": {
             "color": "#2a3f5f"
            },
            "error_y": {
             "color": "#2a3f5f"
            },
            "marker": {
             "line": {
              "color": "#E5ECF6",
              "width": 0.5
             },
             "pattern": {
              "fillmode": "overlay",
              "size": 10,
              "solidity": 0.2
             }
            },
            "type": "bar"
           }
          ],
          "barpolar": [
           {
            "marker": {
             "line": {
              "color": "#E5ECF6",
              "width": 0.5
             },
             "pattern": {
              "fillmode": "overlay",
              "size": 10,
              "solidity": 0.2
             }
            },
            "type": "barpolar"
           }
          ],
          "carpet": [
           {
            "aaxis": {
             "endlinecolor": "#2a3f5f",
             "gridcolor": "white",
             "linecolor": "white",
             "minorgridcolor": "white",
             "startlinecolor": "#2a3f5f"
            },
            "baxis": {
             "endlinecolor": "#2a3f5f",
             "gridcolor": "white",
             "linecolor": "white",
             "minorgridcolor": "white",
             "startlinecolor": "#2a3f5f"
            },
            "type": "carpet"
           }
          ],
          "choropleth": [
           {
            "colorbar": {
             "outlinewidth": 0,
             "ticks": ""
            },
            "type": "choropleth"
           }
          ],
          "contour": [
           {
            "colorbar": {
             "outlinewidth": 0,
             "ticks": ""
            },
            "colorscale": [
             [
              0,
              "#0d0887"
             ],
             [
              0.1111111111111111,
              "#46039f"
             ],
             [
              0.2222222222222222,
              "#7201a8"
             ],
             [
              0.3333333333333333,
              "#9c179e"
             ],
             [
              0.4444444444444444,
              "#bd3786"
             ],
             [
              0.5555555555555556,
              "#d8576b"
             ],
             [
              0.6666666666666666,
              "#ed7953"
             ],
             [
              0.7777777777777778,
              "#fb9f3a"
             ],
             [
              0.8888888888888888,
              "#fdca26"
             ],
             [
              1,
              "#f0f921"
             ]
            ],
            "type": "contour"
           }
          ],
          "contourcarpet": [
           {
            "colorbar": {
             "outlinewidth": 0,
             "ticks": ""
            },
            "type": "contourcarpet"
           }
          ],
          "heatmap": [
           {
            "colorbar": {
             "outlinewidth": 0,
             "ticks": ""
            },
            "colorscale": [
             [
              0,
              "#0d0887"
             ],
             [
              0.1111111111111111,
              "#46039f"
             ],
             [
              0.2222222222222222,
              "#7201a8"
             ],
             [
              0.3333333333333333,
              "#9c179e"
             ],
             [
              0.4444444444444444,
              "#bd3786"
             ],
             [
              0.5555555555555556,
              "#d8576b"
             ],
             [
              0.6666666666666666,
              "#ed7953"
             ],
             [
              0.7777777777777778,
              "#fb9f3a"
             ],
             [
              0.8888888888888888,
              "#fdca26"
             ],
             [
              1,
              "#f0f921"
             ]
            ],
            "type": "heatmap"
           }
          ],
          "heatmapgl": [
           {
            "colorbar": {
             "outlinewidth": 0,
             "ticks": ""
            },
            "colorscale": [
             [
              0,
              "#0d0887"
             ],
             [
              0.1111111111111111,
              "#46039f"
             ],
             [
              0.2222222222222222,
              "#7201a8"
             ],
             [
              0.3333333333333333,
              "#9c179e"
             ],
             [
              0.4444444444444444,
              "#bd3786"
             ],
             [
              0.5555555555555556,
              "#d8576b"
             ],
             [
              0.6666666666666666,
              "#ed7953"
             ],
             [
              0.7777777777777778,
              "#fb9f3a"
             ],
             [
              0.8888888888888888,
              "#fdca26"
             ],
             [
              1,
              "#f0f921"
             ]
            ],
            "type": "heatmapgl"
           }
          ],
          "histogram": [
           {
            "marker": {
             "pattern": {
              "fillmode": "overlay",
              "size": 10,
              "solidity": 0.2
             }
            },
            "type": "histogram"
           }
          ],
          "histogram2d": [
           {
            "colorbar": {
             "outlinewidth": 0,
             "ticks": ""
            },
            "colorscale": [
             [
              0,
              "#0d0887"
             ],
             [
              0.1111111111111111,
              "#46039f"
             ],
             [
              0.2222222222222222,
              "#7201a8"
             ],
             [
              0.3333333333333333,
              "#9c179e"
             ],
             [
              0.4444444444444444,
              "#bd3786"
             ],
             [
              0.5555555555555556,
              "#d8576b"
             ],
             [
              0.6666666666666666,
              "#ed7953"
             ],
             [
              0.7777777777777778,
              "#fb9f3a"
             ],
             [
              0.8888888888888888,
              "#fdca26"
             ],
             [
              1,
              "#f0f921"
             ]
            ],
            "type": "histogram2d"
           }
          ],
          "histogram2dcontour": [
           {
            "colorbar": {
             "outlinewidth": 0,
             "ticks": ""
            },
            "colorscale": [
             [
              0,
              "#0d0887"
             ],
             [
              0.1111111111111111,
              "#46039f"
             ],
             [
              0.2222222222222222,
              "#7201a8"
             ],
             [
              0.3333333333333333,
              "#9c179e"
             ],
             [
              0.4444444444444444,
              "#bd3786"
             ],
             [
              0.5555555555555556,
              "#d8576b"
             ],
             [
              0.6666666666666666,
              "#ed7953"
             ],
             [
              0.7777777777777778,
              "#fb9f3a"
             ],
             [
              0.8888888888888888,
              "#fdca26"
             ],
             [
              1,
              "#f0f921"
             ]
            ],
            "type": "histogram2dcontour"
           }
          ],
          "mesh3d": [
           {
            "colorbar": {
             "outlinewidth": 0,
             "ticks": ""
            },
            "type": "mesh3d"
           }
          ],
          "parcoords": [
           {
            "line": {
             "colorbar": {
              "outlinewidth": 0,
              "ticks": ""
             }
            },
            "type": "parcoords"
           }
          ],
          "pie": [
           {
            "automargin": true,
            "type": "pie"
           }
          ],
          "scatter": [
           {
            "marker": {
             "colorbar": {
              "outlinewidth": 0,
              "ticks": ""
             }
            },
            "type": "scatter"
           }
          ],
          "scatter3d": [
           {
            "line": {
             "colorbar": {
              "outlinewidth": 0,
              "ticks": ""
             }
            },
            "marker": {
             "colorbar": {
              "outlinewidth": 0,
              "ticks": ""
             }
            },
            "type": "scatter3d"
           }
          ],
          "scattercarpet": [
           {
            "marker": {
             "colorbar": {
              "outlinewidth": 0,
              "ticks": ""
             }
            },
            "type": "scattercarpet"
           }
          ],
          "scattergeo": [
           {
            "marker": {
             "colorbar": {
              "outlinewidth": 0,
              "ticks": ""
             }
            },
            "type": "scattergeo"
           }
          ],
          "scattergl": [
           {
            "marker": {
             "colorbar": {
              "outlinewidth": 0,
              "ticks": ""
             }
            },
            "type": "scattergl"
           }
          ],
          "scattermapbox": [
           {
            "marker": {
             "colorbar": {
              "outlinewidth": 0,
              "ticks": ""
             }
            },
            "type": "scattermapbox"
           }
          ],
          "scatterpolar": [
           {
            "marker": {
             "colorbar": {
              "outlinewidth": 0,
              "ticks": ""
             }
            },
            "type": "scatterpolar"
           }
          ],
          "scatterpolargl": [
           {
            "marker": {
             "colorbar": {
              "outlinewidth": 0,
              "ticks": ""
             }
            },
            "type": "scatterpolargl"
           }
          ],
          "scatterternary": [
           {
            "marker": {
             "colorbar": {
              "outlinewidth": 0,
              "ticks": ""
             }
            },
            "type": "scatterternary"
           }
          ],
          "surface": [
           {
            "colorbar": {
             "outlinewidth": 0,
             "ticks": ""
            },
            "colorscale": [
             [
              0,
              "#0d0887"
             ],
             [
              0.1111111111111111,
              "#46039f"
             ],
             [
              0.2222222222222222,
              "#7201a8"
             ],
             [
              0.3333333333333333,
              "#9c179e"
             ],
             [
              0.4444444444444444,
              "#bd3786"
             ],
             [
              0.5555555555555556,
              "#d8576b"
             ],
             [
              0.6666666666666666,
              "#ed7953"
             ],
             [
              0.7777777777777778,
              "#fb9f3a"
             ],
             [
              0.8888888888888888,
              "#fdca26"
             ],
             [
              1,
              "#f0f921"
             ]
            ],
            "type": "surface"
           }
          ],
          "table": [
           {
            "cells": {
             "fill": {
              "color": "#EBF0F8"
             },
             "line": {
              "color": "white"
             }
            },
            "header": {
             "fill": {
              "color": "#C8D4E3"
             },
             "line": {
              "color": "white"
             }
            },
            "type": "table"
           }
          ]
         },
         "layout": {
          "annotationdefaults": {
           "arrowcolor": "#2a3f5f",
           "arrowhead": 0,
           "arrowwidth": 1
          },
          "autotypenumbers": "strict",
          "coloraxis": {
           "colorbar": {
            "outlinewidth": 0,
            "ticks": ""
           }
          },
          "colorscale": {
           "diverging": [
            [
             0,
             "#8e0152"
            ],
            [
             0.1,
             "#c51b7d"
            ],
            [
             0.2,
             "#de77ae"
            ],
            [
             0.3,
             "#f1b6da"
            ],
            [
             0.4,
             "#fde0ef"
            ],
            [
             0.5,
             "#f7f7f7"
            ],
            [
             0.6,
             "#e6f5d0"
            ],
            [
             0.7,
             "#b8e186"
            ],
            [
             0.8,
             "#7fbc41"
            ],
            [
             0.9,
             "#4d9221"
            ],
            [
             1,
             "#276419"
            ]
           ],
           "sequential": [
            [
             0,
             "#0d0887"
            ],
            [
             0.1111111111111111,
             "#46039f"
            ],
            [
             0.2222222222222222,
             "#7201a8"
            ],
            [
             0.3333333333333333,
             "#9c179e"
            ],
            [
             0.4444444444444444,
             "#bd3786"
            ],
            [
             0.5555555555555556,
             "#d8576b"
            ],
            [
             0.6666666666666666,
             "#ed7953"
            ],
            [
             0.7777777777777778,
             "#fb9f3a"
            ],
            [
             0.8888888888888888,
             "#fdca26"
            ],
            [
             1,
             "#f0f921"
            ]
           ],
           "sequentialminus": [
            [
             0,
             "#0d0887"
            ],
            [
             0.1111111111111111,
             "#46039f"
            ],
            [
             0.2222222222222222,
             "#7201a8"
            ],
            [
             0.3333333333333333,
             "#9c179e"
            ],
            [
             0.4444444444444444,
             "#bd3786"
            ],
            [
             0.5555555555555556,
             "#d8576b"
            ],
            [
             0.6666666666666666,
             "#ed7953"
            ],
            [
             0.7777777777777778,
             "#fb9f3a"
            ],
            [
             0.8888888888888888,
             "#fdca26"
            ],
            [
             1,
             "#f0f921"
            ]
           ]
          },
          "colorway": [
           "#636efa",
           "#EF553B",
           "#00cc96",
           "#ab63fa",
           "#FFA15A",
           "#19d3f3",
           "#FF6692",
           "#B6E880",
           "#FF97FF",
           "#FECB52"
          ],
          "font": {
           "color": "#2a3f5f"
          },
          "geo": {
           "bgcolor": "white",
           "lakecolor": "white",
           "landcolor": "#E5ECF6",
           "showlakes": true,
           "showland": true,
           "subunitcolor": "white"
          },
          "hoverlabel": {
           "align": "left"
          },
          "hovermode": "closest",
          "mapbox": {
           "style": "light"
          },
          "paper_bgcolor": "white",
          "plot_bgcolor": "#E5ECF6",
          "polar": {
           "angularaxis": {
            "gridcolor": "white",
            "linecolor": "white",
            "ticks": ""
           },
           "bgcolor": "#E5ECF6",
           "radialaxis": {
            "gridcolor": "white",
            "linecolor": "white",
            "ticks": ""
           }
          },
          "scene": {
           "xaxis": {
            "backgroundcolor": "#E5ECF6",
            "gridcolor": "white",
            "gridwidth": 2,
            "linecolor": "white",
            "showbackground": true,
            "ticks": "",
            "zerolinecolor": "white"
           },
           "yaxis": {
            "backgroundcolor": "#E5ECF6",
            "gridcolor": "white",
            "gridwidth": 2,
            "linecolor": "white",
            "showbackground": true,
            "ticks": "",
            "zerolinecolor": "white"
           },
           "zaxis": {
            "backgroundcolor": "#E5ECF6",
            "gridcolor": "white",
            "gridwidth": 2,
            "linecolor": "white",
            "showbackground": true,
            "ticks": "",
            "zerolinecolor": "white"
           }
          },
          "shapedefaults": {
           "line": {
            "color": "#2a3f5f"
           }
          },
          "ternary": {
           "aaxis": {
            "gridcolor": "white",
            "linecolor": "white",
            "ticks": ""
           },
           "baxis": {
            "gridcolor": "white",
            "linecolor": "white",
            "ticks": ""
           },
           "bgcolor": "#E5ECF6",
           "caxis": {
            "gridcolor": "white",
            "linecolor": "white",
            "ticks": ""
           }
          },
          "title": {
           "x": 0.05
          },
          "xaxis": {
           "automargin": true,
           "gridcolor": "white",
           "linecolor": "white",
           "ticks": "",
           "title": {
            "standoff": 15
           },
           "zerolinecolor": "white",
           "zerolinewidth": 2
          },
          "yaxis": {
           "automargin": true,
           "gridcolor": "white",
           "linecolor": "white",
           "ticks": "",
           "title": {
            "standoff": 15
           },
           "zerolinecolor": "white",
           "zerolinewidth": 2
          }
         }
        },
        "title": {
         "text": "Cantidad de alertas por monto por tienda <br>Corte:2022-08-23 hasta el 2022-08-30"
        },
        "xaxis": {
         "anchor": "y",
         "categoryorder": "total descending",
         "domain": [
          0,
          1
         ],
         "title": {
          "text": "Local"
         }
        },
        "yaxis": {
         "anchor": "x",
         "domain": [
          0,
          1
         ],
         "title": {
          "text": "Cantidad NCs"
         }
        }
       }
      }
     },
     "metadata": {},
     "output_type": "display_data"
    }
   ],
   "source": [
    "alertas_x_monto[\"fecha\"] =  pd.to_datetime(alertas_x_monto.fecha, yearfirst=True)\n",
    "al_x_monto = alertas_x_monto.loc[(alertas_x_monto[\"fecha\"] >= fecha_inicio) & (alertas_x_monto[\"fecha\"] <= fecha_final)].reset_index(drop=True)\n",
    "al_x_monto[\"Grabación?\"] = al_x_monto[\"Grabación?\"].str.upper()\n",
    "al_x_monto[\"Grabación?\"] = al_x_monto[\"Grabación?\"].fillna(\"nan\")\n",
    "al_x_monto.loc[(al_x_monto[\"Grabación?\"].str.contains(\"NO\")) | (al_x_monto[\"Grabación?\"].notna()) & (al_x_monto[\"Cliente?\"].notna()) & (al_x_monto[\"Producto?\"].notna()),\"Indicador\"] = \"Diligenciado\"\n",
    "al_x_monto.loc[al_x_monto[\"Grabación?\"] ==\"nan\", \"Grabación?\" ] = np.nan\n",
    "print(f'cantidad de alertas generadas en el corte: {al_x_monto.shape[0]}')\n",
    "al_x_monto.loc[(al_x_monto[\"Grabación?\"].notna()) & (al_x_monto[\"Cliente?\"].notna()) & (al_x_monto[\"Producto?\"].notna()), \"Indicador\"] = \"Diligenciado\"\n",
    "al_x_monto.loc[al_x_monto[\"Indicador\"] != \"Diligenciado\", \"Indicador\"] = \"No diligenciado\"\n",
    "fig_al_x_monto = al_x_monto.groupby([\"Desc_local\",\"Indicador\"]).agg({\"Cautoriza\":\"nunique\",}).reset_index().sort_values(\"Cautoriza\", ascending=False)\n",
    "h_fig = px.bar(fig_al_x_monto, x=\"Desc_local\", y=\"Cautoriza\",color=\"Indicador\",text=\"Cautoriza\",color_discrete_map = {'No diligenciado':'rgb(170, 57, 57)','Diligenciado':'rgb(45, 136, 45)'}, title=f\"Cantidad de alertas por monto por tienda <br>Corte:{fecha_inicio} hasta el {fecha_final}\", labels={\"Desc_local\":\"Local\",\"Cautoriza\":\"Cantidad NCs\"}) \n",
    "h_fig.update_layout(xaxis_categoryorder = 'total descending',legend=dict(yanchor=\"top\", y=0.95, xanchor=\"left\", x=0.7))\n",
    "h_fig.write_image(f\"output/{dt_string}alerta_monto.jpg\", height = 600, width = 1000)\n",
    "h_fig.show()\n",
    "al_x_monto.to_excel(f\"output/{dt_string}alertas_x_monto.xlsx\", index=False)"
   ]
  },
  {
   "cell_type": "markdown",
   "metadata": {},
   "source": [
    "Calculos\n"
   ]
  },
  {
   "cell_type": "code",
   "execution_count": 25,
   "metadata": {},
   "outputs": [
    {
     "name": "stdout",
     "output_type": "stream",
     "text": [
      "Cantidad total de alarmas por hora: 43\n",
      "Cantidad total de alarmas por monto: 3175\n",
      "Cantidad total de alarmas: 3218\n",
      "Cantidad total no diligenciado: 1023\n",
      "Cantidad diligenciados: 2154\n",
      "Porcentage de alertas diligenciadas: 66.93598508390305\n"
     ]
    }
   ],
   "source": [
    "hora_no_d = al_x_hora.loc[al_x_hora.Indicador == \"No diligenciado\", \"Cautoriza\" ].nunique()\n",
    "hora_d = al_x_hora.loc[al_x_hora.Indicador == \"Diligenciado\", \"Cautoriza\" ].nunique()\n",
    "monto_no_d = al_x_monto.loc[al_x_monto.Indicador == \"No diligenciado\", \"Cautoriza\" ].nunique()\n",
    "monto_d = al_x_monto.loc[al_x_monto.Indicador == \"Diligenciado\", \"Cautoriza\" ].nunique()\n",
    "total_alarmas = al_x_hora.shape[0] + al_x_monto.shape[0]\n",
    "cantidad_diligenciados = hora_d + monto_d\n",
    "print(f\"Cantidad total de alarmas por hora: {al_x_hora.shape[0]}\")\n",
    "print(f\"Cantidad total de alarmas por monto: {al_x_monto.shape[0]}\")\n",
    "print(f\"Cantidad total de alarmas: {total_alarmas}\")\n",
    "print(f\"Cantidad total no diligenciado: {hora_no_d + monto_no_d}\")\n",
    "print(f\"Cantidad diligenciados: {cantidad_diligenciados}\")\n",
    "print(f\"Porcentage de alertas diligenciadas: {(cantidad_diligenciados*100)/total_alarmas}\")\n",
    "alertas_hora = al_x_hora.shape[0]\n",
    "alertas_montos = al_x_monto.shape[0]\n",
    "alertas_totales = hora_no_d + monto_no_d\n"
   ]
  },
  {
   "cell_type": "code",
   "execution_count": 26,
   "metadata": {},
   "outputs": [],
   "source": [
    "email_content = f\"\"\"<p>Estimados:</p> \n",
    "<p>Por favor encuentren a continuación, el análisis de la gestión de diligenciamiento de los reportes de notas créditos según la tienda, para las alarmas por monto y hora, enviadas entre {fecha_inicio} hasta el {fecha_final}.</p>  \n",
    "<p>En total se generaron {alertas_totales} alertas para las 26 tiendas, las cuales incluye {alertas_hora} alertas por hora y {alertas_montos} alertas por monto. Se evidencia que <strong><u>fueron diligenciadas por las tiendas 1445 alertas que corresponden al 48% del total de alertas</strong></u>.</p> \n",
    "<p>Así mismo, en las siguientes gráficas se presentan la cantidad de alertas a revisar por las tiendas y el estado del diligenciamiento correspondiente:</p>  \n",
    "<img src=\"cid:alerta_horas\"><br></td>\n",
    "<img src=\"cid:alerta_montos\"><br></td>\n",
    "<p>El detalle de la información anterior se encuentra adjunto.</p>   \n",
    "<p>Quedo atento en caso de que surja alguna duda.</p>  \n",
    "<p>Saludos cordiales,</p> \n",
    "<br>\n",
    "{fm.firma}\n",
    "\"\"\"\n"
   ]
  },
  {
   "cell_type": "code",
   "execution_count": 27,
   "metadata": {},
   "outputs": [],
   "source": [
    "img=  {'alerta_horas' : f'output/{dt_string}alerta_horas.jpg', 'alerta_montos':f'output/{dt_string}alerta_monto.jpg'}"
   ]
  },
  {
   "cell_type": "code",
   "execution_count": 28,
   "metadata": {},
   "outputs": [
    {
     "name": "stdout",
     "output_type": "stream",
     "text": [
      "080922_alertas_x_hora.xlsx\n"
     ]
    }
   ],
   "source": [
    "print(f'{dt_string}_alertas_x_hora.xlsx')"
   ]
  },
  {
   "cell_type": "code",
   "execution_count": 29,
   "metadata": {},
   "outputs": [],
   "source": [
    "mail = ADM_MAIL()\n",
    "mail.attach_text(email_content)\n",
    "mail.attach_image(img)\n",
    "listado_archive = [f'output\\{dt_string}_alertas_x_hora.xlsx', f'output/{dt_string}_alertas_x_monto.xlsx']\n",
    "mail.attach_archives(listado_archive)"
   ]
  },
  {
   "cell_type": "code",
   "execution_count": 30,
   "metadata": {},
   "outputs": [],
   "source": [
    "mail.erase_head()"
   ]
  },
  {
   "cell_type": "code",
   "execution_count": 31,
   "metadata": {},
   "outputs": [],
   "source": [
    "mail.head_mesagge('usuario@falabella.com.co','usuario@falabella.com.co',f'Reporte diligenciamiento alertas NC - {fecha_inicio} hasta el {fecha_final}','usuario@falabella.com.co')"
   ]
  },
  {
   "cell_type": "code",
   "execution_count": 32,
   "metadata": {},
   "outputs": [
    {
     "ename": "TypeError",
     "evalue": "string payload expected: <class 'list'>",
     "output_type": "error",
     "traceback": [
      "\u001b[1;31m---------------------------------------------------------------------------\u001b[0m",
      "\u001b[1;31mTypeError\u001b[0m                                 Traceback (most recent call last)",
      "\u001b[1;32mc:\\Users\\maperezr\\proyectos\\nc-santiago\\metodo_unificacion.ipynb Celda 18\u001b[0m in \u001b[0;36m<cell line: 1>\u001b[1;34m()\u001b[0m\n\u001b[1;32m----> <a href='vscode-notebook-cell:/c%3A/Users/maperezr/proyectos/nc-santiago/metodo_unificacion.ipynb#X22sZmlsZQ%3D%3D?line=0'>1</a>\u001b[0m mail\u001b[39m.\u001b[39;49msend_mesaje()\n",
      "File \u001b[1;32mC:\\Users/maperezr/proyectos/fs-emails\\adm_email.py:62\u001b[0m, in \u001b[0;36mADM_MAIL.send_mesaje\u001b[1;34m(self)\u001b[0m\n\u001b[0;32m     60\u001b[0m smtp\u001b[39m.\u001b[39mstarttls()\n\u001b[0;32m     61\u001b[0m smtp\u001b[39m.\u001b[39mlogin(lg\u001b[39m.\u001b[39muser, lg\u001b[39m.\u001b[39mpasword)\n\u001b[1;32m---> 62\u001b[0m smtp\u001b[39m.\u001b[39msendmail(lg\u001b[39m.\u001b[39muser,  \u001b[39mself\u001b[39m\u001b[39m.\u001b[39mmensaje[\u001b[39m\"\u001b[39m\u001b[39mTo\u001b[39m\u001b[39m\"\u001b[39m] ,\u001b[39mself\u001b[39;49m\u001b[39m.\u001b[39;49mmensaje\u001b[39m.\u001b[39;49mas_string())\n\u001b[0;32m     63\u001b[0m smtp\u001b[39m.\u001b[39mclose()\n\u001b[0;32m     64\u001b[0m \u001b[39m# smtp.quit() \u001b[39;00m\n",
      "File \u001b[1;32mc:\\Users\\maperezr\\Anaconda3\\lib\\email\\message.py:158\u001b[0m, in \u001b[0;36mMessage.as_string\u001b[1;34m(self, unixfrom, maxheaderlen, policy)\u001b[0m\n\u001b[0;32m    153\u001b[0m fp \u001b[39m=\u001b[39m StringIO()\n\u001b[0;32m    154\u001b[0m g \u001b[39m=\u001b[39m Generator(fp,\n\u001b[0;32m    155\u001b[0m               mangle_from_\u001b[39m=\u001b[39m\u001b[39mFalse\u001b[39;00m,\n\u001b[0;32m    156\u001b[0m               maxheaderlen\u001b[39m=\u001b[39mmaxheaderlen,\n\u001b[0;32m    157\u001b[0m               policy\u001b[39m=\u001b[39mpolicy)\n\u001b[1;32m--> 158\u001b[0m g\u001b[39m.\u001b[39;49mflatten(\u001b[39mself\u001b[39;49m, unixfrom\u001b[39m=\u001b[39;49munixfrom)\n\u001b[0;32m    159\u001b[0m \u001b[39mreturn\u001b[39;00m fp\u001b[39m.\u001b[39mgetvalue()\n",
      "File \u001b[1;32mc:\\Users\\maperezr\\Anaconda3\\lib\\email\\generator.py:116\u001b[0m, in \u001b[0;36mGenerator.flatten\u001b[1;34m(self, msg, unixfrom, linesep)\u001b[0m\n\u001b[0;32m    114\u001b[0m             ufrom \u001b[39m=\u001b[39m \u001b[39m'\u001b[39m\u001b[39mFrom nobody \u001b[39m\u001b[39m'\u001b[39m \u001b[39m+\u001b[39m time\u001b[39m.\u001b[39mctime(time\u001b[39m.\u001b[39mtime())\n\u001b[0;32m    115\u001b[0m         \u001b[39mself\u001b[39m\u001b[39m.\u001b[39mwrite(ufrom \u001b[39m+\u001b[39m \u001b[39mself\u001b[39m\u001b[39m.\u001b[39m_NL)\n\u001b[1;32m--> 116\u001b[0m     \u001b[39mself\u001b[39;49m\u001b[39m.\u001b[39;49m_write(msg)\n\u001b[0;32m    117\u001b[0m \u001b[39mfinally\u001b[39;00m:\n\u001b[0;32m    118\u001b[0m     \u001b[39mself\u001b[39m\u001b[39m.\u001b[39mpolicy \u001b[39m=\u001b[39m old_gen_policy\n",
      "File \u001b[1;32mc:\\Users\\maperezr\\Anaconda3\\lib\\email\\generator.py:181\u001b[0m, in \u001b[0;36mGenerator._write\u001b[1;34m(self, msg)\u001b[0m\n\u001b[0;32m    179\u001b[0m     \u001b[39mself\u001b[39m\u001b[39m.\u001b[39m_munge_cte \u001b[39m=\u001b[39m \u001b[39mNone\u001b[39;00m\n\u001b[0;32m    180\u001b[0m     \u001b[39mself\u001b[39m\u001b[39m.\u001b[39m_fp \u001b[39m=\u001b[39m sfp \u001b[39m=\u001b[39m \u001b[39mself\u001b[39m\u001b[39m.\u001b[39m_new_buffer()\n\u001b[1;32m--> 181\u001b[0m     \u001b[39mself\u001b[39;49m\u001b[39m.\u001b[39;49m_dispatch(msg)\n\u001b[0;32m    182\u001b[0m \u001b[39mfinally\u001b[39;00m:\n\u001b[0;32m    183\u001b[0m     \u001b[39mself\u001b[39m\u001b[39m.\u001b[39m_fp \u001b[39m=\u001b[39m oldfp\n",
      "File \u001b[1;32mc:\\Users\\maperezr\\Anaconda3\\lib\\email\\generator.py:218\u001b[0m, in \u001b[0;36mGenerator._dispatch\u001b[1;34m(self, msg)\u001b[0m\n\u001b[0;32m    216\u001b[0m     \u001b[39mif\u001b[39;00m meth \u001b[39mis\u001b[39;00m \u001b[39mNone\u001b[39;00m:\n\u001b[0;32m    217\u001b[0m         meth \u001b[39m=\u001b[39m \u001b[39mself\u001b[39m\u001b[39m.\u001b[39m_writeBody\n\u001b[1;32m--> 218\u001b[0m meth(msg)\n",
      "File \u001b[1;32mc:\\Users\\maperezr\\Anaconda3\\lib\\email\\generator.py:276\u001b[0m, in \u001b[0;36mGenerator._handle_multipart\u001b[1;34m(self, msg)\u001b[0m\n\u001b[0;32m    274\u001b[0m     s \u001b[39m=\u001b[39m \u001b[39mself\u001b[39m\u001b[39m.\u001b[39m_new_buffer()\n\u001b[0;32m    275\u001b[0m     g \u001b[39m=\u001b[39m \u001b[39mself\u001b[39m\u001b[39m.\u001b[39mclone(s)\n\u001b[1;32m--> 276\u001b[0m     g\u001b[39m.\u001b[39;49mflatten(part, unixfrom\u001b[39m=\u001b[39;49m\u001b[39mFalse\u001b[39;49;00m, linesep\u001b[39m=\u001b[39;49m\u001b[39mself\u001b[39;49m\u001b[39m.\u001b[39;49m_NL)\n\u001b[0;32m    277\u001b[0m     msgtexts\u001b[39m.\u001b[39mappend(s\u001b[39m.\u001b[39mgetvalue())\n\u001b[0;32m    278\u001b[0m \u001b[39m# BAW: What about boundaries that are wrapped in double-quotes?\u001b[39;00m\n",
      "File \u001b[1;32mc:\\Users\\maperezr\\Anaconda3\\lib\\email\\generator.py:116\u001b[0m, in \u001b[0;36mGenerator.flatten\u001b[1;34m(self, msg, unixfrom, linesep)\u001b[0m\n\u001b[0;32m    114\u001b[0m             ufrom \u001b[39m=\u001b[39m \u001b[39m'\u001b[39m\u001b[39mFrom nobody \u001b[39m\u001b[39m'\u001b[39m \u001b[39m+\u001b[39m time\u001b[39m.\u001b[39mctime(time\u001b[39m.\u001b[39mtime())\n\u001b[0;32m    115\u001b[0m         \u001b[39mself\u001b[39m\u001b[39m.\u001b[39mwrite(ufrom \u001b[39m+\u001b[39m \u001b[39mself\u001b[39m\u001b[39m.\u001b[39m_NL)\n\u001b[1;32m--> 116\u001b[0m     \u001b[39mself\u001b[39;49m\u001b[39m.\u001b[39;49m_write(msg)\n\u001b[0;32m    117\u001b[0m \u001b[39mfinally\u001b[39;00m:\n\u001b[0;32m    118\u001b[0m     \u001b[39mself\u001b[39m\u001b[39m.\u001b[39mpolicy \u001b[39m=\u001b[39m old_gen_policy\n",
      "File \u001b[1;32mc:\\Users\\maperezr\\Anaconda3\\lib\\email\\generator.py:181\u001b[0m, in \u001b[0;36mGenerator._write\u001b[1;34m(self, msg)\u001b[0m\n\u001b[0;32m    179\u001b[0m     \u001b[39mself\u001b[39m\u001b[39m.\u001b[39m_munge_cte \u001b[39m=\u001b[39m \u001b[39mNone\u001b[39;00m\n\u001b[0;32m    180\u001b[0m     \u001b[39mself\u001b[39m\u001b[39m.\u001b[39m_fp \u001b[39m=\u001b[39m sfp \u001b[39m=\u001b[39m \u001b[39mself\u001b[39m\u001b[39m.\u001b[39m_new_buffer()\n\u001b[1;32m--> 181\u001b[0m     \u001b[39mself\u001b[39;49m\u001b[39m.\u001b[39;49m_dispatch(msg)\n\u001b[0;32m    182\u001b[0m \u001b[39mfinally\u001b[39;00m:\n\u001b[0;32m    183\u001b[0m     \u001b[39mself\u001b[39m\u001b[39m.\u001b[39m_fp \u001b[39m=\u001b[39m oldfp\n",
      "File \u001b[1;32mc:\\Users\\maperezr\\Anaconda3\\lib\\email\\generator.py:218\u001b[0m, in \u001b[0;36mGenerator._dispatch\u001b[1;34m(self, msg)\u001b[0m\n\u001b[0;32m    216\u001b[0m     \u001b[39mif\u001b[39;00m meth \u001b[39mis\u001b[39;00m \u001b[39mNone\u001b[39;00m:\n\u001b[0;32m    217\u001b[0m         meth \u001b[39m=\u001b[39m \u001b[39mself\u001b[39m\u001b[39m.\u001b[39m_writeBody\n\u001b[1;32m--> 218\u001b[0m meth(msg)\n",
      "File \u001b[1;32mc:\\Users\\maperezr\\Anaconda3\\lib\\email\\generator.py:239\u001b[0m, in \u001b[0;36mGenerator._handle_text\u001b[1;34m(self, msg)\u001b[0m\n\u001b[0;32m    237\u001b[0m     \u001b[39mreturn\u001b[39;00m\n\u001b[0;32m    238\u001b[0m \u001b[39mif\u001b[39;00m \u001b[39mnot\u001b[39;00m \u001b[39misinstance\u001b[39m(payload, \u001b[39mstr\u001b[39m):\n\u001b[1;32m--> 239\u001b[0m     \u001b[39mraise\u001b[39;00m \u001b[39mTypeError\u001b[39;00m(\u001b[39m'\u001b[39m\u001b[39mstring payload expected: \u001b[39m\u001b[39m%s\u001b[39;00m\u001b[39m'\u001b[39m \u001b[39m%\u001b[39m \u001b[39mtype\u001b[39m(payload))\n\u001b[0;32m    240\u001b[0m \u001b[39mif\u001b[39;00m _has_surrogates(msg\u001b[39m.\u001b[39m_payload):\n\u001b[0;32m    241\u001b[0m     charset \u001b[39m=\u001b[39m msg\u001b[39m.\u001b[39mget_param(\u001b[39m'\u001b[39m\u001b[39mcharset\u001b[39m\u001b[39m'\u001b[39m)\n",
      "\u001b[1;31mTypeError\u001b[0m: string payload expected: <class 'list'>"
     ]
    }
   ],
   "source": [
    "mail.send_mesaje()"
   ]
  },
  {
   "cell_type": "markdown",
   "metadata": {},
   "source": [
    "tiendas"
   ]
  },
  {
   "cell_type": "code",
   "execution_count": null,
   "metadata": {},
   "outputs": [
    {
     "ename": "SyntaxError",
     "evalue": "invalid syntax (1909356706.py, line 1)",
     "output_type": "error",
     "traceback": [
      "\u001b[1;36m  Input \u001b[1;32mIn [16]\u001b[1;36m\u001b[0m\n\u001b[1;33m    tienda == 'ACQUA', |\u001b[0m\n\u001b[1;37m                       ^\u001b[0m\n\u001b[1;31mSyntaxError\u001b[0m\u001b[1;31m:\u001b[0m invalid syntax\n"
     ]
    }
   ],
   "source": [
    "tienda == 'ACQUA', |\n",
    "tienda == 'TIENDA ALEGRA'    \n",
    "tienda == 'ARKADIA', |\n",
    "tienda == 'BUENAVISTA', |\n",
    "tienda == 'CACIQUE', | \n",
    "tienda == 'CARACOLI', | \n",
    "tienda == 'CENTRO MAYOR', | \n",
    "tienda == 'COLINA', | \n",
    "tienda == 'DIVER PLAZA', | \n",
    "tienda == 'EL CASTILLO', | \n",
    "tienda == 'FONTANAR', |\n",
    "tienda == 'GALERIAS', |\n",
    "tienda == 'HAYUELOS', | \n",
    "tienda == 'JARDIN PLAZA', | \n",
    "tienda == 'LA CAROLA', | \n",
    "tienda == 'LA FELICIDAD', | \n",
    "tienda == 'PARQUE ARBOLEDA', | \n",
    "tienda == 'PLAZA CENTRAL', | \n",
    "tienda == 'PRIMAVERA', | \n",
    "tienda == 'SAN DIEGO', | \n",
    "tienda == 'SANTA FE', | \n",
    "tienda == 'SANTAFE MEDELLIN', | \n",
    "tienda == 'SUBA', | \n",
    "tienda == 'TITAN', | \n",
    "tienda == 'UNICENTRO', |\n",
    "tienda == 'VILLA COUNTRY', | \n",
    "tienda == 'WTC CALI'"
   ]
  },
  {
   "cell_type": "code",
   "execution_count": null,
   "metadata": {},
   "outputs": [],
   "source": [
    "tienda == 'EL CASTILLO' | tienda == 'FONTANAR' |tienda == 'GALERIAS' |tienda == 'HAYUELOS' | tienda == 'JARDIN PLAZA' | tienda == 'LA CAROLA' | tienda == 'LA FELICIDAD' | tienda == 'PARQUE ARBOLEDA' | tienda == 'PLAZA CENTRAL' | tienda == 'PRIMAVERA' | tienda == 'SAN DIEGO' | tienda == 'SANTA FE' | tienda == 'SANTAFE MEDELLIN' | tienda == 'SUBA' | tienda == 'TITAN' | tienda == 'UNICENTRO' |tienda == 'VILLA COUNTRY' | tienda == 'WTC CALI'"
   ]
  }
 ],
 "metadata": {
  "kernelspec": {
   "display_name": "Python 3.9.12 ('base')",
   "language": "python",
   "name": "python3"
  },
  "language_info": {
   "codemirror_mode": {
    "name": "ipython",
    "version": 3
   },
   "file_extension": ".py",
   "mimetype": "text/x-python",
   "name": "python",
   "nbconvert_exporter": "python",
   "pygments_lexer": "ipython3",
   "version": "3.9.12"
  },
  "orig_nbformat": 4,
  "vscode": {
   "interpreter": {
    "hash": "82a490cbc5ab7ede3fb5f9c339977e226ff85331602536a0bba4d2a51bd464ee"
   }
  }
 },
 "nbformat": 4,
 "nbformat_minor": 2
}
