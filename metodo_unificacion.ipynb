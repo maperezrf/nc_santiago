{
 "cells": [
  {
   "cell_type": "code",
   "execution_count": 3,
   "metadata": {},
   "outputs": [],
   "source": [
    "from importlib import import_module\n",
    "import pandas as pd \n",
    "from datetime import datetime, timedelta\n",
    "from os import listdir\n",
    "import plotly.express as px\n",
    "from os.path import isfile, join\n",
    "import numpy as np\n",
    "import sys\n",
    "sys.path.insert(1, 'C:/Users/maperezr/proyectos/fs-emails')\n",
    "from adm_email import ADM_MAIL\n",
    "from input_planillas import f_miguel as fm\n",
    "dt_string = datetime.today().strftime('%d%m%y')\n",
    "pd.set_option('display.max_columns', 500)"
   ]
  },
  {
   "cell_type": "code",
   "execution_count": 4,
   "metadata": {},
   "outputs": [],
   "source": [
    "fecha_inicio = \"2022-11-01\"\n",
    "fecha_final = \"2022-11-08\"\n",
    "f_inicio = datetime.strptime(fecha_inicio, '%Y-%m-%d')\n",
    "f_final = datetime.strptime(fecha_final, '%Y-%m-%d')"
   ]
  },
  {
   "cell_type": "code",
   "execution_count": 5,
   "metadata": {},
   "outputs": [],
   "source": [
    "lista_fechas = [(f_inicio + timedelta(days=d)).strftime('%y%m%d') for d in range((f_final - f_inicio).days + 1)] "
   ]
  },
  {
   "cell_type": "code",
   "execution_count": 6,
   "metadata": {},
   "outputs": [],
   "source": [
    "with open('config\\path.txt', \"r\") as tf:\n",
    "        path = tf.read()\n",
    "        path = path.replace(\"\\\\\",\"/\")\n",
    "tf.close()\n",
    "alertas = pd.DataFrame()\n",
    "for i in listdir(path):\n",
    "        files_store= pd.DataFrame()\n",
    "        if i.startswith('JPPs - Análisis de notas crédito - '):\n",
    "                new_path= f\"{path}/{i}\"\n",
    "                files_names = [f for f in listdir(new_path) if isfile(join(new_path, f))]\n",
    "                for j in (files_names):\n",
    "                        if j.endswith('.xlsx'):\n",
    "                                for i in lista_fechas:\n",
    "                                        if j.startswith(i):\n",
    "                                                if '_cm' in j:\n",
    "                                                        pass\n",
    "                                                else:\n",
    "                                                        file = pd.read_excel(f'{new_path}/{j}',sheet_name=\"Alertas\",dtype=str)\n",
    "                                                        file[\"fecha\"] = i\n",
    "                                                        files_store = pd.concat([files_store,file])\n",
    "        alertas = pd.concat([alertas, files_store])   \n"
   ]
  },
  {
   "cell_type": "code",
   "execution_count": 7,
   "metadata": {},
   "outputs": [
    {
     "data": {
      "text/plain": [
       "Index(['Tipo alerta', 'Cautoriza', 'Desc_local', 'Dcompra_nvo',\n",
       "       'Nterminal_nvo', 'Nsecuencia_nvo', 'Hora', 'Cod_Empleado',\n",
       "       'Num_Documento', 'nombre_completo', 'Cargo', 'SKU', 'Qcantidad',\n",
       "       'Costo_NC-Empleado', 'Grabación?', 'Cliente?', 'Producto?',\n",
       "       'Observaciones', 'fecha', 'Unnamed: 18', 'Unnamed: 19', 'OMT'],\n",
       "      dtype='object')"
      ]
     },
     "execution_count": 7,
     "metadata": {},
     "output_type": "execute_result"
    }
   ],
   "source": [
    "alertas.columns"
   ]
  },
  {
   "cell_type": "code",
   "execution_count": 8,
   "metadata": {},
   "outputs": [],
   "source": [
    "alertas.loc[(alertas[\"Grabación?\"].notna()) & (alertas[\"Cliente?\"].notna()) & (alertas[\"Producto?\"].notna()), \"Indicador\"] = \"Diligenciado\"\n",
    "alertas.loc[alertas[\"Indicador\"] != \"Diligenciado\", \"Indicador\"] = \"No diligenciado\""
   ]
  },
  {
   "cell_type": "code",
   "execution_count": 9,
   "metadata": {},
   "outputs": [
    {
     "data": {
      "text/html": [
       "<div>\n",
       "<style scoped>\n",
       "    .dataframe tbody tr th:only-of-type {\n",
       "        vertical-align: middle;\n",
       "    }\n",
       "\n",
       "    .dataframe tbody tr th {\n",
       "        vertical-align: top;\n",
       "    }\n",
       "\n",
       "    .dataframe thead th {\n",
       "        text-align: right;\n",
       "    }\n",
       "</style>\n",
       "<table border=\"1\" class=\"dataframe\">\n",
       "  <thead>\n",
       "    <tr style=\"text-align: right;\">\n",
       "      <th></th>\n",
       "      <th>Tipo alerta</th>\n",
       "      <th>Cautoriza</th>\n",
       "      <th>Desc_local</th>\n",
       "      <th>Dcompra_nvo</th>\n",
       "      <th>Nterminal_nvo</th>\n",
       "      <th>Nsecuencia_nvo</th>\n",
       "      <th>Hora</th>\n",
       "      <th>Cod_Empleado</th>\n",
       "      <th>Num_Documento</th>\n",
       "      <th>nombre_completo</th>\n",
       "      <th>Cargo</th>\n",
       "      <th>SKU</th>\n",
       "      <th>Qcantidad</th>\n",
       "      <th>Costo_NC-Empleado</th>\n",
       "      <th>Grabación?</th>\n",
       "      <th>Cliente?</th>\n",
       "      <th>Producto?</th>\n",
       "      <th>Observaciones</th>\n",
       "      <th>fecha</th>\n",
       "      <th>Unnamed: 18</th>\n",
       "      <th>Unnamed: 19</th>\n",
       "      <th>OMT</th>\n",
       "      <th>Indicador</th>\n",
       "    </tr>\n",
       "  </thead>\n",
       "  <tbody>\n",
       "    <tr>\n",
       "      <th>0</th>\n",
       "      <td>Alerta x monto</td>\n",
       "      <td>1082195219</td>\n",
       "      <td>ACQUA</td>\n",
       "      <td>2022-11-01 00:00:00</td>\n",
       "      <td>46</td>\n",
       "      <td>9760</td>\n",
       "      <td>1146</td>\n",
       "      <td>156590</td>\n",
       "      <td>1110530164</td>\n",
       "      <td>MARIN TOVAR YINA PAOLA</td>\n",
       "      <td>AUXILIAR LOGISTICA OMNICANAL</td>\n",
       "      <td>1</td>\n",
       "      <td>-1</td>\n",
       "      <td>332991</td>\n",
       "      <td>SI</td>\n",
       "      <td>SI</td>\n",
       "      <td>SI</td>\n",
       "      <td>NaN</td>\n",
       "      <td>221101</td>\n",
       "      <td>NaN</td>\n",
       "      <td>NaN</td>\n",
       "      <td>NaN</td>\n",
       "      <td>Diligenciado</td>\n",
       "    </tr>\n",
       "    <tr>\n",
       "      <th>1</th>\n",
       "      <td>Alerta x monto</td>\n",
       "      <td>1082199248</td>\n",
       "      <td>ACQUA</td>\n",
       "      <td>2022-11-01 00:00:00</td>\n",
       "      <td>10</td>\n",
       "      <td>4924</td>\n",
       "      <td>1416</td>\n",
       "      <td>910538</td>\n",
       "      <td>38142938</td>\n",
       "      <td>BOCANEGRA CORRECHA IVONNE ZULAY</td>\n",
       "      <td>OPERADOR DE P.O.S.</td>\n",
       "      <td>6</td>\n",
       "      <td>-6</td>\n",
       "      <td>516450</td>\n",
       "      <td>SI</td>\n",
       "      <td>SI</td>\n",
       "      <td>SI</td>\n",
       "      <td>NaN</td>\n",
       "      <td>221101</td>\n",
       "      <td>NaN</td>\n",
       "      <td>NaN</td>\n",
       "      <td>NaN</td>\n",
       "      <td>Diligenciado</td>\n",
       "    </tr>\n",
       "    <tr>\n",
       "      <th>2</th>\n",
       "      <td>Alerta x monto</td>\n",
       "      <td>1082200210</td>\n",
       "      <td>ACQUA</td>\n",
       "      <td>2022-11-01 00:00:00</td>\n",
       "      <td>15</td>\n",
       "      <td>1286</td>\n",
       "      <td>1504</td>\n",
       "      <td>155586</td>\n",
       "      <td>65778038</td>\n",
       "      <td>TORRES GUZMAN DIANA JIMENA</td>\n",
       "      <td>VENDEDOR INTEGRAL</td>\n",
       "      <td>1</td>\n",
       "      <td>-1</td>\n",
       "      <td>154900</td>\n",
       "      <td>SI</td>\n",
       "      <td>SI</td>\n",
       "      <td>SI</td>\n",
       "      <td>NaN</td>\n",
       "      <td>221101</td>\n",
       "      <td>NaN</td>\n",
       "      <td>NaN</td>\n",
       "      <td>NaN</td>\n",
       "      <td>Diligenciado</td>\n",
       "    </tr>\n",
       "    <tr>\n",
       "      <th>3</th>\n",
       "      <td>Alerta x monto</td>\n",
       "      <td>1082202078</td>\n",
       "      <td>ACQUA</td>\n",
       "      <td>2022-11-01 00:00:00</td>\n",
       "      <td>46</td>\n",
       "      <td>9776</td>\n",
       "      <td>1603</td>\n",
       "      <td>969036</td>\n",
       "      <td>1110593141</td>\n",
       "      <td>CARDONA CORTES ANGELA MARIA</td>\n",
       "      <td>AUXILIAR DE PREVENCION Y PERDIDAS</td>\n",
       "      <td>2</td>\n",
       "      <td>-2</td>\n",
       "      <td>143988</td>\n",
       "      <td>SI</td>\n",
       "      <td>SI</td>\n",
       "      <td>SI</td>\n",
       "      <td>NaN</td>\n",
       "      <td>221101</td>\n",
       "      <td>NaN</td>\n",
       "      <td>NaN</td>\n",
       "      <td>NaN</td>\n",
       "      <td>Diligenciado</td>\n",
       "    </tr>\n",
       "    <tr>\n",
       "      <th>4</th>\n",
       "      <td>Alerta x monto</td>\n",
       "      <td>1082202108</td>\n",
       "      <td>ACQUA</td>\n",
       "      <td>2022-11-01 00:00:00</td>\n",
       "      <td>96</td>\n",
       "      <td>6602</td>\n",
       "      <td>1602</td>\n",
       "      <td>155705</td>\n",
       "      <td>1110549281</td>\n",
       "      <td>ROLDAN MEJIA PAULA  ANDREA</td>\n",
       "      <td>ASESOR MULTISERVICIOS</td>\n",
       "      <td>1</td>\n",
       "      <td>-1</td>\n",
       "      <td>214435</td>\n",
       "      <td>SI</td>\n",
       "      <td>SI</td>\n",
       "      <td>SI</td>\n",
       "      <td>NaN</td>\n",
       "      <td>221101</td>\n",
       "      <td>NaN</td>\n",
       "      <td>NaN</td>\n",
       "      <td>NaN</td>\n",
       "      <td>Diligenciado</td>\n",
       "    </tr>\n",
       "    <tr>\n",
       "      <th>...</th>\n",
       "      <td>...</td>\n",
       "      <td>...</td>\n",
       "      <td>...</td>\n",
       "      <td>...</td>\n",
       "      <td>...</td>\n",
       "      <td>...</td>\n",
       "      <td>...</td>\n",
       "      <td>...</td>\n",
       "      <td>...</td>\n",
       "      <td>...</td>\n",
       "      <td>...</td>\n",
       "      <td>...</td>\n",
       "      <td>...</td>\n",
       "      <td>...</td>\n",
       "      <td>...</td>\n",
       "      <td>...</td>\n",
       "      <td>...</td>\n",
       "      <td>...</td>\n",
       "      <td>...</td>\n",
       "      <td>...</td>\n",
       "      <td>...</td>\n",
       "      <td>...</td>\n",
       "      <td>...</td>\n",
       "    </tr>\n",
       "    <tr>\n",
       "      <th>7</th>\n",
       "      <td>Alerta x monto</td>\n",
       "      <td>1082356238</td>\n",
       "      <td>WTC CALI</td>\n",
       "      <td>2022-11-08 00:00:00</td>\n",
       "      <td>96</td>\n",
       "      <td>4799</td>\n",
       "      <td>1906</td>\n",
       "      <td>127434</td>\n",
       "      <td>1143934427</td>\n",
       "      <td>GARCIA FLOREZ BRAYAN FERNANDO</td>\n",
       "      <td>VENDEDOR INTEGRAL</td>\n",
       "      <td>1</td>\n",
       "      <td>-1</td>\n",
       "      <td>2249900</td>\n",
       "      <td>si</td>\n",
       "      <td>NaN</td>\n",
       "      <td>nueva venta</td>\n",
       "      <td>NaN</td>\n",
       "      <td>221108</td>\n",
       "      <td>NaN</td>\n",
       "      <td>NaN</td>\n",
       "      <td>NaN</td>\n",
       "      <td>No diligenciado</td>\n",
       "    </tr>\n",
       "    <tr>\n",
       "      <th>8</th>\n",
       "      <td>Alerta x monto</td>\n",
       "      <td>1082356276</td>\n",
       "      <td>WTC CALI</td>\n",
       "      <td>2022-11-08 00:00:00</td>\n",
       "      <td>12</td>\n",
       "      <td>4356</td>\n",
       "      <td>1906</td>\n",
       "      <td>923567</td>\n",
       "      <td>1003814940</td>\n",
       "      <td>ENRIQUEZ MURCIA MARIA ALEJANDRA</td>\n",
       "      <td>OPERADOR DE P.O.S.</td>\n",
       "      <td>2</td>\n",
       "      <td>-2</td>\n",
       "      <td>144980</td>\n",
       "      <td>si</td>\n",
       "      <td>si</td>\n",
       "      <td>si</td>\n",
       "      <td>NaN</td>\n",
       "      <td>221108</td>\n",
       "      <td>NaN</td>\n",
       "      <td>NaN</td>\n",
       "      <td>NaN</td>\n",
       "      <td>Diligenciado</td>\n",
       "    </tr>\n",
       "    <tr>\n",
       "      <th>9</th>\n",
       "      <td>Alerta x monto</td>\n",
       "      <td>1082357112</td>\n",
       "      <td>WTC CALI</td>\n",
       "      <td>2022-11-08 00:00:00</td>\n",
       "      <td>25</td>\n",
       "      <td>3791</td>\n",
       "      <td>1933</td>\n",
       "      <td>944254</td>\n",
       "      <td>1143968604</td>\n",
       "      <td>CHARA CORTES SAMMY ALEJANDRO</td>\n",
       "      <td>ASISTENTE DE TIENDA</td>\n",
       "      <td>1</td>\n",
       "      <td>-1</td>\n",
       "      <td>169990</td>\n",
       "      <td>NaN</td>\n",
       "      <td>NaN</td>\n",
       "      <td>NaN</td>\n",
       "      <td>NaN</td>\n",
       "      <td>221108</td>\n",
       "      <td>NaN</td>\n",
       "      <td>NaN</td>\n",
       "      <td>NaN</td>\n",
       "      <td>No diligenciado</td>\n",
       "    </tr>\n",
       "    <tr>\n",
       "      <th>10</th>\n",
       "      <td>Alerta x monto</td>\n",
       "      <td>1082357860</td>\n",
       "      <td>WTC CALI</td>\n",
       "      <td>2022-11-08 00:00:00</td>\n",
       "      <td>39</td>\n",
       "      <td>5026</td>\n",
       "      <td>2000</td>\n",
       "      <td>897361</td>\n",
       "      <td>67037784</td>\n",
       "      <td>QUICENO OCAMPO DEISY</td>\n",
       "      <td>OPERADOR DE P.O.S.</td>\n",
       "      <td>2</td>\n",
       "      <td>-2</td>\n",
       "      <td>129924</td>\n",
       "      <td>si</td>\n",
       "      <td>si</td>\n",
       "      <td>si</td>\n",
       "      <td>NaN</td>\n",
       "      <td>221108</td>\n",
       "      <td>NaN</td>\n",
       "      <td>NaN</td>\n",
       "      <td>NaN</td>\n",
       "      <td>Diligenciado</td>\n",
       "    </tr>\n",
       "    <tr>\n",
       "      <th>11</th>\n",
       "      <td>Alerta x monto</td>\n",
       "      <td>1082357921</td>\n",
       "      <td>WTC CALI</td>\n",
       "      <td>2022-11-08 00:00:00</td>\n",
       "      <td>39</td>\n",
       "      <td>5029</td>\n",
       "      <td>2001</td>\n",
       "      <td>200735</td>\n",
       "      <td>1111755212</td>\n",
       "      <td>CHUNGA TORRES KELLY LEANDRA</td>\n",
       "      <td>OPERADOR DE P.O.S.</td>\n",
       "      <td>2</td>\n",
       "      <td>-2</td>\n",
       "      <td>129990</td>\n",
       "      <td>si</td>\n",
       "      <td>si</td>\n",
       "      <td>si</td>\n",
       "      <td>NaN</td>\n",
       "      <td>221108</td>\n",
       "      <td>NaN</td>\n",
       "      <td>NaN</td>\n",
       "      <td>NaN</td>\n",
       "      <td>Diligenciado</td>\n",
       "    </tr>\n",
       "  </tbody>\n",
       "</table>\n",
       "<p>3521 rows × 23 columns</p>\n",
       "</div>"
      ],
      "text/plain": [
       "       Tipo alerta   Cautoriza Desc_local          Dcompra_nvo Nterminal_nvo  \\\n",
       "0   Alerta x monto  1082195219      ACQUA  2022-11-01 00:00:00            46   \n",
       "1   Alerta x monto  1082199248      ACQUA  2022-11-01 00:00:00            10   \n",
       "2   Alerta x monto  1082200210      ACQUA  2022-11-01 00:00:00            15   \n",
       "3   Alerta x monto  1082202078      ACQUA  2022-11-01 00:00:00            46   \n",
       "4   Alerta x monto  1082202108      ACQUA  2022-11-01 00:00:00            96   \n",
       "..             ...         ...        ...                  ...           ...   \n",
       "7   Alerta x monto  1082356238   WTC CALI  2022-11-08 00:00:00            96   \n",
       "8   Alerta x monto  1082356276   WTC CALI  2022-11-08 00:00:00            12   \n",
       "9   Alerta x monto  1082357112   WTC CALI  2022-11-08 00:00:00            25   \n",
       "10  Alerta x monto  1082357860   WTC CALI  2022-11-08 00:00:00            39   \n",
       "11  Alerta x monto  1082357921   WTC CALI  2022-11-08 00:00:00            39   \n",
       "\n",
       "   Nsecuencia_nvo  Hora Cod_Empleado Num_Documento  \\\n",
       "0            9760  1146       156590    1110530164   \n",
       "1            4924  1416       910538      38142938   \n",
       "2            1286  1504       155586      65778038   \n",
       "3            9776  1603       969036    1110593141   \n",
       "4            6602  1602       155705    1110549281   \n",
       "..            ...   ...          ...           ...   \n",
       "7            4799  1906       127434    1143934427   \n",
       "8            4356  1906       923567    1003814940   \n",
       "9            3791  1933       944254    1143968604   \n",
       "10           5026  2000       897361      67037784   \n",
       "11           5029  2001       200735    1111755212   \n",
       "\n",
       "                    nombre_completo                              Cargo SKU  \\\n",
       "0            MARIN TOVAR YINA PAOLA       AUXILIAR LOGISTICA OMNICANAL   1   \n",
       "1   BOCANEGRA CORRECHA IVONNE ZULAY                 OPERADOR DE P.O.S.   6   \n",
       "2        TORRES GUZMAN DIANA JIMENA                  VENDEDOR INTEGRAL   1   \n",
       "3       CARDONA CORTES ANGELA MARIA  AUXILIAR DE PREVENCION Y PERDIDAS   2   \n",
       "4        ROLDAN MEJIA PAULA  ANDREA              ASESOR MULTISERVICIOS   1   \n",
       "..                              ...                                ...  ..   \n",
       "7     GARCIA FLOREZ BRAYAN FERNANDO                  VENDEDOR INTEGRAL   1   \n",
       "8   ENRIQUEZ MURCIA MARIA ALEJANDRA                 OPERADOR DE P.O.S.   2   \n",
       "9      CHARA CORTES SAMMY ALEJANDRO                ASISTENTE DE TIENDA   1   \n",
       "10             QUICENO OCAMPO DEISY                 OPERADOR DE P.O.S.   2   \n",
       "11      CHUNGA TORRES KELLY LEANDRA                 OPERADOR DE P.O.S.   2   \n",
       "\n",
       "   Qcantidad Costo_NC-Empleado Grabación? Cliente?    Producto? Observaciones  \\\n",
       "0         -1            332991         SI       SI           SI           NaN   \n",
       "1         -6            516450         SI       SI           SI           NaN   \n",
       "2         -1            154900         SI       SI           SI           NaN   \n",
       "3         -2            143988         SI       SI           SI           NaN   \n",
       "4         -1            214435         SI       SI           SI           NaN   \n",
       "..       ...               ...        ...      ...          ...           ...   \n",
       "7         -1           2249900         si      NaN  nueva venta           NaN   \n",
       "8         -2            144980         si       si           si           NaN   \n",
       "9         -1            169990        NaN      NaN          NaN           NaN   \n",
       "10        -2            129924         si       si           si           NaN   \n",
       "11        -2            129990         si       si           si           NaN   \n",
       "\n",
       "     fecha Unnamed: 18 Unnamed: 19  OMT        Indicador  \n",
       "0   221101         NaN         NaN  NaN     Diligenciado  \n",
       "1   221101         NaN         NaN  NaN     Diligenciado  \n",
       "2   221101         NaN         NaN  NaN     Diligenciado  \n",
       "3   221101         NaN         NaN  NaN     Diligenciado  \n",
       "4   221101         NaN         NaN  NaN     Diligenciado  \n",
       "..     ...         ...         ...  ...              ...  \n",
       "7   221108         NaN         NaN  NaN  No diligenciado  \n",
       "8   221108         NaN         NaN  NaN     Diligenciado  \n",
       "9   221108         NaN         NaN  NaN  No diligenciado  \n",
       "10  221108         NaN         NaN  NaN     Diligenciado  \n",
       "11  221108         NaN         NaN  NaN     Diligenciado  \n",
       "\n",
       "[3521 rows x 23 columns]"
      ]
     },
     "execution_count": 9,
     "metadata": {},
     "output_type": "execute_result"
    }
   ],
   "source": [
    "alertas"
   ]
  },
  {
   "cell_type": "code",
   "execution_count": 10,
   "metadata": {},
   "outputs": [],
   "source": [
    "alertas[['Tipo alerta', 'Cautoriza', 'Desc_local', 'Dcompra_nvo',\n",
    "'Nterminal_nvo', 'Nsecuencia_nvo', 'Hora', 'Cod_Empleado',\n",
    "'Num_Documento', 'nombre_completo', 'Cargo', 'SKU', 'Qcantidad',\n",
    "'Costo_NC-Empleado', 'Grabación?', 'Cliente?', 'Producto?','Indicador']].to_csv('output/inf_alerta_mensual.csv')"
   ]
  },
  {
   "cell_type": "code",
   "execution_count": 11,
   "metadata": {},
   "outputs": [],
   "source": [
    "alertas_x_hora = alertas.loc[alertas['Tipo alerta'] == 'Alerta x Hora']\n",
    "alertas_x_monto = alertas.loc[alertas['Tipo alerta'] == 'Alerta x monto']"
   ]
  },
  {
   "cell_type": "code",
   "execution_count": 12,
   "metadata": {},
   "outputs": [
    {
     "data": {
      "text/plain": [
       "45"
      ]
     },
     "execution_count": 12,
     "metadata": {},
     "output_type": "execute_result"
    }
   ],
   "source": [
    "alertas_x_hora.Cautoriza.nunique()"
   ]
  },
  {
   "cell_type": "code",
   "execution_count": 13,
   "metadata": {},
   "outputs": [
    {
     "name": "stderr",
     "output_type": "stream",
     "text": [
      "C:\\Users\\maperezr\\AppData\\Local\\Temp\\ipykernel_25896\\3762780082.py:1: SettingWithCopyWarning: \n",
      "A value is trying to be set on a copy of a slice from a DataFrame.\n",
      "Try using .loc[row_indexer,col_indexer] = value instead\n",
      "\n",
      "See the caveats in the documentation: https://pandas.pydata.org/pandas-docs/stable/user_guide/indexing.html#returning-a-view-versus-a-copy\n",
      "  alertas_x_hora[\"fecha\"] =  pd.to_datetime(alertas_x_hora.fecha, yearfirst=True)\n"
     ]
    },
    {
     "name": "stdout",
     "output_type": "stream",
     "text": [
      "cantidad de alertas generadas en el corte: 45\n"
     ]
    },
    {
     "data": {
      "application/vnd.plotly.v1+json": {
       "config": {
        "plotlyServerURL": "https://plot.ly"
       },
       "data": [
        {
         "alignmentgroup": "True",
         "hovertemplate": "Indicador=Diligenciado<br>Local=%{x}<br>Cantidad NCs=%{text}<extra></extra>",
         "legendgroup": "Diligenciado",
         "marker": {
          "color": "rgb(45, 136, 45)",
          "pattern": {
           "shape": ""
          }
         },
         "name": "Diligenciado",
         "offsetgroup": "Diligenciado",
         "orientation": "v",
         "showlegend": true,
         "text": [
          8,
          8,
          7,
          6,
          4,
          2,
          2,
          2,
          1,
          1,
          1
         ],
         "textposition": "auto",
         "type": "bar",
         "x": [
          "ARKADIA",
          "TITAN",
          "COLINA",
          "CENTRO MAYOR",
          "SANTAFE MEDELLIN",
          "BUENAVISTA",
          "GALERIAS",
          "PRIMAVERA",
          "EL CASTILLO",
          "JARDIN PLAZA",
          "PARQUE ARBOLEDA"
         ],
         "xaxis": "x",
         "y": [
          8,
          8,
          7,
          6,
          4,
          2,
          2,
          2,
          1,
          1,
          1
         ],
         "yaxis": "y"
        },
        {
         "alignmentgroup": "True",
         "hovertemplate": "Indicador=No diligenciado<br>Local=%{x}<br>Cantidad NCs=%{text}<extra></extra>",
         "legendgroup": "No diligenciado",
         "marker": {
          "color": "rgb(170, 57, 57)",
          "pattern": {
           "shape": ""
          }
         },
         "name": "No diligenciado",
         "offsetgroup": "No diligenciado",
         "orientation": "v",
         "showlegend": true,
         "text": [
          1,
          1,
          1
         ],
         "textposition": "auto",
         "type": "bar",
         "x": [
          "CARACOLI",
          "HAYUELOS",
          "WTC CALI"
         ],
         "xaxis": "x",
         "y": [
          1,
          1,
          1
         ],
         "yaxis": "y"
        }
       ],
       "layout": {
        "barmode": "relative",
        "legend": {
         "title": {
          "text": "Indicador"
         },
         "tracegroupgap": 0,
         "x": 0.7,
         "xanchor": "left",
         "y": 0.95,
         "yanchor": "top"
        },
        "template": {
         "data": {
          "bar": [
           {
            "error_x": {
             "color": "#2a3f5f"
            },
            "error_y": {
             "color": "#2a3f5f"
            },
            "marker": {
             "line": {
              "color": "#E5ECF6",
              "width": 0.5
             },
             "pattern": {
              "fillmode": "overlay",
              "size": 10,
              "solidity": 0.2
             }
            },
            "type": "bar"
           }
          ],
          "barpolar": [
           {
            "marker": {
             "line": {
              "color": "#E5ECF6",
              "width": 0.5
             },
             "pattern": {
              "fillmode": "overlay",
              "size": 10,
              "solidity": 0.2
             }
            },
            "type": "barpolar"
           }
          ],
          "carpet": [
           {
            "aaxis": {
             "endlinecolor": "#2a3f5f",
             "gridcolor": "white",
             "linecolor": "white",
             "minorgridcolor": "white",
             "startlinecolor": "#2a3f5f"
            },
            "baxis": {
             "endlinecolor": "#2a3f5f",
             "gridcolor": "white",
             "linecolor": "white",
             "minorgridcolor": "white",
             "startlinecolor": "#2a3f5f"
            },
            "type": "carpet"
           }
          ],
          "choropleth": [
           {
            "colorbar": {
             "outlinewidth": 0,
             "ticks": ""
            },
            "type": "choropleth"
           }
          ],
          "contour": [
           {
            "colorbar": {
             "outlinewidth": 0,
             "ticks": ""
            },
            "colorscale": [
             [
              0,
              "#0d0887"
             ],
             [
              0.1111111111111111,
              "#46039f"
             ],
             [
              0.2222222222222222,
              "#7201a8"
             ],
             [
              0.3333333333333333,
              "#9c179e"
             ],
             [
              0.4444444444444444,
              "#bd3786"
             ],
             [
              0.5555555555555556,
              "#d8576b"
             ],
             [
              0.6666666666666666,
              "#ed7953"
             ],
             [
              0.7777777777777778,
              "#fb9f3a"
             ],
             [
              0.8888888888888888,
              "#fdca26"
             ],
             [
              1,
              "#f0f921"
             ]
            ],
            "type": "contour"
           }
          ],
          "contourcarpet": [
           {
            "colorbar": {
             "outlinewidth": 0,
             "ticks": ""
            },
            "type": "contourcarpet"
           }
          ],
          "heatmap": [
           {
            "colorbar": {
             "outlinewidth": 0,
             "ticks": ""
            },
            "colorscale": [
             [
              0,
              "#0d0887"
             ],
             [
              0.1111111111111111,
              "#46039f"
             ],
             [
              0.2222222222222222,
              "#7201a8"
             ],
             [
              0.3333333333333333,
              "#9c179e"
             ],
             [
              0.4444444444444444,
              "#bd3786"
             ],
             [
              0.5555555555555556,
              "#d8576b"
             ],
             [
              0.6666666666666666,
              "#ed7953"
             ],
             [
              0.7777777777777778,
              "#fb9f3a"
             ],
             [
              0.8888888888888888,
              "#fdca26"
             ],
             [
              1,
              "#f0f921"
             ]
            ],
            "type": "heatmap"
           }
          ],
          "heatmapgl": [
           {
            "colorbar": {
             "outlinewidth": 0,
             "ticks": ""
            },
            "colorscale": [
             [
              0,
              "#0d0887"
             ],
             [
              0.1111111111111111,
              "#46039f"
             ],
             [
              0.2222222222222222,
              "#7201a8"
             ],
             [
              0.3333333333333333,
              "#9c179e"
             ],
             [
              0.4444444444444444,
              "#bd3786"
             ],
             [
              0.5555555555555556,
              "#d8576b"
             ],
             [
              0.6666666666666666,
              "#ed7953"
             ],
             [
              0.7777777777777778,
              "#fb9f3a"
             ],
             [
              0.8888888888888888,
              "#fdca26"
             ],
             [
              1,
              "#f0f921"
             ]
            ],
            "type": "heatmapgl"
           }
          ],
          "histogram": [
           {
            "marker": {
             "pattern": {
              "fillmode": "overlay",
              "size": 10,
              "solidity": 0.2
             }
            },
            "type": "histogram"
           }
          ],
          "histogram2d": [
           {
            "colorbar": {
             "outlinewidth": 0,
             "ticks": ""
            },
            "colorscale": [
             [
              0,
              "#0d0887"
             ],
             [
              0.1111111111111111,
              "#46039f"
             ],
             [
              0.2222222222222222,
              "#7201a8"
             ],
             [
              0.3333333333333333,
              "#9c179e"
             ],
             [
              0.4444444444444444,
              "#bd3786"
             ],
             [
              0.5555555555555556,
              "#d8576b"
             ],
             [
              0.6666666666666666,
              "#ed7953"
             ],
             [
              0.7777777777777778,
              "#fb9f3a"
             ],
             [
              0.8888888888888888,
              "#fdca26"
             ],
             [
              1,
              "#f0f921"
             ]
            ],
            "type": "histogram2d"
           }
          ],
          "histogram2dcontour": [
           {
            "colorbar": {
             "outlinewidth": 0,
             "ticks": ""
            },
            "colorscale": [
             [
              0,
              "#0d0887"
             ],
             [
              0.1111111111111111,
              "#46039f"
             ],
             [
              0.2222222222222222,
              "#7201a8"
             ],
             [
              0.3333333333333333,
              "#9c179e"
             ],
             [
              0.4444444444444444,
              "#bd3786"
             ],
             [
              0.5555555555555556,
              "#d8576b"
             ],
             [
              0.6666666666666666,
              "#ed7953"
             ],
             [
              0.7777777777777778,
              "#fb9f3a"
             ],
             [
              0.8888888888888888,
              "#fdca26"
             ],
             [
              1,
              "#f0f921"
             ]
            ],
            "type": "histogram2dcontour"
           }
          ],
          "mesh3d": [
           {
            "colorbar": {
             "outlinewidth": 0,
             "ticks": ""
            },
            "type": "mesh3d"
           }
          ],
          "parcoords": [
           {
            "line": {
             "colorbar": {
              "outlinewidth": 0,
              "ticks": ""
             }
            },
            "type": "parcoords"
           }
          ],
          "pie": [
           {
            "automargin": true,
            "type": "pie"
           }
          ],
          "scatter": [
           {
            "marker": {
             "colorbar": {
              "outlinewidth": 0,
              "ticks": ""
             }
            },
            "type": "scatter"
           }
          ],
          "scatter3d": [
           {
            "line": {
             "colorbar": {
              "outlinewidth": 0,
              "ticks": ""
             }
            },
            "marker": {
             "colorbar": {
              "outlinewidth": 0,
              "ticks": ""
             }
            },
            "type": "scatter3d"
           }
          ],
          "scattercarpet": [
           {
            "marker": {
             "colorbar": {
              "outlinewidth": 0,
              "ticks": ""
             }
            },
            "type": "scattercarpet"
           }
          ],
          "scattergeo": [
           {
            "marker": {
             "colorbar": {
              "outlinewidth": 0,
              "ticks": ""
             }
            },
            "type": "scattergeo"
           }
          ],
          "scattergl": [
           {
            "marker": {
             "colorbar": {
              "outlinewidth": 0,
              "ticks": ""
             }
            },
            "type": "scattergl"
           }
          ],
          "scattermapbox": [
           {
            "marker": {
             "colorbar": {
              "outlinewidth": 0,
              "ticks": ""
             }
            },
            "type": "scattermapbox"
           }
          ],
          "scatterpolar": [
           {
            "marker": {
             "colorbar": {
              "outlinewidth": 0,
              "ticks": ""
             }
            },
            "type": "scatterpolar"
           }
          ],
          "scatterpolargl": [
           {
            "marker": {
             "colorbar": {
              "outlinewidth": 0,
              "ticks": ""
             }
            },
            "type": "scatterpolargl"
           }
          ],
          "scatterternary": [
           {
            "marker": {
             "colorbar": {
              "outlinewidth": 0,
              "ticks": ""
             }
            },
            "type": "scatterternary"
           }
          ],
          "surface": [
           {
            "colorbar": {
             "outlinewidth": 0,
             "ticks": ""
            },
            "colorscale": [
             [
              0,
              "#0d0887"
             ],
             [
              0.1111111111111111,
              "#46039f"
             ],
             [
              0.2222222222222222,
              "#7201a8"
             ],
             [
              0.3333333333333333,
              "#9c179e"
             ],
             [
              0.4444444444444444,
              "#bd3786"
             ],
             [
              0.5555555555555556,
              "#d8576b"
             ],
             [
              0.6666666666666666,
              "#ed7953"
             ],
             [
              0.7777777777777778,
              "#fb9f3a"
             ],
             [
              0.8888888888888888,
              "#fdca26"
             ],
             [
              1,
              "#f0f921"
             ]
            ],
            "type": "surface"
           }
          ],
          "table": [
           {
            "cells": {
             "fill": {
              "color": "#EBF0F8"
             },
             "line": {
              "color": "white"
             }
            },
            "header": {
             "fill": {
              "color": "#C8D4E3"
             },
             "line": {
              "color": "white"
             }
            },
            "type": "table"
           }
          ]
         },
         "layout": {
          "annotationdefaults": {
           "arrowcolor": "#2a3f5f",
           "arrowhead": 0,
           "arrowwidth": 1
          },
          "autotypenumbers": "strict",
          "coloraxis": {
           "colorbar": {
            "outlinewidth": 0,
            "ticks": ""
           }
          },
          "colorscale": {
           "diverging": [
            [
             0,
             "#8e0152"
            ],
            [
             0.1,
             "#c51b7d"
            ],
            [
             0.2,
             "#de77ae"
            ],
            [
             0.3,
             "#f1b6da"
            ],
            [
             0.4,
             "#fde0ef"
            ],
            [
             0.5,
             "#f7f7f7"
            ],
            [
             0.6,
             "#e6f5d0"
            ],
            [
             0.7,
             "#b8e186"
            ],
            [
             0.8,
             "#7fbc41"
            ],
            [
             0.9,
             "#4d9221"
            ],
            [
             1,
             "#276419"
            ]
           ],
           "sequential": [
            [
             0,
             "#0d0887"
            ],
            [
             0.1111111111111111,
             "#46039f"
            ],
            [
             0.2222222222222222,
             "#7201a8"
            ],
            [
             0.3333333333333333,
             "#9c179e"
            ],
            [
             0.4444444444444444,
             "#bd3786"
            ],
            [
             0.5555555555555556,
             "#d8576b"
            ],
            [
             0.6666666666666666,
             "#ed7953"
            ],
            [
             0.7777777777777778,
             "#fb9f3a"
            ],
            [
             0.8888888888888888,
             "#fdca26"
            ],
            [
             1,
             "#f0f921"
            ]
           ],
           "sequentialminus": [
            [
             0,
             "#0d0887"
            ],
            [
             0.1111111111111111,
             "#46039f"
            ],
            [
             0.2222222222222222,
             "#7201a8"
            ],
            [
             0.3333333333333333,
             "#9c179e"
            ],
            [
             0.4444444444444444,
             "#bd3786"
            ],
            [
             0.5555555555555556,
             "#d8576b"
            ],
            [
             0.6666666666666666,
             "#ed7953"
            ],
            [
             0.7777777777777778,
             "#fb9f3a"
            ],
            [
             0.8888888888888888,
             "#fdca26"
            ],
            [
             1,
             "#f0f921"
            ]
           ]
          },
          "colorway": [
           "#636efa",
           "#EF553B",
           "#00cc96",
           "#ab63fa",
           "#FFA15A",
           "#19d3f3",
           "#FF6692",
           "#B6E880",
           "#FF97FF",
           "#FECB52"
          ],
          "font": {
           "color": "#2a3f5f"
          },
          "geo": {
           "bgcolor": "white",
           "lakecolor": "white",
           "landcolor": "#E5ECF6",
           "showlakes": true,
           "showland": true,
           "subunitcolor": "white"
          },
          "hoverlabel": {
           "align": "left"
          },
          "hovermode": "closest",
          "mapbox": {
           "style": "light"
          },
          "paper_bgcolor": "white",
          "plot_bgcolor": "#E5ECF6",
          "polar": {
           "angularaxis": {
            "gridcolor": "white",
            "linecolor": "white",
            "ticks": ""
           },
           "bgcolor": "#E5ECF6",
           "radialaxis": {
            "gridcolor": "white",
            "linecolor": "white",
            "ticks": ""
           }
          },
          "scene": {
           "xaxis": {
            "backgroundcolor": "#E5ECF6",
            "gridcolor": "white",
            "gridwidth": 2,
            "linecolor": "white",
            "showbackground": true,
            "ticks": "",
            "zerolinecolor": "white"
           },
           "yaxis": {
            "backgroundcolor": "#E5ECF6",
            "gridcolor": "white",
            "gridwidth": 2,
            "linecolor": "white",
            "showbackground": true,
            "ticks": "",
            "zerolinecolor": "white"
           },
           "zaxis": {
            "backgroundcolor": "#E5ECF6",
            "gridcolor": "white",
            "gridwidth": 2,
            "linecolor": "white",
            "showbackground": true,
            "ticks": "",
            "zerolinecolor": "white"
           }
          },
          "shapedefaults": {
           "line": {
            "color": "#2a3f5f"
           }
          },
          "ternary": {
           "aaxis": {
            "gridcolor": "white",
            "linecolor": "white",
            "ticks": ""
           },
           "baxis": {
            "gridcolor": "white",
            "linecolor": "white",
            "ticks": ""
           },
           "bgcolor": "#E5ECF6",
           "caxis": {
            "gridcolor": "white",
            "linecolor": "white",
            "ticks": ""
           }
          },
          "title": {
           "x": 0.05
          },
          "xaxis": {
           "automargin": true,
           "gridcolor": "white",
           "linecolor": "white",
           "ticks": "",
           "title": {
            "standoff": 15
           },
           "zerolinecolor": "white",
           "zerolinewidth": 2
          },
          "yaxis": {
           "automargin": true,
           "gridcolor": "white",
           "linecolor": "white",
           "ticks": "",
           "title": {
            "standoff": 15
           },
           "zerolinecolor": "white",
           "zerolinewidth": 2
          }
         }
        },
        "title": {
         "text": "Cantidad de alertas por hora revisadas por tienda <br>Corte: 2022-11-01 hasta el 2022-11-08"
        },
        "xaxis": {
         "anchor": "y",
         "categoryorder": "total descending",
         "domain": [
          0,
          1
         ],
         "title": {
          "text": "Local"
         }
        },
        "yaxis": {
         "anchor": "x",
         "domain": [
          0,
          1
         ],
         "title": {
          "text": "Cantidad NCs"
         }
        }
       }
      }
     },
     "metadata": {},
     "output_type": "display_data"
    }
   ],
   "source": [
    "\n",
    "alertas_x_hora[\"fecha\"] =  pd.to_datetime(alertas_x_hora.fecha, yearfirst=True)\n",
    "al_x_hora = alertas_x_hora.loc[(alertas_x_hora[\"fecha\"] >= fecha_inicio) & (alertas_x_hora[\"fecha\"] <= fecha_final)].reset_index(drop=True)\n",
    "al_x_hora[\"Grabación?\"] = al_x_hora[\"Grabación?\"].str.upper()\n",
    "al_x_hora[\"Grabación?\"] = al_x_hora[\"Grabación?\"].fillna(\"nan\")\n",
    "al_x_hora.loc[(al_x_hora[\"Grabación?\"].str.contains(\"NO\")) | (al_x_hora[\"Grabación?\"].notna()) & (al_x_hora[\"Cliente?\"].notna()) & (al_x_hora[\"Producto?\"].notna()),\"Indicador\"] = \"Diligenciado\"\n",
    "al_x_hora.loc[al_x_hora[\"Grabación?\"] ==\"nan\", \"Grabación?\" ] = np.nan\n",
    "print(f'cantidad de alertas generadas en el corte: {al_x_hora.shape[0]}')\n",
    "al_x_hora.loc[(al_x_hora[\"Grabación?\"].notna()) & (al_x_hora[\"Cliente?\"].notna()) & (al_x_hora[\"Producto?\"].notna()), \"Indicador\"] = \"Diligenciado\"\n",
    "al_x_hora.loc[al_x_hora[\"Indicador\"] != \"Diligenciado\", \"Indicador\"] = \"No diligenciado\"\n",
    "fig_al_x_hora = al_x_hora.groupby([\"Desc_local\",\"Indicador\"]).agg({\"Cautoriza\":\"nunique\",}).reset_index().sort_values(\"Cautoriza\", ascending=False)\n",
    "h_fig = px.bar(fig_al_x_hora, x=\"Desc_local\", y=\"Cautoriza\",color=\"Indicador\",text=\"Cautoriza\",color_discrete_map = {'No diligenciado':'rgb(170, 57, 57)','Diligenciado':'rgb(45, 136, 45)'}, title=f\"Cantidad de alertas por hora revisadas por tienda <br>Corte: {fecha_inicio} hasta el {fecha_final}\", labels={\"Desc_local\":\"Local\",\"Cautoriza\":\"Cantidad NCs\"}) \n",
    "h_fig.update_layout(xaxis_categoryorder = 'total descending',legend=dict(yanchor=\"top\", y=0.95, xanchor=\"left\", x=0.7))\n",
    "h_fig.write_image(f\"output/{dt_string}alerta_horas.jpg\", height = 600, width = 1000)\n",
    "h_fig.show()\n",
    "al_x_hora.to_excel(f\"output/{dt_string}_alertas_x_hora.xlsx\", index=False)"
   ]
  },
  {
   "cell_type": "code",
   "execution_count": 14,
   "metadata": {},
   "outputs": [],
   "source": [
    "with open('config\\path.txt', \"r\") as tf:\n",
    "        path = tf.read()\n",
    "        path = path.replace(\"\\\\\",\"/\")\n",
    "tf.close()\n",
    "alertas_x_monto = pd.DataFrame()\n",
    "for i in listdir(path):\n",
    "        files_store= pd.DataFrame()\n",
    "        if i.startswith('JPPs - Análisis de notas crédito - '):\n",
    "                new_path= f\"{path}/{i}\"\n",
    "                files_names = [f for f in listdir(new_path) if isfile(join(new_path, f))]\n",
    "                for j in (files_names):\n",
    "                        if j.endswith('.xlsx'):\n",
    "                                for i in lista_fechas:\n",
    "                                        if j.startswith(i):\n",
    "                                                if '_cm' in j:\n",
    "                                                        pass\n",
    "                                                else:\n",
    "                                                        file = pd.read_excel(f'{new_path}/{j}',sheet_name=\"Alertas\",dtype=str)\n",
    "                                                        file[\"fecha\"] = i\n",
    "                                                        files_store = pd.concat([files_store,file])\n",
    "        alertas_x_monto = pd.concat([alertas_x_monto, files_store]) "
   ]
  },
  {
   "cell_type": "markdown",
   "metadata": {},
   "source": [
    "Alertas x monto despues de ultimo informe (20/feb/22)"
   ]
  },
  {
   "cell_type": "code",
   "execution_count": 15,
   "metadata": {},
   "outputs": [
    {
     "name": "stdout",
     "output_type": "stream",
     "text": [
      "cantidad de alertas generadas en el corte: 3521\n"
     ]
    },
    {
     "data": {
      "application/vnd.plotly.v1+json": {
       "config": {
        "plotlyServerURL": "https://plot.ly"
       },
       "data": [
        {
         "alignmentgroup": "True",
         "hovertemplate": "Indicador=No diligenciado<br>Local=%{x}<br>Cantidad NCs=%{text}<extra></extra>",
         "legendgroup": "No diligenciado",
         "marker": {
          "color": "rgb(170, 57, 57)",
          "pattern": {
           "shape": ""
          }
         },
         "name": "No diligenciado",
         "offsetgroup": "No diligenciado",
         "orientation": "v",
         "showlegend": true,
         "text": [
          273,
          125,
          119,
          84,
          56,
          49,
          30,
          28,
          8,
          6,
          1
         ],
         "textposition": "auto",
         "type": "bar",
         "x": [
          "UNICENTRO",
          "WTC CALI",
          "CARACOLI",
          "HAYUELOS",
          "EL CASTILLO",
          "TITAN",
          "COLINA",
          "GALERIAS",
          "DIVER PLAZA",
          "FONTANAR",
          "ACQUA"
         ],
         "xaxis": "x",
         "y": [
          273,
          125,
          119,
          84,
          56,
          49,
          30,
          28,
          8,
          6,
          1
         ],
         "yaxis": "y"
        },
        {
         "alignmentgroup": "True",
         "hovertemplate": "Indicador=Diligenciado<br>Local=%{x}<br>Cantidad NCs=%{text}<extra></extra>",
         "legendgroup": "Diligenciado",
         "marker": {
          "color": "rgb(45, 136, 45)",
          "pattern": {
           "shape": ""
          }
         },
         "name": "Diligenciado",
         "offsetgroup": "Diligenciado",
         "orientation": "v",
         "showlegend": true,
         "text": [
          244,
          240,
          180,
          173,
          171,
          169,
          169,
          152,
          146,
          135,
          113,
          105,
          97,
          95,
          90,
          78,
          77,
          67,
          60,
          46,
          40,
          40,
          33
         ],
         "textposition": "auto",
         "type": "bar",
         "x": [
          "SANTAFE MEDELLIN",
          "COLINA",
          "SAN DIEGO",
          "JARDIN PLAZA",
          "CENTRO MAYOR",
          "SANTA FE",
          "FONTANAR",
          "TITAN",
          "BUENAVISTA",
          "GALERIAS",
          "SUBA",
          "PLAZA CENTRAL",
          "ARKADIA",
          "ACQUA",
          "PARQUE ARBOLEDA",
          "LA FELICIDAD",
          "CACIQUE",
          "PRIMAVERA",
          "LA CAROLA",
          "TIENDA ALEGRA",
          "DIVER PLAZA",
          "EL CASTILLO",
          "WTC CALI"
         ],
         "xaxis": "x",
         "y": [
          244,
          240,
          180,
          173,
          171,
          169,
          169,
          152,
          146,
          135,
          113,
          105,
          97,
          95,
          90,
          78,
          77,
          67,
          60,
          46,
          40,
          40,
          33
         ],
         "yaxis": "y"
        }
       ],
       "layout": {
        "barmode": "relative",
        "legend": {
         "title": {
          "text": "Indicador"
         },
         "tracegroupgap": 0,
         "x": 0.7,
         "xanchor": "left",
         "y": 0.95,
         "yanchor": "top"
        },
        "template": {
         "data": {
          "bar": [
           {
            "error_x": {
             "color": "#2a3f5f"
            },
            "error_y": {
             "color": "#2a3f5f"
            },
            "marker": {
             "line": {
              "color": "#E5ECF6",
              "width": 0.5
             },
             "pattern": {
              "fillmode": "overlay",
              "size": 10,
              "solidity": 0.2
             }
            },
            "type": "bar"
           }
          ],
          "barpolar": [
           {
            "marker": {
             "line": {
              "color": "#E5ECF6",
              "width": 0.5
             },
             "pattern": {
              "fillmode": "overlay",
              "size": 10,
              "solidity": 0.2
             }
            },
            "type": "barpolar"
           }
          ],
          "carpet": [
           {
            "aaxis": {
             "endlinecolor": "#2a3f5f",
             "gridcolor": "white",
             "linecolor": "white",
             "minorgridcolor": "white",
             "startlinecolor": "#2a3f5f"
            },
            "baxis": {
             "endlinecolor": "#2a3f5f",
             "gridcolor": "white",
             "linecolor": "white",
             "minorgridcolor": "white",
             "startlinecolor": "#2a3f5f"
            },
            "type": "carpet"
           }
          ],
          "choropleth": [
           {
            "colorbar": {
             "outlinewidth": 0,
             "ticks": ""
            },
            "type": "choropleth"
           }
          ],
          "contour": [
           {
            "colorbar": {
             "outlinewidth": 0,
             "ticks": ""
            },
            "colorscale": [
             [
              0,
              "#0d0887"
             ],
             [
              0.1111111111111111,
              "#46039f"
             ],
             [
              0.2222222222222222,
              "#7201a8"
             ],
             [
              0.3333333333333333,
              "#9c179e"
             ],
             [
              0.4444444444444444,
              "#bd3786"
             ],
             [
              0.5555555555555556,
              "#d8576b"
             ],
             [
              0.6666666666666666,
              "#ed7953"
             ],
             [
              0.7777777777777778,
              "#fb9f3a"
             ],
             [
              0.8888888888888888,
              "#fdca26"
             ],
             [
              1,
              "#f0f921"
             ]
            ],
            "type": "contour"
           }
          ],
          "contourcarpet": [
           {
            "colorbar": {
             "outlinewidth": 0,
             "ticks": ""
            },
            "type": "contourcarpet"
           }
          ],
          "heatmap": [
           {
            "colorbar": {
             "outlinewidth": 0,
             "ticks": ""
            },
            "colorscale": [
             [
              0,
              "#0d0887"
             ],
             [
              0.1111111111111111,
              "#46039f"
             ],
             [
              0.2222222222222222,
              "#7201a8"
             ],
             [
              0.3333333333333333,
              "#9c179e"
             ],
             [
              0.4444444444444444,
              "#bd3786"
             ],
             [
              0.5555555555555556,
              "#d8576b"
             ],
             [
              0.6666666666666666,
              "#ed7953"
             ],
             [
              0.7777777777777778,
              "#fb9f3a"
             ],
             [
              0.8888888888888888,
              "#fdca26"
             ],
             [
              1,
              "#f0f921"
             ]
            ],
            "type": "heatmap"
           }
          ],
          "heatmapgl": [
           {
            "colorbar": {
             "outlinewidth": 0,
             "ticks": ""
            },
            "colorscale": [
             [
              0,
              "#0d0887"
             ],
             [
              0.1111111111111111,
              "#46039f"
             ],
             [
              0.2222222222222222,
              "#7201a8"
             ],
             [
              0.3333333333333333,
              "#9c179e"
             ],
             [
              0.4444444444444444,
              "#bd3786"
             ],
             [
              0.5555555555555556,
              "#d8576b"
             ],
             [
              0.6666666666666666,
              "#ed7953"
             ],
             [
              0.7777777777777778,
              "#fb9f3a"
             ],
             [
              0.8888888888888888,
              "#fdca26"
             ],
             [
              1,
              "#f0f921"
             ]
            ],
            "type": "heatmapgl"
           }
          ],
          "histogram": [
           {
            "marker": {
             "pattern": {
              "fillmode": "overlay",
              "size": 10,
              "solidity": 0.2
             }
            },
            "type": "histogram"
           }
          ],
          "histogram2d": [
           {
            "colorbar": {
             "outlinewidth": 0,
             "ticks": ""
            },
            "colorscale": [
             [
              0,
              "#0d0887"
             ],
             [
              0.1111111111111111,
              "#46039f"
             ],
             [
              0.2222222222222222,
              "#7201a8"
             ],
             [
              0.3333333333333333,
              "#9c179e"
             ],
             [
              0.4444444444444444,
              "#bd3786"
             ],
             [
              0.5555555555555556,
              "#d8576b"
             ],
             [
              0.6666666666666666,
              "#ed7953"
             ],
             [
              0.7777777777777778,
              "#fb9f3a"
             ],
             [
              0.8888888888888888,
              "#fdca26"
             ],
             [
              1,
              "#f0f921"
             ]
            ],
            "type": "histogram2d"
           }
          ],
          "histogram2dcontour": [
           {
            "colorbar": {
             "outlinewidth": 0,
             "ticks": ""
            },
            "colorscale": [
             [
              0,
              "#0d0887"
             ],
             [
              0.1111111111111111,
              "#46039f"
             ],
             [
              0.2222222222222222,
              "#7201a8"
             ],
             [
              0.3333333333333333,
              "#9c179e"
             ],
             [
              0.4444444444444444,
              "#bd3786"
             ],
             [
              0.5555555555555556,
              "#d8576b"
             ],
             [
              0.6666666666666666,
              "#ed7953"
             ],
             [
              0.7777777777777778,
              "#fb9f3a"
             ],
             [
              0.8888888888888888,
              "#fdca26"
             ],
             [
              1,
              "#f0f921"
             ]
            ],
            "type": "histogram2dcontour"
           }
          ],
          "mesh3d": [
           {
            "colorbar": {
             "outlinewidth": 0,
             "ticks": ""
            },
            "type": "mesh3d"
           }
          ],
          "parcoords": [
           {
            "line": {
             "colorbar": {
              "outlinewidth": 0,
              "ticks": ""
             }
            },
            "type": "parcoords"
           }
          ],
          "pie": [
           {
            "automargin": true,
            "type": "pie"
           }
          ],
          "scatter": [
           {
            "marker": {
             "colorbar": {
              "outlinewidth": 0,
              "ticks": ""
             }
            },
            "type": "scatter"
           }
          ],
          "scatter3d": [
           {
            "line": {
             "colorbar": {
              "outlinewidth": 0,
              "ticks": ""
             }
            },
            "marker": {
             "colorbar": {
              "outlinewidth": 0,
              "ticks": ""
             }
            },
            "type": "scatter3d"
           }
          ],
          "scattercarpet": [
           {
            "marker": {
             "colorbar": {
              "outlinewidth": 0,
              "ticks": ""
             }
            },
            "type": "scattercarpet"
           }
          ],
          "scattergeo": [
           {
            "marker": {
             "colorbar": {
              "outlinewidth": 0,
              "ticks": ""
             }
            },
            "type": "scattergeo"
           }
          ],
          "scattergl": [
           {
            "marker": {
             "colorbar": {
              "outlinewidth": 0,
              "ticks": ""
             }
            },
            "type": "scattergl"
           }
          ],
          "scattermapbox": [
           {
            "marker": {
             "colorbar": {
              "outlinewidth": 0,
              "ticks": ""
             }
            },
            "type": "scattermapbox"
           }
          ],
          "scatterpolar": [
           {
            "marker": {
             "colorbar": {
              "outlinewidth": 0,
              "ticks": ""
             }
            },
            "type": "scatterpolar"
           }
          ],
          "scatterpolargl": [
           {
            "marker": {
             "colorbar": {
              "outlinewidth": 0,
              "ticks": ""
             }
            },
            "type": "scatterpolargl"
           }
          ],
          "scatterternary": [
           {
            "marker": {
             "colorbar": {
              "outlinewidth": 0,
              "ticks": ""
             }
            },
            "type": "scatterternary"
           }
          ],
          "surface": [
           {
            "colorbar": {
             "outlinewidth": 0,
             "ticks": ""
            },
            "colorscale": [
             [
              0,
              "#0d0887"
             ],
             [
              0.1111111111111111,
              "#46039f"
             ],
             [
              0.2222222222222222,
              "#7201a8"
             ],
             [
              0.3333333333333333,
              "#9c179e"
             ],
             [
              0.4444444444444444,
              "#bd3786"
             ],
             [
              0.5555555555555556,
              "#d8576b"
             ],
             [
              0.6666666666666666,
              "#ed7953"
             ],
             [
              0.7777777777777778,
              "#fb9f3a"
             ],
             [
              0.8888888888888888,
              "#fdca26"
             ],
             [
              1,
              "#f0f921"
             ]
            ],
            "type": "surface"
           }
          ],
          "table": [
           {
            "cells": {
             "fill": {
              "color": "#EBF0F8"
             },
             "line": {
              "color": "white"
             }
            },
            "header": {
             "fill": {
              "color": "#C8D4E3"
             },
             "line": {
              "color": "white"
             }
            },
            "type": "table"
           }
          ]
         },
         "layout": {
          "annotationdefaults": {
           "arrowcolor": "#2a3f5f",
           "arrowhead": 0,
           "arrowwidth": 1
          },
          "autotypenumbers": "strict",
          "coloraxis": {
           "colorbar": {
            "outlinewidth": 0,
            "ticks": ""
           }
          },
          "colorscale": {
           "diverging": [
            [
             0,
             "#8e0152"
            ],
            [
             0.1,
             "#c51b7d"
            ],
            [
             0.2,
             "#de77ae"
            ],
            [
             0.3,
             "#f1b6da"
            ],
            [
             0.4,
             "#fde0ef"
            ],
            [
             0.5,
             "#f7f7f7"
            ],
            [
             0.6,
             "#e6f5d0"
            ],
            [
             0.7,
             "#b8e186"
            ],
            [
             0.8,
             "#7fbc41"
            ],
            [
             0.9,
             "#4d9221"
            ],
            [
             1,
             "#276419"
            ]
           ],
           "sequential": [
            [
             0,
             "#0d0887"
            ],
            [
             0.1111111111111111,
             "#46039f"
            ],
            [
             0.2222222222222222,
             "#7201a8"
            ],
            [
             0.3333333333333333,
             "#9c179e"
            ],
            [
             0.4444444444444444,
             "#bd3786"
            ],
            [
             0.5555555555555556,
             "#d8576b"
            ],
            [
             0.6666666666666666,
             "#ed7953"
            ],
            [
             0.7777777777777778,
             "#fb9f3a"
            ],
            [
             0.8888888888888888,
             "#fdca26"
            ],
            [
             1,
             "#f0f921"
            ]
           ],
           "sequentialminus": [
            [
             0,
             "#0d0887"
            ],
            [
             0.1111111111111111,
             "#46039f"
            ],
            [
             0.2222222222222222,
             "#7201a8"
            ],
            [
             0.3333333333333333,
             "#9c179e"
            ],
            [
             0.4444444444444444,
             "#bd3786"
            ],
            [
             0.5555555555555556,
             "#d8576b"
            ],
            [
             0.6666666666666666,
             "#ed7953"
            ],
            [
             0.7777777777777778,
             "#fb9f3a"
            ],
            [
             0.8888888888888888,
             "#fdca26"
            ],
            [
             1,
             "#f0f921"
            ]
           ]
          },
          "colorway": [
           "#636efa",
           "#EF553B",
           "#00cc96",
           "#ab63fa",
           "#FFA15A",
           "#19d3f3",
           "#FF6692",
           "#B6E880",
           "#FF97FF",
           "#FECB52"
          ],
          "font": {
           "color": "#2a3f5f"
          },
          "geo": {
           "bgcolor": "white",
           "lakecolor": "white",
           "landcolor": "#E5ECF6",
           "showlakes": true,
           "showland": true,
           "subunitcolor": "white"
          },
          "hoverlabel": {
           "align": "left"
          },
          "hovermode": "closest",
          "mapbox": {
           "style": "light"
          },
          "paper_bgcolor": "white",
          "plot_bgcolor": "#E5ECF6",
          "polar": {
           "angularaxis": {
            "gridcolor": "white",
            "linecolor": "white",
            "ticks": ""
           },
           "bgcolor": "#E5ECF6",
           "radialaxis": {
            "gridcolor": "white",
            "linecolor": "white",
            "ticks": ""
           }
          },
          "scene": {
           "xaxis": {
            "backgroundcolor": "#E5ECF6",
            "gridcolor": "white",
            "gridwidth": 2,
            "linecolor": "white",
            "showbackground": true,
            "ticks": "",
            "zerolinecolor": "white"
           },
           "yaxis": {
            "backgroundcolor": "#E5ECF6",
            "gridcolor": "white",
            "gridwidth": 2,
            "linecolor": "white",
            "showbackground": true,
            "ticks": "",
            "zerolinecolor": "white"
           },
           "zaxis": {
            "backgroundcolor": "#E5ECF6",
            "gridcolor": "white",
            "gridwidth": 2,
            "linecolor": "white",
            "showbackground": true,
            "ticks": "",
            "zerolinecolor": "white"
           }
          },
          "shapedefaults": {
           "line": {
            "color": "#2a3f5f"
           }
          },
          "ternary": {
           "aaxis": {
            "gridcolor": "white",
            "linecolor": "white",
            "ticks": ""
           },
           "baxis": {
            "gridcolor": "white",
            "linecolor": "white",
            "ticks": ""
           },
           "bgcolor": "#E5ECF6",
           "caxis": {
            "gridcolor": "white",
            "linecolor": "white",
            "ticks": ""
           }
          },
          "title": {
           "x": 0.05
          },
          "xaxis": {
           "automargin": true,
           "gridcolor": "white",
           "linecolor": "white",
           "ticks": "",
           "title": {
            "standoff": 15
           },
           "zerolinecolor": "white",
           "zerolinewidth": 2
          },
          "yaxis": {
           "automargin": true,
           "gridcolor": "white",
           "linecolor": "white",
           "ticks": "",
           "title": {
            "standoff": 15
           },
           "zerolinecolor": "white",
           "zerolinewidth": 2
          }
         }
        },
        "title": {
         "text": "Cantidad de alertas por monto por tienda <br>Corte:2022-11-01 hasta el 2022-11-08"
        },
        "xaxis": {
         "anchor": "y",
         "categoryorder": "total descending",
         "domain": [
          0,
          1
         ],
         "title": {
          "text": "Local"
         }
        },
        "yaxis": {
         "anchor": "x",
         "domain": [
          0,
          1
         ],
         "title": {
          "text": "Cantidad NCs"
         }
        }
       }
      }
     },
     "metadata": {},
     "output_type": "display_data"
    }
   ],
   "source": [
    "alertas_x_monto[\"fecha\"] =  pd.to_datetime(alertas_x_monto.fecha, yearfirst=True)\n",
    "al_x_monto = alertas_x_monto.loc[(alertas_x_monto[\"fecha\"] >= fecha_inicio) & (alertas_x_monto[\"fecha\"] <= fecha_final)].reset_index(drop=True)\n",
    "al_x_monto[\"Grabación?\"] = al_x_monto[\"Grabación?\"].str.upper()\n",
    "al_x_monto[\"Grabación?\"] = al_x_monto[\"Grabación?\"].fillna(\"nan\")\n",
    "al_x_monto.loc[(al_x_monto[\"Grabación?\"].str.contains(\"NO\")) | (al_x_monto[\"Grabación?\"].notna()) & (al_x_monto[\"Cliente?\"].notna()) & (al_x_monto[\"Producto?\"].notna()),\"Indicador\"] = \"Diligenciado\"\n",
    "al_x_monto.loc[al_x_monto[\"Grabación?\"] ==\"nan\", \"Grabación?\" ] = np.nan\n",
    "print(f'cantidad de alertas generadas en el corte: {al_x_monto.shape[0]}')\n",
    "al_x_monto.loc[(al_x_monto[\"Grabación?\"].notna()) & (al_x_monto[\"Cliente?\"].notna()) & (al_x_monto[\"Producto?\"].notna()), \"Indicador\"] = \"Diligenciado\"\n",
    "al_x_monto.loc[al_x_monto[\"Indicador\"] != \"Diligenciado\", \"Indicador\"] = \"No diligenciado\"\n",
    "fig_al_x_monto = al_x_monto.groupby([\"Desc_local\",\"Indicador\"]).agg({\"Cautoriza\":\"nunique\",}).reset_index().sort_values(\"Cautoriza\", ascending=False)\n",
    "h_fig = px.bar(fig_al_x_monto, x=\"Desc_local\", y=\"Cautoriza\",color=\"Indicador\",text=\"Cautoriza\",color_discrete_map = {'No diligenciado':'rgb(170, 57, 57)','Diligenciado':'rgb(45, 136, 45)'}, title=f\"Cantidad de alertas por monto por tienda <br>Corte:{fecha_inicio} hasta el {fecha_final}\", labels={\"Desc_local\":\"Local\",\"Cautoriza\":\"Cantidad NCs\"}) \n",
    "h_fig.update_layout(xaxis_categoryorder = 'total descending',legend=dict(yanchor=\"top\", y=0.95, xanchor=\"left\", x=0.7))\n",
    "h_fig.write_image(f\"output/{dt_string}alerta_monto.jpg\", height = 600, width = 1000)\n",
    "h_fig.show()\n",
    "al_x_monto.to_excel(f\"output/{dt_string}alertas_x_monto.xlsx\", index=False)"
   ]
  },
  {
   "cell_type": "markdown",
   "metadata": {},
   "source": [
    "Calculos\n"
   ]
  },
  {
   "cell_type": "code",
   "execution_count": 16,
   "metadata": {},
   "outputs": [
    {
     "name": "stdout",
     "output_type": "stream",
     "text": [
      "Cantidad total de alarmas por hora: 45\n",
      "Cantidad total de alarmas por monto: 3521\n",
      "Cantidad total de alarmas: 3566\n",
      "Cantidad total no diligenciado: 782\n",
      "Cantidad diligenciados: 2762\n",
      "Porcentage de alertas diligenciadas: 77.45372966909703\n"
     ]
    }
   ],
   "source": [
    "hora_no_d = al_x_hora.loc[al_x_hora.Indicador == \"No diligenciado\", \"Cautoriza\" ].nunique()\n",
    "hora_d = al_x_hora.loc[al_x_hora.Indicador == \"Diligenciado\", \"Cautoriza\" ].nunique()\n",
    "monto_no_d = al_x_monto.loc[al_x_monto.Indicador == \"No diligenciado\", \"Cautoriza\" ].nunique()\n",
    "monto_d = al_x_monto.loc[al_x_monto.Indicador == \"Diligenciado\", \"Cautoriza\" ].nunique()\n",
    "total_alarmas = al_x_hora.shape[0] + al_x_monto.shape[0]\n",
    "cantidad_diligenciados = hora_d + monto_d\n",
    "print(f\"Cantidad total de alarmas por hora: {al_x_hora.shape[0]}\")\n",
    "print(f\"Cantidad total de alarmas por monto: {al_x_monto.shape[0]}\")\n",
    "print(f\"Cantidad total de alarmas: {total_alarmas}\")\n",
    "print(f\"Cantidad total no diligenciado: {hora_no_d + monto_no_d}\")\n",
    "print(f\"Cantidad diligenciados: {cantidad_diligenciados}\")\n",
    "print(f\"Porcentage de alertas diligenciadas: {(cantidad_diligenciados*100)/total_alarmas}\")\n",
    "alertas_hora = al_x_hora.shape[0]\n",
    "alertas_montos = al_x_monto.shape[0]\n",
    "alertas_totales = hora_no_d + monto_no_d\n"
   ]
  },
  {
   "cell_type": "code",
   "execution_count": 17,
   "metadata": {},
   "outputs": [],
   "source": [
    "email_content = f\"\"\"<p>Estimados:</p> \n",
    "<p>Por favor encuentren a continuación, el análisis de la gestión de diligenciamiento de los reportes de notas créditos según la tienda, para las alarmas por monto y hora, enviadas entre {fecha_inicio} hasta el {fecha_final}.</p>  \n",
    "<p>En total se generaron {alertas_totales} alertas para las 26 tiendas, las cuales incluye {alertas_hora} alertas por hora y {alertas_montos} alertas por monto. Se evidencia que <strong><u>fueron diligenciadas por las tiendas 1445 alertas que corresponden al 48% del total de alertas</strong></u>.</p> \n",
    "<p>Así mismo, en las siguientes gráficas se presentan la cantidad de alertas a revisar por las tiendas y el estado del diligenciamiento correspondiente:</p>  \n",
    "<img src=\"cid:alerta_horas\"><br></td>\n",
    "<img src=\"cid:alerta_montos\"><br></td>\n",
    "<p>El detalle de la información anterior se encuentra adjunto.</p>   \n",
    "<p>Quedo atento en caso de que surja alguna duda.</p>  \n",
    "<p>Saludos cordiales,</p> \n",
    "<br>\n",
    "{fm.firma}\n",
    "\"\"\"\n"
   ]
  },
  {
   "cell_type": "code",
   "execution_count": 18,
   "metadata": {},
   "outputs": [],
   "source": [
    "img=  {'alerta_horas' : f'output/{dt_string}alerta_horas.jpg', 'alerta_montos':f'output/{dt_string}alerta_monto.jpg'}"
   ]
  },
  {
   "cell_type": "code",
   "execution_count": 19,
   "metadata": {},
   "outputs": [
    {
     "name": "stdout",
     "output_type": "stream",
     "text": [
      "251122_alertas_x_hora.xlsx\n"
     ]
    }
   ],
   "source": [
    "print(f'{dt_string}_alertas_x_hora.xlsx')"
   ]
  },
  {
   "cell_type": "code",
   "execution_count": 20,
   "metadata": {},
   "outputs": [],
   "source": [
    "mail = ADM_MAIL()\n",
    "mail.attach_text(email_content)\n",
    "mail.attach_image(img)\n",
    "listado_archive = [f'output\\{dt_string}_alertas_x_hora.xlsx', f'output/{dt_string}_alertas_x_monto.xlsx']\n",
    "mail.attach_archives(listado_archive)"
   ]
  },
  {
   "cell_type": "code",
   "execution_count": 21,
   "metadata": {},
   "outputs": [],
   "source": [
    "mail.erase_head()"
   ]
  },
  {
   "cell_type": "code",
   "execution_count": 22,
   "metadata": {},
   "outputs": [],
   "source": [
    "mail.head_mesagge('usuario@falabella.com.co','usuario@falabella.com.co',f'Reporte diligenciamiento alertas NC - {fecha_inicio} hasta el {fecha_final}','usuario@falabella.com.co')"
   ]
  },
  {
   "cell_type": "code",
   "execution_count": 23,
   "metadata": {},
   "outputs": [
    {
     "ename": "SMTPAuthenticationError",
     "evalue": "(535, b'5.7.139 Authentication unsuccessful, the user credentials were incorrect. [SC1P215CA0071.LAMP215.PROD.OUTLOOK.COM]')",
     "output_type": "error",
     "traceback": [
      "\u001b[1;31m---------------------------------------------------------------------------\u001b[0m",
      "\u001b[1;31mSMTPAuthenticationError\u001b[0m                   Traceback (most recent call last)",
      "\u001b[1;32mc:\\Users\\maperezr\\proyectos\\nc-santiago\\metodo_unificacion.ipynb Celda 23\u001b[0m in \u001b[0;36m<cell line: 1>\u001b[1;34m()\u001b[0m\n\u001b[1;32m----> <a href='vscode-notebook-cell:/c%3A/Users/maperezr/proyectos/nc-santiago/metodo_unificacion.ipynb#X31sZmlsZQ%3D%3D?line=0'>1</a>\u001b[0m mail\u001b[39m.\u001b[39;49msend_mesaje()\n",
      "File \u001b[1;32mC:\\Users/maperezr/proyectos/fs-emails\\adm_email.py:61\u001b[0m, in \u001b[0;36mADM_MAIL.send_mesaje\u001b[1;34m(self)\u001b[0m\n\u001b[0;32m     59\u001b[0m smtp \u001b[39m=\u001b[39m SMTP(\u001b[39m'\u001b[39m\u001b[39msmtp.office365.com: 587\u001b[39m\u001b[39m'\u001b[39m)  \n\u001b[0;32m     60\u001b[0m smtp\u001b[39m.\u001b[39mstarttls()\n\u001b[1;32m---> 61\u001b[0m smtp\u001b[39m.\u001b[39;49mlogin(lg\u001b[39m.\u001b[39;49muser, lg\u001b[39m.\u001b[39;49mpasword)\n\u001b[0;32m     62\u001b[0m smtp\u001b[39m.\u001b[39msendmail(lg\u001b[39m.\u001b[39muser,  \u001b[39mself\u001b[39m\u001b[39m.\u001b[39mmensaje[\u001b[39m\"\u001b[39m\u001b[39mTo\u001b[39m\u001b[39m\"\u001b[39m] ,\u001b[39mself\u001b[39m\u001b[39m.\u001b[39mmensaje\u001b[39m.\u001b[39mas_string())\n\u001b[0;32m     63\u001b[0m smtp\u001b[39m.\u001b[39mclose()\n",
      "File \u001b[1;32mc:\\Users\\maperezr\\Anaconda3\\lib\\smtplib.py:750\u001b[0m, in \u001b[0;36mSMTP.login\u001b[1;34m(self, user, password, initial_response_ok)\u001b[0m\n\u001b[0;32m    747\u001b[0m         last_exception \u001b[39m=\u001b[39m e\n\u001b[0;32m    749\u001b[0m \u001b[39m# We could not login successfully.  Return result of last attempt.\u001b[39;00m\n\u001b[1;32m--> 750\u001b[0m \u001b[39mraise\u001b[39;00m last_exception\n",
      "File \u001b[1;32mc:\\Users\\maperezr\\Anaconda3\\lib\\smtplib.py:739\u001b[0m, in \u001b[0;36mSMTP.login\u001b[1;34m(self, user, password, initial_response_ok)\u001b[0m\n\u001b[0;32m    737\u001b[0m method_name \u001b[39m=\u001b[39m \u001b[39m'\u001b[39m\u001b[39mauth_\u001b[39m\u001b[39m'\u001b[39m \u001b[39m+\u001b[39m authmethod\u001b[39m.\u001b[39mlower()\u001b[39m.\u001b[39mreplace(\u001b[39m'\u001b[39m\u001b[39m-\u001b[39m\u001b[39m'\u001b[39m, \u001b[39m'\u001b[39m\u001b[39m_\u001b[39m\u001b[39m'\u001b[39m)\n\u001b[0;32m    738\u001b[0m \u001b[39mtry\u001b[39;00m:\n\u001b[1;32m--> 739\u001b[0m     (code, resp) \u001b[39m=\u001b[39m \u001b[39mself\u001b[39;49m\u001b[39m.\u001b[39;49mauth(\n\u001b[0;32m    740\u001b[0m         authmethod, \u001b[39mgetattr\u001b[39;49m(\u001b[39mself\u001b[39;49m, method_name),\n\u001b[0;32m    741\u001b[0m         initial_response_ok\u001b[39m=\u001b[39;49minitial_response_ok)\n\u001b[0;32m    742\u001b[0m     \u001b[39m# 235 == 'Authentication successful'\u001b[39;00m\n\u001b[0;32m    743\u001b[0m     \u001b[39m# 503 == 'Error: already authenticated'\u001b[39;00m\n\u001b[0;32m    744\u001b[0m     \u001b[39mif\u001b[39;00m code \u001b[39min\u001b[39;00m (\u001b[39m235\u001b[39m, \u001b[39m503\u001b[39m):\n",
      "File \u001b[1;32mc:\\Users\\maperezr\\Anaconda3\\lib\\smtplib.py:662\u001b[0m, in \u001b[0;36mSMTP.auth\u001b[1;34m(self, mechanism, authobject, initial_response_ok)\u001b[0m\n\u001b[0;32m    660\u001b[0m \u001b[39mif\u001b[39;00m code \u001b[39min\u001b[39;00m (\u001b[39m235\u001b[39m, \u001b[39m503\u001b[39m):\n\u001b[0;32m    661\u001b[0m     \u001b[39mreturn\u001b[39;00m (code, resp)\n\u001b[1;32m--> 662\u001b[0m \u001b[39mraise\u001b[39;00m SMTPAuthenticationError(code, resp)\n",
      "\u001b[1;31mSMTPAuthenticationError\u001b[0m: (535, b'5.7.139 Authentication unsuccessful, the user credentials were incorrect. [SC1P215CA0071.LAMP215.PROD.OUTLOOK.COM]')"
     ]
    }
   ],
   "source": [
    "mail.send_mesaje()"
   ]
  },
  {
   "cell_type": "markdown",
   "metadata": {},
   "source": [
    "tiendas"
   ]
  },
  {
   "cell_type": "code",
   "execution_count": null,
   "metadata": {},
   "outputs": [
    {
     "ename": "",
     "evalue": "",
     "output_type": "error",
     "traceback": [
      "\u001b[1;31mNo se pudo iniciar el kernel porque no se pudo cargar un archivo DLL.\n",
      "\u001b[1;31mHaga clic <a href='https://aka.ms/kernelFailuresDllLoad'>aquí</a> para obtener más información."
     ]
    }
   ],
   "source": [
    "tienda == 'ACQUA', |\n",
    "tienda == 'TIENDA ALEGRA'    \n",
    "tienda == 'ARKADIA', |\n",
    "tienda == 'BUENAVISTA', |\n",
    "tienda == 'CACIQUE', | \n",
    "tienda == 'CARACOLI', | \n",
    "tienda == 'CENTRO MAYOR', | \n",
    "tienda == 'COLINA', | \n",
    "tienda == 'DIVER PLAZA', | \n",
    "tienda == 'EL CASTILLO', | \n",
    "tienda == 'FONTANAR', |\n",
    "tienda == 'GALERIAS', |\n",
    "tienda == 'HAYUELOS', | \n",
    "tienda == 'JARDIN PLAZA', | \n",
    "tienda == 'LA CAROLA', | \n",
    "tienda == 'LA FELICIDAD', | \n",
    "tienda == 'PARQUE ARBOLEDA', | \n",
    "tienda == 'PLAZA CENTRAL', | \n",
    "tienda == 'PRIMAVERA', | \n",
    "tienda == 'SAN DIEGO', | \n",
    "tienda == 'SANTA FE', | \n",
    "tienda == 'SANTAFE MEDELLIN', | \n",
    "tienda == 'SUBA', | \n",
    "tienda == 'TITAN', | \n",
    "tienda == 'UNICENTRO', |\n",
    "tienda == 'VILLA COUNTRY', | \n",
    "tienda == 'WTC CALI'"
   ]
  },
  {
   "cell_type": "code",
   "execution_count": null,
   "metadata": {},
   "outputs": [
    {
     "ename": "",
     "evalue": "",
     "output_type": "error",
     "traceback": [
      "\u001b[1;31mNo se pudo iniciar el kernel porque no se pudo cargar un archivo DLL.\n",
      "\u001b[1;31mHaga clic <a href='https://aka.ms/kernelFailuresDllLoad'>aquí</a> para obtener más información."
     ]
    }
   ],
   "source": [
    "tienda == 'EL CASTILLO' | tienda == 'FONTANAR' |tienda == 'GALERIAS' |tienda == 'HAYUELOS' | tienda == 'JARDIN PLAZA' | tienda == 'LA CAROLA' | tienda == 'LA FELICIDAD' | tienda == 'PARQUE ARBOLEDA' | tienda == 'PLAZA CENTRAL' | tienda == 'PRIMAVERA' | tienda == 'SAN DIEGO' | tienda == 'SANTA FE' | tienda == 'SANTAFE MEDELLIN' | tienda == 'SUBA' | tienda == 'TITAN' | tienda == 'UNICENTRO' |tienda == 'VILLA COUNTRY' | tienda == 'WTC CALI'"
   ]
  }
 ],
 "metadata": {
  "kernelspec": {
   "display_name": "Python 3.9.12 ('base')",
   "language": "python",
   "name": "python3"
  },
  "language_info": {
   "codemirror_mode": {
    "name": "ipython",
    "version": 3
   },
   "file_extension": ".py",
   "mimetype": "text/x-python",
   "name": "python",
   "nbconvert_exporter": "python",
   "pygments_lexer": "ipython3",
   "version": "3.9.12"
  },
  "orig_nbformat": 4,
  "vscode": {
   "interpreter": {
    "hash": "82a490cbc5ab7ede3fb5f9c339977e226ff85331602536a0bba4d2a51bd464ee"
   }
  }
 },
 "nbformat": 4,
 "nbformat_minor": 2
}
