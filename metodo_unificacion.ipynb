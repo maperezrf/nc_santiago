{
 "cells": [
  {
   "cell_type": "code",
   "execution_count": 38,
   "metadata": {},
   "outputs": [],
   "source": [
    "from datetime import datetime\n",
    "import pandas as pd \n",
    "from os import rename, sep\n",
    "from textwrap import indent\n",
    "import numpy as np \n",
    "import io\n",
    "from datetime import timedelta, date, datetime\n",
    "from os import listdir\n",
    "import plotly.express as px\n",
    "from os.path import isfile, join\n",
    "dt_string = datetime.today().strftime('%d%m%y')\n",
    "import plotly.graph_objects as go\n",
    "import dash\n",
    "from dash import html ,dcc"
   ]
  },
  {
   "cell_type": "code",
   "execution_count": 12,
   "metadata": {},
   "outputs": [],
   "source": [
    "with open('config\\path.txt', \"r\") as tf:\n",
    "        path = tf.read()\n",
    "        path = path.replace(\"\\\\\",\"/\")\n",
    "tf.close()\n",
    "alertas_x_hora = pd.DataFrame()\n",
    "for i in listdir(path):\n",
    "        files_store= pd.DataFrame()\n",
    "        if i.startswith('JPPs - Análisis de notas crédito - '):\n",
    "                new_path= f\"{path}/{i}\"\n",
    "                files_names = [f for f in listdir(new_path) if isfile(join(new_path, f))]\n",
    "                for i in files_names:\n",
    "                        if  i.endswith('.xlsx'):\n",
    "                                file = pd.read_excel(f'{new_path}/{i}',sheet_name=\"Alertas x hora\",dtype=str)\n",
    "                                files_store = pd.concat([files_store,file])\n",
    "        alertas_x_hora = pd.concat([alertas_x_hora, files_store])   "
   ]
  },
  {
   "cell_type": "code",
   "execution_count": 13,
   "metadata": {},
   "outputs": [],
   "source": [
    "alertas_x_hora.loc[(alertas_x_hora[\"Grabación?\"].notna()) & (alertas_x_hora[\"Cliente?\"].notna()) & (alertas_x_hora[\"Producto?\"].notna()), \"indicador\"] = \"Diligenciado\"\n",
    "alertas_x_hora.loc[alertas_x_hora[\"indicador\"] != \"Diligenciado\", \"indicador\"] = \"No diligenciado\""
   ]
  },
  {
   "cell_type": "code",
   "execution_count": 14,
   "metadata": {},
   "outputs": [],
   "source": [
    "h_x_fig = alertas_x_hora.groupby([\"Desc_local\",\"indicador\"]).agg({\"Cautoriza\":\"nunique\",}).reset_index().sort_values(\"Cautoriza\", ascending=False)"
   ]
  },
  {
   "cell_type": "code",
   "execution_count": 17,
   "metadata": {},
   "outputs": [
    {
     "data": {
      "text/html": [
       "<div>\n",
       "<style scoped>\n",
       "    .dataframe tbody tr th:only-of-type {\n",
       "        vertical-align: middle;\n",
       "    }\n",
       "\n",
       "    .dataframe tbody tr th {\n",
       "        vertical-align: top;\n",
       "    }\n",
       "\n",
       "    .dataframe thead th {\n",
       "        text-align: right;\n",
       "    }\n",
       "</style>\n",
       "<table border=\"1\" class=\"dataframe\">\n",
       "  <thead>\n",
       "    <tr style=\"text-align: right;\">\n",
       "      <th></th>\n",
       "      <th>Desc_local</th>\n",
       "      <th>indicador</th>\n",
       "      <th>Cautoriza</th>\n",
       "    </tr>\n",
       "  </thead>\n",
       "  <tbody>\n",
       "    <tr>\n",
       "      <th>25</th>\n",
       "      <td>TITAN</td>\n",
       "      <td>No diligenciado</td>\n",
       "      <td>249</td>\n",
       "    </tr>\n",
       "    <tr>\n",
       "      <th>8</th>\n",
       "      <td>COLINA</td>\n",
       "      <td>Diligenciado</td>\n",
       "      <td>231</td>\n",
       "    </tr>\n",
       "    <tr>\n",
       "      <th>15</th>\n",
       "      <td>JARDIN PLAZA</td>\n",
       "      <td>No diligenciado</td>\n",
       "      <td>198</td>\n",
       "    </tr>\n",
       "    <tr>\n",
       "      <th>13</th>\n",
       "      <td>GALERIAS</td>\n",
       "      <td>No diligenciado</td>\n",
       "      <td>174</td>\n",
       "    </tr>\n",
       "    <tr>\n",
       "      <th>26</th>\n",
       "      <td>UNICENTRO</td>\n",
       "      <td>No diligenciado</td>\n",
       "      <td>160</td>\n",
       "    </tr>\n",
       "    <tr>\n",
       "      <th>7</th>\n",
       "      <td>CENTRO MAYOR</td>\n",
       "      <td>No diligenciado</td>\n",
       "      <td>159</td>\n",
       "    </tr>\n",
       "    <tr>\n",
       "      <th>23</th>\n",
       "      <td>SANTAFE MEDELLIN</td>\n",
       "      <td>No diligenciado</td>\n",
       "      <td>158</td>\n",
       "    </tr>\n",
       "    <tr>\n",
       "      <th>22</th>\n",
       "      <td>SANTA FE</td>\n",
       "      <td>No diligenciado</td>\n",
       "      <td>153</td>\n",
       "    </tr>\n",
       "    <tr>\n",
       "      <th>4</th>\n",
       "      <td>CACIQUE</td>\n",
       "      <td>No diligenciado</td>\n",
       "      <td>137</td>\n",
       "    </tr>\n",
       "    <tr>\n",
       "      <th>12</th>\n",
       "      <td>FONTANAR</td>\n",
       "      <td>No diligenciado</td>\n",
       "      <td>128</td>\n",
       "    </tr>\n",
       "    <tr>\n",
       "      <th>27</th>\n",
       "      <td>WTC CALI</td>\n",
       "      <td>No diligenciado</td>\n",
       "      <td>126</td>\n",
       "    </tr>\n",
       "    <tr>\n",
       "      <th>19</th>\n",
       "      <td>PLAZA CENTRAL</td>\n",
       "      <td>No diligenciado</td>\n",
       "      <td>124</td>\n",
       "    </tr>\n",
       "    <tr>\n",
       "      <th>14</th>\n",
       "      <td>HAYUELOS</td>\n",
       "      <td>No diligenciado</td>\n",
       "      <td>123</td>\n",
       "    </tr>\n",
       "    <tr>\n",
       "      <th>2</th>\n",
       "      <td>ARKADIA</td>\n",
       "      <td>No diligenciado</td>\n",
       "      <td>121</td>\n",
       "    </tr>\n",
       "    <tr>\n",
       "      <th>21</th>\n",
       "      <td>SAN DIEGO</td>\n",
       "      <td>No diligenciado</td>\n",
       "      <td>120</td>\n",
       "    </tr>\n",
       "    <tr>\n",
       "      <th>24</th>\n",
       "      <td>SUBA</td>\n",
       "      <td>No diligenciado</td>\n",
       "      <td>114</td>\n",
       "    </tr>\n",
       "    <tr>\n",
       "      <th>5</th>\n",
       "      <td>CARACOLI</td>\n",
       "      <td>No diligenciado</td>\n",
       "      <td>101</td>\n",
       "    </tr>\n",
       "    <tr>\n",
       "      <th>17</th>\n",
       "      <td>LA FELICIDAD</td>\n",
       "      <td>No diligenciado</td>\n",
       "      <td>85</td>\n",
       "    </tr>\n",
       "    <tr>\n",
       "      <th>11</th>\n",
       "      <td>EL CASTILLO</td>\n",
       "      <td>No diligenciado</td>\n",
       "      <td>82</td>\n",
       "    </tr>\n",
       "    <tr>\n",
       "      <th>16</th>\n",
       "      <td>LA CAROLA</td>\n",
       "      <td>No diligenciado</td>\n",
       "      <td>78</td>\n",
       "    </tr>\n",
       "    <tr>\n",
       "      <th>18</th>\n",
       "      <td>PARQUE ARBOLEDA</td>\n",
       "      <td>No diligenciado</td>\n",
       "      <td>68</td>\n",
       "    </tr>\n",
       "    <tr>\n",
       "      <th>20</th>\n",
       "      <td>PRIMAVERA</td>\n",
       "      <td>No diligenciado</td>\n",
       "      <td>68</td>\n",
       "    </tr>\n",
       "    <tr>\n",
       "      <th>3</th>\n",
       "      <td>BUENAVISTA</td>\n",
       "      <td>No diligenciado</td>\n",
       "      <td>65</td>\n",
       "    </tr>\n",
       "    <tr>\n",
       "      <th>10</th>\n",
       "      <td>DIVER PLAZA</td>\n",
       "      <td>No diligenciado</td>\n",
       "      <td>58</td>\n",
       "    </tr>\n",
       "    <tr>\n",
       "      <th>0</th>\n",
       "      <td>ACQUA</td>\n",
       "      <td>Diligenciado</td>\n",
       "      <td>42</td>\n",
       "    </tr>\n",
       "    <tr>\n",
       "      <th>1</th>\n",
       "      <td>ACQUA</td>\n",
       "      <td>No diligenciado</td>\n",
       "      <td>22</td>\n",
       "    </tr>\n",
       "    <tr>\n",
       "      <th>9</th>\n",
       "      <td>COLINA</td>\n",
       "      <td>No diligenciado</td>\n",
       "      <td>20</td>\n",
       "    </tr>\n",
       "    <tr>\n",
       "      <th>6</th>\n",
       "      <td>CENTRO MAYOR</td>\n",
       "      <td>Diligenciado</td>\n",
       "      <td>1</td>\n",
       "    </tr>\n",
       "  </tbody>\n",
       "</table>\n",
       "</div>"
      ],
      "text/plain": [
       "          Desc_local        indicador  Cautoriza\n",
       "25             TITAN  No diligenciado        249\n",
       "8             COLINA     Diligenciado        231\n",
       "15      JARDIN PLAZA  No diligenciado        198\n",
       "13          GALERIAS  No diligenciado        174\n",
       "26         UNICENTRO  No diligenciado        160\n",
       "7       CENTRO MAYOR  No diligenciado        159\n",
       "23  SANTAFE MEDELLIN  No diligenciado        158\n",
       "22          SANTA FE  No diligenciado        153\n",
       "4            CACIQUE  No diligenciado        137\n",
       "12          FONTANAR  No diligenciado        128\n",
       "27          WTC CALI  No diligenciado        126\n",
       "19     PLAZA CENTRAL  No diligenciado        124\n",
       "14          HAYUELOS  No diligenciado        123\n",
       "2            ARKADIA  No diligenciado        121\n",
       "21         SAN DIEGO  No diligenciado        120\n",
       "24              SUBA  No diligenciado        114\n",
       "5           CARACOLI  No diligenciado        101\n",
       "17      LA FELICIDAD  No diligenciado         85\n",
       "11       EL CASTILLO  No diligenciado         82\n",
       "16         LA CAROLA  No diligenciado         78\n",
       "18   PARQUE ARBOLEDA  No diligenciado         68\n",
       "20         PRIMAVERA  No diligenciado         68\n",
       "3         BUENAVISTA  No diligenciado         65\n",
       "10       DIVER PLAZA  No diligenciado         58\n",
       "0              ACQUA     Diligenciado         42\n",
       "1              ACQUA  No diligenciado         22\n",
       "9             COLINA  No diligenciado         20\n",
       "6       CENTRO MAYOR     Diligenciado          1"
      ]
     },
     "execution_count": 17,
     "metadata": {},
     "output_type": "execute_result"
    }
   ],
   "source": [
    "h_x_fig"
   ]
  },
  {
   "cell_type": "code",
   "execution_count": 34,
   "metadata": {},
   "outputs": [],
   "source": [
    "dil = h_x_fig.loc[h_x_fig.indicador == \"diligenciado\" ]\n",
    "no_dil = h_x_fig.loc[h_x_fig.indicador == \"No diligenciado\" ]"
   ]
  },
  {
   "cell_type": "code",
   "execution_count": 37,
   "metadata": {},
   "outputs": [],
   "source": [
    "trace1 = go.Bar(x=dil[\"Desc_local\"], y=dil[\"indicador\"], name=\"Diligenciado\")\n",
    "trace2 = go.Bar(x=no_dil[\"Desc_local\"], y=no_dil[\"indicador\"], name=\"No Diligenciado\")"
   ]
  },
  {
   "cell_type": "code",
   "execution_count": 44,
   "metadata": {},
   "outputs": [
    {
     "name": "stdout",
     "output_type": "stream",
     "text": [
      "Dash is running on http://127.0.0.1:8050/\n",
      "\n",
      "Dash is running on http://127.0.0.1:8050/\n",
      "\n",
      "Dash is running on http://127.0.0.1:8050/\n",
      "\n",
      "Dash is running on http://127.0.0.1:8050/\n",
      "\n",
      "Dash is running on http://127.0.0.1:8050/\n",
      "\n",
      "Dash is running on http://127.0.0.1:8050/\n",
      "\n",
      " * Serving Flask app \"__main__\" (lazy loading)\n",
      " * Environment: production\n",
      "\u001b[31m   WARNING: This is a development server. Do not use it in a production deployment.\u001b[0m\n",
      "\u001b[2m   Use a production WSGI server instead.\u001b[0m\n",
      " * Debug mode: on\n"
     ]
    },
    {
     "ename": "SystemExit",
     "evalue": "1",
     "output_type": "error",
     "traceback": [
      "An exception has occurred, use %tb to see the full traceback.\n",
      "\u001b[1;31mSystemExit\u001b[0m\u001b[1;31m:\u001b[0m 1\n"
     ]
    }
   ],
   "source": [
    "app = dash.Dash()\n",
    "app.layout = html.Div(children=[\n",
    "    html.H1(children=\"Alarmas por hora\"),\n",
    "    html.Div(children=\"Alarmas por hora\"),\n",
    "    dcc.Graph(\n",
    "        id = \"ejemplo\",\n",
    "        figure = {\n",
    "            \"data\": [trace1,trace2], \n",
    "            \"layout\": go.Layout(title =\"Alertas por hora\",barmode=\"stack\")\n",
    "        }\n",
    "    )\n",
    "])\n",
    "\n",
    "if __name__ == '__main__':\n",
    "    app.run_server(debug=True)"
   ]
  },
  {
   "cell_type": "code",
   "execution_count": 15,
   "metadata": {},
   "outputs": [
    {
     "data": {
      "application/vnd.plotly.v1+json": {
       "config": {
        "plotlyServerURL": "https://plot.ly"
       },
       "data": [
        {
         "alignmentgroup": "True",
         "hovertemplate": "indicador=No diligenciado<br>Local=%{x}<br>Cantidad NCs=%{text}<extra></extra>",
         "legendgroup": "No diligenciado",
         "marker": {
          "color": "rgb(170, 57, 57)",
          "pattern": {
           "shape": ""
          }
         },
         "name": "No diligenciado",
         "offsetgroup": "No diligenciado",
         "orientation": "v",
         "showlegend": true,
         "text": [
          249,
          198,
          174,
          160,
          159,
          158,
          153,
          137,
          128,
          126,
          124,
          123,
          121,
          120,
          114,
          101,
          85,
          82,
          78,
          68,
          68,
          65,
          58,
          22,
          20
         ],
         "textposition": "auto",
         "type": "bar",
         "x": [
          "TITAN",
          "JARDIN PLAZA",
          "GALERIAS",
          "UNICENTRO",
          "CENTRO MAYOR",
          "SANTAFE MEDELLIN",
          "SANTA FE",
          "CACIQUE",
          "FONTANAR",
          "WTC CALI",
          "PLAZA CENTRAL",
          "HAYUELOS",
          "ARKADIA",
          "SAN DIEGO",
          "SUBA",
          "CARACOLI",
          "LA FELICIDAD",
          "EL CASTILLO",
          "LA CAROLA",
          "PARQUE ARBOLEDA",
          "PRIMAVERA",
          "BUENAVISTA",
          "DIVER PLAZA",
          "ACQUA",
          "COLINA"
         ],
         "xaxis": "x",
         "y": [
          249,
          198,
          174,
          160,
          159,
          158,
          153,
          137,
          128,
          126,
          124,
          123,
          121,
          120,
          114,
          101,
          85,
          82,
          78,
          68,
          68,
          65,
          58,
          22,
          20
         ],
         "yaxis": "y"
        },
        {
         "alignmentgroup": "True",
         "hovertemplate": "indicador=Diligenciado<br>Local=%{x}<br>Cantidad NCs=%{text}<extra></extra>",
         "legendgroup": "Diligenciado",
         "marker": {
          "color": "rgb(45, 136, 45)",
          "pattern": {
           "shape": ""
          }
         },
         "name": "Diligenciado",
         "offsetgroup": "Diligenciado",
         "orientation": "v",
         "showlegend": true,
         "text": [
          231,
          42,
          1
         ],
         "textposition": "auto",
         "type": "bar",
         "x": [
          "COLINA",
          "ACQUA",
          "CENTRO MAYOR"
         ],
         "xaxis": "x",
         "y": [
          231,
          42,
          1
         ],
         "yaxis": "y"
        }
       ],
       "layout": {
        "barmode": "relative",
        "legend": {
         "title": {
          "text": "indicador"
         },
         "tracegroupgap": 0,
         "x": 0.7,
         "xanchor": "left",
         "y": 0.95,
         "yanchor": "top"
        },
        "template": {
         "data": {
          "bar": [
           {
            "error_x": {
             "color": "#2a3f5f"
            },
            "error_y": {
             "color": "#2a3f5f"
            },
            "marker": {
             "line": {
              "color": "#E5ECF6",
              "width": 0.5
             },
             "pattern": {
              "fillmode": "overlay",
              "size": 10,
              "solidity": 0.2
             }
            },
            "type": "bar"
           }
          ],
          "barpolar": [
           {
            "marker": {
             "line": {
              "color": "#E5ECF6",
              "width": 0.5
             },
             "pattern": {
              "fillmode": "overlay",
              "size": 10,
              "solidity": 0.2
             }
            },
            "type": "barpolar"
           }
          ],
          "carpet": [
           {
            "aaxis": {
             "endlinecolor": "#2a3f5f",
             "gridcolor": "white",
             "linecolor": "white",
             "minorgridcolor": "white",
             "startlinecolor": "#2a3f5f"
            },
            "baxis": {
             "endlinecolor": "#2a3f5f",
             "gridcolor": "white",
             "linecolor": "white",
             "minorgridcolor": "white",
             "startlinecolor": "#2a3f5f"
            },
            "type": "carpet"
           }
          ],
          "choropleth": [
           {
            "colorbar": {
             "outlinewidth": 0,
             "ticks": ""
            },
            "type": "choropleth"
           }
          ],
          "contour": [
           {
            "colorbar": {
             "outlinewidth": 0,
             "ticks": ""
            },
            "colorscale": [
             [
              0,
              "#0d0887"
             ],
             [
              0.1111111111111111,
              "#46039f"
             ],
             [
              0.2222222222222222,
              "#7201a8"
             ],
             [
              0.3333333333333333,
              "#9c179e"
             ],
             [
              0.4444444444444444,
              "#bd3786"
             ],
             [
              0.5555555555555556,
              "#d8576b"
             ],
             [
              0.6666666666666666,
              "#ed7953"
             ],
             [
              0.7777777777777778,
              "#fb9f3a"
             ],
             [
              0.8888888888888888,
              "#fdca26"
             ],
             [
              1,
              "#f0f921"
             ]
            ],
            "type": "contour"
           }
          ],
          "contourcarpet": [
           {
            "colorbar": {
             "outlinewidth": 0,
             "ticks": ""
            },
            "type": "contourcarpet"
           }
          ],
          "heatmap": [
           {
            "colorbar": {
             "outlinewidth": 0,
             "ticks": ""
            },
            "colorscale": [
             [
              0,
              "#0d0887"
             ],
             [
              0.1111111111111111,
              "#46039f"
             ],
             [
              0.2222222222222222,
              "#7201a8"
             ],
             [
              0.3333333333333333,
              "#9c179e"
             ],
             [
              0.4444444444444444,
              "#bd3786"
             ],
             [
              0.5555555555555556,
              "#d8576b"
             ],
             [
              0.6666666666666666,
              "#ed7953"
             ],
             [
              0.7777777777777778,
              "#fb9f3a"
             ],
             [
              0.8888888888888888,
              "#fdca26"
             ],
             [
              1,
              "#f0f921"
             ]
            ],
            "type": "heatmap"
           }
          ],
          "heatmapgl": [
           {
            "colorbar": {
             "outlinewidth": 0,
             "ticks": ""
            },
            "colorscale": [
             [
              0,
              "#0d0887"
             ],
             [
              0.1111111111111111,
              "#46039f"
             ],
             [
              0.2222222222222222,
              "#7201a8"
             ],
             [
              0.3333333333333333,
              "#9c179e"
             ],
             [
              0.4444444444444444,
              "#bd3786"
             ],
             [
              0.5555555555555556,
              "#d8576b"
             ],
             [
              0.6666666666666666,
              "#ed7953"
             ],
             [
              0.7777777777777778,
              "#fb9f3a"
             ],
             [
              0.8888888888888888,
              "#fdca26"
             ],
             [
              1,
              "#f0f921"
             ]
            ],
            "type": "heatmapgl"
           }
          ],
          "histogram": [
           {
            "marker": {
             "pattern": {
              "fillmode": "overlay",
              "size": 10,
              "solidity": 0.2
             }
            },
            "type": "histogram"
           }
          ],
          "histogram2d": [
           {
            "colorbar": {
             "outlinewidth": 0,
             "ticks": ""
            },
            "colorscale": [
             [
              0,
              "#0d0887"
             ],
             [
              0.1111111111111111,
              "#46039f"
             ],
             [
              0.2222222222222222,
              "#7201a8"
             ],
             [
              0.3333333333333333,
              "#9c179e"
             ],
             [
              0.4444444444444444,
              "#bd3786"
             ],
             [
              0.5555555555555556,
              "#d8576b"
             ],
             [
              0.6666666666666666,
              "#ed7953"
             ],
             [
              0.7777777777777778,
              "#fb9f3a"
             ],
             [
              0.8888888888888888,
              "#fdca26"
             ],
             [
              1,
              "#f0f921"
             ]
            ],
            "type": "histogram2d"
           }
          ],
          "histogram2dcontour": [
           {
            "colorbar": {
             "outlinewidth": 0,
             "ticks": ""
            },
            "colorscale": [
             [
              0,
              "#0d0887"
             ],
             [
              0.1111111111111111,
              "#46039f"
             ],
             [
              0.2222222222222222,
              "#7201a8"
             ],
             [
              0.3333333333333333,
              "#9c179e"
             ],
             [
              0.4444444444444444,
              "#bd3786"
             ],
             [
              0.5555555555555556,
              "#d8576b"
             ],
             [
              0.6666666666666666,
              "#ed7953"
             ],
             [
              0.7777777777777778,
              "#fb9f3a"
             ],
             [
              0.8888888888888888,
              "#fdca26"
             ],
             [
              1,
              "#f0f921"
             ]
            ],
            "type": "histogram2dcontour"
           }
          ],
          "mesh3d": [
           {
            "colorbar": {
             "outlinewidth": 0,
             "ticks": ""
            },
            "type": "mesh3d"
           }
          ],
          "parcoords": [
           {
            "line": {
             "colorbar": {
              "outlinewidth": 0,
              "ticks": ""
             }
            },
            "type": "parcoords"
           }
          ],
          "pie": [
           {
            "automargin": true,
            "type": "pie"
           }
          ],
          "scatter": [
           {
            "marker": {
             "colorbar": {
              "outlinewidth": 0,
              "ticks": ""
             }
            },
            "type": "scatter"
           }
          ],
          "scatter3d": [
           {
            "line": {
             "colorbar": {
              "outlinewidth": 0,
              "ticks": ""
             }
            },
            "marker": {
             "colorbar": {
              "outlinewidth": 0,
              "ticks": ""
             }
            },
            "type": "scatter3d"
           }
          ],
          "scattercarpet": [
           {
            "marker": {
             "colorbar": {
              "outlinewidth": 0,
              "ticks": ""
             }
            },
            "type": "scattercarpet"
           }
          ],
          "scattergeo": [
           {
            "marker": {
             "colorbar": {
              "outlinewidth": 0,
              "ticks": ""
             }
            },
            "type": "scattergeo"
           }
          ],
          "scattergl": [
           {
            "marker": {
             "colorbar": {
              "outlinewidth": 0,
              "ticks": ""
             }
            },
            "type": "scattergl"
           }
          ],
          "scattermapbox": [
           {
            "marker": {
             "colorbar": {
              "outlinewidth": 0,
              "ticks": ""
             }
            },
            "type": "scattermapbox"
           }
          ],
          "scatterpolar": [
           {
            "marker": {
             "colorbar": {
              "outlinewidth": 0,
              "ticks": ""
             }
            },
            "type": "scatterpolar"
           }
          ],
          "scatterpolargl": [
           {
            "marker": {
             "colorbar": {
              "outlinewidth": 0,
              "ticks": ""
             }
            },
            "type": "scatterpolargl"
           }
          ],
          "scatterternary": [
           {
            "marker": {
             "colorbar": {
              "outlinewidth": 0,
              "ticks": ""
             }
            },
            "type": "scatterternary"
           }
          ],
          "surface": [
           {
            "colorbar": {
             "outlinewidth": 0,
             "ticks": ""
            },
            "colorscale": [
             [
              0,
              "#0d0887"
             ],
             [
              0.1111111111111111,
              "#46039f"
             ],
             [
              0.2222222222222222,
              "#7201a8"
             ],
             [
              0.3333333333333333,
              "#9c179e"
             ],
             [
              0.4444444444444444,
              "#bd3786"
             ],
             [
              0.5555555555555556,
              "#d8576b"
             ],
             [
              0.6666666666666666,
              "#ed7953"
             ],
             [
              0.7777777777777778,
              "#fb9f3a"
             ],
             [
              0.8888888888888888,
              "#fdca26"
             ],
             [
              1,
              "#f0f921"
             ]
            ],
            "type": "surface"
           }
          ],
          "table": [
           {
            "cells": {
             "fill": {
              "color": "#EBF0F8"
             },
             "line": {
              "color": "white"
             }
            },
            "header": {
             "fill": {
              "color": "#C8D4E3"
             },
             "line": {
              "color": "white"
             }
            },
            "type": "table"
           }
          ]
         },
         "layout": {
          "annotationdefaults": {
           "arrowcolor": "#2a3f5f",
           "arrowhead": 0,
           "arrowwidth": 1
          },
          "autotypenumbers": "strict",
          "coloraxis": {
           "colorbar": {
            "outlinewidth": 0,
            "ticks": ""
           }
          },
          "colorscale": {
           "diverging": [
            [
             0,
             "#8e0152"
            ],
            [
             0.1,
             "#c51b7d"
            ],
            [
             0.2,
             "#de77ae"
            ],
            [
             0.3,
             "#f1b6da"
            ],
            [
             0.4,
             "#fde0ef"
            ],
            [
             0.5,
             "#f7f7f7"
            ],
            [
             0.6,
             "#e6f5d0"
            ],
            [
             0.7,
             "#b8e186"
            ],
            [
             0.8,
             "#7fbc41"
            ],
            [
             0.9,
             "#4d9221"
            ],
            [
             1,
             "#276419"
            ]
           ],
           "sequential": [
            [
             0,
             "#0d0887"
            ],
            [
             0.1111111111111111,
             "#46039f"
            ],
            [
             0.2222222222222222,
             "#7201a8"
            ],
            [
             0.3333333333333333,
             "#9c179e"
            ],
            [
             0.4444444444444444,
             "#bd3786"
            ],
            [
             0.5555555555555556,
             "#d8576b"
            ],
            [
             0.6666666666666666,
             "#ed7953"
            ],
            [
             0.7777777777777778,
             "#fb9f3a"
            ],
            [
             0.8888888888888888,
             "#fdca26"
            ],
            [
             1,
             "#f0f921"
            ]
           ],
           "sequentialminus": [
            [
             0,
             "#0d0887"
            ],
            [
             0.1111111111111111,
             "#46039f"
            ],
            [
             0.2222222222222222,
             "#7201a8"
            ],
            [
             0.3333333333333333,
             "#9c179e"
            ],
            [
             0.4444444444444444,
             "#bd3786"
            ],
            [
             0.5555555555555556,
             "#d8576b"
            ],
            [
             0.6666666666666666,
             "#ed7953"
            ],
            [
             0.7777777777777778,
             "#fb9f3a"
            ],
            [
             0.8888888888888888,
             "#fdca26"
            ],
            [
             1,
             "#f0f921"
            ]
           ]
          },
          "colorway": [
           "#636efa",
           "#EF553B",
           "#00cc96",
           "#ab63fa",
           "#FFA15A",
           "#19d3f3",
           "#FF6692",
           "#B6E880",
           "#FF97FF",
           "#FECB52"
          ],
          "font": {
           "color": "#2a3f5f"
          },
          "geo": {
           "bgcolor": "white",
           "lakecolor": "white",
           "landcolor": "#E5ECF6",
           "showlakes": true,
           "showland": true,
           "subunitcolor": "white"
          },
          "hoverlabel": {
           "align": "left"
          },
          "hovermode": "closest",
          "mapbox": {
           "style": "light"
          },
          "paper_bgcolor": "white",
          "plot_bgcolor": "#E5ECF6",
          "polar": {
           "angularaxis": {
            "gridcolor": "white",
            "linecolor": "white",
            "ticks": ""
           },
           "bgcolor": "#E5ECF6",
           "radialaxis": {
            "gridcolor": "white",
            "linecolor": "white",
            "ticks": ""
           }
          },
          "scene": {
           "xaxis": {
            "backgroundcolor": "#E5ECF6",
            "gridcolor": "white",
            "gridwidth": 2,
            "linecolor": "white",
            "showbackground": true,
            "ticks": "",
            "zerolinecolor": "white"
           },
           "yaxis": {
            "backgroundcolor": "#E5ECF6",
            "gridcolor": "white",
            "gridwidth": 2,
            "linecolor": "white",
            "showbackground": true,
            "ticks": "",
            "zerolinecolor": "white"
           },
           "zaxis": {
            "backgroundcolor": "#E5ECF6",
            "gridcolor": "white",
            "gridwidth": 2,
            "linecolor": "white",
            "showbackground": true,
            "ticks": "",
            "zerolinecolor": "white"
           }
          },
          "shapedefaults": {
           "line": {
            "color": "#2a3f5f"
           }
          },
          "ternary": {
           "aaxis": {
            "gridcolor": "white",
            "linecolor": "white",
            "ticks": ""
           },
           "baxis": {
            "gridcolor": "white",
            "linecolor": "white",
            "ticks": ""
           },
           "bgcolor": "#E5ECF6",
           "caxis": {
            "gridcolor": "white",
            "linecolor": "white",
            "ticks": ""
           }
          },
          "title": {
           "x": 0.05
          },
          "xaxis": {
           "automargin": true,
           "gridcolor": "white",
           "linecolor": "white",
           "ticks": "",
           "title": {
            "standoff": 15
           },
           "zerolinecolor": "white",
           "zerolinewidth": 2
          },
          "yaxis": {
           "automargin": true,
           "gridcolor": "white",
           "linecolor": "white",
           "ticks": "",
           "title": {
            "standoff": 15
           },
           "zerolinecolor": "white",
           "zerolinewidth": 2
          }
         }
        },
        "title": {
         "text": "Alertas por hora"
        },
        "xaxis": {
         "anchor": "y",
         "categoryorder": "total descending",
         "domain": [
          0,
          1
         ],
         "title": {
          "text": "Local"
         }
        },
        "yaxis": {
         "anchor": "x",
         "domain": [
          0,
          1
         ],
         "title": {
          "text": "Cantidad NCs"
         }
        }
       }
      }
     },
     "metadata": {},
     "output_type": "display_data"
    }
   ],
   "source": [
    "h_fig = px.bar(h_x_fig, x=\"Desc_local\", y=\"Cautoriza\",color=\"indicador\",text=\"Cautoriza\",color_discrete_sequence=['rgb(170, 57, 57)','rgb(45, 136, 45)'], title=\"Alertas por hora\", labels={\"Desc_local\":\"Local\",\"Cautoriza\":\"Cantidad NCs\"}) \n",
    "h_fig.update_layout(xaxis_categoryorder = 'total descending',legend=dict(yanchor=\"top\", y=0.95, xanchor=\"left\", x=0.7))\n",
    "h_fig.show()\n",
    "# h_fig.write_image(f\"output/{dt_string}_alertas_x_hora.svg\",height =500,width=900 )"
   ]
  },
  {
   "cell_type": "code",
   "execution_count": null,
   "metadata": {},
   "outputs": [],
   "source": []
  },
  {
   "cell_type": "code",
   "execution_count": null,
   "metadata": {},
   "outputs": [],
   "source": [
    "with open('config\\path.txt', \"r\") as tf:\n",
    "        path = tf.read()\n",
    "        path = path.replace(\"\\\\\",\"/\")\n",
    "tf.close()\n",
    "alertas_x_monto = pd.DataFrame()\n",
    "for i in listdir(path):\n",
    "        files_store= pd.DataFrame()\n",
    "        if i.startswith('JPPs - Análisis de notas crédito - '):\n",
    "                new_path= f\"{path}/{i}\"\n",
    "                files_names = [f for f in listdir(new_path) if isfile(join(new_path, f))]\n",
    "                for i in files_names:\n",
    "                        if  i.endswith('.xlsx'):\n",
    "                                file = pd.read_excel(f'{new_path}/{i}',sheet_name=\"Alertas x monto\",dtype=str)\n",
    "                                files_store = pd.concat([files_store,file])\n",
    "        alertas_x_monto = pd.concat([alertas_x_monto, files_store])"
   ]
  },
  {
   "cell_type": "code",
   "execution_count": null,
   "metadata": {},
   "outputs": [],
   "source": [
    "alertas_x_monto.loc[alertas_x_monto[\"cliente?\"].notna(),\"Cliente?\"] = alertas_x_monto.loc[alertas_x_monto[\"cliente?\"].notna(), \"cliente?\"].values\n",
    "alertas_x_monto.loc[alertas_x_monto[\"Producto\"].notna(),\"Producto?\"] = alertas_x_monto.loc[alertas_x_monto[\"Producto\"].notna(), \"Producto\"].values\n",
    "alertas_x_monto.loc[alertas_x_monto.C.notna(),\"Cautoriza\" ] = alertas_x_monto.loc[alertas_x_monto.C.notna(),\"C\"].values \n",
    "alertas_x_monto.loc[alertas_x_monto.CC.notna(),\"Cautoriza\" ] = alertas_x_monto.loc[alertas_x_monto.CC.notna(),\"CC\"].values \n",
    "alertas_x_monto.loc[alertas_x_monto[\"S\"].notna(), \"Cautoriza\"]  = alertas_x_monto.loc[alertas_x_monto[\"S\"].notna(), \"S\" ].values\n"
   ]
  },
  {
   "cell_type": "code",
   "execution_count": null,
   "metadata": {},
   "outputs": [],
   "source": [
    "alertas_x_monto.drop(columns=['Unnamed: 16', 'C', 'CC', 'Producto', 'cliente?', 'S',\n",
    "       'Unnamed: 17'],inplace=True)"
   ]
  },
  {
   "cell_type": "code",
   "execution_count": null,
   "metadata": {},
   "outputs": [],
   "source": [
    "alertas_x_monto.loc[(alertas_x_monto[\"Grabación?\"].notna()) & (alertas_x_monto[\"Cliente?\"].notna()) & (alertas_x_monto[\"Producto?\"].notna()), \"indicador\"] = \"Diligenciado\"\n",
    "alertas_x_monto.loc[alertas_x_monto[\"indicador\"] != \"Diligenciado\", \"indicador\"] = \"No diligenciado\""
   ]
  },
  {
   "cell_type": "code",
   "execution_count": null,
   "metadata": {},
   "outputs": [],
   "source": [
    "m_x_fig = alertas_x_monto.groupby([\"Desc_local\",\"indicador\"]).agg({\"Cautoriza\":\"nunique\",}).reset_index().sort_values(\"Cautoriza\", ascending=False)"
   ]
  },
  {
   "cell_type": "code",
   "execution_count": null,
   "metadata": {},
   "outputs": [
    {
     "data": {
      "application/vnd.plotly.v1+json": {
       "config": {
        "plotlyServerURL": "https://plot.ly"
       },
       "data": [
        {
         "alignmentgroup": "True",
         "hovertemplate": "indicador=No diligenciado<br>Local=%{x}<br>Cantidad NCs=%{text}<extra></extra>",
         "legendgroup": "No diligenciado",
         "marker": {
          "color": "rgb(170, 57, 57)",
          "pattern": {
           "shape": ""
          }
         },
         "name": "No diligenciado",
         "offsetgroup": "No diligenciado",
         "orientation": "v",
         "showlegend": true,
         "text": [
          4108,
          3758,
          3369,
          3229,
          2943,
          2817,
          2688,
          2635,
          2444,
          2107,
          2059,
          1804,
          1779,
          1774,
          1745,
          1695,
          1600,
          1578,
          1493,
          1484,
          1301,
          1251,
          933,
          864,
          676,
          21
         ],
         "textposition": "auto",
         "type": "bar",
         "x": [
          "SANTAFE MEDELLIN",
          "UNICENTRO",
          "JARDIN PLAZA",
          "TITAN",
          "SANTA FE",
          "SAN DIEGO",
          "WTC CALI",
          "FONTANAR",
          "GALERIAS",
          "ARKADIA",
          "CENTRO MAYOR",
          "SUBA",
          "BUENAVISTA",
          "COLINA",
          "PLAZA CENTRAL",
          "HAYUELOS",
          "LA FELICIDAD",
          "PARQUE ARBOLEDA",
          "EL CASTILLO",
          "CARACOLI",
          "LA CAROLA",
          "CACIQUE",
          "PRIMAVERA",
          "DIVER PLAZA",
          "ACQUA",
          "VILLA COUNTRY"
         ],
         "xaxis": "x",
         "y": [
          4108,
          3758,
          3369,
          3229,
          2943,
          2817,
          2688,
          2635,
          2444,
          2107,
          2059,
          1804,
          1779,
          1774,
          1745,
          1695,
          1600,
          1578,
          1493,
          1484,
          1301,
          1251,
          933,
          864,
          676,
          21
         ],
         "yaxis": "y"
        },
        {
         "alignmentgroup": "True",
         "hovertemplate": "indicador=Diligenciado<br>Local=%{x}<br>Cantidad NCs=%{text}<extra></extra>",
         "legendgroup": "Diligenciado",
         "marker": {
          "color": "rgb(45, 136, 45)",
          "pattern": {
           "shape": ""
          }
         },
         "name": "Diligenciado",
         "offsetgroup": "Diligenciado",
         "orientation": "v",
         "showlegend": true,
         "text": [
          2673,
          815,
          556,
          195,
          129,
          99,
          16,
          2
         ],
         "textposition": "auto",
         "type": "bar",
         "x": [
          "COLINA",
          "ACQUA",
          "SAN DIEGO",
          "CACIQUE",
          "BUENAVISTA",
          "JARDIN PLAZA",
          "LA CAROLA",
          "CENTRO MAYOR"
         ],
         "xaxis": "x",
         "y": [
          2673,
          815,
          556,
          195,
          129,
          99,
          16,
          2
         ],
         "yaxis": "y"
        }
       ],
       "layout": {
        "barmode": "relative",
        "legend": {
         "title": {
          "text": "indicador"
         },
         "tracegroupgap": 0,
         "x": 0.7,
         "xanchor": "left",
         "y": 0.95,
         "yanchor": "top"
        },
        "template": {
         "data": {
          "bar": [
           {
            "error_x": {
             "color": "#2a3f5f"
            },
            "error_y": {
             "color": "#2a3f5f"
            },
            "marker": {
             "line": {
              "color": "#E5ECF6",
              "width": 0.5
             },
             "pattern": {
              "fillmode": "overlay",
              "size": 10,
              "solidity": 0.2
             }
            },
            "type": "bar"
           }
          ],
          "barpolar": [
           {
            "marker": {
             "line": {
              "color": "#E5ECF6",
              "width": 0.5
             },
             "pattern": {
              "fillmode": "overlay",
              "size": 10,
              "solidity": 0.2
             }
            },
            "type": "barpolar"
           }
          ],
          "carpet": [
           {
            "aaxis": {
             "endlinecolor": "#2a3f5f",
             "gridcolor": "white",
             "linecolor": "white",
             "minorgridcolor": "white",
             "startlinecolor": "#2a3f5f"
            },
            "baxis": {
             "endlinecolor": "#2a3f5f",
             "gridcolor": "white",
             "linecolor": "white",
             "minorgridcolor": "white",
             "startlinecolor": "#2a3f5f"
            },
            "type": "carpet"
           }
          ],
          "choropleth": [
           {
            "colorbar": {
             "outlinewidth": 0,
             "ticks": ""
            },
            "type": "choropleth"
           }
          ],
          "contour": [
           {
            "colorbar": {
             "outlinewidth": 0,
             "ticks": ""
            },
            "colorscale": [
             [
              0,
              "#0d0887"
             ],
             [
              0.1111111111111111,
              "#46039f"
             ],
             [
              0.2222222222222222,
              "#7201a8"
             ],
             [
              0.3333333333333333,
              "#9c179e"
             ],
             [
              0.4444444444444444,
              "#bd3786"
             ],
             [
              0.5555555555555556,
              "#d8576b"
             ],
             [
              0.6666666666666666,
              "#ed7953"
             ],
             [
              0.7777777777777778,
              "#fb9f3a"
             ],
             [
              0.8888888888888888,
              "#fdca26"
             ],
             [
              1,
              "#f0f921"
             ]
            ],
            "type": "contour"
           }
          ],
          "contourcarpet": [
           {
            "colorbar": {
             "outlinewidth": 0,
             "ticks": ""
            },
            "type": "contourcarpet"
           }
          ],
          "heatmap": [
           {
            "colorbar": {
             "outlinewidth": 0,
             "ticks": ""
            },
            "colorscale": [
             [
              0,
              "#0d0887"
             ],
             [
              0.1111111111111111,
              "#46039f"
             ],
             [
              0.2222222222222222,
              "#7201a8"
             ],
             [
              0.3333333333333333,
              "#9c179e"
             ],
             [
              0.4444444444444444,
              "#bd3786"
             ],
             [
              0.5555555555555556,
              "#d8576b"
             ],
             [
              0.6666666666666666,
              "#ed7953"
             ],
             [
              0.7777777777777778,
              "#fb9f3a"
             ],
             [
              0.8888888888888888,
              "#fdca26"
             ],
             [
              1,
              "#f0f921"
             ]
            ],
            "type": "heatmap"
           }
          ],
          "heatmapgl": [
           {
            "colorbar": {
             "outlinewidth": 0,
             "ticks": ""
            },
            "colorscale": [
             [
              0,
              "#0d0887"
             ],
             [
              0.1111111111111111,
              "#46039f"
             ],
             [
              0.2222222222222222,
              "#7201a8"
             ],
             [
              0.3333333333333333,
              "#9c179e"
             ],
             [
              0.4444444444444444,
              "#bd3786"
             ],
             [
              0.5555555555555556,
              "#d8576b"
             ],
             [
              0.6666666666666666,
              "#ed7953"
             ],
             [
              0.7777777777777778,
              "#fb9f3a"
             ],
             [
              0.8888888888888888,
              "#fdca26"
             ],
             [
              1,
              "#f0f921"
             ]
            ],
            "type": "heatmapgl"
           }
          ],
          "histogram": [
           {
            "marker": {
             "pattern": {
              "fillmode": "overlay",
              "size": 10,
              "solidity": 0.2
             }
            },
            "type": "histogram"
           }
          ],
          "histogram2d": [
           {
            "colorbar": {
             "outlinewidth": 0,
             "ticks": ""
            },
            "colorscale": [
             [
              0,
              "#0d0887"
             ],
             [
              0.1111111111111111,
              "#46039f"
             ],
             [
              0.2222222222222222,
              "#7201a8"
             ],
             [
              0.3333333333333333,
              "#9c179e"
             ],
             [
              0.4444444444444444,
              "#bd3786"
             ],
             [
              0.5555555555555556,
              "#d8576b"
             ],
             [
              0.6666666666666666,
              "#ed7953"
             ],
             [
              0.7777777777777778,
              "#fb9f3a"
             ],
             [
              0.8888888888888888,
              "#fdca26"
             ],
             [
              1,
              "#f0f921"
             ]
            ],
            "type": "histogram2d"
           }
          ],
          "histogram2dcontour": [
           {
            "colorbar": {
             "outlinewidth": 0,
             "ticks": ""
            },
            "colorscale": [
             [
              0,
              "#0d0887"
             ],
             [
              0.1111111111111111,
              "#46039f"
             ],
             [
              0.2222222222222222,
              "#7201a8"
             ],
             [
              0.3333333333333333,
              "#9c179e"
             ],
             [
              0.4444444444444444,
              "#bd3786"
             ],
             [
              0.5555555555555556,
              "#d8576b"
             ],
             [
              0.6666666666666666,
              "#ed7953"
             ],
             [
              0.7777777777777778,
              "#fb9f3a"
             ],
             [
              0.8888888888888888,
              "#fdca26"
             ],
             [
              1,
              "#f0f921"
             ]
            ],
            "type": "histogram2dcontour"
           }
          ],
          "mesh3d": [
           {
            "colorbar": {
             "outlinewidth": 0,
             "ticks": ""
            },
            "type": "mesh3d"
           }
          ],
          "parcoords": [
           {
            "line": {
             "colorbar": {
              "outlinewidth": 0,
              "ticks": ""
             }
            },
            "type": "parcoords"
           }
          ],
          "pie": [
           {
            "automargin": true,
            "type": "pie"
           }
          ],
          "scatter": [
           {
            "marker": {
             "colorbar": {
              "outlinewidth": 0,
              "ticks": ""
             }
            },
            "type": "scatter"
           }
          ],
          "scatter3d": [
           {
            "line": {
             "colorbar": {
              "outlinewidth": 0,
              "ticks": ""
             }
            },
            "marker": {
             "colorbar": {
              "outlinewidth": 0,
              "ticks": ""
             }
            },
            "type": "scatter3d"
           }
          ],
          "scattercarpet": [
           {
            "marker": {
             "colorbar": {
              "outlinewidth": 0,
              "ticks": ""
             }
            },
            "type": "scattercarpet"
           }
          ],
          "scattergeo": [
           {
            "marker": {
             "colorbar": {
              "outlinewidth": 0,
              "ticks": ""
             }
            },
            "type": "scattergeo"
           }
          ],
          "scattergl": [
           {
            "marker": {
             "colorbar": {
              "outlinewidth": 0,
              "ticks": ""
             }
            },
            "type": "scattergl"
           }
          ],
          "scattermapbox": [
           {
            "marker": {
             "colorbar": {
              "outlinewidth": 0,
              "ticks": ""
             }
            },
            "type": "scattermapbox"
           }
          ],
          "scatterpolar": [
           {
            "marker": {
             "colorbar": {
              "outlinewidth": 0,
              "ticks": ""
             }
            },
            "type": "scatterpolar"
           }
          ],
          "scatterpolargl": [
           {
            "marker": {
             "colorbar": {
              "outlinewidth": 0,
              "ticks": ""
             }
            },
            "type": "scatterpolargl"
           }
          ],
          "scatterternary": [
           {
            "marker": {
             "colorbar": {
              "outlinewidth": 0,
              "ticks": ""
             }
            },
            "type": "scatterternary"
           }
          ],
          "surface": [
           {
            "colorbar": {
             "outlinewidth": 0,
             "ticks": ""
            },
            "colorscale": [
             [
              0,
              "#0d0887"
             ],
             [
              0.1111111111111111,
              "#46039f"
             ],
             [
              0.2222222222222222,
              "#7201a8"
             ],
             [
              0.3333333333333333,
              "#9c179e"
             ],
             [
              0.4444444444444444,
              "#bd3786"
             ],
             [
              0.5555555555555556,
              "#d8576b"
             ],
             [
              0.6666666666666666,
              "#ed7953"
             ],
             [
              0.7777777777777778,
              "#fb9f3a"
             ],
             [
              0.8888888888888888,
              "#fdca26"
             ],
             [
              1,
              "#f0f921"
             ]
            ],
            "type": "surface"
           }
          ],
          "table": [
           {
            "cells": {
             "fill": {
              "color": "#EBF0F8"
             },
             "line": {
              "color": "white"
             }
            },
            "header": {
             "fill": {
              "color": "#C8D4E3"
             },
             "line": {
              "color": "white"
             }
            },
            "type": "table"
           }
          ]
         },
         "layout": {
          "annotationdefaults": {
           "arrowcolor": "#2a3f5f",
           "arrowhead": 0,
           "arrowwidth": 1
          },
          "autotypenumbers": "strict",
          "coloraxis": {
           "colorbar": {
            "outlinewidth": 0,
            "ticks": ""
           }
          },
          "colorscale": {
           "diverging": [
            [
             0,
             "#8e0152"
            ],
            [
             0.1,
             "#c51b7d"
            ],
            [
             0.2,
             "#de77ae"
            ],
            [
             0.3,
             "#f1b6da"
            ],
            [
             0.4,
             "#fde0ef"
            ],
            [
             0.5,
             "#f7f7f7"
            ],
            [
             0.6,
             "#e6f5d0"
            ],
            [
             0.7,
             "#b8e186"
            ],
            [
             0.8,
             "#7fbc41"
            ],
            [
             0.9,
             "#4d9221"
            ],
            [
             1,
             "#276419"
            ]
           ],
           "sequential": [
            [
             0,
             "#0d0887"
            ],
            [
             0.1111111111111111,
             "#46039f"
            ],
            [
             0.2222222222222222,
             "#7201a8"
            ],
            [
             0.3333333333333333,
             "#9c179e"
            ],
            [
             0.4444444444444444,
             "#bd3786"
            ],
            [
             0.5555555555555556,
             "#d8576b"
            ],
            [
             0.6666666666666666,
             "#ed7953"
            ],
            [
             0.7777777777777778,
             "#fb9f3a"
            ],
            [
             0.8888888888888888,
             "#fdca26"
            ],
            [
             1,
             "#f0f921"
            ]
           ],
           "sequentialminus": [
            [
             0,
             "#0d0887"
            ],
            [
             0.1111111111111111,
             "#46039f"
            ],
            [
             0.2222222222222222,
             "#7201a8"
            ],
            [
             0.3333333333333333,
             "#9c179e"
            ],
            [
             0.4444444444444444,
             "#bd3786"
            ],
            [
             0.5555555555555556,
             "#d8576b"
            ],
            [
             0.6666666666666666,
             "#ed7953"
            ],
            [
             0.7777777777777778,
             "#fb9f3a"
            ],
            [
             0.8888888888888888,
             "#fdca26"
            ],
            [
             1,
             "#f0f921"
            ]
           ]
          },
          "colorway": [
           "#636efa",
           "#EF553B",
           "#00cc96",
           "#ab63fa",
           "#FFA15A",
           "#19d3f3",
           "#FF6692",
           "#B6E880",
           "#FF97FF",
           "#FECB52"
          ],
          "font": {
           "color": "#2a3f5f"
          },
          "geo": {
           "bgcolor": "white",
           "lakecolor": "white",
           "landcolor": "#E5ECF6",
           "showlakes": true,
           "showland": true,
           "subunitcolor": "white"
          },
          "hoverlabel": {
           "align": "left"
          },
          "hovermode": "closest",
          "mapbox": {
           "style": "light"
          },
          "paper_bgcolor": "white",
          "plot_bgcolor": "#E5ECF6",
          "polar": {
           "angularaxis": {
            "gridcolor": "white",
            "linecolor": "white",
            "ticks": ""
           },
           "bgcolor": "#E5ECF6",
           "radialaxis": {
            "gridcolor": "white",
            "linecolor": "white",
            "ticks": ""
           }
          },
          "scene": {
           "xaxis": {
            "backgroundcolor": "#E5ECF6",
            "gridcolor": "white",
            "gridwidth": 2,
            "linecolor": "white",
            "showbackground": true,
            "ticks": "",
            "zerolinecolor": "white"
           },
           "yaxis": {
            "backgroundcolor": "#E5ECF6",
            "gridcolor": "white",
            "gridwidth": 2,
            "linecolor": "white",
            "showbackground": true,
            "ticks": "",
            "zerolinecolor": "white"
           },
           "zaxis": {
            "backgroundcolor": "#E5ECF6",
            "gridcolor": "white",
            "gridwidth": 2,
            "linecolor": "white",
            "showbackground": true,
            "ticks": "",
            "zerolinecolor": "white"
           }
          },
          "shapedefaults": {
           "line": {
            "color": "#2a3f5f"
           }
          },
          "ternary": {
           "aaxis": {
            "gridcolor": "white",
            "linecolor": "white",
            "ticks": ""
           },
           "baxis": {
            "gridcolor": "white",
            "linecolor": "white",
            "ticks": ""
           },
           "bgcolor": "#E5ECF6",
           "caxis": {
            "gridcolor": "white",
            "linecolor": "white",
            "ticks": ""
           }
          },
          "title": {
           "x": 0.05
          },
          "xaxis": {
           "automargin": true,
           "gridcolor": "white",
           "linecolor": "white",
           "ticks": "",
           "title": {
            "standoff": 15
           },
           "zerolinecolor": "white",
           "zerolinewidth": 2
          },
          "yaxis": {
           "automargin": true,
           "gridcolor": "white",
           "linecolor": "white",
           "ticks": "",
           "title": {
            "standoff": 15
           },
           "zerolinecolor": "white",
           "zerolinewidth": 2
          }
         }
        },
        "title": {
         "text": "Alertas por monto"
        },
        "xaxis": {
         "anchor": "y",
         "categoryorder": "total descending",
         "domain": [
          0,
          1
         ],
         "title": {
          "text": "Local"
         }
        },
        "yaxis": {
         "anchor": "x",
         "domain": [
          0,
          1
         ],
         "title": {
          "text": "Cantidad NCs"
         }
        }
       }
      }
     },
     "metadata": {},
     "output_type": "display_data"
    }
   ],
   "source": [
    "h_fig = px.bar(m_x_fig, x=\"Desc_local\", y=\"Cautoriza\",color=\"indicador\",text=\"Cautoriza\",color_discrete_sequence=['rgb(170, 57, 57)','rgb(45, 136, 45)'], title=\"Alertas por monto\", labels={\"Desc_local\":\"Local\",\"Cautoriza\":\"Cantidad NCs\"}) \n",
    "h_fig.update_layout(xaxis_categoryorder = 'total descending',legend=dict(yanchor=\"top\", y=0.95, xanchor=\"left\", x=0.7))\n",
    "h_fig.show()\n",
    "h_fig.write_image(f\"output/{dt_string}_alertas_x_monto.svg\",height =500,width=900 )"
   ]
  },
  {
   "cell_type": "code",
   "execution_count": null,
   "metadata": {},
   "outputs": [
    {
     "data": {
      "text/html": [
       "<div>\n",
       "<style scoped>\n",
       "    .dataframe tbody tr th:only-of-type {\n",
       "        vertical-align: middle;\n",
       "    }\n",
       "\n",
       "    .dataframe tbody tr th {\n",
       "        vertical-align: top;\n",
       "    }\n",
       "\n",
       "    .dataframe thead th {\n",
       "        text-align: right;\n",
       "    }\n",
       "</style>\n",
       "<table border=\"1\" class=\"dataframe\">\n",
       "  <thead>\n",
       "    <tr style=\"text-align: right;\">\n",
       "      <th></th>\n",
       "      <th>Cautoriza</th>\n",
       "      <th>Desc_local</th>\n",
       "      <th>Dcompra_nvo</th>\n",
       "      <th>Nterminal_nvo</th>\n",
       "      <th>Hora</th>\n",
       "      <th>Cod_Empleado</th>\n",
       "      <th>Num_Documento</th>\n",
       "      <th>nombre_completo</th>\n",
       "      <th>Cargo</th>\n",
       "      <th>SKU</th>\n",
       "      <th>...</th>\n",
       "      <th>Producto?</th>\n",
       "      <th>Nsecuencia_nvo</th>\n",
       "      <th>Unnamed: 16</th>\n",
       "      <th>C</th>\n",
       "      <th>CC</th>\n",
       "      <th>Producto</th>\n",
       "      <th>cliente?</th>\n",
       "      <th>S</th>\n",
       "      <th>Unnamed: 17</th>\n",
       "      <th>indicador</th>\n",
       "    </tr>\n",
       "  </thead>\n",
       "  <tbody>\n",
       "    <tr>\n",
       "      <th>0</th>\n",
       "      <td>1070783916</td>\n",
       "      <td>ACQUA</td>\n",
       "      <td>2021-11-10 00:00:00</td>\n",
       "      <td>36</td>\n",
       "      <td>1114</td>\n",
       "      <td>155586</td>\n",
       "      <td>65778038</td>\n",
       "      <td>DIANA JIMENA TORRES</td>\n",
       "      <td>VENDEDOR INTEGRAL</td>\n",
       "      <td>1</td>\n",
       "      <td>...</td>\n",
       "      <td>si</td>\n",
       "      <td>NaN</td>\n",
       "      <td>NaN</td>\n",
       "      <td>NaN</td>\n",
       "      <td>NaN</td>\n",
       "      <td>NaN</td>\n",
       "      <td>NaN</td>\n",
       "      <td>NaN</td>\n",
       "      <td>NaN</td>\n",
       "      <td>Diligenciado</td>\n",
       "    </tr>\n",
       "    <tr>\n",
       "      <th>1</th>\n",
       "      <td>1070785859</td>\n",
       "      <td>ACQUA</td>\n",
       "      <td>2021-11-10 00:00:00</td>\n",
       "      <td>96</td>\n",
       "      <td>1140</td>\n",
       "      <td>162507</td>\n",
       "      <td>1110487738</td>\n",
       "      <td>DIANA MARCELA RODRIGUEZ</td>\n",
       "      <td>ASESOR MULTISERVICIOS</td>\n",
       "      <td>1</td>\n",
       "      <td>...</td>\n",
       "      <td>si</td>\n",
       "      <td>NaN</td>\n",
       "      <td>NaN</td>\n",
       "      <td>NaN</td>\n",
       "      <td>NaN</td>\n",
       "      <td>NaN</td>\n",
       "      <td>NaN</td>\n",
       "      <td>NaN</td>\n",
       "      <td>NaN</td>\n",
       "      <td>Diligenciado</td>\n",
       "    </tr>\n",
       "    <tr>\n",
       "      <th>2</th>\n",
       "      <td>1070788294</td>\n",
       "      <td>ACQUA</td>\n",
       "      <td>2021-11-10 00:00:00</td>\n",
       "      <td>96</td>\n",
       "      <td>1205</td>\n",
       "      <td>107174</td>\n",
       "      <td>1110578449</td>\n",
       "      <td>GLADYS MERCEDES RUBIANO</td>\n",
       "      <td>VENDEDOR INTEGRAL</td>\n",
       "      <td>1</td>\n",
       "      <td>...</td>\n",
       "      <td>si</td>\n",
       "      <td>NaN</td>\n",
       "      <td>NaN</td>\n",
       "      <td>NaN</td>\n",
       "      <td>NaN</td>\n",
       "      <td>NaN</td>\n",
       "      <td>NaN</td>\n",
       "      <td>NaN</td>\n",
       "      <td>NaN</td>\n",
       "      <td>Diligenciado</td>\n",
       "    </tr>\n",
       "    <tr>\n",
       "      <th>3</th>\n",
       "      <td>1070788911</td>\n",
       "      <td>ACQUA</td>\n",
       "      <td>2021-11-10 00:00:00</td>\n",
       "      <td>96</td>\n",
       "      <td>1213</td>\n",
       "      <td>162507</td>\n",
       "      <td>1110487738</td>\n",
       "      <td>DIANA MARCELA RODRIGUEZ</td>\n",
       "      <td>ASESOR MULTISERVICIOS</td>\n",
       "      <td>1</td>\n",
       "      <td>...</td>\n",
       "      <td>si</td>\n",
       "      <td>NaN</td>\n",
       "      <td>NaN</td>\n",
       "      <td>NaN</td>\n",
       "      <td>NaN</td>\n",
       "      <td>NaN</td>\n",
       "      <td>NaN</td>\n",
       "      <td>NaN</td>\n",
       "      <td>NaN</td>\n",
       "      <td>Diligenciado</td>\n",
       "    </tr>\n",
       "    <tr>\n",
       "      <th>4</th>\n",
       "      <td>1070789574</td>\n",
       "      <td>ACQUA</td>\n",
       "      <td>2021-11-10 00:00:00</td>\n",
       "      <td>36</td>\n",
       "      <td>1223</td>\n",
       "      <td>155586</td>\n",
       "      <td>65778038</td>\n",
       "      <td>DIANA JIMENA TORRES</td>\n",
       "      <td>VENDEDOR INTEGRAL</td>\n",
       "      <td>1</td>\n",
       "      <td>...</td>\n",
       "      <td>si</td>\n",
       "      <td>NaN</td>\n",
       "      <td>NaN</td>\n",
       "      <td>NaN</td>\n",
       "      <td>NaN</td>\n",
       "      <td>NaN</td>\n",
       "      <td>NaN</td>\n",
       "      <td>NaN</td>\n",
       "      <td>NaN</td>\n",
       "      <td>Diligenciado</td>\n",
       "    </tr>\n",
       "    <tr>\n",
       "      <th>...</th>\n",
       "      <td>...</td>\n",
       "      <td>...</td>\n",
       "      <td>...</td>\n",
       "      <td>...</td>\n",
       "      <td>...</td>\n",
       "      <td>...</td>\n",
       "      <td>...</td>\n",
       "      <td>...</td>\n",
       "      <td>...</td>\n",
       "      <td>...</td>\n",
       "      <td>...</td>\n",
       "      <td>...</td>\n",
       "      <td>...</td>\n",
       "      <td>...</td>\n",
       "      <td>...</td>\n",
       "      <td>...</td>\n",
       "      <td>...</td>\n",
       "      <td>...</td>\n",
       "      <td>...</td>\n",
       "      <td>...</td>\n",
       "      <td>...</td>\n",
       "    </tr>\n",
       "    <tr>\n",
       "      <th>15</th>\n",
       "      <td>1075794122</td>\n",
       "      <td>WTC CALI</td>\n",
       "      <td>2022-02-20 00:00:00</td>\n",
       "      <td>96</td>\n",
       "      <td>1536</td>\n",
       "      <td>105783</td>\n",
       "      <td>1144027728</td>\n",
       "      <td>MARTHA  LILIANA IMBAJOA</td>\n",
       "      <td>ASESOR MULTISERVICIOS</td>\n",
       "      <td>1</td>\n",
       "      <td>...</td>\n",
       "      <td>NaN</td>\n",
       "      <td>1710</td>\n",
       "      <td>NaN</td>\n",
       "      <td>NaN</td>\n",
       "      <td>NaN</td>\n",
       "      <td>NaN</td>\n",
       "      <td>NaN</td>\n",
       "      <td>NaN</td>\n",
       "      <td>NaN</td>\n",
       "      <td>No diligenciado</td>\n",
       "    </tr>\n",
       "    <tr>\n",
       "      <th>16</th>\n",
       "      <td>1075796676</td>\n",
       "      <td>WTC CALI</td>\n",
       "      <td>2022-02-20 00:00:00</td>\n",
       "      <td>96</td>\n",
       "      <td>1623</td>\n",
       "      <td>182273</td>\n",
       "      <td>1109002800</td>\n",
       "      <td>JHONATAN ANDRES SANCHEZ</td>\n",
       "      <td>VENDEDOR INTEGRAL</td>\n",
       "      <td>1</td>\n",
       "      <td>...</td>\n",
       "      <td>NaN</td>\n",
       "      <td>1712</td>\n",
       "      <td>NaN</td>\n",
       "      <td>NaN</td>\n",
       "      <td>NaN</td>\n",
       "      <td>NaN</td>\n",
       "      <td>NaN</td>\n",
       "      <td>NaN</td>\n",
       "      <td>NaN</td>\n",
       "      <td>No diligenciado</td>\n",
       "    </tr>\n",
       "    <tr>\n",
       "      <th>17</th>\n",
       "      <td>1075801134</td>\n",
       "      <td>WTC CALI</td>\n",
       "      <td>2022-02-20 00:00:00</td>\n",
       "      <td>10</td>\n",
       "      <td>1744</td>\n",
       "      <td>200735</td>\n",
       "      <td>1111755212</td>\n",
       "      <td>KELLY LEANDRA CHUNGA</td>\n",
       "      <td>OPERADOR DE P.O.S.</td>\n",
       "      <td>1</td>\n",
       "      <td>...</td>\n",
       "      <td>NaN</td>\n",
       "      <td>2446</td>\n",
       "      <td>NaN</td>\n",
       "      <td>NaN</td>\n",
       "      <td>NaN</td>\n",
       "      <td>NaN</td>\n",
       "      <td>NaN</td>\n",
       "      <td>NaN</td>\n",
       "      <td>NaN</td>\n",
       "      <td>No diligenciado</td>\n",
       "    </tr>\n",
       "    <tr>\n",
       "      <th>18</th>\n",
       "      <td>1075802124</td>\n",
       "      <td>WTC CALI</td>\n",
       "      <td>2022-02-20 00:00:00</td>\n",
       "      <td>30</td>\n",
       "      <td>1818</td>\n",
       "      <td>132411</td>\n",
       "      <td>1130638803</td>\n",
       "      <td>JHON EDINSON CASTAÑO</td>\n",
       "      <td>VENDEDOR INTEGRAL</td>\n",
       "      <td>2</td>\n",
       "      <td>...</td>\n",
       "      <td>NaN</td>\n",
       "      <td>861</td>\n",
       "      <td>NaN</td>\n",
       "      <td>NaN</td>\n",
       "      <td>NaN</td>\n",
       "      <td>NaN</td>\n",
       "      <td>NaN</td>\n",
       "      <td>NaN</td>\n",
       "      <td>NaN</td>\n",
       "      <td>No diligenciado</td>\n",
       "    </tr>\n",
       "    <tr>\n",
       "      <th>19</th>\n",
       "      <td>1075804258</td>\n",
       "      <td>WTC CALI</td>\n",
       "      <td>2022-02-20 00:00:00</td>\n",
       "      <td>9</td>\n",
       "      <td>1911</td>\n",
       "      <td>156000</td>\n",
       "      <td>31567841</td>\n",
       "      <td>BERTILDA LILIANA RICO</td>\n",
       "      <td>JEFE DE VENTAS</td>\n",
       "      <td>1</td>\n",
       "      <td>...</td>\n",
       "      <td>NaN</td>\n",
       "      <td>2911</td>\n",
       "      <td>NaN</td>\n",
       "      <td>NaN</td>\n",
       "      <td>NaN</td>\n",
       "      <td>NaN</td>\n",
       "      <td>NaN</td>\n",
       "      <td>NaN</td>\n",
       "      <td>NaN</td>\n",
       "      <td>No diligenciado</td>\n",
       "    </tr>\n",
       "  </tbody>\n",
       "</table>\n",
       "<p>56809 rows × 24 columns</p>\n",
       "</div>"
      ],
      "text/plain": [
       "     Cautoriza Desc_local          Dcompra_nvo Nterminal_nvo  Hora  \\\n",
       "0   1070783916      ACQUA  2021-11-10 00:00:00            36  1114   \n",
       "1   1070785859      ACQUA  2021-11-10 00:00:00            96  1140   \n",
       "2   1070788294      ACQUA  2021-11-10 00:00:00            96  1205   \n",
       "3   1070788911      ACQUA  2021-11-10 00:00:00            96  1213   \n",
       "4   1070789574      ACQUA  2021-11-10 00:00:00            36  1223   \n",
       "..         ...        ...                  ...           ...   ...   \n",
       "15  1075794122   WTC CALI  2022-02-20 00:00:00            96  1536   \n",
       "16  1075796676   WTC CALI  2022-02-20 00:00:00            96  1623   \n",
       "17  1075801134   WTC CALI  2022-02-20 00:00:00            10  1744   \n",
       "18  1075802124   WTC CALI  2022-02-20 00:00:00            30  1818   \n",
       "19  1075804258   WTC CALI  2022-02-20 00:00:00             9  1911   \n",
       "\n",
       "   Cod_Empleado Num_Documento          nombre_completo                  Cargo  \\\n",
       "0        155586      65778038      DIANA JIMENA TORRES      VENDEDOR INTEGRAL   \n",
       "1        162507    1110487738  DIANA MARCELA RODRIGUEZ  ASESOR MULTISERVICIOS   \n",
       "2        107174    1110578449  GLADYS MERCEDES RUBIANO      VENDEDOR INTEGRAL   \n",
       "3        162507    1110487738  DIANA MARCELA RODRIGUEZ  ASESOR MULTISERVICIOS   \n",
       "4        155586      65778038      DIANA JIMENA TORRES      VENDEDOR INTEGRAL   \n",
       "..          ...           ...                      ...                    ...   \n",
       "15       105783    1144027728  MARTHA  LILIANA IMBAJOA  ASESOR MULTISERVICIOS   \n",
       "16       182273    1109002800  JHONATAN ANDRES SANCHEZ      VENDEDOR INTEGRAL   \n",
       "17       200735    1111755212     KELLY LEANDRA CHUNGA     OPERADOR DE P.O.S.   \n",
       "18       132411    1130638803     JHON EDINSON CASTAÑO      VENDEDOR INTEGRAL   \n",
       "19       156000      31567841    BERTILDA LILIANA RICO         JEFE DE VENTAS   \n",
       "\n",
       "   SKU  ... Producto? Nsecuencia_nvo Unnamed: 16    C   CC Producto cliente?  \\\n",
       "0    1  ...        si            NaN         NaN  NaN  NaN      NaN      NaN   \n",
       "1    1  ...        si            NaN         NaN  NaN  NaN      NaN      NaN   \n",
       "2    1  ...        si            NaN         NaN  NaN  NaN      NaN      NaN   \n",
       "3    1  ...        si            NaN         NaN  NaN  NaN      NaN      NaN   \n",
       "4    1  ...        si            NaN         NaN  NaN  NaN      NaN      NaN   \n",
       "..  ..  ...       ...            ...         ...  ...  ...      ...      ...   \n",
       "15   1  ...       NaN           1710         NaN  NaN  NaN      NaN      NaN   \n",
       "16   1  ...       NaN           1712         NaN  NaN  NaN      NaN      NaN   \n",
       "17   1  ...       NaN           2446         NaN  NaN  NaN      NaN      NaN   \n",
       "18   2  ...       NaN            861         NaN  NaN  NaN      NaN      NaN   \n",
       "19   1  ...       NaN           2911         NaN  NaN  NaN      NaN      NaN   \n",
       "\n",
       "      S Unnamed: 17        indicador  \n",
       "0   NaN         NaN     Diligenciado  \n",
       "1   NaN         NaN     Diligenciado  \n",
       "2   NaN         NaN     Diligenciado  \n",
       "3   NaN         NaN     Diligenciado  \n",
       "4   NaN         NaN     Diligenciado  \n",
       "..  ...         ...              ...  \n",
       "15  NaN         NaN  No diligenciado  \n",
       "16  NaN         NaN  No diligenciado  \n",
       "17  NaN         NaN  No diligenciado  \n",
       "18  NaN         NaN  No diligenciado  \n",
       "19  NaN         NaN  No diligenciado  \n",
       "\n",
       "[56809 rows x 24 columns]"
      ]
     },
     "execution_count": 20,
     "metadata": {},
     "output_type": "execute_result"
    }
   ],
   "source": [
    "alertas_x_monto"
   ]
  }
 ],
 "metadata": {
  "interpreter": {
   "hash": "5e82abcde2448df551356d1d461f587df37012dba02e762b4fbb1beabfe0c2eb"
  },
  "kernelspec": {
   "display_name": "Python 3.9.7 ('base')",
   "language": "python",
   "name": "python3"
  },
  "language_info": {
   "codemirror_mode": {
    "name": "ipython",
    "version": 3
   },
   "file_extension": ".py",
   "mimetype": "text/x-python",
   "name": "python",
   "nbconvert_exporter": "python",
   "pygments_lexer": "ipython3",
   "version": "3.9.7"
  },
  "orig_nbformat": 4
 },
 "nbformat": 4,
 "nbformat_minor": 2
}
